{
 "cells": [
  {
   "cell_type": "code",
   "execution_count": 1,
   "id": "b32583d6",
   "metadata": {
    "colab": {
     "base_uri": "https://localhost:8080/"
    },
    "deletable": false,
    "editable": false,
    "id": "b32583d6",
    "jupyter": {
     "outputs_hidden": true,
     "source_hidden": true
    },
    "outputId": "bbe17891-652e-49cc-bd4d-1810b8a29deb"
   },
   "outputs": [
    {
     "name": "stderr",
     "output_type": "stream",
     "text": [
      "DEPRECATION: Configuring installation scheme with distutils config files is deprecated and will no longer work in the near future. If you are using a Homebrew or Linuxbrew Python, please see discussion at https://github.com/Homebrew/homebrew-core/issues/76621\n"
     ]
    },
    {
     "name": "stdout",
     "output_type": "stream",
     "text": [
      "\n"
     ]
    },
    {
     "name": "stderr",
     "output_type": "stream",
     "text": [
      "DEPRECATION: Configuring installation scheme with distutils config files is deprecated and will no longer work in the near future. If you are using a Homebrew or Linuxbrew Python, please see discussion at https://github.com/Homebrew/homebrew-core/issues/76621\n",
      "\n",
      "[notice] A new release of pip available: 22.3.1 -> 23.1.2\n",
      "[notice] To update, run: python3.9 -m pip install --upgrade pip\n"
     ]
    }
   ],
   "source": [
    "# Please do not change this cell because some hidden tests might depend on it.\n",
    "import os\n",
    "\n",
    "# Otter grader does not handle ! commands well, so we define and use our\n",
    "# own function to execute shell commands.\n",
    "def shell(commands, warn=True):\n",
    "    \"\"\"Executes the string `commands` as a sequence of shell commands.\n",
    "\n",
    "       Prints the result to stdout and returns the exit status.\n",
    "       Provides a printed warning on non-zero exit status unless `warn`\n",
    "       flag is unset.\n",
    "    \"\"\"\n",
    "    file = os.popen(commands)\n",
    "    print (file.read().rstrip('\\n'))\n",
    "    exit_status = file.close()\n",
    "    if warn and exit_status != None:\n",
    "        print(f\"Completed with errors. Exit status: {exit_status}\\n\")\n",
    "    return exit_status\n",
    "\n",
    "shell(\"\"\"\n",
    "ls requirements.txt >/dev/null 2>&1\n",
    "if [ ! $? = 0 ]; then\n",
    " rm -rf .tmp\n",
    " git clone git@github.com:cs236299-2023-spring/lab4-5.git .tmp\n",
    " mv .tmp/tests ./\n",
    " mv .tmp/requirements.txt ./\n",
    " rm -rf .tmp\n",
    "fi\n",
    "pip install -q -r requirements.txt\n",
    "\"\"\")"
   ]
  },
  {
   "cell_type": "code",
   "execution_count": 2,
   "id": "d29a481a",
   "metadata": {
    "deletable": false,
    "editable": false,
    "id": "d29a481a"
   },
   "outputs": [],
   "source": [
    "# Initialize Otter\n",
    "import otter\n",
    "grader = otter.Notebook()"
   ]
  },
  {
   "cell_type": "raw",
   "id": "df4a4c41",
   "metadata": {
    "id": "df4a4c41",
    "jupyter": {
     "source_hidden": true
    }
   },
   "source": [
    "%%latex\n",
    "\\newcommand{\\vect}[1]{\\mathbf{#1}}\n",
    "\\newcommand{\\cnt}[1]{\\sharp(#1)}\n",
    "\\newcommand{\\argmax}[1]{\\underset{#1}{\\operatorname{argmax}}}\n",
    "\\newcommand{\\softmax}{\\operatorname{softmax}}\n",
    "\\newcommand{\\Prob}{\\Pr}\n",
    "\\newcommand{\\given}{\\,|\\,}"
   ]
  },
  {
   "cell_type": "markdown",
   "id": "438f777f",
   "metadata": {
    "id": "438f777f",
    "jupyter": {
     "source_hidden": true
    }
   },
   "source": [
    "$$\n",
    "\\renewcommand{\\vect}[1]{\\mathbf{#1}}\n",
    "\\renewcommand{\\cnt}[1]{\\sharp(#1)}\n",
    "\\renewcommand{\\argmax}[1]{\\underset{#1}{\\operatorname{argmax}}}\n",
    "\\renewcommand{\\softmax}{\\operatorname{softmax}}\n",
    "\\renewcommand{\\Prob}{\\Pr}\n",
    "\\renewcommand{\\given}{\\,|\\,}\n",
    "$$"
   ]
  },
  {
   "cell_type": "markdown",
   "id": "135f59d4",
   "metadata": {
    "id": "135f59d4",
    "tags": [
     "remove_for_latex"
    ]
   },
   "source": [
    "# Course 236299\n",
    "## Lab 4-5 - Sequence-to-sequence models with attention"
   ]
  },
  {
   "cell_type": "markdown",
   "id": "43f2e5c9",
   "metadata": {
    "id": "43f2e5c9"
   },
   "source": [
    "In lab 4-4, you built a sequence-to-sequence model in its most basic form and applied it to the task of words-to-numbers conversion. That model first encodes the source sequence into a fixed-size vector (encoder final states), and then decodes based on that vector. Since the only way information from the source side can flow to the target side is through this fixed-size vector, it presents a bottleneck in the encoder-decoder model: no matter how long the source sentence is, it must always be compressed into this fixed-size vector.\n",
    "\n",
    "An _attention mechanism_ (proposed in [this seminal paper](https://arxiv.org/abs/1409.0473)) offers a workaround by providing the decoder a dynamic view of the source-side as the decoding proceeds. Instead of compressing the source sequence into a *fixed-size* vector, we preserve the \"resolution\" and encode the source sequence into a *set of vectors* (usually with the same size as the source sequence) which is sometimes called a *memory bank*. When predicting each word, the decoder \"attends to\" this memory bank and assigns a weight to each vector in the set, and the weighted sum of those vectors will be used to make a prediction. Hopefully, the decoder will assign higher weights to more relevant source words when predicting a target word, which we'll test in this lab."
   ]
  },
  {
   "cell_type": "markdown",
   "id": "fac036ea",
   "metadata": {
    "id": "fac036ea"
   },
   "source": [
    "New bits of Pytorch used in this lab, and which you may find useful include:\n",
    "* [torch.transpose](https://pytorch.org/docs/stable/generated/torch.transpose.html): swaps two dimensions of a tensor.\n",
    "* [torch.reshape](https://pytorch.org/docs/stable/generated/torch.reshape.html): reshapes a tensor.\n",
    "* [torch.bmm](https://pytorch.org/docs/stable/generated/torch.bmm.html): Performs batched matrix multiplication.\n",
    "* [torch.nn.utils.rnn.pack_padded_sequence](https://pytorch.org/docs/stable/generated/torch.nn.utils.rnn.pack_padded_sequence.html) (imported as `pack`): Handles paddings. A more detailed explanation can be found [here](https://stackoverflow.com/a/56211056).\n",
    "* [torch.nn.utils.rnn.pad_packed_sequence](https://pytorch.org/docs/stable/generated/torch.nn.utils.rnn.pad_packed_sequence.html) (imported as `unpack`): Handles paddings.\n",
    "* [torch.masked_fill](https://pytorch.org/docs/stable/tensors.html#torch.Tensor.masked_fill): Fills tensor elements with a value in spots where mask is `True`.\n",
    "* [torch.softmax](https://pytorch.org/docs/stable/_modules/torch/nn/functional.html#softmax): Computes softmax.\n",
    "* [torch.repeat](https://pytorch.org/docs/stable/tensors.html#torch.Tensor.repeat): Repeats a tensor along the specified dimensions.\n",
    "* [torch.triu](https://pytorch.org/docs/stable/generated/torch.triu.html): Returns the upper triangular part of a matrix."
   ]
  },
  {
   "cell_type": "markdown",
   "id": "03de1182",
   "metadata": {
    "id": "03de1182"
   },
   "source": [
    "# Preparation - Loading data\n",
    "\n",
    "We use the same data as in lab 4-4."
   ]
  },
  {
   "cell_type": "code",
   "execution_count": 3,
   "id": "3b79ea00",
   "metadata": {
    "deletable": false,
    "id": "3b79ea00"
   },
   "outputs": [],
   "source": [
    "import copy\n",
    "import math\n",
    "import matplotlib\n",
    "import matplotlib.pyplot as plt\n",
    "import os\n",
    "import wget\n",
    "\n",
    "import torch\n",
    "import torch.nn as nn\n",
    "\n",
    "from datasets import load_dataset\n",
    "from tokenizers import Tokenizer\n",
    "from tokenizers.pre_tokenizers import WhitespaceSplit\n",
    "from tokenizers.processors import TemplateProcessing\n",
    "from tokenizers import normalizers\n",
    "from tokenizers.models import WordLevel\n",
    "from tokenizers.trainers import WordLevelTrainer\n",
    "from transformers import PreTrainedTokenizerFast\n",
    "\n",
    "from tqdm import tqdm\n",
    "import csv\n",
    "\n",
    "from torch.nn.utils.rnn import pack_padded_sequence as pack\n",
    "from torch.nn.utils.rnn import pad_packed_sequence as unpack"
   ]
  },
  {
   "cell_type": "code",
   "execution_count": 4,
   "id": "8e655b2b",
   "metadata": {
    "colab": {
     "base_uri": "https://localhost:8080/"
    },
    "deletable": false,
    "id": "8e655b2b",
    "outputId": "01fda0bb-3db3-4863-b3fc-0683f1cec6e9"
   },
   "outputs": [
    {
     "name": "stdout",
     "output_type": "stream",
     "text": [
      "cpu\n"
     ]
    }
   ],
   "source": [
    "# Spcify matplotlib configuration\n",
    "%matplotlib inline\n",
    "plt.style.use('tableau-colorblind10')\n",
    "\n",
    "# GPU check, make sure to use GPU where available\n",
    "device = torch.device(\"cuda\" if torch.cuda.is_available() else \"cpu\")\n",
    "print(device)"
   ]
  },
  {
   "cell_type": "code",
   "execution_count": 5,
   "id": "9515a76e",
   "metadata": {
    "id": "9515a76e"
   },
   "outputs": [
    {
     "name": "stdout",
     "output_type": "stream",
     "text": [
      "100% [................................................................................] 9800 / 9800"
     ]
    }
   ],
   "source": [
    "# Download data\n",
    "local_dir = \"data/\"\n",
    "remote_dir = \"https://github.com/nlp-236299/data/raw/master/Words2Num/\"\n",
    "os.makedirs(local_dir, exist_ok=True)\n",
    "\n",
    "for filename in [\n",
    "    \"train.src\",\n",
    "    \"train.tgt\",\n",
    "    \"dev.src\",\n",
    "    \"dev.tgt\",\n",
    "    \"test.src\",\n",
    "    \"test.tgt\",\n",
    "]:\n",
    "    wget.download(remote_dir + filename, out=local_dir)"
   ]
  },
  {
   "cell_type": "markdown",
   "id": "66b7fd4f",
   "metadata": {
    "id": "66b7fd4f"
   },
   "source": [
    "As in lab 4-4, we process the dataset by extracting the sequences and their corresponding labels and save it in CSV format. Then, we load the data from the CSV files, train the tokenizers, prepend `<bos>` and appended `<eos>` to target sentences, and convert the data to sequences to token ids."
   ]
  },
  {
   "cell_type": "code",
   "execution_count": 6,
   "id": "68b4b8b7",
   "metadata": {
    "colab": {
     "base_uri": "https://localhost:8080/",
     "height": 524,
     "referenced_widgets": [
      "14fb8d9e204441c7aac3d198410fd8e0",
      "868d0cb8a5c84d66a535eddc86500496",
      "eb4105ae520340179736bae1ac6261e5",
      "05267914729c42738af8240c529d5b18",
      "0736c6b35a1641cb89734d2cc259e183",
      "68107bf381b3411488e44dd6f5bb40de",
      "559fa1efbc0548379636d6c9addc6e82",
      "a2c9f2d0aaef43aeaf6d5ab0cf778970",
      "3df469ef111b4f89aaece44f9510496b",
      "5c10d2835a2b4cf1b7a5211f0a26f4e2",
      "ae4b9ff1643445d9b49cb9409888f779",
      "226818cd8700433b946a43d58e0a8761",
      "03484cbaa5404acd83da7c0d6f4c7503",
      "8f1123bafea342bdbf0649b02e935211",
      "4d7ce9979b164e8d9c49d421f0664707",
      "449447e60af74e03a9b5b59e5c8201d7",
      "61c3454d74ab41aaa8bce042fbd9a187",
      "e2b4dff0f3a04200b667ac892fcb9b1e",
      "d38d8995a1de4b60bc583e1707b8ce01",
      "d84f9724303341669558792fed4084bf",
      "ce171dcd49b743dfbd6703c8ff94c8f0",
      "75f56488450d4d5e83f721af42b3000d",
      "b6c388c30a934000b3b1c2ac3bd6d8b0",
      "388fe7e54a3b46dcb08d87eaf632ee90",
      "a8512ed52e4646779853bb32efb3bfca",
      "d5472f1ded38448c997a212a080fa308",
      "0fa6ced6fb03445e83b219cc5a5a3b45",
      "29e4b0caaf85434cbcfe9a86c1bc3f94",
      "678122ccb4ea4794924cc23e1aed8ffb",
      "d1bacaf977e74304bcdf4b843c69b87e",
      "9f28864365fd4caa84a0a7d2dd91bc74",
      "b7947aac28b543c7883e31d36f11fc08",
      "3013deb09a7d428dafb0dc3fc19419f8",
      "c8f6d42458034cb491a6c23c1389e52b",
      "4d7c4eeea054412cb9231eec6d3172f4",
      "e43f00ed0ee145718c8bd94dc20de587",
      "958f681b483a493683604a1a11249db2",
      "07fd25a4aee148f1a29178d02e873c0f",
      "4455d79dd9cf4a2688466006d05b7580",
      "2a23e14f868d495da067bfffab3cd6a9",
      "4e181d48506d4f25ac7c9b6249f20ac0",
      "957d1185430c4a6cad352e67ef0c8ab7",
      "8af08cc832714e2083fc09c643113c85",
      "909cc5af22444f499dffd65e9bb69a3b",
      "a3df039458d0497c9d2a82e576898750",
      "ecb61ff451f2470ebff8c5a880cfe892",
      "a49fdee545fd4303844c09295ea92ce8",
      "0de36f3048634b4fa291f2224f964cb0",
      "a2f392f703a141eb861846dab78bab1c",
      "8ddc873f331d4ea9ace2dc7cff7aee2c",
      "b5f7723b745c414d8b187c50c64c5888",
      "f681e684408c43398163d6f792b8dd62",
      "d3cd5cee6ec2475b8a57388d401cbdc9",
      "b323382fd3994c8cbd63a5b937ee0d13",
      "71f0d06dede74ad2bb76adf9cf9216d7",
      "da06b4a65571475b8645d8e43a09b289",
      "1d1b27ab9da7478d9881f5e231c18d6e",
      "3b287b54a39145b9ad0fb30a14440fa3",
      "4a9014b38fa54bfda365218921f10bba",
      "1efa6961873a499db53115cbe3111799",
      "095475ea94c0495296e71a9ee8ba4345",
      "c3c35882ae3f4a989a721721c24745c1",
      "1f3d6d38e141410cbf10fa77d4b4d7a6",
      "5b3aa1e5f40e431aa74dbebaa427fa88",
      "8bd5d43e93e847568721e90caadef7c8",
      "abd7ede249a34820a5771e65ec104859",
      "e1bf56041233409e9899eec6df439048",
      "ec0a2128d06b47b49227fe248d3532de",
      "129bd4558053439387a8cfd72246922b",
      "52d96a4fffc14a1db381947b93b0edec",
      "8af629d4aaa2477fb3f591b50adef6e4",
      "c2c208e52e4d449ea33c33d6772314cd",
      "cffee46442f148ea9bd89147160d77f4",
      "11008dbc7fc446e1ad2ef75274b2c3d9",
      "e5907f2d7583473abe9ebc6737101e22",
      "8790fc20e28444198c65d02cf505bc65",
      "3f3a1baf2930426ea1f700409011b47f",
      "fff2bd08ef9a411a912126f35ea2e228",
      "a229517ee8b4469c9266bbcf3c224973",
      "e5bbee0fd52f4dada79c39f929fb5830",
      "1ac079bd949f4c978381ed30f89475d5",
      "3a49fa7fe0fc4724b9d80c8573b81246",
      "2f1c701a903f4cf1bb7b2a265cbf7e94",
      "28ea382472c7435f821caea5e9ddcdb0",
      "8ea22c4159c64858957bf67afbb79d7c",
      "be2f5dee3c3349889dd50a0ba2cb0fe9",
      "31e0018597804f60837900c6549f34c9",
      "6f820e8ca8b74be7b613fd8fd0a9c216",
      "777dc799e58845a8b32bfb5a7ddd3bdc",
      "62a0276fc98a463fa45d3dafcc80db4e",
      "daf753168f0c4052ac41ff2b05bbf889",
      "ed10ba87eab341ae8ab8af17f9daff4b",
      "be8ff74b11064d0385fcc17f2305a234",
      "4ee3d701e0e54cada37bb0df1c656cbd",
      "28a28f62339f4b8e99742a096e674f57",
      "028b9e13e29c48a4b7ea1ec97e8f53e5",
      "1cd05ef1e456461e87d0fdab3a1610a4",
      "378f39c0f3e645cca057abe981a30249",
      "88d5e75e37344c1d95c88603bff5382e"
     ]
    },
    "id": "68b4b8b7",
    "outputId": "64aa76f1-3d7f-4b54-b5e8-44d76758cfd6"
   },
   "outputs": [
    {
     "name": "stderr",
     "output_type": "stream",
     "text": [
      "Using custom data configuration default-dd1c48948520457e\n"
     ]
    },
    {
     "name": "stdout",
     "output_type": "stream",
     "text": [
      "Downloading and preparing dataset csv/default to /Users/stav.green/.cache/huggingface/datasets/csv/default-dd1c48948520457e/0.0.0/6b34fb8fcf56f7c8ba51dc895bfa2bfbe43546f190a60fcf74bb5e8afdcc2317...\n"
     ]
    },
    {
     "data": {
      "application/vnd.jupyter.widget-view+json": {
       "model_id": "991aab146da84e5aa16c0d71a3b8fda2",
       "version_major": 2,
       "version_minor": 0
      },
      "text/plain": [
       "Downloading data files:   0%|          | 0/3 [00:00<?, ?it/s]"
      ]
     },
     "metadata": {},
     "output_type": "display_data"
    },
    {
     "data": {
      "application/vnd.jupyter.widget-view+json": {
       "model_id": "80a70c6061514d63b81752ed7e8b7d8e",
       "version_major": 2,
       "version_minor": 0
      },
      "text/plain": [
       "Extracting data files:   0%|          | 0/3 [00:00<?, ?it/s]"
      ]
     },
     "metadata": {},
     "output_type": "display_data"
    },
    {
     "data": {
      "application/vnd.jupyter.widget-view+json": {
       "model_id": "bbc1ebab5ac942b6b3c751615c2db4fd",
       "version_major": 2,
       "version_minor": 0
      },
      "text/plain": [
       "Generating train split: 0 examples [00:00, ? examples/s]"
      ]
     },
     "metadata": {},
     "output_type": "display_data"
    },
    {
     "name": "stderr",
     "output_type": "stream",
     "text": [
      "/opt/homebrew/lib/python3.9/site-packages/datasets/download/streaming_download_manager.py:776: FutureWarning: the 'mangle_dupe_cols' keyword is deprecated and will be removed in a future version. Please take steps to stop the use of 'mangle_dupe_cols'\n",
      "  return pd.read_csv(xopen(filepath_or_buffer, \"rb\", use_auth_token=use_auth_token), **kwargs)\n"
     ]
    },
    {
     "data": {
      "application/vnd.jupyter.widget-view+json": {
       "model_id": "7786df4603d54b2998ea18cbd70e8fd2",
       "version_major": 2,
       "version_minor": 0
      },
      "text/plain": [
       "Generating val split: 0 examples [00:00, ? examples/s]"
      ]
     },
     "metadata": {},
     "output_type": "display_data"
    },
    {
     "name": "stderr",
     "output_type": "stream",
     "text": [
      "/opt/homebrew/lib/python3.9/site-packages/datasets/download/streaming_download_manager.py:776: FutureWarning: the 'mangle_dupe_cols' keyword is deprecated and will be removed in a future version. Please take steps to stop the use of 'mangle_dupe_cols'\n",
      "  return pd.read_csv(xopen(filepath_or_buffer, \"rb\", use_auth_token=use_auth_token), **kwargs)\n"
     ]
    },
    {
     "data": {
      "application/vnd.jupyter.widget-view+json": {
       "model_id": "8047388f48d74f84a70521988da6f7a9",
       "version_major": 2,
       "version_minor": 0
      },
      "text/plain": [
       "Generating test split: 0 examples [00:00, ? examples/s]"
      ]
     },
     "metadata": {},
     "output_type": "display_data"
    },
    {
     "name": "stdout",
     "output_type": "stream",
     "text": [
      "Dataset csv downloaded and prepared to /Users/stav.green/.cache/huggingface/datasets/csv/default-dd1c48948520457e/0.0.0/6b34fb8fcf56f7c8ba51dc895bfa2bfbe43546f190a60fcf74bb5e8afdcc2317. Subsequent calls will reuse this data.\n"
     ]
    },
    {
     "name": "stderr",
     "output_type": "stream",
     "text": [
      "/opt/homebrew/lib/python3.9/site-packages/datasets/download/streaming_download_manager.py:776: FutureWarning: the 'mangle_dupe_cols' keyword is deprecated and will be removed in a future version. Please take steps to stop the use of 'mangle_dupe_cols'\n",
      "  return pd.read_csv(xopen(filepath_or_buffer, \"rb\", use_auth_token=use_auth_token), **kwargs)\n"
     ]
    },
    {
     "data": {
      "application/vnd.jupyter.widget-view+json": {
       "model_id": "b2e26f07b9ff4788936ed6f14add9909",
       "version_major": 2,
       "version_minor": 0
      },
      "text/plain": [
       "  0%|          | 0/3 [00:00<?, ?it/s]"
      ]
     },
     "metadata": {},
     "output_type": "display_data"
    },
    {
     "data": {
      "application/vnd.jupyter.widget-view+json": {
       "model_id": "390f301994de451682f654dd39954a37",
       "version_major": 2,
       "version_minor": 0
      },
      "text/plain": [
       "  0%|          | 0/65022 [00:00<?, ?ex/s]"
      ]
     },
     "metadata": {},
     "output_type": "display_data"
    },
    {
     "data": {
      "application/vnd.jupyter.widget-view+json": {
       "model_id": "b27638680f8d4ecf8226ced39d8e0fc6",
       "version_major": 2,
       "version_minor": 0
      },
      "text/plain": [
       "  0%|          | 0/700 [00:00<?, ?ex/s]"
      ]
     },
     "metadata": {},
     "output_type": "display_data"
    },
    {
     "data": {
      "application/vnd.jupyter.widget-view+json": {
       "model_id": "dca13198e4d34fee84ac4854410c0fd0",
       "version_major": 2,
       "version_minor": 0
      },
      "text/plain": [
       "  0%|          | 0/700 [00:00<?, ?ex/s]"
      ]
     },
     "metadata": {},
     "output_type": "display_data"
    },
    {
     "name": "stdout",
     "output_type": "stream",
     "text": [
      "Size of src vocab: 34\n",
      "Size of tgt vocab: 14\n",
      "Index for src padding: 0\n",
      "Index for tgt padding: 0\n",
      "Index for start of sequence token: 2\n",
      "Index for end of sequence token: 3\n"
     ]
    }
   ],
   "source": [
    "# Process data\n",
    "for split in ['train', 'dev', 'test']:\n",
    "    src_in_file = f'{local_dir}{split}.src'\n",
    "    tgt_in_file = f'{local_dir}{split}.tgt'\n",
    "    out_file = f'{local_dir}{split}.csv'\n",
    "\n",
    "    with open(src_in_file, 'r') as f_src_in, open(tgt_in_file, 'r') as f_tgt_in:\n",
    "        with open(out_file, 'w') as f_out:\n",
    "            src, tgt= [], []\n",
    "            writer = csv.writer(f_out)\n",
    "            writer.writerow(('src','tgt'))\n",
    "            for src_line, tgt_line in zip(f_src_in, f_tgt_in):\n",
    "                writer.writerow((src_line.strip(), tgt_line.strip()))\n",
    "\n",
    "dataset = load_dataset('csv', data_files={'train':f'{local_dir}train.csv', \\\n",
    "                                          'val': f'{local_dir}dev.csv', \\\n",
    "                                          'test': f'{local_dir}test.csv'})\n",
    "\n",
    "train_data = dataset['train']\n",
    "val_data = dataset['val']\n",
    "test_data = dataset['test']\n",
    "\n",
    "unk_token = '[UNK]'\n",
    "pad_token = '[PAD]'\n",
    "bos_token = '<bos>'\n",
    "eos_token = '<eos>'\n",
    "src_tokenizer = Tokenizer(WordLevel(unk_token=unk_token))\n",
    "src_tokenizer.pre_tokenizer = WhitespaceSplit()\n",
    "\n",
    "src_trainer = WordLevelTrainer(special_tokens=[pad_token, unk_token])\n",
    "src_tokenizer.train_from_iterator(train_data['src'], trainer=src_trainer)\n",
    "\n",
    "tgt_tokenizer = Tokenizer(WordLevel(unk_token=unk_token))\n",
    "tgt_tokenizer.pre_tokenizer = WhitespaceSplit()\n",
    "\n",
    "tgt_trainer = WordLevelTrainer(special_tokens=[pad_token, unk_token, bos_token, eos_token])\n",
    "\n",
    "tgt_tokenizer.train_from_iterator(train_data['tgt'], trainer=tgt_trainer)\n",
    "\n",
    "tgt_tokenizer.post_processor = TemplateProcessing(single=f\"{bos_token} $A {eos_token}\", special_tokens=[(bos_token, tgt_tokenizer.token_to_id(bos_token)), (eos_token, tgt_tokenizer.token_to_id(eos_token))])\n",
    "\n",
    "hf_src_tokenizer = PreTrainedTokenizerFast(tokenizer_object=src_tokenizer, pad_token=pad_token, unk_token=unk_token)\n",
    "hf_tgt_tokenizer = PreTrainedTokenizerFast(tokenizer_object=tgt_tokenizer, pad_token=pad_token, unk_token=unk_token, bos_token=bos_token, eos_token=eos_token)\n",
    "\n",
    "def encode(example):\n",
    "    example['src_ids'] = hf_src_tokenizer(example['src']).input_ids\n",
    "    example['tgt_ids'] = hf_tgt_tokenizer(example['tgt']).input_ids\n",
    "    return example\n",
    "\n",
    "train_data = train_data.map(encode)\n",
    "val_data = val_data.map(encode)\n",
    "test_data = test_data.map(encode)\n",
    "\n",
    "# Compute size of vocabulary\n",
    "src_vocab = src_tokenizer.get_vocab()\n",
    "tgt_vocab = tgt_tokenizer.get_vocab()\n",
    "\n",
    "print(f\"Size of src vocab: {len(src_vocab)}\")\n",
    "print(f\"Size of tgt vocab: {len(tgt_vocab)}\")\n",
    "print(f\"Index for src padding: {src_vocab[pad_token]}\")\n",
    "print(f\"Index for tgt padding: {tgt_vocab[pad_token]}\")\n",
    "print(f\"Index for start of sequence token: {tgt_vocab[bos_token]}\")\n",
    "print(f\"Index for end of sequence token: {tgt_vocab[eos_token]}\")"
   ]
  },
  {
   "cell_type": "markdown",
   "id": "58f66ae6",
   "metadata": {
    "id": "58f66ae6"
   },
   "source": [
    "To load data in batched tensors, we use `torch.utils.data.DataLoader` for data splits, which enables us to iterate over the dataset under a given `BATCH_SIZE`. For the test set, we use a batch size of 1, to make the decoding implementation easier."
   ]
  },
  {
   "cell_type": "code",
   "execution_count": 7,
   "id": "6073dfb0",
   "metadata": {
    "id": "6073dfb0"
   },
   "outputs": [],
   "source": [
    "BATCH_SIZE = 32     # batch size for training and validation\n",
    "TEST_BATCH_SIZE = 1 # batch size for test; we use 1 to make implementation easier\n",
    "\n",
    "# Defines how to batch a list of examples together\n",
    "def collate_fn(examples):\n",
    "    batch = {}\n",
    "    bsz = len(examples)\n",
    "    src_ids, tgt_ids = [], []\n",
    "    for example in examples:\n",
    "        src_ids.append(example['src_ids'])\n",
    "        tgt_ids.append(example['tgt_ids'])\n",
    "\n",
    "    src_len = torch.LongTensor([len(word_ids) for word_ids in src_ids]).to(device)\n",
    "    src_max_length = max(src_len)\n",
    "    tgt_max_length = max([len(word_ids) for word_ids in tgt_ids])\n",
    "\n",
    "    src_batch = torch.zeros(bsz, src_max_length).long().fill_(src_vocab[pad_token]).to(device)\n",
    "    tgt_batch = torch.zeros(bsz, tgt_max_length).long().fill_(tgt_vocab[pad_token]).to(device)\n",
    "    for b in range(bsz):\n",
    "        src_batch[b][:len(src_ids[b])] = torch.LongTensor(src_ids[b]).to(device)\n",
    "        tgt_batch[b][:len(tgt_ids[b])] = torch.LongTensor(tgt_ids[b]).to(device)\n",
    "\n",
    "    batch['src_lengths'] = src_len\n",
    "    batch['src_ids'] = src_batch\n",
    "    batch['tgt_ids'] = tgt_batch\n",
    "    return batch\n",
    "\n",
    "train_iter = torch.utils.data.DataLoader(train_data,\n",
    "                                         batch_size=BATCH_SIZE,\n",
    "                                         shuffle=True,\n",
    "                                         collate_fn=collate_fn)\n",
    "val_iter = torch.utils.data.DataLoader(val_data,\n",
    "                                       batch_size=BATCH_SIZE,\n",
    "                                       shuffle=False,\n",
    "                                       collate_fn=collate_fn)\n",
    "test_iter = torch.utils.data.DataLoader(test_data,\n",
    "                                        batch_size=TEST_BATCH_SIZE,\n",
    "                                        shuffle=False,\n",
    "                                        collate_fn=collate_fn)"
   ]
  },
  {
   "cell_type": "markdown",
   "id": "a2dc052c",
   "metadata": {
    "id": "a2dc052c"
   },
   "source": [
    "Let's take a look at a batch from these iterators."
   ]
  },
  {
   "cell_type": "code",
   "execution_count": 8,
   "id": "1ab33742",
   "metadata": {
    "colab": {
     "base_uri": "https://localhost:8080/"
    },
    "id": "1ab33742",
    "outputId": "89a57272-a648-47b5-a1e2-09ce2a02880d"
   },
   "outputs": [
    {
     "name": "stdout",
     "output_type": "stream",
     "text": [
      "Size of src batch: torch.Size([32, 19])\n",
      "Third src sentence in batch: tensor([14,  5,  8,  3,  2, 17,  6,  4,  8,  3,  2, 20,  9,  0,  0,  0,  0,  0,\n",
      "         0])\n",
      "Length of the third src sentence in batch: 19\n",
      "Converted back to string: four million five hundred and forty two thousand five hundred and seventy three [PAD] [PAD] [PAD] [PAD] [PAD] [PAD]\n",
      "Size of tgt batch: torch.Size([32, 12])\n",
      "Third tgt sentence in batch: tensor([ 2, 10,  9, 10,  7,  9,  6,  4,  3,  0,  0,  0])\n",
      "Converted back to string: <bos> 4 5 4 2 5 7 3 <eos> [PAD] [PAD] [PAD]\n"
     ]
    }
   ],
   "source": [
    "batch = next(iter(train_iter))\n",
    "src_ids = batch['src_ids']\n",
    "src_example = src_ids[2]\n",
    "print (f\"Size of src batch: {src_ids.size()}\")\n",
    "print (f\"Third src sentence in batch: {src_example}\")\n",
    "print (f\"Length of the third src sentence in batch: {len(src_example)}\")\n",
    "print (f\"Converted back to string: {hf_src_tokenizer.decode(src_example)}\")\n",
    "\n",
    "tgt_ids = batch['tgt_ids']\n",
    "tgt_example = tgt_ids[2]\n",
    "print (f\"Size of tgt batch: {tgt_ids.size()}\")\n",
    "print (f\"Third tgt sentence in batch: {tgt_example}\")\n",
    "print (f\"Converted back to string: {hf_tgt_tokenizer.decode(tgt_example)}\")"
   ]
  },
  {
   "cell_type": "markdown",
   "id": "6b14e13f",
   "metadata": {
    "id": "6b14e13f"
   },
   "source": [
    "# The attention mechanism\n",
    "\n",
    "Attention works by _querying_ a (dynamically sized) set of _keys_ associated with _values_. As usual, the query, keys, and values are represented as vectors. The query process provides a score that specifies how much each key should be attended to. The attention can then be summarized by taking an average of the values weighted by the attention score of the corresponding keys. This _context vector_ can then be used as another input to other processes.\n",
    "\n",
    "More formally, let's suppose we have a query vector $\\mathbf{q}\\in \\mathbb{R}^D$, a set of $S$ key-value pairs $\\{(\\mathbf{k}_i, \\mathbf{v}_i) \\in \\mathbb{R}^D \\times \\mathbb{R}^D: i \\in \\{1, 2, \\cdots, S\\} \\}$, where $D$ is the hidden size. What we want to do through the attention mechanism is to use the query to attend to the keys, and summarize those values associated with the \"relevant\" keys into a fixed-size context vector $\\mathbf{c}\\in\\mathbb{R}^D$. Note that this is different from directly compressing the key-value pairs into a fixed-size vector, since depending on the query, we might end up with different context vectors.\n",
    "\n",
    "To determine the score for a given query and key, it is standard to use a measure of similarity between the query and key. You've seen such similarity measures before, in labs 1-1 and 1-2. A good choice is simply the normalized dot product between query and key. We'll thus take the attention score for query $\\mathbf{q}$ and key $\\mathbf{k}_i$ to be\n",
    "$$\n",
    "a_i = \\frac{\\exp(\\mathbf{q} \\cdot \\mathbf{k}_i)}{Z},\n",
    "$$\n",
    "where $\\cdot$ denotes the dot product (inner product) and $\\exp$ is exponentiation which ensures that all scores are nonnegative, and\n",
    "$$Z = \\sum_{i=1}^{S} \\exp(\\mathbf{q} \\cdot \\mathbf{k}_i)$$\n",
    "is the normalizer to guarantee the scores all sum to one. (There are multiple ways of parameterizing the attention function, but the form we present here is the most popular one.) You might have noticed that the operation above is essentially a softmax over $\\mathbf{q}\\cdot\\mathbf{k}$.\n",
    "\n",
    "The attention scores $\\mathbf{a}$ lie on a *simplex* (meaning $a_i\\ge 0$ and $\\sum_i a_i=1$), which lends it some interpretability: the closer $a_i$ is to 1, the more \"relevant\" a key $k_i$ (and hence its value $v_i$) is to the given query. We will observe this later in the lab: When we are about to predict the target word \"3\", $a_i$ is close to 1 for the source word $x_i=\\text{\"three\"}$."
   ]
  },
  {
   "cell_type": "markdown",
   "id": "0b8748d6",
   "metadata": {
    "id": "0b8748d6"
   },
   "source": [
    "To compute the context vector $\\mathbf{c}$, we take the weighted sum of values using the corresponding attention scores as weights:\n",
    "$$\n",
    "\\mathbf{c} = \\sum_{i=1}^S a_i \\mathbf{v}_i\n",
    "$$\n",
    "The closer $a_i$ is to 1, the higher the weight $\\mathbf{v}_i$ receives."
   ]
  },
  {
   "cell_type": "markdown",
   "id": "782036ec",
   "metadata": {
    "deletable": false,
    "editable": false,
    "id": "782036ec"
   },
   "source": [
    "<!-- BEGIN QUESTION -->\n",
    "\n",
    "---\n",
    "**Question:** In the extreme, if there exists $i$ for which $a_i$ is 1, then what will the value of $\\mathbf{c}$ be?\n",
    "\n",
    "\n",
    "<!--\n",
    "BEGIN QUESTION\n",
    "name: open_response_a_i_1\n",
    "manual: true\n",
    "-->"
   ]
  },
  {
   "cell_type": "markdown",
   "id": "85a2c98e",
   "metadata": {
    "id": "85a2c98e"
   },
   "source": [
    "\n",
    "_according to the above text, the rest of the entries of a will be 0. so we get $c=v_i$_\n"
   ]
  },
  {
   "cell_type": "markdown",
   "id": "5d80dbff",
   "metadata": {
    "id": "5d80dbff"
   },
   "source": [
    "<!-- END QUESTION -->\n",
    "\n",
    "\n",
    "\n",
    "In practice, instead of computing the context vector once for each query, we want to batch computations for different queries together for parallel processing on GPUs. This will become especially useful for the transformer implementation. We use a matrix $Q\\in\\mathbb{R}^{{T} \\times D}$ to store $T$ queries, a matrix $K\\in\\mathbb{R}^{S \\times D}$ to store $S$ keys, and a matrix $V\\in\\mathbb{R}^{S\\times D}$ to store the corresponding values. Then we can write down how we compute the attention scores $A\\in\\mathbb{R}^{T \\times S}$ in a matrix form:\n",
    "\n",
    "$$\n",
    "A = \\operatorname{softmax} (Q K^{\\top}, \\text{dim}=-1),\n",
    "$$"
   ]
  },
  {
   "cell_type": "markdown",
   "id": "2e5bdabd",
   "metadata": {
    "deletable": false,
    "editable": false,
    "id": "2e5bdabd"
   },
   "source": [
    "<!-- BEGIN QUESTION -->\n",
    "\n",
    "---\n",
    "**Question:** What is the shape of $A$? What does $A_{ij}$ represent?\n",
    "\n",
    "\n",
    "<!--\n",
    "BEGIN QUESTION\n",
    "name: open_response_a_ij_meaning\n",
    "manual: true\n",
    "-->"
   ]
  },
  {
   "cell_type": "markdown",
   "id": "0b806645",
   "metadata": {
    "id": "0b806645"
   },
   "source": [
    "_A is of shape T over S ($T \\times S$) and each entry of it represents the score between $q_i$ and $k_j$_"
   ]
  },
  {
   "cell_type": "markdown",
   "id": "ebc331e1",
   "metadata": {
    "id": "ebc331e1"
   },
   "source": [
    "<!-- END QUESTION -->\n",
    "\n",
    "\n",
    "\n",
    "To get the context matrix $C \\in \\mathbb{R}^{T \\times D}$:\n",
    "\n",
    "$$\n",
    "C = A V\n",
    "$$"
   ]
  },
  {
   "cell_type": "markdown",
   "id": "3c59b4bf",
   "metadata": {
    "deletable": false,
    "editable": false,
    "id": "3c59b4bf"
   },
   "source": [
    "Your first job is to implement this calculation by finishing the attention function below, which takes the $Q$, $K$, and $V$ matrices and returns the $A$ and $C$ matrices. Note that for these matrices, there is one additional dimension for the batching, so instead of $Q\\in \\mathbb{R}^{T \\times D}$, $K,V\\in \\mathbb{R}^{S \\times D}$, $A\\in \\mathbb{R}^{T \\times S}$, $C\\in \\mathbb{R}^{T \\times D}$, we have $Q\\in\\mathbb{R}^{B \\times T \\times D}$, $K,V\\in \\mathbb{R}^{B \\times S\\times D}$, $A\\in \\mathbb{R}^{B\\times T \\times S}$, $C\\in \\mathbb{R}^{B \\times T \\times D}$, where $B$ is the batch size.  In addition, the function below also takes an argument `mask` of size $\\mathbb{R}^{B\\times T \\times S}$ to mark where attentions are disallowed. This is useful not only in disallowing attending to padding symbols, but also in implementing the transformer model which we'll see later in this lab.\n",
    "\n",
    "> **Hint:** You might find [`torch.bmm`](https://pytorch.org/docs/stable/generated/torch.bmm.html) helpful for batched matrix multiplications. You might need to transpose and reshape tensors to be able to use this function.\n",
    "\n",
    "> **Hint:** As mentioned in the beginning of the lab, you might also find [`torch.transpose`](https://pytorch.org/docs/stable/generated/torch.transpose.html), [`torch.reshape`](https://pytorch.org/docs/stable/generated/torch.reshape.html), [`torch.masked_fill`](https://pytorch.org/docs/stable/tensors.html#torch.Tensor.masked_fill), and [`torch.softmax`](https://pytorch.org/docs/stable/_modules/torch/nn/functional.html#softmax) useful.\n",
    "\n",
    "> **Hint:** A simple trick for masking an attention score is to set it to negative infinity before normalization.\n",
    "<!--\n",
    "BEGIN QUESTION\n",
    "name: attention\n",
    "-->"
   ]
  },
  {
   "cell_type": "code",
   "execution_count": 9,
   "id": "bc038832",
   "metadata": {
    "id": "bc038832"
   },
   "outputs": [],
   "source": [
    "#TODO - finish implementing this function.\n",
    "def attention(batched_Q, batched_K, batched_V, mask=None):\n",
    "  \"\"\"\n",
    "  Performs the attention operation and returns the attention matrix\n",
    "  `batched_A` and the context matrix `batched_C` using queries\n",
    "  `batched_Q`, keys `batched_K`, and values `batched_V`.\n",
    "\n",
    "  Arguments:\n",
    "      batched_Q: (bsz, q_len, D)\n",
    "      batched_K: (bsz, k_len, D)\n",
    "      batched_V: (bsz, k_len, D)\n",
    "      mask: (bsz, q_len, k_len). An optional boolean mask *disallowing*\n",
    "            attentions where the mask value is *`False`*.\n",
    "  Returns:\n",
    "      batched_A: the normalized attention scores (bsz, q_len, k_len)\n",
    "      batched_C: a tensor of size (bsz, q_len, D).\n",
    "  \"\"\"\n",
    "  # Check sizes\n",
    "  D = batched_Q.size(-1)\n",
    "  bsz = batched_Q.size(0)\n",
    "  q_len = batched_Q.size(1)\n",
    "  k_len = batched_K.size(1)\n",
    "  assert batched_K.size(-1) == D and batched_V.size(-1) == D\n",
    "  assert batched_K.size(0) == bsz and batched_V.size(0) == bsz\n",
    "  assert batched_V.size(1) == k_len\n",
    "  if mask is not None:\n",
    "    assert mask.size() == torch.Size([bsz, q_len, k_len])\n",
    "\n",
    "  K_T = torch.transpose(batched_K, dim0=1, dim1=2)\n",
    "  temp = torch.bmm(batched_Q, K_T)\n",
    "  if(mask is not None):\n",
    "    mask = mask == False\n",
    "    temp = temp.masked_fill_(mask, -float(\"Inf\"))\n",
    "  batched_A = torch.softmax(temp, dim=-1)\n",
    "  batched_C = torch.bmm(batched_A, batched_V)\n",
    "\n",
    "  # Verify that things sum up to one properly.\n",
    "  assert torch.all(torch.isclose(batched_A.sum(-1),\n",
    "                                 torch.ones(bsz, q_len).to(device)))\n",
    "  return batched_A, batched_C"
   ]
  },
  {
   "cell_type": "code",
   "execution_count": 10,
   "id": "e6714b75",
   "metadata": {
    "colab": {
     "base_uri": "https://localhost:8080/",
     "height": 46
    },
    "deletable": false,
    "editable": false,
    "id": "e6714b75",
    "outputId": "5e33d41d-b4ea-4c0a-d4f1-4b294a704397"
   },
   "outputs": [
    {
     "data": {
      "text/html": [
       "\n",
       "    \n",
       "    \n",
       "        <p>All tests passed!</p>\n",
       "    \n",
       "    "
      ],
      "text/plain": [
       "\n",
       "    All tests passed!\n",
       "    "
      ]
     },
     "execution_count": 10,
     "metadata": {},
     "output_type": "execute_result"
    }
   ],
   "source": [
    "grader.check(\"attention\")"
   ]
  },
  {
   "cell_type": "markdown",
   "id": "d4aeada8",
   "metadata": {
    "id": "d4aeada8"
   },
   "source": [
    "## Neural encoder-decoder models with attention\n",
    "\n",
    "Now we can add an attention mechanism to our encoder-decoder model. As in lab 4-4, we use a bidirectional LSTM as the encoder, and a unidirectional LSTM as the decoder, and initialize the decoder state with the encoder final state. However, instead of directly projecting the decoder hidden state to logits, we use it as a query vector and attend to all encoder outputs (used as both keys and values), and then concatanate the resulting context vector with the query vector, and project to logits. In addition, we add the context vector to the word embedding at the next time step, so that the LSTM can be aware of the previous attention results.\n",
    "\n",
    "<img src=\"https://github.com/nlp-course/data/raw/master/img/encoder_decoder_attn.png\" alt=\"encoder-decoder-attn illustration\" />\n",
    "\n",
    "In the above illustration, at the first time step, we use $q_1$ to denote the decoder output. Instead of directly projecting that to logits as in lab 4-4, we use $q_1$ as the query vector, and use it to attend to the memory bank (which is the set of encoder outputs) and get the context vector $c_1$. We concatenate $c_1$ with $q_1$, and project the result to the vocabulary size to get logits. At the next step, we first embed $y_1$ into embeddings, and then **add** $c_1$ to it (via componentwise addition) and use the sum as the decoder input. This process continues until an end-of-sequence is produced.\n",
    "\n",
    "You'll need to implement `forward_encoder` and `forward_decoder_incrementally` in the code below. The `forward_encoder` function will return a \"memory bank\" in addition to the final states. The \"memory bank\" is simply the encoder outputs at all time steps, which is the first returned value of `torch.nn.LSTM`.\n",
    "\n",
    "The `forward_decoder_incrementally` function forwards the LSTM cell for a single time step. It takes the initial decoder state, the memory bank, and the input word at the current time step and returns logits for this time step. In addition, it needs to return the context vector and the updated decoder state, which will be used for the next time step. Note that here you need to consider **batch sizes greater than 1**, as this function is used in `forward_decoder`, which is used during training.\n",
    "\n",
    "In summary, the steps in decoding are:\n",
    "\n",
    "1. Map the target words to word embeddings. Add the context vector from the previous time step if any. Use the result as the input to the decoder.\n",
    "\n",
    "2. Forward the decoder RNN for one time step. Use the decoder output as query, the memory bank as **both keys and values**, and compute the context vector through the attention mechanism. Since we don't want to attend to padding symbols at the source side, we also need to pass in a proper `mask` to the attention function.\n",
    "\n",
    "3. Concatenate the context vector with the decoder output, and project the concatenation to vocabulary size as (unnormalized) logits. Normalize them using `torch.log_softmax` if `normalize` is `True`.\n",
    "\n",
    "4. Update the decoder hidden state and the context vector, which will be used in the next time step.\n",
    "\n",
    "Before proceeding, let's consider a simple question: in lab 4-4, we tried to avoid `for` loops, but if you read the code of `forward_decoder` in this lab, you might notice a `for` loop. Is this unavoidable?"
   ]
  },
  {
   "cell_type": "markdown",
   "id": "9cda53d6",
   "metadata": {
    "deletable": false,
    "editable": false,
    "id": "9cda53d6"
   },
   "source": [
    "<!-- BEGIN QUESTION -->\n",
    "\n",
    "---\n",
    "**Question:** Recall that in the `forward_decoder` function in lab 4-4 we didn't use any for loops but instead used a single call to `self.decoder_rnn`. Why do we need a `for` loop in the function `forward_decoder` below? Is it possible to get rid of the for loop to make the code more efficient?\n",
    "\n",
    "<!--\n",
    "BEGIN QUESTION\n",
    "name: open_response_for_loop\n",
    "manual: true\n",
    "-->"
   ]
  },
  {
   "cell_type": "markdown",
   "id": "fb29e20b",
   "metadata": {
    "id": "fb29e20b"
   },
   "source": [
    "\n",
    "\n",
    "_in lab 4-4 we only needed the last state of the encoder, passing it to the decoder's rnn and ran the sequence 'automatically' without a for loop. In contrast, here we need to apply the attentnion mechanism which invloves using the previous context ($c_{t-1}$)as a paramater in the next cell, so it turns out that we need to manualy run the rnn passing over the attention's context. We dont see a way around this for loop, considering the way this assignment is constructed._"
   ]
  },
  {
   "cell_type": "markdown",
   "id": "77e19bc6",
   "metadata": {
    "deletable": false,
    "editable": false,
    "id": "77e19bc6"
   },
   "source": [
    "<!-- END QUESTION -->\n",
    "\n",
    "---\n",
    "Now let's implement `forward_encoder` and `forward_decoder_incrementally`.\n",
    "\n",
    "> Hint on using `pack`: if you use `pack` to handle paddings and pass the result as encoder inputs, you need to use `unpack` and extract the first returned value as the memory bank. An example can be found [here](https://stackoverflow.com/a/55805785), but note that our input is already the padded sequences, and that we set `batch_first` to `False`.\n",
    "> Hint on ignoring source-side paddings in the attention mechanism: what `mask` should we pass into the `attention` function??\n",
    "\n",
    "<!--\n",
    "BEGIN QUESTION\n",
    "name: attn_encoder_decoder\n",
    "-->"
   ]
  },
  {
   "cell_type": "code",
   "execution_count": 11,
   "id": "d88382d0",
   "metadata": {
    "id": "d88382d0"
   },
   "outputs": [],
   "source": [
    "#TODO - implement `forward_encoder` and `forward_decoder_incrementally`.\n",
    "class AttnEncoderDecoder(nn.Module):\n",
    "  def __init__(self, hf_src_tokenizer, hf_tgt_tokenizer, hidden_size=64, layers=3):\n",
    "    \"\"\"\n",
    "    Initializer. Creates network modules and loss function.\n",
    "    Arguments:\n",
    "        hf_src_tokenizer: hf src tokenizer\n",
    "        hf_tgt_tokenizer: hf tgt tokenizer\n",
    "        hidden_size: hidden layer size of both encoder and decoder\n",
    "        layers: number of layers of both encoder and decoder\n",
    "    \"\"\"\n",
    "    super().__init__()\n",
    "    self.hf_src_tokenizer = hf_src_tokenizer\n",
    "    self.hf_tgt_tokenizer = hf_tgt_tokenizer\n",
    "\n",
    "    # Keep the vocabulary sizes available\n",
    "    self.V_src = len(self.hf_src_tokenizer)\n",
    "    self.V_tgt = len(self.hf_tgt_tokenizer)\n",
    "\n",
    "    # Get special word ids\n",
    "    self.padding_id_src = self.hf_src_tokenizer.pad_token_id\n",
    "    self.padding_id_tgt = self.hf_tgt_tokenizer.pad_token_id\n",
    "    self.bos_id = self.hf_tgt_tokenizer.bos_token_id\n",
    "    self.eos_id = self.hf_tgt_tokenizer.eos_token_id\n",
    "\n",
    "    # Keep hyper-parameters available\n",
    "    self.embedding_size = hidden_size\n",
    "    self.hidden_size = hidden_size\n",
    "    self.layers = layers\n",
    "\n",
    "    # Create essential modules\n",
    "    self.word_embeddings_src = nn.Embedding(self.V_src, self.embedding_size)\n",
    "    self.word_embeddings_tgt = nn.Embedding(self.V_tgt, self.embedding_size)\n",
    "\n",
    "    # RNN cells\n",
    "    self.encoder_rnn = nn.LSTM(\n",
    "      input_size    = self.embedding_size,\n",
    "      hidden_size   = hidden_size // 2, # to match decoder hidden size\n",
    "      num_layers    = layers,\n",
    "      batch_first=True,\n",
    "      bidirectional = True              # bidirectional encoder\n",
    "    )\n",
    "    self.decoder_rnn = nn.LSTM(\n",
    "      input_size    = self.embedding_size,\n",
    "      hidden_size   = hidden_size,\n",
    "      num_layers    = layers,\n",
    "      batch_first=True,\n",
    "      bidirectional = False             # unidirectional decoder\n",
    "    )\n",
    "\n",
    "    # Final projection layer\n",
    "    self.hidden2output = nn.Linear(2*hidden_size, self.V_tgt) # project the concatenation to logits\n",
    "\n",
    "    # Create loss function\n",
    "    self.loss_function = nn.CrossEntropyLoss(reduction='sum',\n",
    "                                             ignore_index=self.padding_id_tgt)\n",
    "\n",
    "  def forward_encoder(self, src, src_lengths):\n",
    "    \"\"\"\n",
    "    Encodes source words `src`.\n",
    "    Arguments:\n",
    "        src: src batch of size (bsz, max_src_len)\n",
    "        src_lengths: src lengths of size (bsz)\n",
    "    Returns:\n",
    "        memory_bank: a tensor of size (bsz, src_len, hidden_size)\n",
    "        (final_state, context): `final_state` is a tuple (h, c) where h/c is of size\n",
    "                                (layers, bsz, hidden_size), and `context` is `None`.\n",
    "    \"\"\"\n",
    "    #TODO\n",
    "    word_embeddings = self.word_embeddings_src(src)\n",
    "\n",
    "    packed_embeddings = pack(word_embeddings, src_lengths.cpu().numpy(), batch_first=True, enforce_sorted=False)\n",
    "\n",
    "    out, (h,c) = self.encoder_rnn(packed_embeddings)\n",
    "\n",
    "    h = h.view(2, self.layers, src.shape[0], self.hidden_size//2 )\n",
    "    c = c.view(2, self.layers, src.shape[0], self.hidden_size//2 )\n",
    "    h = torch.cat((h[0], h[1]), dim=2 )\n",
    "    c = torch.cat((c[0], c[1]), dim=2 )\n",
    "\n",
    "    memory_bank,_ = unpack(out, batch_first=True, padding_value=self.padding_id_src,total_length=src.shape[1])\n",
    "    final_state = (h, c)\n",
    "    context = None\n",
    "\n",
    "    return memory_bank, (final_state, context)\n",
    "\n",
    "  def forward_decoder(self, encoder_final_state, tgt_in, memory_bank, src_mask):\n",
    "    \"\"\"\n",
    "    Decodes based on encoder final state, memory bank, src_mask, and ground truth\n",
    "    target words.\n",
    "    Arguments:\n",
    "        encoder_final_state: (final_state, None) where final_state is the encoder\n",
    "                             final state used to initialize decoder. None is the\n",
    "                             initial context (there's no previous context at the\n",
    "                             first step).\n",
    "        tgt_in: a tensor of size (bsz, tgt_len)\n",
    "        memory_bank: a tensor of size (bsz, src_len, hidden_size), encoder outputs\n",
    "                     at every position\n",
    "        src_mask: a tensor of size (bsz, src_len): a boolean tensor, `False` where\n",
    "                  src is padding (we disallow decoder to attend to those places).\n",
    "    Returns:\n",
    "        Logits of size (bsz, tgt_len, V_tgt) (before the softmax operation)\n",
    "    \"\"\"\n",
    "    max_tgt_length = tgt_in.size(1)\n",
    "\n",
    "    # Initialize decoder state, note that it's a tuple (state, context) here\n",
    "    decoder_states = encoder_final_state\n",
    "\n",
    "    all_logits = []\n",
    "    for i in range(max_tgt_length):\n",
    "      logits, decoder_states, attn = \\\n",
    "        self.forward_decoder_incrementally(decoder_states,\n",
    "                                           tgt_in[:, i],\n",
    "                                           memory_bank,\n",
    "                                           src_mask,\n",
    "                                           normalize=False)\n",
    "      all_logits.append(logits)             # list of bsz, vocab_tgt\n",
    "    all_logits = torch.stack(all_logits, 1) # bsz, tgt_len, vocab_tgt\n",
    "    return all_logits\n",
    "\n",
    "  def forward(self, src, src_lengths, tgt_in):\n",
    "    \"\"\"\n",
    "    Performs forward computation, returns logits.\n",
    "    Arguments:\n",
    "        src: src batch of size (bsz, max_src_len)\n",
    "        src_lengths: src lengths of size (bsz)\n",
    "        tgt_in:  a tensor of size (bsz, tgt_len)\n",
    "    \"\"\"\n",
    "    src_mask = src.ne(self.padding_id_src) # bsz, max_src_len\n",
    "    # Forward encoder\n",
    "    memory_bank, encoder_final_state = self.forward_encoder(src, src_lengths)\n",
    "    # Forward decoder\n",
    "    logits = self.forward_decoder(encoder_final_state, tgt_in, memory_bank, src_mask)\n",
    "    return logits\n",
    "\n",
    "  def forward_decoder_incrementally(self, prev_decoder_states, tgt_in_onestep,\n",
    "                                    memory_bank, src_mask,\n",
    "                                    normalize=True):\n",
    "    \"\"\"\n",
    "    Forward the decoder for a single step with token `tgt_in_onestep`.\n",
    "    This function will be used both in `forward_decoder` and in beam search.\n",
    "    Note that bsz can be greater than 1.\n",
    "    Arguments:\n",
    "        prev_decoder_states: a tuple (prev_decoder_state, prev_context). `prev_context`\n",
    "                             is `None` for the first step\n",
    "        tgt_in_onestep: a tensor of size (bsz), tokens at one step\n",
    "        memory_bank: a tensor of size (bsz, src_len, hidden_size), encoder outputs\n",
    "                     at every position\n",
    "        src_mask: a tensor of size (bsz, src_len): a boolean tensor, `False` where\n",
    "                  src is padding (we disallow decoder to attend to those places).\n",
    "        normalize: use log_softmax to normalize or not. Beam search needs to normalize,\n",
    "                   while `forward_decoder` does not\n",
    "    Returns:\n",
    "        logits: log probabilities for `tgt_in_token` of size (bsz, V_tgt)\n",
    "        decoder_states: (`decoder_state`, `context`) which will be used for the\n",
    "                        next incremental update\n",
    "        attn: normalized attention scores at this step (bsz, src_len)\n",
    "    \"\"\"\n",
    "    prev_decoder_state, prev_context = prev_decoder_states\n",
    "    #TODO\n",
    "    word_embeddings = self.word_embeddings_tgt(torch.unsqueeze(tgt_in_onestep, 1))\n",
    "\n",
    "    if prev_context != None:\n",
    "       word_embeddings += prev_context\n",
    "\n",
    "    rnn_out, rnn_states = self.decoder_rnn(word_embeddings, prev_decoder_state)\n",
    "    attn, context = attention(rnn_out, memory_bank, memory_bank, torch.unsqueeze(src_mask, 1))\n",
    "\n",
    "    dec_out_e_cntxt = torch.cat((rnn_out, context), dim=2)\n",
    "    logits = self.hidden2output(dec_out_e_cntxt)\n",
    "    decoder_states = (rnn_states, context)\n",
    "\n",
    "\n",
    "\n",
    "    #decoder_states = (h, context)\n",
    "    if normalize:\n",
    "      logits = torch.log_softmax(logits, dim=-1)\n",
    "    return logits, decoder_states, attn.squeeze(1)\n",
    "\n",
    "  def evaluate_ppl(self, iterator):\n",
    "    \"\"\"Returns the model's perplexity on a given dataset `iterator`.\"\"\"\n",
    "    # Switch to eval mode\n",
    "    self.eval()\n",
    "    total_loss = 0\n",
    "    total_words = 0\n",
    "    for batch in iterator:\n",
    "      # Input and target\n",
    "      src = batch['src_ids']              # bsz, max_src_len\n",
    "      src_lengths = batch['src_lengths']  # bsz\n",
    "      tgt_in = batch['tgt_ids'][:, :-1] # Remove <eos> for decode input (y_0=<bos>, y_1, y_2)\n",
    "      tgt_out = batch['tgt_ids'][:, 1:] # Remove <bos> as target        (y_1, y_2, y_3=<eos>)\n",
    "      # Forward to get logits\n",
    "      logits = self.forward(src, src_lengths, tgt_in) # bsz, tgt_len, V_tgt\n",
    "      # Compute cross entropy loss\n",
    "      loss = self.loss_function(logits.reshape(-1, self.V_tgt), tgt_out.reshape(-1))\n",
    "      total_loss += loss.item()\n",
    "      total_words += tgt_out.ne(self.padding_id_tgt).float().sum().item()\n",
    "    return math.exp(total_loss/total_words)\n",
    "\n",
    "  def train_all(self, train_iter, val_iter, epochs=10, learning_rate=0.001):\n",
    "    \"\"\"Train the model.\"\"\"\n",
    "    # Switch the module to training mode\n",
    "    self.train()\n",
    "    # Use Adam to optimize the parameters\n",
    "    optim = torch.optim.Adam(self.parameters(), lr=learning_rate)\n",
    "    best_validation_ppl = float('inf')\n",
    "    best_model = None\n",
    "    # Run the optimization for multiple epochs\n",
    "    for epoch in range(epochs):\n",
    "      total_words = 0\n",
    "      total_loss = 0.0\n",
    "      for batch in tqdm(train_iter):\n",
    "        # Zero the parameter gradients\n",
    "        self.zero_grad()\n",
    "        # Input and target\n",
    "        tgt = batch['tgt_ids']              # bsz, max_tgt_len\n",
    "        src = batch['src_ids']              # bsz, max_src_len\n",
    "        src_lengths = batch['src_lengths']  # bsz\n",
    "        tgt_in = tgt[:, :-1].contiguous() # Remove <eos> for decode input (y_0=<bos>, y_1, y_2)\n",
    "        tgt_out = tgt[:, 1:].contiguous() # Remove <bos> as target        (y_1, y_2, y_3=<eos>)\n",
    "        bsz = tgt.size(0)\n",
    "        # Run forward pass and compute loss along the way.\n",
    "        logits = self.forward(src, src_lengths, tgt_in)\n",
    "        loss = self.loss_function(logits.view(-1, self.V_tgt), tgt_out.view(-1))\n",
    "        # Training stats\n",
    "        num_tgt_words = tgt_out.ne(self.padding_id_tgt).float().sum().item()\n",
    "        total_words += num_tgt_words\n",
    "        total_loss += loss.item()\n",
    "        # Perform backpropagation\n",
    "        loss.div(bsz).backward()\n",
    "        optim.step()\n",
    "\n",
    "      # Evaluate and track improvements on the validation dataset\n",
    "      validation_ppl = self.evaluate_ppl(val_iter)\n",
    "      self.train()\n",
    "      if validation_ppl < best_validation_ppl:\n",
    "        best_validation_ppl = validation_ppl\n",
    "        self.best_model = copy.deepcopy(self.state_dict())\n",
    "      epoch_loss = total_loss / total_words\n",
    "      print (f'Epoch: {epoch} Training Perplexity: {math.exp(epoch_loss):.4f} '\n",
    "             f'Validation Perplexity: {validation_ppl:.4f}')"
   ]
  },
  {
   "cell_type": "code",
   "execution_count": 12,
   "id": "3691f83b",
   "metadata": {
    "colab": {
     "base_uri": "https://localhost:8080/"
    },
    "id": "3691f83b",
    "outputId": "4f4758c1-07a7-4f3b-b6b4-a99faf4c6402"
   },
   "outputs": [
    {
     "name": "stderr",
     "output_type": "stream",
     "text": [
      "100%|█████████████████████████████████████████████████████████████████████████| 2032/2032 [01:14<00:00, 27.45it/s]\n"
     ]
    },
    {
     "name": "stdout",
     "output_type": "stream",
     "text": [
      "Epoch: 0 Training Perplexity: 1.2611 Validation Perplexity: 1.0226\n"
     ]
    },
    {
     "name": "stderr",
     "output_type": "stream",
     "text": [
      "100%|█████████████████████████████████████████████████████████████████████████| 2032/2032 [01:12<00:00, 28.12it/s]\n"
     ]
    },
    {
     "name": "stdout",
     "output_type": "stream",
     "text": [
      "Epoch: 1 Training Perplexity: 1.0044 Validation Perplexity: 1.0059\n"
     ]
    },
    {
     "data": {
      "text/plain": [
       "<All keys matched successfully>"
      ]
     },
     "execution_count": 12,
     "metadata": {},
     "output_type": "execute_result"
    }
   ],
   "source": [
    "EPOCHS = 2 # epochs, we highly recommend starting with a smaller number like 1\n",
    "LEARNING_RATE = 2e-3 # learning rate\n",
    "\n",
    "# Instantiate and train classifier\n",
    "model = AttnEncoderDecoder(hf_src_tokenizer, hf_tgt_tokenizer,\n",
    "  hidden_size    = 64,\n",
    "  layers         = 3,\n",
    ").to(device)\n",
    "\n",
    "model.train_all(train_iter, val_iter, epochs=EPOCHS, learning_rate=LEARNING_RATE)\n",
    "model.load_state_dict(model.best_model)"
   ]
  },
  {
   "cell_type": "markdown",
   "id": "5b451b52",
   "metadata": {
    "id": "5b451b52"
   },
   "source": [
    "Since the task we consider here is very simple, we should expect a perplexity very close to 1."
   ]
  },
  {
   "cell_type": "code",
   "execution_count": 13,
   "id": "f41a0310",
   "metadata": {
    "colab": {
     "base_uri": "https://localhost:8080/"
    },
    "id": "f41a0310",
    "outputId": "18f5eedb-ea7f-4b64-85f0-547ce1fef84a"
   },
   "outputs": [
    {
     "name": "stdout",
     "output_type": "stream",
     "text": [
      "Test perplexity: 1.009\n"
     ]
    }
   ],
   "source": [
    "# Evaluate model performance, the expected value should be < 1.05\n",
    "print (f'Test perplexity: {model.evaluate_ppl(test_iter):.3f}')"
   ]
  },
  {
   "cell_type": "code",
   "execution_count": 14,
   "id": "2575f066",
   "metadata": {
    "colab": {
     "base_uri": "https://localhost:8080/",
     "height": 46
    },
    "deletable": false,
    "editable": false,
    "id": "2575f066",
    "outputId": "d360ef5d-660d-4b14-d89d-eb539834d122"
   },
   "outputs": [
    {
     "data": {
      "text/html": [
       "\n",
       "    \n",
       "    \n",
       "        <p>All tests passed!</p>\n",
       "    \n",
       "    "
      ],
      "text/plain": [
       "\n",
       "    All tests passed!\n",
       "    "
      ]
     },
     "execution_count": 14,
     "metadata": {},
     "output_type": "execute_result"
    }
   ],
   "source": [
    "grader.check(\"encoder_decoder_ppl\")"
   ]
  },
  {
   "cell_type": "markdown",
   "id": "c584f21f",
   "metadata": {
    "id": "c584f21f"
   },
   "source": [
    "## Beam search decoding\n",
    "\n",
    "We can reuse most of our beam search code in lab 4-4 here: we only need to modify the code a bit to pass in `memory_bank` and `src_mask`. For reference here is the same pseudo-code used in lab 4-4, where we want to decode a single example `x` of maximum length `max_T` using a beam size of `K`.\n",
    "\n",
    "```\n",
    " 1.  def beam_search(x, K, max_T):\n",
    " 2.      finished = []       # for storing completed hypotheses\n",
    "         # Initialize the beam\n",
    " 3.      beams = [Beam(hyp=(bos), score=0)] # initial hypothesis: bos, initial score: 0\n",
    "\n",
    " 4.      for t in [1..max_T]  # main body of search over time steps           \n",
    " 5.          hypotheses = []\n",
    "\n",
    "             # Expand each beam by all possible tokens y_{t+1}\n",
    " 6.          for beam in beams:\n",
    " 7.              y_{1:t}, score = beam.hyp, beam.score\n",
    " 8.              for y_{t+1} in V:\n",
    " 9.                  y_{1:t+1} = y_{1:t} + [y_{t+1}]\n",
    " 10.                 new_score = score + log P(y_{t+1} | y_{1:t}, x)\n",
    " 11.                 hypotheses.append(Beam(hyp=y_{1:t+1}, score=new_score))\n",
    "\n",
    "             # Find K best next beams\n",
    " 12.         beams = sorted(hypotheses, key=lambda beam: -beam.score)[:K]\n",
    "\n",
    "             # Set aside finished beams (those that end in <eos>)\n",
    " 13.         for beam in beams:\n",
    " 14.             y_{t+1} = beam.hyp[-1]\n",
    " 15.             if y_{t+1} == eos:\n",
    " 16.                 finished.append(beam)\n",
    " 17.                 beams.remove(beam)\n",
    "\n",
    "             # Break the loop if everything is finished\n",
    " 18.         if len(beams) == 0:\n",
    " 19.             break              \n",
    " 20.     return sorted(finished, key=lambda beam: -beam.score)[0] # return the best finished hypothesis\n",
    "```\n"
   ]
  },
  {
   "cell_type": "markdown",
   "id": "80775362",
   "metadata": {
    "deletable": false,
    "editable": false,
    "id": "80775362"
   },
   "source": [
    "Implement function `beam_search` in the code below. In addition to the predicted target sequence, this function also returns a list of attentions `all_attns`.\n",
    "\n",
    "<!--\n",
    "BEGIN QUESTION\n",
    "name: beam_search\n",
    "-->"
   ]
  },
  {
   "cell_type": "code",
   "execution_count": 15,
   "id": "881ad63e",
   "metadata": {
    "id": "881ad63e"
   },
   "outputs": [],
   "source": [
    "# max target length\n",
    "MAX_T = 15\n",
    "class Beam():\n",
    "  \"\"\"\n",
    "  Helper class for storing a hypothesis, its score and its decoder hidden state.\n",
    "  \"\"\"\n",
    "  def __init__(self, decoder_state, tokens, score):\n",
    "    self.decoder_state = decoder_state\n",
    "    self.tokens = tokens\n",
    "    self.score = score\n",
    "\n",
    "class BeamSearcher():\n",
    "  \"\"\"\n",
    "  Main class for beam search.\n",
    "  \"\"\"\n",
    "  def __init__(self, model):\n",
    "    self.model = model\n",
    "    self.bos_id = model.bos_id\n",
    "    self.eos_id = model.eos_id\n",
    "    self.padding_id_src = model.padding_id_src\n",
    "    self.V = model.V_tgt\n",
    "\n",
    "\n",
    "  def beam_search(self, src, src_lengths, K, max_T=MAX_T):\n",
    "    \"\"\"\n",
    "    Performs beam search decoding.\n",
    "    Arguments:\n",
    "        src: src batch of size (1, max_src_len)\n",
    "        src_lengths: src lengths of size (1)\n",
    "        K: beam size\n",
    "        max_T: max possible target length considered\n",
    "    Returns:\n",
    "        a list of token ids and a list of attentions\n",
    "    \"\"\"\n",
    "    finished = []\n",
    "    all_attns = []\n",
    "    # Initialize the beam\n",
    "    self.model.eval()\n",
    "    #TODO - fill in `memory_bank`, `encoder_final_state`, and `init_beam` below\n",
    "    (memory_bank, encoder_final_state) = self.model.forward_encoder(src, src_lengths)\n",
    "    bos = torch.tensor([[self.model.bos_id]], device=device)\n",
    "    init_beam = Beam(encoder_final_state, bos, 0)\n",
    "    beams = [init_beam]\n",
    "\n",
    "    with torch.no_grad():\n",
    "      for t in range(max_T): # main body of search over time steps\n",
    "\n",
    "        # Expand each beam by all possible tokens y_{t+1}\n",
    "        all_total_scores = []\n",
    "        for beam in beams:\n",
    "          y_1_to_t, score, decoder_state = beam.tokens, beam.score, beam.decoder_state\n",
    "          y_t = y_1_to_t[-1]\n",
    "          #TODO - finish the code below\n",
    "          # Hint: you might want to use `model.forward_decoder_incrementally` with `normalize=True`\n",
    "          src_mask = src.ne(self.padding_id_src)\n",
    "          logits, decoder_state, attn = self.model.forward_decoder_incrementally(decoder_state, y_t, memory_bank, src_mask)\n",
    "          total_scores = logits\n",
    "          all_total_scores.append(total_scores)\n",
    "          all_attns.append(attn) # keep attentions for visualization\n",
    "          beam.decoder_state = decoder_state # update decoder state in the beam\n",
    "        all_total_scores = torch.stack(all_total_scores) # (K, V) when t>0, (1, V) when t=0\n",
    "\n",
    "        # Find K best next beams\n",
    "        # The code below has the same functionality as line 6-12, but is more efficient\n",
    "        all_scores_flattened = all_total_scores.view(-1) # K*V when t>0, 1*V when t=0\n",
    "        topk_scores, topk_ids = all_scores_flattened.topk(K, 0)\n",
    "        beam_ids = topk_ids.div(self.V, rounding_mode='floor')\n",
    "        next_tokens = topk_ids - beam_ids * self.V\n",
    "        new_beams = []\n",
    "        for k in range(K):\n",
    "          beam_id = beam_ids[k]       # which beam it comes from\n",
    "          y_t_plus_1 = next_tokens[k] # which y_{t+1}\n",
    "          score = topk_scores[k]\n",
    "          beam = beams[beam_id]\n",
    "          decoder_state = beam.decoder_state\n",
    "          y_1_to_t = beam.tokens\n",
    "          #TODO\n",
    "          y_t = torch.cat((y_1_to_t, y_t_plus_1.view(1,1)))\n",
    "          new_beam = Beam(decoder_state, y_t, beam.score+score)\n",
    "          new_beams.append(new_beam)\n",
    "        beams = new_beams\n",
    "\n",
    "        # Set aside completed beams\n",
    "        # TODO - move completed beams to `finished` (and remove them from `beams`)\n",
    "        new_beams = []\n",
    "        for beam in beams:\n",
    "            y_1_to_t, score, decoder_state = beam.tokens, beam.score, beam.decoder_state\n",
    "            y_t = y_1_to_t[-1]\n",
    "            if y_t.view(1) == self.model.eos_id:\n",
    "                finished.append(beam)\n",
    "            else:\n",
    "                new_beams.append(beam)\n",
    "        beams = new_beams\n",
    "\n",
    "        # Break the loop if everything is completed\n",
    "        if len(beams) == 0:\n",
    "            break\n",
    "\n",
    "    # Return the best hypothesis\n",
    "    if len(finished) > 0:\n",
    "      finished = sorted(finished, key=lambda beam: -beam.score)\n",
    "      return [token.item() for token in finished[0].tokens], all_attns\n",
    "    else: # when nothing is finished, return an unfinished hypothesis\n",
    "      return [token.item() for token in beams[0].tokens], all_attns"
   ]
  },
  {
   "cell_type": "code",
   "execution_count": 16,
   "id": "365298a1",
   "metadata": {
    "colab": {
     "base_uri": "https://localhost:8080/",
     "height": 46
    },
    "deletable": false,
    "editable": false,
    "id": "365298a1",
    "outputId": "0f15f92a-c362-41ca-ecab-797963725023"
   },
   "outputs": [
    {
     "data": {
      "text/html": [
       "\n",
       "    \n",
       "    \n",
       "        <p>All tests passed!</p>\n",
       "    \n",
       "    "
      ],
      "text/plain": [
       "\n",
       "    All tests passed!\n",
       "    "
      ]
     },
     "execution_count": 16,
     "metadata": {},
     "output_type": "execute_result"
    }
   ],
   "source": [
    "grader.check(\"beam_search\")"
   ]
  },
  {
   "cell_type": "markdown",
   "id": "4c835a0c",
   "metadata": {
    "id": "4c835a0c"
   },
   "source": [
    "Now we can use beam search decoding to predict the outputs for the test set inputs using the trained model. You should expect an accuracy close to 100%."
   ]
  },
  {
   "cell_type": "code",
   "execution_count": 17,
   "id": "5b15a437",
   "metadata": {
    "colab": {
     "base_uri": "https://localhost:8080/",
     "height": 276
    },
    "id": "5b15a437",
    "outputId": "10d00c07-9af4-4571-f0c0-9a84854718f6"
   },
   "outputs": [
    {
     "name": "stdout",
     "output_type": "stream",
     "text": [
      "Source: sixteen thousand eight hundred and thirty two\n",
      "Prediction:   1 6 8 3 2\n",
      "Ground truth: 1 6 8 3 2\n",
      "Source: sixty seven million six hundred and eighty five thousand two hundred and thirty\n",
      "Prediction:   6 7 6 8 5 2 3 0\n",
      "Ground truth: 6 7 6 8 5 2 3 0\n",
      "Source: six thousand two hundred and twelve\n",
      "Prediction:   6 2 1 2\n",
      "Ground truth: 6 2 1 2\n",
      "Source: seven hundred and ninety eight million three hundred and thirty one thousand eight hundred and eighteen\n",
      "Prediction:   7 9 8 3 3 1 8 1 8\n",
      "Ground truth: 7 9 8 3 3 1 8 1 8\n",
      "Source: eighty eight million four hundred and thirteen thousand nine hundred and eighteen\n",
      "Prediction:   8 8 4 1 3 9 1 8\n",
      "Ground truth: 8 8 4 1 3 9 1 8\n",
      "Source: three hundred and seventy four thousand two hundred and seventy\n",
      "Prediction:   3 7 4 2 7 0\n",
      "Ground truth: 3 7 4 2 7 0\n",
      "Source: ninety eight million three hundred and seventy thousand five hundred and forty five\n",
      "Prediction:   9 8 3 7 0 5 4 5\n",
      "Ground truth: 9 8 3 7 0 5 4 5\n",
      "Source: ninety seven thousand seven hundred and sixty two\n",
      "Prediction:   9 7 7 6 2\n",
      "Ground truth: 9 7 7 6 2\n",
      "Source: four hundred and ten thousand two hundred and three\n",
      "Prediction:   4 1 0 2 0 3\n",
      "Ground truth: 4 1 0 2 0 3\n",
      "Accuracy: 0.99\n"
     ]
    }
   ],
   "source": [
    "DEBUG_FIRST = 10  # set to 0 to disable printing predictions\n",
    "K = 1             # beam size 1\n",
    "\n",
    "correct = 0\n",
    "total = 0\n",
    "\n",
    "# create beam searcher\n",
    "beam_searcher = BeamSearcher(model)\n",
    "\n",
    "for index, batch in enumerate(test_iter, start=1):\n",
    "  # Input and output\n",
    "  src = batch['src_ids']\n",
    "  src_lengths = batch['src_lengths']\n",
    "  # Predict\n",
    "  prediction, _ = beam_searcher.beam_search(src, src_lengths, K)\n",
    "  # Convert to string\n",
    "  prediction = hf_tgt_tokenizer.decode(prediction, skip_special_tokens=True)\n",
    "  ground_truth = hf_tgt_tokenizer.decode(batch['tgt_ids'][0], skip_special_tokens=True)\n",
    "  if DEBUG_FIRST > index:\n",
    "    src = hf_src_tokenizer.decode(src[0], skip_special_tokens=True)\n",
    "    print (f'Source: {src}')\n",
    "    print (f'Prediction:   {prediction}')\n",
    "    print (f'Ground truth: {ground_truth}')\n",
    "  if ground_truth == prediction:\n",
    "    correct += 1\n",
    "  total += 1\n",
    "\n",
    "print (f'Accuracy: {correct/total:.2f}')"
   ]
  },
  {
   "cell_type": "markdown",
   "id": "d5b990ec",
   "metadata": {
    "id": "d5b990ec"
   },
   "source": [
    "# Visualizing attention\n",
    "\n",
    "We can visualize how each query distributes its attention scores over each source word."
   ]
  },
  {
   "cell_type": "code",
   "execution_count": 18,
   "id": "4a2d7cde",
   "metadata": {
    "colab": {
     "base_uri": "https://localhost:8080/",
     "height": 276
    },
    "id": "4a2d7cde",
    "outputId": "45f98b42-a911-41cc-d86f-9662c2c660ac"
   },
   "outputs": [
    {
     "name": "stdout",
     "output_type": "stream",
     "text": [
      "Source: sixteen thousand eight hundred and thirty two\n",
      "Prediction:   1 6 8 3 2\n",
      "Ground truth: 1 6 8 3 2\n"
     ]
    },
    {
     "data": {
      "image/png": "[encoded data removed]",
      "text/plain": [
       "<Figure size 800x600 with 1 Axes>"
      ]
     },
     "metadata": {},
     "output_type": "display_data"
    }
   ],
   "source": [
    "K = 1 # this code only works for beam size 1\n",
    "\n",
    "# Create beam searcher\n",
    "beam_searcher = BeamSearcher(model)\n",
    "batch = next(iter(test_iter))\n",
    "# Input and output\n",
    "src = batch['src_ids']\n",
    "src_lengths = batch['src_lengths']\n",
    "# Predict and get attentions\n",
    "prediction, all_attns = beam_searcher.beam_search(src, src_lengths, K)\n",
    "all_attns = torch.stack(all_attns, 0)\n",
    "# Convert to string\n",
    "prediction = hf_tgt_tokenizer.decode(prediction, skip_special_tokens=True)\n",
    "ground_truth = hf_tgt_tokenizer.decode(batch['tgt_ids'][0], skip_special_tokens=True)\n",
    "src =  hf_src_tokenizer.decode(src[0], skip_special_tokens=True)\n",
    "print (f'Source: {src}')\n",
    "print (f'Prediction:   {prediction}')\n",
    "print (f'Ground truth: {ground_truth}')\n",
    "\n",
    "# Plot\n",
    "fig, ax = plt.subplots(figsize=(8, 6))\n",
    "\n",
    "ax.imshow(all_attns[:,0,:].detach().cpu())\n",
    "ax.set_yticks(list(range(1+len(prediction.split()))));\n",
    "ax.set_yticklabels(prediction.split() + ['eos']);\n",
    "ax.set_xticks(list(range(len(src.split()))));\n",
    "ax.set_xticklabels(src.split());\n",
    "\n",
    "# Uncomment the line below if the plot does not show up\n",
    "# Make sure to comment that before submitting to gradescope\n",
    "# since there would be some autograder issues with plt.show()\n",
    "#plt.show()"
   ]
  },
  {
   "cell_type": "markdown",
   "id": "b42c1cc7",
   "metadata": {
    "id": "b42c1cc7"
   },
   "source": [
    "Do these attentions make sense? Do you see how the attention mechanism solves the bottleneck problem in vanilla seq2seq?"
   ]
  },
  {
   "cell_type": "markdown",
   "id": "e081cedc",
   "metadata": {
    "id": "e081cedc"
   },
   "source": [
    "# The transformer architecture"
   ]
  },
  {
   "cell_type": "markdown",
   "id": "26fda71d",
   "metadata": {
    "id": "26fda71d"
   },
   "source": [
    "In RNN-based neural encoder-decoder models, we used recurrence to model the dependencies among words. For example, by running a unidirectional RNN from $y_{1}$ to $y_{t}$, we can consider the past history when predicting $y_{t+1}$. However, running an RNN over a sequence is a serial process: we need to wait for it to finish running from $y_1$ to $y_t$ before being able to compute the outputs at $y_{t+1}$. This serial process cannot be parallelized on GPUs along the sequence length dimension: even during training where all $y_t$'s are available, we cannot compute the logits for $y_t$ and the logits for $y_{t+1}$ in parallel.\n",
    "\n",
    "The attention mechanism provides an alternative, and most importantly, parallelizable solution. [The transformer model](https://arxiv.org/abs/1706.03762) completely gets rid of recurrence and only uses attention to model the dependencies among words. For example, we can use attention to incorporate the representations from $y_1$ to $y_t$ when predicting $y_{t+1}$, simply by attending to their word embeddings. This is called _decoder self-attention_.\n",
    "\n"
   ]
  },
  {
   "cell_type": "markdown",
   "id": "2d018cac",
   "metadata": {
    "deletable": false,
    "editable": false,
    "id": "2d018cac"
   },
   "source": [
    "<!-- BEGIN QUESTION -->\n",
    "\n",
    "**Question:** By getting rid of recurrence and only using decoder self-attention, can we compute the logits for any two different words $y_{t_1}$ and $y_{t_2}$ in parallel at training time (only consider decoder for now)? Why?\n",
    "\n",
    "<!--\n",
    "BEGIN QUESTION\n",
    "name: open_response_transformer_parallel\n",
    "manual: true\n",
    "-->"
   ]
  },
  {
   "cell_type": "markdown",
   "id": "c91bc592",
   "metadata": {
    "id": "c91bc592"
   },
   "source": [
    "_Yes. given the encoder hidden state we can start decoding from every point of the $y_t$ sequence. That is, as explained because that transformers dropped the use of RNN's which makes the comptutation of the logits independent from the logits calculation of previous tokens._"
   ]
  },
  {
   "cell_type": "markdown",
   "id": "fd4c8224",
   "metadata": {
    "id": "fd4c8224"
   },
   "source": [
    "<!-- END QUESTION -->\n",
    "\n",
    "\n",
    "\n",
    "Similarly, at the encoder side, for each word $x_i$, we let it attend to the embeddings of $x_1, \\ldots, x_S$, to model the context in which $x_i$ appears. This is called _encoder self-attention_. It is different from decoder self-attention in that here every word attends to all words, but at the decoder side, every word can only attend to the previous words (since the prediction of word $y_t$ cannot use the information from any $y_{\\ge t}$).\n",
    "\n",
    "To incorporate source-side information at the decoder side, at each time step, we let the decoder attend to the top-layer encoder outputs, as we did in the RNN-based encoder-decoder model above. This is called _cross-attention_. Note that there's no initialization of decoder hidden state here, since we no longer use an RNN.\n",
    "\n",
    "The process we describe above is only a single layer of attention. In practice, transformers stack multiple layers of attention and feedforward layers, using the outputs from the layer below as the inputs to the layer above, as shown in the illustration below.\n",
    "\n",
    "<img src=\"https://github.com/nlp-course/data/raw/master/img/transformer.png\" alt=\"transformer illustration\" />\n",
    "\n",
    "In the above illustration, due to space limits, we ommited the details of encoder self-attention and decoder self-attention, and we describe it here, using encoder-self-attention at layer 0 as an example. First, we use three linear projections to project each hidden state $h_{0,i}$ to a query vector $q_{0,i}$, a key vector $k_{0,i}$, and a value vector $v_{0,i}$. Then at each position $i$, we use $q_i$ as the query, and $\\{(k_{0,j}, v_{0,j}): j \\in \\{1, \\ldots, S\\}\\}$ as keys/values to produce a context vector $c_{0,i}$. Note that the keys/values are the same for different positions, and the only difference is that a different query vector is used for each position.\n",
    "\n",
    "A clear difference between the transformer architecture and the RNN-based encoder decoder architecture is that there are no horizontal arrows in the transformer model: transformers only use position-wise operations and attention operations. The dependencies among words are **only introduced by the attention operations**, while the other operations such as feedforwad, nonlinearity, and normalization are position-wise, that is, they do not depend on other positions, and can thus be performed in parallel."
   ]
  },
  {
   "cell_type": "markdown",
   "id": "b7c838f7",
   "metadata": {
    "deletable": false,
    "editable": false,
    "id": "b7c838f7"
   },
   "source": [
    "<!-- BEGIN QUESTION -->\n",
    "\n",
    "**Question:** In the above transformer model, if we shuffle the input words $x_1, \\ldots, x_4$, would we get a different distribution over $y$? Why or why not?\n",
    "\n",
    "<!--\n",
    "BEGIN QUESTION\n",
    "name: open_response_transformer_shuffle\n",
    "manual: true\n",
    "-->"
   ]
  },
  {
   "cell_type": "markdown",
   "id": "7c8dee41",
   "metadata": {
    "id": "7c8dee41"
   },
   "source": [
    "\n",
    "\n",
    "_Because we haven't used position encodings in our architecture we can expect that our model will be invariant to shuffiling our input (meanin shuffling will do no difference). We yet havn't encoded the notion that  tokens are 'positioned' in relation to other token._"
   ]
  },
  {
   "cell_type": "markdown",
   "id": "b4e0eaf1",
   "metadata": {
    "id": "b4e0eaf1"
   },
   "source": [
    "<!-- END QUESTION -->\n",
    "\n",
    "\n",
    "\n",
    "Since the transformer model itself doesn't have any sense of position/order, we encode the position of the word in the sentence, and add it to the word embedding as the input representation, as illustrated below.\n",
    "\n",
    "<img src=\"https://github.com/nlp-course/data/raw/master/img/transformer_pos.png\" alt=\"transformer w/ positional encoding illustration\" />\n",
    "\n",
    "> The illustrations above also omitted residual connections, which add the inputs to certain operations (such as attention and feedforward) to the outputs. More details can be found in the code below."
   ]
  },
  {
   "cell_type": "markdown",
   "id": "a2e5a9ba",
   "metadata": {
    "deletable": false,
    "editable": false,
    "id": "a2e5a9ba"
   },
   "source": [
    "## Causal attention mask\n",
    "\n",
    "To efficiently train the transformer model, we want to batch the attention operations together such that they can be fully parallelized along the sequence length dimension. (The non-attention operations are position-wise so they are trivally parallelizable.) This is quite straightforward for encoder self-attention and decoder-encoder cross-attention given our batched implementation of the `attention` function. However, things are a bit trickier for the decoder: each word $y_t$ attends to $t-1$ previous words $y_1, \\ldots, y_{t-1}$, which means each word $y_t$ has a different set of key-value pairs. Is it possible to batch them together?\n",
    "\n",
    "The solution is to use *attention masks*. For every word $y_t$, we give it all key-value pairs at $y_1, \\ldots, y_T$, and we disallow attending to future words $y_{t}, y_{t+1},\\ldots, y_T$ through an attention mask. (Recall that the `attention` function takes a `mask` argument.) We usually call this attention mask a _causal attention mask_, as it prevents the leakage of information from the future into the past. Since every $y_t$ has the same set of (key, value) pairs, we can batch them and compute the context vectors using a single call to the function `attention`.\n",
    "\n",
    "What should such a mask be? Implement the `causal_mask` function below to generate this mask.\n",
    "\n",
    "> Hint: you might find [`torch.triu`](https://pytorch.org/docs/stable/generated/torch.triu.html) useful.\n",
    "\n",
    "<!--\n",
    "BEGIN QUESTION\n",
    "name: causal_attention_mask\n",
    "-->"
   ]
  },
  {
   "cell_type": "code",
   "execution_count": 19,
   "id": "c75195db",
   "metadata": {
    "id": "c75195db"
   },
   "outputs": [],
   "source": [
    "#TODO - implement this function, which returns a causal attention mask\n",
    "def causal_mask(T):\n",
    "  \"\"\"\n",
    "  Generate a causal mask.\n",
    "  Arguments:\n",
    "      T: the length of target sequence\n",
    "  Returns:\n",
    "      mask: a T x T tensor, where `mask[i, j]` should be `True`\n",
    "      if y_i can attend to y_{j-1} (there's a \"-1\" since the first\n",
    "      token in decoder input is <bos>) and `False` if y_i cannot\n",
    "      attend to y_{j-1}\n",
    "  \"\"\"\n",
    "  mask = torch.triu(torch.ones(T, T, dtype=torch.bool)).T\n",
    "  return mask.to(device)"
   ]
  },
  {
   "cell_type": "code",
   "execution_count": 20,
   "id": "9cf27226",
   "metadata": {
    "colab": {
     "base_uri": "https://localhost:8080/",
     "height": 46
    },
    "deletable": false,
    "editable": false,
    "id": "9cf27226",
    "outputId": "9e4b3609-c524-456a-f0af-83c56c00d83d"
   },
   "outputs": [
    {
     "data": {
      "text/html": [
       "\n",
       "    \n",
       "    \n",
       "        <p>All tests passed!</p>\n",
       "    \n",
       "    "
      ],
      "text/plain": [
       "\n",
       "    All tests passed!\n",
       "    "
      ]
     },
     "execution_count": 20,
     "metadata": {},
     "output_type": "execute_result"
    }
   ],
   "source": [
    "grader.check(\"causal_attention_mask\")"
   ]
  },
  {
   "cell_type": "markdown",
   "id": "5d73c932",
   "metadata": {
    "id": "5d73c932"
   },
   "source": [
    "We can visualize the attention mask and manually check if it's what we expected."
   ]
  },
  {
   "cell_type": "code",
   "execution_count": 21,
   "id": "8e243146",
   "metadata": {
    "colab": {
     "base_uri": "https://localhost:8080/",
     "height": 540
    },
    "id": "8e243146",
    "outputId": "d5cdeeb0-a59f-4404-9f64-277a54f5bada"
   },
   "outputs": [
    {
     "data": {
      "text/plain": [
       "<matplotlib.image.AxesImage at 0x1768af460>"
      ]
     },
     "execution_count": 21,
     "metadata": {},
     "output_type": "execute_result"
    },
    {
     "data": {
      "image/png": "[encoded data removed]",
      "text/plain": [
       "<Figure size 800x600 with 1 Axes>"
      ]
     },
     "metadata": {},
     "output_type": "display_data"
    }
   ],
   "source": [
    "fig, ax = plt.subplots(figsize=(8, 6))\n",
    "\n",
    "T = 7\n",
    "mask = causal_mask(T)\n",
    "ax.imshow(mask.cpu())\n",
    "\n",
    "# Uncomment the line below if the plot does not show up\n",
    "# Make sure to comment that before submitting to gradescope\n",
    "# since there would be some autograder issues with `plt.show()`\n",
    "#plt.show()"
   ]
  },
  {
   "cell_type": "markdown",
   "id": "2fe96668",
   "metadata": {
    "id": "2fe96668"
   },
   "source": [
    "As we have emphasized multiple times, unlike RNN-based encoder-decoders, transformer encoder/decoders are parallelizable in the sequence length dimension, even for the decoder: by using causal masks, all positions (at the same layer) can be computed all at once (if the lower layer has been computed). The parallelizability of transformers is the key to its success since it allows for training it on vast amounts of data."
   ]
  },
  {
   "cell_type": "markdown",
   "id": "beaddb93",
   "metadata": {
    "deletable": false,
    "editable": false,
    "id": "beaddb93"
   },
   "source": [
    "Now we are ready to complete the implementation of the transformer model. The code is structured as a set of classes: `TransformerEncoderLayer`\\*, `TransformerEncoder`, `TransformDecoderLayer`\\*, `TransformDecoder`, `PositionalEmbedding`, and `TransformerEncoderDecoder`\\*. We've provided almost all the necessary code. In particular, we provide code for all position-wise operations. Your job is only to implement the parts involving attention and to figure out the correct attention masks, which involves only the three classes marked above with a star.\n",
    "\n",
    "> Hint: Completing this transformer implementation should require very little code, just a few lines.\n",
    "\n",
    "> Hint: The causal mask is a 2-D matrix, but we want to add a batch dimension, and expand it to be of the desired size. For this purpose, you can use [`torch.repeat`](https://pytorch.org/docs/stable/tensors.html#torch.Tensor.repeat).\n",
    "\n",
    "<!--\n",
    "BEGIN QUESTION\n",
    "name: transformer\n",
    "-->"
   ]
  },
  {
   "cell_type": "code",
   "execution_count": 22,
   "id": "eb483566",
   "metadata": {
    "id": "eb483566"
   },
   "outputs": [],
   "source": [
    "#TODO - implement `forward_encoder` and `forward_decoder`.\n",
    "# `TransformerEncoderDecoder` inherits most functions from `AttnEncoderDecoder`\n",
    "class TransformerEncoderDecoder(AttnEncoderDecoder):\n",
    "  def __init__(self, hf_src_tokenizer, hf_tgt_tokenizer, hidden_size=64, layers=3):\n",
    "    \"\"\"\n",
    "    Initializer. Creates network modules and loss function.\n",
    "    Arguments:\n",
    "        hf_src_tokenizer: hf src tokenizer\n",
    "        hf_tgt_tokenizer: hf tgt tokenizer\n",
    "        hidden_size: hidden layer size of both encoder and decoder\n",
    "        layers: number of layers of both encoder and decoder\n",
    "    \"\"\"\n",
    "    super(AttnEncoderDecoder, self).__init__()\n",
    "    self.hf_src_tokenizer = hf_src_tokenizer\n",
    "    self.hf_tgt_tokenizer = hf_tgt_tokenizer\n",
    "\n",
    "    # Keep the vocabulary sizes available\n",
    "    self.V_src = len(self.hf_src_tokenizer)\n",
    "    self.V_tgt = len(self.hf_tgt_tokenizer)\n",
    "\n",
    "    # Get special word ids or tokens\n",
    "    self.padding_id_src = self.hf_src_tokenizer.pad_token_id\n",
    "    self.padding_id_tgt = self.hf_tgt_tokenizer.pad_token_id\n",
    "    self.bos_id = self.hf_tgt_tokenizer.bos_token_id\n",
    "    self.eos_id = self.hf_tgt_tokenizer.eos_token_id\n",
    "\n",
    "    # Keep hyper-parameters available\n",
    "    self.embedding_size = hidden_size\n",
    "    self.hidden_size = hidden_size\n",
    "    self.layers = layers\n",
    "\n",
    "    # Create essential modules\n",
    "    self.encoder = TransformerEncoder(self.V_src, hidden_size, layers)\n",
    "    self.decoder = TransformerDecoder(self.V_tgt, hidden_size, layers)\n",
    "\n",
    "    # Final projection layer\n",
    "    self.hidden2output = nn.Linear(hidden_size, self.V_tgt)\n",
    "\n",
    "    # Create loss function\n",
    "    self.loss_function = nn.CrossEntropyLoss(reduction='sum',\n",
    "                                             ignore_index=self.padding_id_tgt)\n",
    "\n",
    "  def forward_encoder(self, src, src_lengths):\n",
    "    \"\"\"\n",
    "    Encodes source words `src`.\n",
    "    Arguments:\n",
    "        src: src batch of size (bsz, max_src_len)\n",
    "        src_lengths: src lengths (bsz)\n",
    "    Returns:\n",
    "        memory_bank: a tensor of size (bsz, src_len, hidden_size)\n",
    "    \"\"\"\n",
    "    # The reason we don't directly pass in src_mask as in `forward_decoder` is to\n",
    "    # enable us to reuse beam search implemented for RNN-based encoder-decoder\n",
    "    src_len = src.size(1)\n",
    "    #TODO - compute `encoder_self_attn_mask`\n",
    "    encoder_self_attn_mask = src.ne(self.padding_id_tgt).unsqueeze(1).repeat(1, src_len, 1)\n",
    "    memory_bank = self.encoder(src, encoder_self_attn_mask)\n",
    "    return memory_bank, None\n",
    "\n",
    "  def forward_decoder(self, tgt_in, memory_bank, src_mask):\n",
    "    \"\"\"\n",
    "    Decodes based on memory bank, and ground truth target words.\n",
    "    Arguments:\n",
    "        tgt_in: a tensor of size (bsz, tgt_len)\n",
    "        memory_bank: a tensor of size (bsz, src_len, hidden_size), encoder outputs\n",
    "                     at every position\n",
    "        src_mask: a tensor of size (bsz, src_len) which is `False` for source paddings\n",
    "    Returns:\n",
    "        Logits of size (bsz, tgt_len, V_tgt) (before the softmax operation)\n",
    "    \"\"\"\n",
    "    tgt_len = tgt_in.size(1)\n",
    "    bsz = tgt_in.size(0)\n",
    "    #TODO - compute `cross_attn_mask` and `decoder_self_attn_mask`\n",
    "    cross_attn_mask = src_mask.unsqueeze(1).repeat(1, tgt_len, 1)\n",
    "    decoder_self_attn_mask = causal_mask(tgt_len).unsqueeze(0).repeat(bsz, 1, 1)\n",
    "\n",
    "    outputs = self.decoder(tgt_in, memory_bank, cross_attn_mask, decoder_self_attn_mask)\n",
    "    logits = self.hidden2output(outputs)\n",
    "    return logits\n",
    "\n",
    "  def forward(self, src, src_lengths, tgt_in):\n",
    "    \"\"\"\n",
    "    Performs forward computation, returns logits.\n",
    "    Arguments:\n",
    "        src: src batch of size (bsz, max_src_len)\n",
    "        src_lengths: src lengths of size (bsz)\n",
    "        tgt_in:  a tensor of size (bsz, tgt_len)\n",
    "    \"\"\"\n",
    "    src_mask = src.ne(self.padding_id_src) # bsz, max_src_len\n",
    "    # Forward encoder\n",
    "    memory_bank, _ = self.forward_encoder(src, src_lengths)\n",
    "    # Forward decoder\n",
    "    logits = self.forward_decoder(tgt_in, memory_bank, src_mask)\n",
    "    return logits\n",
    "\n",
    "  def forward_decoder_incrementally(self, prev_decoder_states, tgt_in_onestep,\n",
    "                                    memory_bank, src_mask, normalize=True):\n",
    "    \"\"\"\n",
    "    Forward the decoder at `decoder_state` for a single step with token `tgt_in_onestep`.\n",
    "    This function will be used in beam search. Note that the implementation here is\n",
    "    very inefficient, since we do not cache any decoder state, but instead we only\n",
    "    cache previously generated tokens in `prev_decoder_states`, and do a fresh\n",
    "    `forward_decoder`.\n",
    "    Arguments:\n",
    "        prev_decoder_states: previous tgt words. None for the first step.\n",
    "        tgt_in_onestep: a tensor of size (bsz), tokens at one step\n",
    "        memory_bank: a tensor of size (bsz, src_len, hidden_size), src hidden states\n",
    "                     at every position\n",
    "        src_mask: a tensor of size (bsz, src_len): a boolean tensor, `False` where\n",
    "                  src is padding.\n",
    "        normalize: use log_softmax to normalize or not. Beam search needs to normalize,\n",
    "                   while `forward_decoder` does not\n",
    "    Returns:\n",
    "        logits: Log probabilities for `tgt_in_token` of size (bsz, V_tgt)\n",
    "        decoder_states: we use tgt words up to now as states, a tensor of size (bsz, len)\n",
    "        None: to keep output format the same as AttnEncoderDecoder, such that we can\n",
    "              reuse beam search code\n",
    "\n",
    "    \"\"\"\n",
    "    prev_tgt_in = prev_decoder_states # bsz, tgt_len\n",
    "    src_len = memory_bank.size(1)\n",
    "    bsz = memory_bank.size(0)\n",
    "    tgt_in_onestep = tgt_in_onestep.view(-1, 1) # bsz, 1\n",
    "    if prev_tgt_in is not None:\n",
    "      tgt_in = torch.cat((prev_tgt_in, tgt_in_onestep), 1) # bsz, tgt_len+1\n",
    "    else:\n",
    "      tgt_in = tgt_in_onestep\n",
    "    tgt_len = tgt_in.size(1)\n",
    "\n",
    "    logits = self.forward_decoder(tgt_in, memory_bank, src_mask)\n",
    "    logits = logits[:, -1]\n",
    "    if normalize:\n",
    "      logits = torch.log_softmax(logits, dim=-1)\n",
    "    decoder_states = tgt_in\n",
    "    return logits, decoder_states, None"
   ]
  },
  {
   "cell_type": "code",
   "execution_count": 23,
   "id": "d588138f",
   "metadata": {
    "id": "d588138f"
   },
   "outputs": [],
   "source": [
    "class TransformerEncoder(nn.Module):\n",
    "  r\"\"\"TransformerEncoder is an embedding layer and a stack of N encoder layers.\n",
    "  Arguments:\n",
    "      hidden_size: hidden size.\n",
    "      layers: the number of encoder layers.\n",
    "  \"\"\"\n",
    "\n",
    "  def __init__(self, vocab_size, hidden_size, layers):\n",
    "    super().__init__()\n",
    "    self.embed = PositionalEmbedding(vocab_size, hidden_size)\n",
    "    encoder_layer = TransformerEncoderLayer(hidden_size)\n",
    "    self.layers = _get_clones(encoder_layer, layers)\n",
    "    self.norm = nn.LayerNorm(hidden_size)\n",
    "\n",
    "  def forward(self, src, encoder_self_attn_mask):\n",
    "    r\"\"\"Pass the input through the word embedding layer, followed by\n",
    "    the encoder layers in turn.\n",
    "    Arguments:\n",
    "        src: src batch of size (bsz, max_src_len)\n",
    "        encoder_self_attn_mask: the mask for encoder self-attention, it's of size\n",
    "                                (bsz, max_src_len, max_src_len)\n",
    "    Returns:\n",
    "        a tensor of size (bsz, max_src_len, hidden_size)\n",
    "    \"\"\"\n",
    "    output = self.embed(src)\n",
    "    for mod in self.layers:\n",
    "      output = mod(output, encoder_self_attn_mask=encoder_self_attn_mask)\n",
    "    output = self.norm(output)\n",
    "    return output\n",
    "\n",
    "\n",
    "class TransformerEncoderLayer(nn.Module):\n",
    "  r\"\"\"TransformerEncoderLayer is made up of self-attn and feedforward network.\n",
    "  Arguments:\n",
    "      hidden_size: hidden size.\n",
    "  \"\"\"\n",
    "\n",
    "  def __init__(self, hidden_size):\n",
    "    super(TransformerEncoderLayer, self).__init__()\n",
    "    self.hidden_size = hidden_size\n",
    "    fwd_hidden_size = hidden_size * 4\n",
    "\n",
    "    # Create modules\n",
    "    self.linear1 = nn.Linear(hidden_size, fwd_hidden_size)\n",
    "    self.linear2 = nn.Linear(fwd_hidden_size, hidden_size)\n",
    "    self.norm1 = nn.LayerNorm(hidden_size)\n",
    "    self.norm2 = nn.LayerNorm(hidden_size)\n",
    "    self.activation = nn.ReLU()\n",
    "    # Attention related\n",
    "    self.q_proj = nn.Linear(hidden_size, hidden_size)\n",
    "    self.k_proj = nn.Linear(hidden_size, hidden_size)\n",
    "    self.v_proj = nn.Linear(hidden_size, hidden_size)\n",
    "    self.context_proj = nn.Linear(hidden_size, hidden_size)\n",
    "\n",
    "\n",
    "  def forward(self, src, encoder_self_attn_mask):\n",
    "    r\"\"\"Pass the input through the encoder layer.\n",
    "    Arguments:\n",
    "        src: an input tensor of size (bsz, max_src_len, hidden_size).\n",
    "        encoder_self_attn_mask: attention mask of size (bsz, max_src_len, max_src_len),\n",
    "                                it's `False` where the corresponding attention is disabled\n",
    "    Returns:\n",
    "        a tensor of size (bsz, max_src_len, hidden_size).\n",
    "    \"\"\"\n",
    "    # Attend\n",
    "    q = self.q_proj(src) / math.sqrt(self.hidden_size) # a trick needed to make transformer work\n",
    "    k = self.k_proj(src)\n",
    "    v = self.v_proj(src)\n",
    "    #TODO - compute `context`\n",
    "    _ ,context = attention(q,k,v, encoder_self_attn_mask)\n",
    "    src2 = self.context_proj(context)\n",
    "    # Residual connection\n",
    "    src = src + src2\n",
    "    src = self.norm1(src)\n",
    "    # Feedforward for each position\n",
    "    src2 = self.linear2(self.activation(self.linear1(src)))\n",
    "    src = src + src2\n",
    "    src = self.norm2(src)\n",
    "    return src\n",
    "\n",
    "\n",
    "class TransformerDecoder(nn.Module):\n",
    "  r\"\"\"TransformerDecoder is an embedding layer and a stack of N decoder layers.\n",
    "  Arguments:\n",
    "      hidden_size: hidden size.\n",
    "      layers: the number of sub-encoder-layers in the encoder.\n",
    "  \"\"\"\n",
    "  def __init__(self, vocab_size, hidden_size, layers):\n",
    "    super(TransformerDecoder, self).__init__()\n",
    "    self.embed = PositionalEmbedding(vocab_size, hidden_size)\n",
    "    decoder_layer = TransformerDecoderLayer(hidden_size)\n",
    "    self.layers = _get_clones(decoder_layer, layers)\n",
    "    self.norm = nn.LayerNorm(hidden_size)\n",
    "\n",
    "  def forward(self, tgt_in, memory, cross_attn_mask, decoder_self_attn_mask):\n",
    "    r\"\"\"Pass the inputs (and mask) through the word embedding layer, followed by\n",
    "    the decoder layer in turn.\n",
    "    Arguments:\n",
    "        tgt_in: tgt batch of size (bsz, max_tgt_len)\n",
    "        memory: the outputs of the encoder (bsz, max_src_len, hidden_size)\n",
    "        cross_attn_mask: attention mask of size (bsz, max_tgt_len, max_src_len),\n",
    "                         it's `False` where the cross-attention is disallowed.\n",
    "        decoder_self_attn_mask: attention mask of size (bsz, max_tgt_len, max_tgt_len),\n",
    "                                it's `False` where the self-attention is disallowed.\n",
    "    Returns:\n",
    "        a tensor of size (bsz, max_tgt_len, hidden_size)\n",
    "    \"\"\"\n",
    "    output = self.embed(tgt_in)\n",
    "    for mod in self.layers:\n",
    "      output = mod(output, memory, cross_attn_mask=cross_attn_mask, \\\n",
    "                   decoder_self_attn_mask=decoder_self_attn_mask)\n",
    "\n",
    "    output = self.norm(output)\n",
    "    return output\n",
    "\n",
    "\n",
    "class TransformerDecoderLayer(nn.Module):\n",
    "  r\"\"\"TransformerDecoderLayer is made up of self-attn, cross-attn, and\n",
    "  feedforward network.\n",
    "  Arguments:\n",
    "      hidden_size: hidden size.\n",
    "  \"\"\"\n",
    "\n",
    "  def __init__(self, hidden_size):\n",
    "    super(TransformerDecoderLayer, self).__init__()\n",
    "    self.hidden_size = hidden_size\n",
    "    fwd_hidden_size = hidden_size * 4\n",
    "\n",
    "    # Create modules\n",
    "    self.linear1 = nn.Linear(hidden_size, fwd_hidden_size)\n",
    "    self.linear2 = nn.Linear(fwd_hidden_size, hidden_size)\n",
    "\n",
    "    self.activation = nn.ReLU()\n",
    "\n",
    "    self.norm1 = nn.LayerNorm(hidden_size)\n",
    "    self.norm2 = nn.LayerNorm(hidden_size)\n",
    "    self.norm3 = nn.LayerNorm(hidden_size)\n",
    "\n",
    "    # Attention related\n",
    "    self.q_proj_self = nn.Linear(hidden_size, hidden_size)\n",
    "    self.k_proj_self = nn.Linear(hidden_size, hidden_size)\n",
    "    self.v_proj_self = nn.Linear(hidden_size, hidden_size)\n",
    "    self.context_proj_self = nn.Linear(hidden_size, hidden_size)\n",
    "\n",
    "    self.q_proj_cross = nn.Linear(hidden_size, hidden_size)\n",
    "    self.k_proj_cross = nn.Linear(hidden_size, hidden_size)\n",
    "    self.v_proj_cross = nn.Linear(hidden_size, hidden_size)\n",
    "    self.context_proj_cross = nn.Linear(hidden_size, hidden_size)\n",
    "\n",
    "  def forward(self, tgt, memory, cross_attn_mask, decoder_self_attn_mask):\n",
    "    r\"\"\"Pass the inputs (and mask) through the decoder layer.\n",
    "    Arguments:\n",
    "        tgt: an input tensor of size (bsz, max_tgt_len, hidden_size).\n",
    "        memory: encoder outputs of size (bsz, max_src_len, hidden_size).\n",
    "        cross_attn_mask: attention mask of size (bsz, max_tgt_len, max_src_len),\n",
    "                         it's `False` where the cross-attention is disallowed.\n",
    "        decoder_self_attn_mask: attention mask of size (bsz, max_tgt_len, max_tgt_len),\n",
    "                                it's `False` where the self-attention is disallowed.\n",
    "    Returns:\n",
    "        a tensor of size (bsz, max_tgt_len, hidden_size)\n",
    "    \"\"\"\n",
    "    # Self attention (decoder-side)\n",
    "    q = self.q_proj_self(tgt) / math.sqrt(self.hidden_size)\n",
    "    k = self.k_proj_self(tgt)\n",
    "    v = self.v_proj_self(tgt)\n",
    "    #TODO - compute `context`\n",
    "    _ ,context = attention(q,k,v, decoder_self_attn_mask)\n",
    "    tgt2 = self.context_proj_self(context)\n",
    "    tgt = tgt + tgt2\n",
    "    tgt = self.norm1(tgt)\n",
    "    # Cross attention (decoder attends to encoder)\n",
    "    q = self.q_proj_cross(tgt) / math.sqrt(self.hidden_size)\n",
    "    k = self.k_proj_cross(memory)\n",
    "    v = self.v_proj_cross(memory)\n",
    "    #TODO - compute `context`\n",
    "    _ ,context = attention(q,k,v, cross_attn_mask)\n",
    "    tgt2 = self.context_proj_cross(context)\n",
    "    tgt = tgt + tgt2\n",
    "    tgt = self.norm2(tgt)\n",
    "    tgt2 = self.linear2(self.activation(self.linear1(tgt)))\n",
    "    tgt = tgt + tgt2\n",
    "    tgt = self.norm3(tgt)\n",
    "    return tgt\n",
    "\n",
    "class PositionalEmbedding(nn.Module):\n",
    "  \"\"\"\"Embeds a word both by its word id and by its position in the sentence.\"\"\"\n",
    "  def __init__(self, vocab_size, embedding_size, max_len=1024):\n",
    "    super(PositionalEmbedding, self).__init__()\n",
    "    self.embedding_size = embedding_size\n",
    "\n",
    "    self.embed = nn.Embedding(vocab_size, embedding_size)\n",
    "    pe = torch.zeros(max_len, embedding_size)\n",
    "    position = torch.arange(0, max_len).unsqueeze(1)\n",
    "    div_term = torch.exp(torch.arange(0, embedding_size, 2) *\n",
    "                         -(math.log(10000.0) / embedding_size))\n",
    "    pe[:, 0::2] = torch.sin(position * div_term)\n",
    "    pe[:, 1::2] = torch.cos(position * div_term)\n",
    "    pe = pe.unsqueeze(0) # 1, max_len, embedding_size\n",
    "    self.register_buffer('pe', pe)\n",
    "\n",
    "  def forward(self, batch):\n",
    "    x = self.embed(batch) * math.sqrt(self.embedding_size) # type embedding\n",
    "    # Add positional encoding to type embedding\n",
    "    x = x + self.pe[:, :x.size(1)].detach()\n",
    "    return x\n",
    "\n",
    "\n",
    "def _get_clones(module, N):\n",
    "  \"\"\"Copies a module `N` times\"\"\"\n",
    "  return nn.ModuleList([copy.deepcopy(module) for i in range(N)])"
   ]
  },
  {
   "cell_type": "code",
   "execution_count": 24,
   "id": "df1fcc77",
   "metadata": {
    "colab": {
     "base_uri": "https://localhost:8080/"
    },
    "id": "df1fcc77",
    "outputId": "f3cf3a0c-b59e-4204-9f47-9c2612417213"
   },
   "outputs": [
    {
     "name": "stderr",
     "output_type": "stream",
     "text": [
      "100%|█████████████████████████████████████████████████████████████████████████| 2032/2032 [00:51<00:00, 39.33it/s]\n"
     ]
    },
    {
     "name": "stdout",
     "output_type": "stream",
     "text": [
      "Epoch: 0 Training Perplexity: 1.6714 Validation Perplexity: 1.1366\n"
     ]
    },
    {
     "name": "stderr",
     "output_type": "stream",
     "text": [
      "100%|█████████████████████████████████████████████████████████████████████████| 2032/2032 [00:49<00:00, 40.65it/s]\n"
     ]
    },
    {
     "name": "stdout",
     "output_type": "stream",
     "text": [
      "Epoch: 1 Training Perplexity: 1.1019 Validation Perplexity: 1.1046\n"
     ]
    },
    {
     "data": {
      "text/plain": [
       "<All keys matched successfully>"
      ]
     },
     "execution_count": 24,
     "metadata": {},
     "output_type": "execute_result"
    }
   ],
   "source": [
    "EPOCHS = 2 # epochs, we highly recommend starting with a smaller number like 1\n",
    "LEARNING_RATE = 2e-3 # learning rate\n",
    "\n",
    "# Instantiate and train classifier\n",
    "model_transformer = TransformerEncoderDecoder(hf_src_tokenizer, hf_tgt_tokenizer,\n",
    "  hidden_size    = 64,\n",
    "  layers         = 3,\n",
    ").to(device)\n",
    "\n",
    "model_transformer.train_all(train_iter, val_iter, epochs=EPOCHS, learning_rate=LEARNING_RATE)\n",
    "model_transformer.load_state_dict(model_transformer.best_model)"
   ]
  },
  {
   "cell_type": "markdown",
   "id": "0a05ede1",
   "metadata": {
    "id": "0a05ede1"
   },
   "source": [
    "You might notice that in these experiments training transformers doesn't appear to be faster than training RNNs. There are two reasons for that: first, we are not using GPUs; second, even if you use GPUs, the sequences here are too short to observe the benefits of parallelizing along the horizontal direction. In real datasets with long sentences, training transformers is much faster than training RNNs, so under the same computational budget, using transformers allows for training on much larger datasets. This is one of the primary reasons transformers dominate NLP research these days."
   ]
  },
  {
   "cell_type": "markdown",
   "id": "2fbf95e5",
   "metadata": {
    "deletable": false,
    "editable": false,
    "id": "2fbf95e5"
   },
   "source": [
    "<!-- BEGIN QUESTION -->\n",
    "\n",
    "**Question:** Would there be any speed advantage of decoding (generation) using transformers compared to RNNs? Why or why not?\n",
    "\n",
    "<!--\n",
    "BEGIN QUESTION\n",
    "name: open_response_transformer_decoding_speed\n",
    "manual: true\n",
    "-->"
   ]
  },
  {
   "cell_type": "markdown",
   "id": "4cea7ae6",
   "metadata": {
    "id": "4cea7ae6"
   },
   "source": [
    "_No, there will be no speed advantage with Transformers in generating. That's beacuse when generating we select the output $y_i$ to be the word with the highest probability. and the we use that word to calculate the next out put $y_{i+1}$ (what is called autoregressive generation)._"
   ]
  },
  {
   "cell_type": "markdown",
   "id": "ca09749f",
   "metadata": {
    "deletable": false,
    "editable": false,
    "id": "ca09749f"
   },
   "source": [
    "<!-- END QUESTION -->"
   ]
  },
  {
   "cell_type": "code",
   "execution_count": 25,
   "id": "c57c66b0",
   "metadata": {
    "colab": {
     "base_uri": "https://localhost:8080/"
    },
    "id": "c57c66b0",
    "outputId": "352728c3-6109-4ac6-f50f-88e457d37eea"
   },
   "outputs": [
    {
     "name": "stdout",
     "output_type": "stream",
     "text": [
      "Test perplexity: 1.129\n"
     ]
    }
   ],
   "source": [
    "# Evaluate model performance, the expected value should be < 1.5\n",
    "print (f'Test perplexity: {model_transformer.evaluate_ppl(test_iter):.3f}')"
   ]
  },
  {
   "cell_type": "code",
   "execution_count": 26,
   "id": "ead066ce",
   "metadata": {
    "colab": {
     "base_uri": "https://localhost:8080/",
     "height": 46
    },
    "deletable": false,
    "editable": false,
    "id": "ead066ce",
    "outputId": "1772b6b2-58d7-4196-a94c-206ff8820c54"
   },
   "outputs": [
    {
     "data": {
      "text/html": [
       "\n",
       "    \n",
       "    \n",
       "        <p>All tests passed!</p>\n",
       "    \n",
       "    "
      ],
      "text/plain": [
       "\n",
       "    All tests passed!\n",
       "    "
      ]
     },
     "execution_count": 26,
     "metadata": {},
     "output_type": "execute_result"
    }
   ],
   "source": [
    "grader.check(\"transformer_ppl\")"
   ]
  },
  {
   "cell_type": "markdown",
   "id": "ca23ac05",
   "metadata": {
    "id": "ca23ac05"
   },
   "source": [
    "Now that we have a trained model, we can decode from it using our previously implemented beam search function. If the code below throws any errors, you might need to modify your beam search code such that it generalizes here."
   ]
  },
  {
   "cell_type": "code",
   "execution_count": 27,
   "id": "89b946cf",
   "metadata": {
    "colab": {
     "base_uri": "https://localhost:8080/",
     "height": 46
    },
    "deletable": false,
    "editable": false,
    "id": "89b946cf",
    "outputId": "ec148e25-b21c-4992-b497-f0428acbc93c"
   },
   "outputs": [
    {
     "data": {
      "text/html": [
       "\n",
       "    \n",
       "    \n",
       "        <p>All tests passed!</p>\n",
       "    \n",
       "    "
      ],
      "text/plain": [
       "\n",
       "    All tests passed!\n",
       "    "
      ]
     },
     "execution_count": 27,
     "metadata": {},
     "output_type": "execute_result"
    }
   ],
   "source": [
    "grader.check(\"transformer_beam_search\")"
   ]
  },
  {
   "cell_type": "code",
   "execution_count": 28,
   "id": "541e533b",
   "metadata": {
    "colab": {
     "base_uri": "https://localhost:8080/"
    },
    "id": "541e533b",
    "outputId": "f4d97bbe-c2db-47ce-be8f-13cc0c588c69"
   },
   "outputs": [
    {
     "name": "stdout",
     "output_type": "stream",
     "text": [
      "Source: sixteen thousand eight hundred and thirty two\n",
      "Prediction:   1 6 8 3 2\n",
      "Ground truth: 1 6 8 3 2\n",
      "Source: sixty seven million six hundred and eighty five thousand two hundred and thirty\n",
      "Prediction:   6 7 6 8 5 2 3 0\n",
      "Ground truth: 6 7 6 8 5 2 3 0\n",
      "Source: six thousand two hundred and twelve\n",
      "Prediction:   6 2 1 2\n",
      "Ground truth: 6 2 1 2\n",
      "Source: seven hundred and ninety eight million three hundred and thirty one thousand eight hundred and eighteen\n",
      "Prediction:   7 9 8 3 3 1 8 1 8\n",
      "Ground truth: 7 9 8 3 3 1 8 1 8\n",
      "Source: eighty eight million four hundred and thirteen thousand nine hundred and eighteen\n",
      "Prediction:   8 8 4 1 3 9 1 8\n",
      "Ground truth: 8 8 4 1 3 9 1 8\n",
      "Source: three hundred and seventy four thousand two hundred and seventy\n",
      "Prediction:   3 7 4 2 7 0\n",
      "Ground truth: 3 7 4 2 7 0\n",
      "Source: ninety eight million three hundred and seventy thousand five hundred and forty five\n",
      "Prediction:   9 8 3 7 0 5 4 5\n",
      "Ground truth: 9 8 3 7 0 5 4 5\n",
      "Source: ninety seven thousand seven hundred and sixty two\n",
      "Prediction:   9 7 7 6 2\n",
      "Ground truth: 9 7 7 6 2\n",
      "Source: four hundred and ten thousand two hundred and three\n",
      "Prediction:   4 1 0 2 0 3\n",
      "Ground truth: 4 1 0 2 0 3\n",
      "Accuracy: 0.82\n"
     ]
    }
   ],
   "source": [
    "DEBUG_FIRST = 10 # set to False to disable printing predictions\n",
    "K = 1 # beam size 1\n",
    "\n",
    "correct = 0\n",
    "total = 0\n",
    "\n",
    "# create beam searcher\n",
    "beam_searcher = BeamSearcher(model_transformer)\n",
    "\n",
    "for index, batch in enumerate(test_iter, start=1):\n",
    "  # Input and output\n",
    "  src = batch['src_ids']\n",
    "  src_lengths = batch['src_lengths']\n",
    "  # Predict\n",
    "  model.all_attns = []\n",
    "  prediction, _ = beam_searcher.beam_search(src, src_lengths, K)\n",
    "  # Convert to string\n",
    "  prediction = hf_tgt_tokenizer.decode(prediction, skip_special_tokens=True)\n",
    "  ground_truth = hf_tgt_tokenizer.decode(batch['tgt_ids'][0], skip_special_tokens=True)\n",
    "  if DEBUG_FIRST > index:\n",
    "    src = hf_src_tokenizer.decode(src[0], skip_special_tokens=True)\n",
    "    print (f'Source: {src}')\n",
    "    print (f'Prediction:   {prediction}')\n",
    "    print (f'Ground truth: {ground_truth}')\n",
    "  if ground_truth == prediction:\n",
    "    correct += 1\n",
    "  total += 1\n",
    "\n",
    "print (f'Accuracy: {correct/total:.2f}')"
   ]
  },
  {
   "cell_type": "markdown",
   "id": "5f2db02f",
   "metadata": {
    "deletable": false,
    "editable": false,
    "id": "5f2db02f"
   },
   "source": [
    "<!-- BEGIN QUESTION -->\n",
    "\n",
    "**Question:** When we first introduced attention above, adding it to an RNN model, we noted that\n",
    "\n",
    "> The attention scores $\\mathbf{a}$ lie on a *simplex* (meaning $a_i\\ge 0$ and $\\sum_i a_i=1$), which lends it some interpretability: the closer $a_i$ is to 1, the more \"relevant\" a key $k_i$ (and hence its value $v_i$) is to the given query. We will observe this later in the lab: When we are about to predict the target word \"3\", $a_i$ is close to 1 for the source word $x_i=\\text{\"three\"}$.\n",
    "\n",
    "Can we interpret the attentions in a multi-layer transformer similarly? If so, what would you expect the attention scores to correspond to? If not, explain why.\n",
    "\n",
    "<!--\n",
    "BEGIN QUESTION\n",
    "name: open_response_attn_transformer\n",
    "manual: true\n",
    "-->"
   ]
  },
  {
   "cell_type": "markdown",
   "id": "59146f4b",
   "metadata": {
    "id": "59146f4b"
   },
   "source": [
    "_We can interpret the attention just as before. that is beacuse all the scores are between 0 and 1 and $\\sum_i a_i=1$  . Thus we can keep our interperation. We expect the high correlating words to be with higher scores._"
   ]
  },
  {
   "cell_type": "markdown",
   "id": "8caed012",
   "metadata": {
    "id": "8caed012"
   },
   "source": [
    "<!-- END QUESTION -->\n",
    "\n",
    "\n",
    "\n",
    "You might have noticed that the transformer model underperforms the RNN-based encoder-decoder on this particular task. This might be due to several reasons:\n",
    "\n",
    "* Transformers tend to be data hungry, sometimes requiring billions of words to train.\n",
    "* The transformer formulation presented in this lab is not in its full form: for instance, instead of only doing attention once at each position for each layer, researchers usually use multiple attention operations in the hope of capturing different aspects of \"relevance\", which is called \"multi-headed attention\". For example, one attention head might be focusing on pronoun resolution, while the other might be looking for similar contexts before.\n",
    "* Transformers are usually sensitive to hyper-parameters and require heavy tuning. For example, while we used a fixed learning rate, researchers usually use a customized learning rate scheduler which first warms up the learning rate, and then gradually decreases it. If you are interested, more details can be found in [the original paper](https://arxiv.org/abs/1706.03762).\n",
    "\n",
    "We also recommend the excellent pedagogic blog posts: [The Illustrated Transformer](http://jalammar.github.io/illustrated-transformer/) and [The Annotated Transformer](http://nlp.seas.harvard.edu/2018/04/03/attention)."
   ]
  },
  {
   "cell_type": "markdown",
   "id": "4d7cbbc8",
   "metadata": {
    "deletable": false,
    "editable": false,
    "id": "4d7cbbc8"
   },
   "source": [
    "<!-- BEGIN QUESTION -->\n",
    "\n",
    "# Lab debrief\n",
    "\n",
    "**Question:** We're interested in any thoughts your group has about this lab so that we can improve this lab for later years, and to inform later labs for this year. Please list any issues that arose or comments you have to improve the lab. Useful things to comment on might include the following:\n",
    "\n",
    "* Was the lab too long or too short?\n",
    "* Were the readings appropriate for the lab?\n",
    "* Was it clear (at least after you completed the lab) what the points of the exercises were?\n",
    "* Are there additions or changes you think would make the lab better?\n",
    "\n",
    "but you should comment on whatever aspects you found especially positive or negative.\n",
    "\n",
    "<!--\n",
    "BEGIN QUESTION\n",
    "name: open_response_debrief\n",
    "manual: true\n",
    "-->"
   ]
  },
  {
   "cell_type": "markdown",
   "id": "4d2ec45e",
   "metadata": {
    "id": "4d2ec45e"
   },
   "source": [
    "lab was very long and very hard"
   ]
  },
  {
   "cell_type": "markdown",
   "id": "3774fcf6",
   "metadata": {
    "id": "3774fcf6"
   },
   "source": [
    "<!-- END QUESTION -->\n",
    "\n",
    "\n",
    "\n",
    "# End of Lab 4-5"
   ]
  },
  {
   "cell_type": "markdown",
   "id": "05265ca5",
   "metadata": {
    "deletable": false,
    "editable": false,
    "id": "05265ca5"
   },
   "source": [
    "---\n",
    "\n",
    "To double-check your work, the cell below will rerun all of the autograder tests."
   ]
  },
  {
   "cell_type": "code",
   "execution_count": 29,
   "id": "a10e1dca",
   "metadata": {
    "deletable": false,
    "editable": false,
    "id": "a10e1dca"
   },
   "outputs": [
    {
     "data": {
      "text/html": [
       "<p><strong>attention:</strong></p>\n",
       "\n",
       "    \n",
       "    \n",
       "        <p>All tests passed!</p>\n",
       "    \n",
       "    \n",
       "\n",
       "<p><strong>beam_search:</strong></p>\n",
       "\n",
       "    \n",
       "    \n",
       "        <p>All tests passed!</p>\n",
       "    \n",
       "    \n",
       "\n",
       "<p><strong>causal_attention_mask:</strong></p>\n",
       "\n",
       "    \n",
       "    \n",
       "        <p>All tests passed!</p>\n",
       "    \n",
       "    \n",
       "\n",
       "<p><strong>encoder_decoder_ppl:</strong></p>\n",
       "\n",
       "    \n",
       "    \n",
       "        <p>All tests passed!</p>\n",
       "    \n",
       "    \n",
       "\n",
       "<p><strong>transformer_beam_search:</strong></p>\n",
       "\n",
       "    \n",
       "    \n",
       "        <p>All tests passed!</p>\n",
       "    \n",
       "    \n",
       "\n",
       "<p><strong>transformer_ppl:</strong></p>\n",
       "\n",
       "    \n",
       "    \n",
       "        <p>All tests passed!</p>\n",
       "    \n",
       "    \n",
       "\n"
      ],
      "text/plain": [
       "attention:\n",
       "\n",
       "    All tests passed!\n",
       "    \n",
       "\n",
       "beam_search:\n",
       "\n",
       "    All tests passed!\n",
       "    \n",
       "\n",
       "causal_attention_mask:\n",
       "\n",
       "    All tests passed!\n",
       "    \n",
       "\n",
       "encoder_decoder_ppl:\n",
       "\n",
       "    All tests passed!\n",
       "    \n",
       "\n",
       "transformer_beam_search:\n",
       "\n",
       "    All tests passed!\n",
       "    \n",
       "\n",
       "transformer_ppl:\n",
       "\n",
       "    All tests passed!\n",
       "    \n"
      ]
     },
     "execution_count": 29,
     "metadata": {},
     "output_type": "execute_result"
    }
   ],
   "source": [
    "grader.check_all()"
   ]
  }
 ],
 "metadata": {
  "accelerator": "GPU",
  "colab": {
   "provenance": []
  },
  "kernelspec": {
   "display_name": "Python 3 (ipykernel)",
   "language": "python",
   "name": "python3"
  },
  "language_info": {
   "codemirror_mode": {
    "name": "ipython",
    "version": 3
   },
   "file_extension": ".py",
   "mimetype": "text/x-python",
   "name": "python",
   "nbconvert_exporter": "python",
   "pygments_lexer": "ipython3",
   "version": "3.9.16"
  },
  "title": "CS236299 Lab 4-5: Sequence-to-sequence models with attention",
  "vscode": {
   "interpreter": {
    "hash": "4fba83c08fc02185bb2310bd24d0cd81fb04529c933f82aa81c61aab9d5528dc"
   }
  },
  "widgets": {
   "application/vnd.jupyter.widget-state+json": {
    "028b9e13e29c48a4b7ea1ec97e8f53e5": {
     "model_module": "@jupyter-widgets/base",
     "model_module_version": "1.2.0",
     "model_name": "LayoutModel",
     "state": {
      "_model_module": "@jupyter-widgets/base",
      "_model_module_version": "1.2.0",
      "_model_name": "LayoutModel",
      "_view_count": null,
      "_view_module": "@jupyter-widgets/base",
      "_view_module_version": "1.2.0",
      "_view_name": "LayoutView",
      "align_content": null,
      "align_items": null,
      "align_self": null,
      "border": null,
      "bottom": null,
      "display": null,
      "flex": null,
      "flex_flow": null,
      "grid_area": null,
      "grid_auto_columns": null,
      "grid_auto_flow": null,
      "grid_auto_rows": null,
      "grid_column": null,
      "grid_gap": null,
      "grid_row": null,
      "grid_template_areas": null,
      "grid_template_columns": null,
      "grid_template_rows": null,
      "height": null,
      "justify_content": null,
      "justify_items": null,
      "left": null,
      "margin": null,
      "max_height": null,
      "max_width": null,
      "min_height": null,
      "min_width": null,
      "object_fit": null,
      "object_position": null,
      "order": null,
      "overflow": null,
      "overflow_x": null,
      "overflow_y": null,
      "padding": null,
      "right": null,
      "top": null,
      "visibility": null,
      "width": null
     }
    },
    "03484cbaa5404acd83da7c0d6f4c7503": {
     "model_module": "@jupyter-widgets/controls",
     "model_module_version": "1.5.0",
     "model_name": "HTMLModel",
     "state": {
      "_dom_classes": [],
      "_model_module": "@jupyter-widgets/controls",
      "_model_module_version": "1.5.0",
      "_model_name": "HTMLModel",
      "_view_count": null,
      "_view_module": "@jupyter-widgets/controls",
      "_view_module_version": "1.5.0",
      "_view_name": "HTMLView",
      "description": "",
      "description_tooltip": null,
      "layout": "IPY_MODEL_61c3454d74ab41aaa8bce042fbd9a187",
      "placeholder": "​",
      "style": "IPY_MODEL_e2b4dff0f3a04200b667ac892fcb9b1e",
      "value": "Extracting data files: 100%"
     }
    },
    "05267914729c42738af8240c529d5b18": {
     "model_module": "@jupyter-widgets/controls",
     "model_module_version": "1.5.0",
     "model_name": "HTMLModel",
     "state": {
      "_dom_classes": [],
      "_model_module": "@jupyter-widgets/controls",
      "_model_module_version": "1.5.0",
      "_model_name": "HTMLModel",
      "_view_count": null,
      "_view_module": "@jupyter-widgets/controls",
      "_view_module_version": "1.5.0",
      "_view_name": "HTMLView",
      "description": "",
      "description_tooltip": null,
      "layout": "IPY_MODEL_5c10d2835a2b4cf1b7a5211f0a26f4e2",
      "placeholder": "​",
      "style": "IPY_MODEL_ae4b9ff1643445d9b49cb9409888f779",
      "value": " 3/3 [00:00&lt;00:00, 166.26it/s]"
     }
    },
    "0736c6b35a1641cb89734d2cc259e183": {
     "model_module": "@jupyter-widgets/base",
     "model_module_version": "1.2.0",
     "model_name": "LayoutModel",
     "state": {
      "_model_module": "@jupyter-widgets/base",
      "_model_module_version": "1.2.0",
      "_model_name": "LayoutModel",
      "_view_count": null,
      "_view_module": "@jupyter-widgets/base",
      "_view_module_version": "1.2.0",
      "_view_name": "LayoutView",
      "align_content": null,
      "align_items": null,
      "align_self": null,
      "border": null,
      "bottom": null,
      "display": null,
      "flex": null,
      "flex_flow": null,
      "grid_area": null,
      "grid_auto_columns": null,
      "grid_auto_flow": null,
      "grid_auto_rows": null,
      "grid_column": null,
      "grid_gap": null,
      "grid_row": null,
      "grid_template_areas": null,
      "grid_template_columns": null,
      "grid_template_rows": null,
      "height": null,
      "justify_content": null,
      "justify_items": null,
      "left": null,
      "margin": null,
      "max_height": null,
      "max_width": null,
      "min_height": null,
      "min_width": null,
      "object_fit": null,
      "object_position": null,
      "order": null,
      "overflow": null,
      "overflow_x": null,
      "overflow_y": null,
      "padding": null,
      "right": null,
      "top": null,
      "visibility": null,
      "width": null
     }
    },
    "07fd25a4aee148f1a29178d02e873c0f": {
     "model_module": "@jupyter-widgets/base",
     "model_module_version": "1.2.0",
     "model_name": "LayoutModel",
     "state": {
      "_model_module": "@jupyter-widgets/base",
      "_model_module_version": "1.2.0",
      "_model_name": "LayoutModel",
      "_view_count": null,
      "_view_module": "@jupyter-widgets/base",
      "_view_module_version": "1.2.0",
      "_view_name": "LayoutView",
      "align_content": null,
      "align_items": null,
      "align_self": null,
      "border": null,
      "bottom": null,
      "display": null,
      "flex": null,
      "flex_flow": null,
      "grid_area": null,
      "grid_auto_columns": null,
      "grid_auto_flow": null,
      "grid_auto_rows": null,
      "grid_column": null,
      "grid_gap": null,
      "grid_row": null,
      "grid_template_areas": null,
      "grid_template_columns": null,
      "grid_template_rows": null,
      "height": null,
      "justify_content": null,
      "justify_items": null,
      "left": null,
      "margin": null,
      "max_height": null,
      "max_width": null,
      "min_height": null,
      "min_width": null,
      "object_fit": null,
      "object_position": null,
      "order": null,
      "overflow": null,
      "overflow_x": null,
      "overflow_y": null,
      "padding": null,
      "right": null,
      "top": null,
      "visibility": "hidden",
      "width": null
     }
    },
    "095475ea94c0495296e71a9ee8ba4345": {
     "model_module": "@jupyter-widgets/base",
     "model_module_version": "1.2.0",
     "model_name": "LayoutModel",
     "state": {
      "_model_module": "@jupyter-widgets/base",
      "_model_module_version": "1.2.0",
      "_model_name": "LayoutModel",
      "_view_count": null,
      "_view_module": "@jupyter-widgets/base",
      "_view_module_version": "1.2.0",
      "_view_name": "LayoutView",
      "align_content": null,
      "align_items": null,
      "align_self": null,
      "border": null,
      "bottom": null,
      "display": null,
      "flex": null,
      "flex_flow": null,
      "grid_area": null,
      "grid_auto_columns": null,
      "grid_auto_flow": null,
      "grid_auto_rows": null,
      "grid_column": null,
      "grid_gap": null,
      "grid_row": null,
      "grid_template_areas": null,
      "grid_template_columns": null,
      "grid_template_rows": null,
      "height": null,
      "justify_content": null,
      "justify_items": null,
      "left": null,
      "margin": null,
      "max_height": null,
      "max_width": null,
      "min_height": null,
      "min_width": null,
      "object_fit": null,
      "object_position": null,
      "order": null,
      "overflow": null,
      "overflow_x": null,
      "overflow_y": null,
      "padding": null,
      "right": null,
      "top": null,
      "visibility": null,
      "width": null
     }
    },
    "0de36f3048634b4fa291f2224f964cb0": {
     "model_module": "@jupyter-widgets/controls",
     "model_module_version": "1.5.0",
     "model_name": "HTMLModel",
     "state": {
      "_dom_classes": [],
      "_model_module": "@jupyter-widgets/controls",
      "_model_module_version": "1.5.0",
      "_model_name": "HTMLModel",
      "_view_count": null,
      "_view_module": "@jupyter-widgets/controls",
      "_view_module_version": "1.5.0",
      "_view_name": "HTMLView",
      "description": "",
      "description_tooltip": null,
      "layout": "IPY_MODEL_b323382fd3994c8cbd63a5b937ee0d13",
      "placeholder": "​",
      "style": "IPY_MODEL_71f0d06dede74ad2bb76adf9cf9216d7",
      "value": " 0/0 [00:00&lt;?, ? examples/s]"
     }
    },
    "0fa6ced6fb03445e83b219cc5a5a3b45": {
     "model_module": "@jupyter-widgets/base",
     "model_module_version": "1.2.0",
     "model_name": "LayoutModel",
     "state": {
      "_model_module": "@jupyter-widgets/base",
      "_model_module_version": "1.2.0",
      "_model_name": "LayoutModel",
      "_view_count": null,
      "_view_module": "@jupyter-widgets/base",
      "_view_module_version": "1.2.0",
      "_view_name": "LayoutView",
      "align_content": null,
      "align_items": null,
      "align_self": null,
      "border": null,
      "bottom": null,
      "display": null,
      "flex": null,
      "flex_flow": null,
      "grid_area": null,
      "grid_auto_columns": null,
      "grid_auto_flow": null,
      "grid_auto_rows": null,
      "grid_column": null,
      "grid_gap": null,
      "grid_row": null,
      "grid_template_areas": null,
      "grid_template_columns": null,
      "grid_template_rows": null,
      "height": null,
      "justify_content": null,
      "justify_items": null,
      "left": null,
      "margin": null,
      "max_height": null,
      "max_width": null,
      "min_height": null,
      "min_width": null,
      "object_fit": null,
      "object_position": null,
      "order": null,
      "overflow": null,
      "overflow_x": null,
      "overflow_y": null,
      "padding": null,
      "right": null,
      "top": null,
      "visibility": "hidden",
      "width": null
     }
    },
    "11008dbc7fc446e1ad2ef75274b2c3d9": {
     "model_module": "@jupyter-widgets/base",
     "model_module_version": "1.2.0",
     "model_name": "LayoutModel",
     "state": {
      "_model_module": "@jupyter-widgets/base",
      "_model_module_version": "1.2.0",
      "_model_name": "LayoutModel",
      "_view_count": null,
      "_view_module": "@jupyter-widgets/base",
      "_view_module_version": "1.2.0",
      "_view_name": "LayoutView",
      "align_content": null,
      "align_items": null,
      "align_self": null,
      "border": null,
      "bottom": null,
      "display": null,
      "flex": null,
      "flex_flow": null,
      "grid_area": null,
      "grid_auto_columns": null,
      "grid_auto_flow": null,
      "grid_auto_rows": null,
      "grid_column": null,
      "grid_gap": null,
      "grid_row": null,
      "grid_template_areas": null,
      "grid_template_columns": null,
      "grid_template_rows": null,
      "height": null,
      "justify_content": null,
      "justify_items": null,
      "left": null,
      "margin": null,
      "max_height": null,
      "max_width": null,
      "min_height": null,
      "min_width": null,
      "object_fit": null,
      "object_position": null,
      "order": null,
      "overflow": null,
      "overflow_x": null,
      "overflow_y": null,
      "padding": null,
      "right": null,
      "top": null,
      "visibility": null,
      "width": null
     }
    },
    "129bd4558053439387a8cfd72246922b": {
     "model_module": "@jupyter-widgets/controls",
     "model_module_version": "1.5.0",
     "model_name": "FloatProgressModel",
     "state": {
      "_dom_classes": [],
      "_model_module": "@jupyter-widgets/controls",
      "_model_module_version": "1.5.0",
      "_model_name": "FloatProgressModel",
      "_view_count": null,
      "_view_module": "@jupyter-widgets/controls",
      "_view_module_version": "1.5.0",
      "_view_name": "ProgressView",
      "bar_style": "success",
      "description": "",
      "description_tooltip": null,
      "layout": "IPY_MODEL_11008dbc7fc446e1ad2ef75274b2c3d9",
      "max": 65022,
      "min": 0,
      "orientation": "horizontal",
      "style": "IPY_MODEL_e5907f2d7583473abe9ebc6737101e22",
      "value": 65022
     }
    },
    "14fb8d9e204441c7aac3d198410fd8e0": {
     "model_module": "@jupyter-widgets/controls",
     "model_module_version": "1.5.0",
     "model_name": "HBoxModel",
     "state": {
      "_dom_classes": [],
      "_model_module": "@jupyter-widgets/controls",
      "_model_module_version": "1.5.0",
      "_model_name": "HBoxModel",
      "_view_count": null,
      "_view_module": "@jupyter-widgets/controls",
      "_view_module_version": "1.5.0",
      "_view_name": "HBoxView",
      "box_style": "",
      "children": [
       "IPY_MODEL_868d0cb8a5c84d66a535eddc86500496",
       "IPY_MODEL_eb4105ae520340179736bae1ac6261e5",
       "IPY_MODEL_05267914729c42738af8240c529d5b18"
      ],
      "layout": "IPY_MODEL_0736c6b35a1641cb89734d2cc259e183"
     }
    },
    "1ac079bd949f4c978381ed30f89475d5": {
     "model_module": "@jupyter-widgets/controls",
     "model_module_version": "1.5.0",
     "model_name": "HTMLModel",
     "state": {
      "_dom_classes": [],
      "_model_module": "@jupyter-widgets/controls",
      "_model_module_version": "1.5.0",
      "_model_name": "HTMLModel",
      "_view_count": null,
      "_view_module": "@jupyter-widgets/controls",
      "_view_module_version": "1.5.0",
      "_view_name": "HTMLView",
      "description": "",
      "description_tooltip": null,
      "layout": "IPY_MODEL_31e0018597804f60837900c6549f34c9",
      "placeholder": "​",
      "style": "IPY_MODEL_6f820e8ca8b74be7b613fd8fd0a9c216",
      "value": " 700/700 [00:00&lt;00:00, 3452.54ex/s]"
     }
    },
    "1cd05ef1e456461e87d0fdab3a1610a4": {
     "model_module": "@jupyter-widgets/controls",
     "model_module_version": "1.5.0",
     "model_name": "ProgressStyleModel",
     "state": {
      "_model_module": "@jupyter-widgets/controls",
      "_model_module_version": "1.5.0",
      "_model_name": "ProgressStyleModel",
      "_view_count": null,
      "_view_module": "@jupyter-widgets/base",
      "_view_module_version": "1.2.0",
      "_view_name": "StyleView",
      "bar_color": null,
      "description_width": ""
     }
    },
    "1d1b27ab9da7478d9881f5e231c18d6e": {
     "model_module": "@jupyter-widgets/controls",
     "model_module_version": "1.5.0",
     "model_name": "HTMLModel",
     "state": {
      "_dom_classes": [],
      "_model_module": "@jupyter-widgets/controls",
      "_model_module_version": "1.5.0",
      "_model_name": "HTMLModel",
      "_view_count": null,
      "_view_module": "@jupyter-widgets/controls",
      "_view_module_version": "1.5.0",
      "_view_name": "HTMLView",
      "description": "",
      "description_tooltip": null,
      "layout": "IPY_MODEL_095475ea94c0495296e71a9ee8ba4345",
      "placeholder": "​",
      "style": "IPY_MODEL_c3c35882ae3f4a989a721721c24745c1",
      "value": "100%"
     }
    },
    "1efa6961873a499db53115cbe3111799": {
     "model_module": "@jupyter-widgets/base",
     "model_module_version": "1.2.0",
     "model_name": "LayoutModel",
     "state": {
      "_model_module": "@jupyter-widgets/base",
      "_model_module_version": "1.2.0",
      "_model_name": "LayoutModel",
      "_view_count": null,
      "_view_module": "@jupyter-widgets/base",
      "_view_module_version": "1.2.0",
      "_view_name": "LayoutView",
      "align_content": null,
      "align_items": null,
      "align_self": null,
      "border": null,
      "bottom": null,
      "display": null,
      "flex": null,
      "flex_flow": null,
      "grid_area": null,
      "grid_auto_columns": null,
      "grid_auto_flow": null,
      "grid_auto_rows": null,
      "grid_column": null,
      "grid_gap": null,
      "grid_row": null,
      "grid_template_areas": null,
      "grid_template_columns": null,
      "grid_template_rows": null,
      "height": null,
      "justify_content": null,
      "justify_items": null,
      "left": null,
      "margin": null,
      "max_height": null,
      "max_width": null,
      "min_height": null,
      "min_width": null,
      "object_fit": null,
      "object_position": null,
      "order": null,
      "overflow": null,
      "overflow_x": null,
      "overflow_y": null,
      "padding": null,
      "right": null,
      "top": null,
      "visibility": null,
      "width": null
     }
    },
    "1f3d6d38e141410cbf10fa77d4b4d7a6": {
     "model_module": "@jupyter-widgets/base",
     "model_module_version": "1.2.0",
     "model_name": "LayoutModel",
     "state": {
      "_model_module": "@jupyter-widgets/base",
      "_model_module_version": "1.2.0",
      "_model_name": "LayoutModel",
      "_view_count": null,
      "_view_module": "@jupyter-widgets/base",
      "_view_module_version": "1.2.0",
      "_view_name": "LayoutView",
      "align_content": null,
      "align_items": null,
      "align_self": null,
      "border": null,
      "bottom": null,
      "display": null,
      "flex": null,
      "flex_flow": null,
      "grid_area": null,
      "grid_auto_columns": null,
      "grid_auto_flow": null,
      "grid_auto_rows": null,
      "grid_column": null,
      "grid_gap": null,
      "grid_row": null,
      "grid_template_areas": null,
      "grid_template_columns": null,
      "grid_template_rows": null,
      "height": null,
      "justify_content": null,
      "justify_items": null,
      "left": null,
      "margin": null,
      "max_height": null,
      "max_width": null,
      "min_height": null,
      "min_width": null,
      "object_fit": null,
      "object_position": null,
      "order": null,
      "overflow": null,
      "overflow_x": null,
      "overflow_y": null,
      "padding": null,
      "right": null,
      "top": null,
      "visibility": null,
      "width": null
     }
    },
    "226818cd8700433b946a43d58e0a8761": {
     "model_module": "@jupyter-widgets/controls",
     "model_module_version": "1.5.0",
     "model_name": "HBoxModel",
     "state": {
      "_dom_classes": [],
      "_model_module": "@jupyter-widgets/controls",
      "_model_module_version": "1.5.0",
      "_model_name": "HBoxModel",
      "_view_count": null,
      "_view_module": "@jupyter-widgets/controls",
      "_view_module_version": "1.5.0",
      "_view_name": "HBoxView",
      "box_style": "",
      "children": [
       "IPY_MODEL_03484cbaa5404acd83da7c0d6f4c7503",
       "IPY_MODEL_8f1123bafea342bdbf0649b02e935211",
       "IPY_MODEL_4d7ce9979b164e8d9c49d421f0664707"
      ],
      "layout": "IPY_MODEL_449447e60af74e03a9b5b59e5c8201d7"
     }
    },
    "28a28f62339f4b8e99742a096e674f57": {
     "model_module": "@jupyter-widgets/controls",
     "model_module_version": "1.5.0",
     "model_name": "DescriptionStyleModel",
     "state": {
      "_model_module": "@jupyter-widgets/controls",
      "_model_module_version": "1.5.0",
      "_model_name": "DescriptionStyleModel",
      "_view_count": null,
      "_view_module": "@jupyter-widgets/base",
      "_view_module_version": "1.2.0",
      "_view_name": "StyleView",
      "description_width": ""
     }
    },
    "28ea382472c7435f821caea5e9ddcdb0": {
     "model_module": "@jupyter-widgets/controls",
     "model_module_version": "1.5.0",
     "model_name": "DescriptionStyleModel",
     "state": {
      "_model_module": "@jupyter-widgets/controls",
      "_model_module_version": "1.5.0",
      "_model_name": "DescriptionStyleModel",
      "_view_count": null,
      "_view_module": "@jupyter-widgets/base",
      "_view_module_version": "1.2.0",
      "_view_name": "StyleView",
      "description_width": ""
     }
    },
    "29e4b0caaf85434cbcfe9a86c1bc3f94": {
     "model_module": "@jupyter-widgets/base",
     "model_module_version": "1.2.0",
     "model_name": "LayoutModel",
     "state": {
      "_model_module": "@jupyter-widgets/base",
      "_model_module_version": "1.2.0",
      "_model_name": "LayoutModel",
      "_view_count": null,
      "_view_module": "@jupyter-widgets/base",
      "_view_module_version": "1.2.0",
      "_view_name": "LayoutView",
      "align_content": null,
      "align_items": null,
      "align_self": null,
      "border": null,
      "bottom": null,
      "display": null,
      "flex": null,
      "flex_flow": null,
      "grid_area": null,
      "grid_auto_columns": null,
      "grid_auto_flow": null,
      "grid_auto_rows": null,
      "grid_column": null,
      "grid_gap": null,
      "grid_row": null,
      "grid_template_areas": null,
      "grid_template_columns": null,
      "grid_template_rows": null,
      "height": null,
      "justify_content": null,
      "justify_items": null,
      "left": null,
      "margin": null,
      "max_height": null,
      "max_width": null,
      "min_height": null,
      "min_width": null,
      "object_fit": null,
      "object_position": null,
      "order": null,
      "overflow": null,
      "overflow_x": null,
      "overflow_y": null,
      "padding": null,
      "right": null,
      "top": null,
      "visibility": null,
      "width": null
     }
    },
    "2a23e14f868d495da067bfffab3cd6a9": {
     "model_module": "@jupyter-widgets/controls",
     "model_module_version": "1.5.0",
     "model_name": "DescriptionStyleModel",
     "state": {
      "_model_module": "@jupyter-widgets/controls",
      "_model_module_version": "1.5.0",
      "_model_name": "DescriptionStyleModel",
      "_view_count": null,
      "_view_module": "@jupyter-widgets/base",
      "_view_module_version": "1.2.0",
      "_view_name": "StyleView",
      "description_width": ""
     }
    },
    "2f1c701a903f4cf1bb7b2a265cbf7e94": {
     "model_module": "@jupyter-widgets/base",
     "model_module_version": "1.2.0",
     "model_name": "LayoutModel",
     "state": {
      "_model_module": "@jupyter-widgets/base",
      "_model_module_version": "1.2.0",
      "_model_name": "LayoutModel",
      "_view_count": null,
      "_view_module": "@jupyter-widgets/base",
      "_view_module_version": "1.2.0",
      "_view_name": "LayoutView",
      "align_content": null,
      "align_items": null,
      "align_self": null,
      "border": null,
      "bottom": null,
      "display": null,
      "flex": null,
      "flex_flow": null,
      "grid_area": null,
      "grid_auto_columns": null,
      "grid_auto_flow": null,
      "grid_auto_rows": null,
      "grid_column": null,
      "grid_gap": null,
      "grid_row": null,
      "grid_template_areas": null,
      "grid_template_columns": null,
      "grid_template_rows": null,
      "height": null,
      "justify_content": null,
      "justify_items": null,
      "left": null,
      "margin": null,
      "max_height": null,
      "max_width": null,
      "min_height": null,
      "min_width": null,
      "object_fit": null,
      "object_position": null,
      "order": null,
      "overflow": null,
      "overflow_x": null,
      "overflow_y": null,
      "padding": null,
      "right": null,
      "top": null,
      "visibility": null,
      "width": null
     }
    },
    "3013deb09a7d428dafb0dc3fc19419f8": {
     "model_module": "@jupyter-widgets/controls",
     "model_module_version": "1.5.0",
     "model_name": "DescriptionStyleModel",
     "state": {
      "_model_module": "@jupyter-widgets/controls",
      "_model_module_version": "1.5.0",
      "_model_name": "DescriptionStyleModel",
      "_view_count": null,
      "_view_module": "@jupyter-widgets/base",
      "_view_module_version": "1.2.0",
      "_view_name": "StyleView",
      "description_width": ""
     }
    },
    "31e0018597804f60837900c6549f34c9": {
     "model_module": "@jupyter-widgets/base",
     "model_module_version": "1.2.0",
     "model_name": "LayoutModel",
     "state": {
      "_model_module": "@jupyter-widgets/base",
      "_model_module_version": "1.2.0",
      "_model_name": "LayoutModel",
      "_view_count": null,
      "_view_module": "@jupyter-widgets/base",
      "_view_module_version": "1.2.0",
      "_view_name": "LayoutView",
      "align_content": null,
      "align_items": null,
      "align_self": null,
      "border": null,
      "bottom": null,
      "display": null,
      "flex": null,
      "flex_flow": null,
      "grid_area": null,
      "grid_auto_columns": null,
      "grid_auto_flow": null,
      "grid_auto_rows": null,
      "grid_column": null,
      "grid_gap": null,
      "grid_row": null,
      "grid_template_areas": null,
      "grid_template_columns": null,
      "grid_template_rows": null,
      "height": null,
      "justify_content": null,
      "justify_items": null,
      "left": null,
      "margin": null,
      "max_height": null,
      "max_width": null,
      "min_height": null,
      "min_width": null,
      "object_fit": null,
      "object_position": null,
      "order": null,
      "overflow": null,
      "overflow_x": null,
      "overflow_y": null,
      "padding": null,
      "right": null,
      "top": null,
      "visibility": null,
      "width": null
     }
    },
    "378f39c0f3e645cca057abe981a30249": {
     "model_module": "@jupyter-widgets/base",
     "model_module_version": "1.2.0",
     "model_name": "LayoutModel",
     "state": {
      "_model_module": "@jupyter-widgets/base",
      "_model_module_version": "1.2.0",
      "_model_name": "LayoutModel",
      "_view_count": null,
      "_view_module": "@jupyter-widgets/base",
      "_view_module_version": "1.2.0",
      "_view_name": "LayoutView",
      "align_content": null,
      "align_items": null,
      "align_self": null,
      "border": null,
      "bottom": null,
      "display": null,
      "flex": null,
      "flex_flow": null,
      "grid_area": null,
      "grid_auto_columns": null,
      "grid_auto_flow": null,
      "grid_auto_rows": null,
      "grid_column": null,
      "grid_gap": null,
      "grid_row": null,
      "grid_template_areas": null,
      "grid_template_columns": null,
      "grid_template_rows": null,
      "height": null,
      "justify_content": null,
      "justify_items": null,
      "left": null,
      "margin": null,
      "max_height": null,
      "max_width": null,
      "min_height": null,
      "min_width": null,
      "object_fit": null,
      "object_position": null,
      "order": null,
      "overflow": null,
      "overflow_x": null,
      "overflow_y": null,
      "padding": null,
      "right": null,
      "top": null,
      "visibility": null,
      "width": null
     }
    },
    "388fe7e54a3b46dcb08d87eaf632ee90": {
     "model_module": "@jupyter-widgets/controls",
     "model_module_version": "1.5.0",
     "model_name": "HTMLModel",
     "state": {
      "_dom_classes": [],
      "_model_module": "@jupyter-widgets/controls",
      "_model_module_version": "1.5.0",
      "_model_name": "HTMLModel",
      "_view_count": null,
      "_view_module": "@jupyter-widgets/controls",
      "_view_module_version": "1.5.0",
      "_view_name": "HTMLView",
      "description": "",
      "description_tooltip": null,
      "layout": "IPY_MODEL_29e4b0caaf85434cbcfe9a86c1bc3f94",
      "placeholder": "​",
      "style": "IPY_MODEL_678122ccb4ea4794924cc23e1aed8ffb",
      "value": "Generating train split: "
     }
    },
    "3a49fa7fe0fc4724b9d80c8573b81246": {
     "model_module": "@jupyter-widgets/base",
     "model_module_version": "1.2.0",
     "model_name": "LayoutModel",
     "state": {
      "_model_module": "@jupyter-widgets/base",
      "_model_module_version": "1.2.0",
      "_model_name": "LayoutModel",
      "_view_count": null,
      "_view_module": "@jupyter-widgets/base",
      "_view_module_version": "1.2.0",
      "_view_name": "LayoutView",
      "align_content": null,
      "align_items": null,
      "align_self": null,
      "border": null,
      "bottom": null,
      "display": null,
      "flex": null,
      "flex_flow": null,
      "grid_area": null,
      "grid_auto_columns": null,
      "grid_auto_flow": null,
      "grid_auto_rows": null,
      "grid_column": null,
      "grid_gap": null,
      "grid_row": null,
      "grid_template_areas": null,
      "grid_template_columns": null,
      "grid_template_rows": null,
      "height": null,
      "justify_content": null,
      "justify_items": null,
      "left": null,
      "margin": null,
      "max_height": null,
      "max_width": null,
      "min_height": null,
      "min_width": null,
      "object_fit": null,
      "object_position": null,
      "order": null,
      "overflow": null,
      "overflow_x": null,
      "overflow_y": null,
      "padding": null,
      "right": null,
      "top": null,
      "visibility": null,
      "width": null
     }
    },
    "3b287b54a39145b9ad0fb30a14440fa3": {
     "model_module": "@jupyter-widgets/controls",
     "model_module_version": "1.5.0",
     "model_name": "FloatProgressModel",
     "state": {
      "_dom_classes": [],
      "_model_module": "@jupyter-widgets/controls",
      "_model_module_version": "1.5.0",
      "_model_name": "FloatProgressModel",
      "_view_count": null,
      "_view_module": "@jupyter-widgets/controls",
      "_view_module_version": "1.5.0",
      "_view_name": "ProgressView",
      "bar_style": "success",
      "description": "",
      "description_tooltip": null,
      "layout": "IPY_MODEL_1f3d6d38e141410cbf10fa77d4b4d7a6",
      "max": 3,
      "min": 0,
      "orientation": "horizontal",
      "style": "IPY_MODEL_5b3aa1e5f40e431aa74dbebaa427fa88",
      "value": 3
     }
    },
    "3df469ef111b4f89aaece44f9510496b": {
     "model_module": "@jupyter-widgets/controls",
     "model_module_version": "1.5.0",
     "model_name": "ProgressStyleModel",
     "state": {
      "_model_module": "@jupyter-widgets/controls",
      "_model_module_version": "1.5.0",
      "_model_name": "ProgressStyleModel",
      "_view_count": null,
      "_view_module": "@jupyter-widgets/base",
      "_view_module_version": "1.2.0",
      "_view_name": "StyleView",
      "bar_color": null,
      "description_width": ""
     }
    },
    "3f3a1baf2930426ea1f700409011b47f": {
     "model_module": "@jupyter-widgets/controls",
     "model_module_version": "1.5.0",
     "model_name": "DescriptionStyleModel",
     "state": {
      "_model_module": "@jupyter-widgets/controls",
      "_model_module_version": "1.5.0",
      "_model_name": "DescriptionStyleModel",
      "_view_count": null,
      "_view_module": "@jupyter-widgets/base",
      "_view_module_version": "1.2.0",
      "_view_name": "StyleView",
      "description_width": ""
     }
    },
    "4455d79dd9cf4a2688466006d05b7580": {
     "model_module": "@jupyter-widgets/base",
     "model_module_version": "1.2.0",
     "model_name": "LayoutModel",
     "state": {
      "_model_module": "@jupyter-widgets/base",
      "_model_module_version": "1.2.0",
      "_model_name": "LayoutModel",
      "_view_count": null,
      "_view_module": "@jupyter-widgets/base",
      "_view_module_version": "1.2.0",
      "_view_name": "LayoutView",
      "align_content": null,
      "align_items": null,
      "align_self": null,
      "border": null,
      "bottom": null,
      "display": null,
      "flex": null,
      "flex_flow": null,
      "grid_area": null,
      "grid_auto_columns": null,
      "grid_auto_flow": null,
      "grid_auto_rows": null,
      "grid_column": null,
      "grid_gap": null,
      "grid_row": null,
      "grid_template_areas": null,
      "grid_template_columns": null,
      "grid_template_rows": null,
      "height": null,
      "justify_content": null,
      "justify_items": null,
      "left": null,
      "margin": null,
      "max_height": null,
      "max_width": null,
      "min_height": null,
      "min_width": null,
      "object_fit": null,
      "object_position": null,
      "order": null,
      "overflow": null,
      "overflow_x": null,
      "overflow_y": null,
      "padding": null,
      "right": null,
      "top": null,
      "visibility": null,
      "width": null
     }
    },
    "449447e60af74e03a9b5b59e5c8201d7": {
     "model_module": "@jupyter-widgets/base",
     "model_module_version": "1.2.0",
     "model_name": "LayoutModel",
     "state": {
      "_model_module": "@jupyter-widgets/base",
      "_model_module_version": "1.2.0",
      "_model_name": "LayoutModel",
      "_view_count": null,
      "_view_module": "@jupyter-widgets/base",
      "_view_module_version": "1.2.0",
      "_view_name": "LayoutView",
      "align_content": null,
      "align_items": null,
      "align_self": null,
      "border": null,
      "bottom": null,
      "display": null,
      "flex": null,
      "flex_flow": null,
      "grid_area": null,
      "grid_auto_columns": null,
      "grid_auto_flow": null,
      "grid_auto_rows": null,
      "grid_column": null,
      "grid_gap": null,
      "grid_row": null,
      "grid_template_areas": null,
      "grid_template_columns": null,
      "grid_template_rows": null,
      "height": null,
      "justify_content": null,
      "justify_items": null,
      "left": null,
      "margin": null,
      "max_height": null,
      "max_width": null,
      "min_height": null,
      "min_width": null,
      "object_fit": null,
      "object_position": null,
      "order": null,
      "overflow": null,
      "overflow_x": null,
      "overflow_y": null,
      "padding": null,
      "right": null,
      "top": null,
      "visibility": null,
      "width": null
     }
    },
    "4a9014b38fa54bfda365218921f10bba": {
     "model_module": "@jupyter-widgets/controls",
     "model_module_version": "1.5.0",
     "model_name": "HTMLModel",
     "state": {
      "_dom_classes": [],
      "_model_module": "@jupyter-widgets/controls",
      "_model_module_version": "1.5.0",
      "_model_name": "HTMLModel",
      "_view_count": null,
      "_view_module": "@jupyter-widgets/controls",
      "_view_module_version": "1.5.0",
      "_view_name": "HTMLView",
      "description": "",
      "description_tooltip": null,
      "layout": "IPY_MODEL_8bd5d43e93e847568721e90caadef7c8",
      "placeholder": "​",
      "style": "IPY_MODEL_abd7ede249a34820a5771e65ec104859",
      "value": " 3/3 [00:00&lt;00:00, 103.18it/s]"
     }
    },
    "4d7c4eeea054412cb9231eec6d3172f4": {
     "model_module": "@jupyter-widgets/controls",
     "model_module_version": "1.5.0",
     "model_name": "HTMLModel",
     "state": {
      "_dom_classes": [],
      "_model_module": "@jupyter-widgets/controls",
      "_model_module_version": "1.5.0",
      "_model_name": "HTMLModel",
      "_view_count": null,
      "_view_module": "@jupyter-widgets/controls",
      "_view_module_version": "1.5.0",
      "_view_name": "HTMLView",
      "description": "",
      "description_tooltip": null,
      "layout": "IPY_MODEL_4455d79dd9cf4a2688466006d05b7580",
      "placeholder": "​",
      "style": "IPY_MODEL_2a23e14f868d495da067bfffab3cd6a9",
      "value": "Generating val split: "
     }
    },
    "4d7ce9979b164e8d9c49d421f0664707": {
     "model_module": "@jupyter-widgets/controls",
     "model_module_version": "1.5.0",
     "model_name": "HTMLModel",
     "state": {
      "_dom_classes": [],
      "_model_module": "@jupyter-widgets/controls",
      "_model_module_version": "1.5.0",
      "_model_name": "HTMLModel",
      "_view_count": null,
      "_view_module": "@jupyter-widgets/controls",
      "_view_module_version": "1.5.0",
      "_view_name": "HTMLView",
      "description": "",
      "description_tooltip": null,
      "layout": "IPY_MODEL_ce171dcd49b743dfbd6703c8ff94c8f0",
      "placeholder": "​",
      "style": "IPY_MODEL_75f56488450d4d5e83f721af42b3000d",
      "value": " 3/3 [00:00&lt;00:00, 99.49it/s]"
     }
    },
    "4e181d48506d4f25ac7c9b6249f20ac0": {
     "model_module": "@jupyter-widgets/base",
     "model_module_version": "1.2.0",
     "model_name": "LayoutModel",
     "state": {
      "_model_module": "@jupyter-widgets/base",
      "_model_module_version": "1.2.0",
      "_model_name": "LayoutModel",
      "_view_count": null,
      "_view_module": "@jupyter-widgets/base",
      "_view_module_version": "1.2.0",
      "_view_name": "LayoutView",
      "align_content": null,
      "align_items": null,
      "align_self": null,
      "border": null,
      "bottom": null,
      "display": null,
      "flex": null,
      "flex_flow": null,
      "grid_area": null,
      "grid_auto_columns": null,
      "grid_auto_flow": null,
      "grid_auto_rows": null,
      "grid_column": null,
      "grid_gap": null,
      "grid_row": null,
      "grid_template_areas": null,
      "grid_template_columns": null,
      "grid_template_rows": null,
      "height": null,
      "justify_content": null,
      "justify_items": null,
      "left": null,
      "margin": null,
      "max_height": null,
      "max_width": null,
      "min_height": null,
      "min_width": null,
      "object_fit": null,
      "object_position": null,
      "order": null,
      "overflow": null,
      "overflow_x": null,
      "overflow_y": null,
      "padding": null,
      "right": null,
      "top": null,
      "visibility": null,
      "width": "20px"
     }
    },
    "4ee3d701e0e54cada37bb0df1c656cbd": {
     "model_module": "@jupyter-widgets/base",
     "model_module_version": "1.2.0",
     "model_name": "LayoutModel",
     "state": {
      "_model_module": "@jupyter-widgets/base",
      "_model_module_version": "1.2.0",
      "_model_name": "LayoutModel",
      "_view_count": null,
      "_view_module": "@jupyter-widgets/base",
      "_view_module_version": "1.2.0",
      "_view_name": "LayoutView",
      "align_content": null,
      "align_items": null,
      "align_self": null,
      "border": null,
      "bottom": null,
      "display": null,
      "flex": null,
      "flex_flow": null,
      "grid_area": null,
      "grid_auto_columns": null,
      "grid_auto_flow": null,
      "grid_auto_rows": null,
      "grid_column": null,
      "grid_gap": null,
      "grid_row": null,
      "grid_template_areas": null,
      "grid_template_columns": null,
      "grid_template_rows": null,
      "height": null,
      "justify_content": null,
      "justify_items": null,
      "left": null,
      "margin": null,
      "max_height": null,
      "max_width": null,
      "min_height": null,
      "min_width": null,
      "object_fit": null,
      "object_position": null,
      "order": null,
      "overflow": null,
      "overflow_x": null,
      "overflow_y": null,
      "padding": null,
      "right": null,
      "top": null,
      "visibility": null,
      "width": null
     }
    },
    "52d96a4fffc14a1db381947b93b0edec": {
     "model_module": "@jupyter-widgets/controls",
     "model_module_version": "1.5.0",
     "model_name": "HTMLModel",
     "state": {
      "_dom_classes": [],
      "_model_module": "@jupyter-widgets/controls",
      "_model_module_version": "1.5.0",
      "_model_name": "HTMLModel",
      "_view_count": null,
      "_view_module": "@jupyter-widgets/controls",
      "_view_module_version": "1.5.0",
      "_view_name": "HTMLView",
      "description": "",
      "description_tooltip": null,
      "layout": "IPY_MODEL_8790fc20e28444198c65d02cf505bc65",
      "placeholder": "​",
      "style": "IPY_MODEL_3f3a1baf2930426ea1f700409011b47f",
      "value": " 65022/65022 [00:41&lt;00:00, 3949.20ex/s]"
     }
    },
    "559fa1efbc0548379636d6c9addc6e82": {
     "model_module": "@jupyter-widgets/controls",
     "model_module_version": "1.5.0",
     "model_name": "DescriptionStyleModel",
     "state": {
      "_model_module": "@jupyter-widgets/controls",
      "_model_module_version": "1.5.0",
      "_model_name": "DescriptionStyleModel",
      "_view_count": null,
      "_view_module": "@jupyter-widgets/base",
      "_view_module_version": "1.2.0",
      "_view_name": "StyleView",
      "description_width": ""
     }
    },
    "5b3aa1e5f40e431aa74dbebaa427fa88": {
     "model_module": "@jupyter-widgets/controls",
     "model_module_version": "1.5.0",
     "model_name": "ProgressStyleModel",
     "state": {
      "_model_module": "@jupyter-widgets/controls",
      "_model_module_version": "1.5.0",
      "_model_name": "ProgressStyleModel",
      "_view_count": null,
      "_view_module": "@jupyter-widgets/base",
      "_view_module_version": "1.2.0",
      "_view_name": "StyleView",
      "bar_color": null,
      "description_width": ""
     }
    },
    "5c10d2835a2b4cf1b7a5211f0a26f4e2": {
     "model_module": "@jupyter-widgets/base",
     "model_module_version": "1.2.0",
     "model_name": "LayoutModel",
     "state": {
      "_model_module": "@jupyter-widgets/base",
      "_model_module_version": "1.2.0",
      "_model_name": "LayoutModel",
      "_view_count": null,
      "_view_module": "@jupyter-widgets/base",
      "_view_module_version": "1.2.0",
      "_view_name": "LayoutView",
      "align_content": null,
      "align_items": null,
      "align_self": null,
      "border": null,
      "bottom": null,
      "display": null,
      "flex": null,
      "flex_flow": null,
      "grid_area": null,
      "grid_auto_columns": null,
      "grid_auto_flow": null,
      "grid_auto_rows": null,
      "grid_column": null,
      "grid_gap": null,
      "grid_row": null,
      "grid_template_areas": null,
      "grid_template_columns": null,
      "grid_template_rows": null,
      "height": null,
      "justify_content": null,
      "justify_items": null,
      "left": null,
      "margin": null,
      "max_height": null,
      "max_width": null,
      "min_height": null,
      "min_width": null,
      "object_fit": null,
      "object_position": null,
      "order": null,
      "overflow": null,
      "overflow_x": null,
      "overflow_y": null,
      "padding": null,
      "right": null,
      "top": null,
      "visibility": null,
      "width": null
     }
    },
    "61c3454d74ab41aaa8bce042fbd9a187": {
     "model_module": "@jupyter-widgets/base",
     "model_module_version": "1.2.0",
     "model_name": "LayoutModel",
     "state": {
      "_model_module": "@jupyter-widgets/base",
      "_model_module_version": "1.2.0",
      "_model_name": "LayoutModel",
      "_view_count": null,
      "_view_module": "@jupyter-widgets/base",
      "_view_module_version": "1.2.0",
      "_view_name": "LayoutView",
      "align_content": null,
      "align_items": null,
      "align_self": null,
      "border": null,
      "bottom": null,
      "display": null,
      "flex": null,
      "flex_flow": null,
      "grid_area": null,
      "grid_auto_columns": null,
      "grid_auto_flow": null,
      "grid_auto_rows": null,
      "grid_column": null,
      "grid_gap": null,
      "grid_row": null,
      "grid_template_areas": null,
      "grid_template_columns": null,
      "grid_template_rows": null,
      "height": null,
      "justify_content": null,
      "justify_items": null,
      "left": null,
      "margin": null,
      "max_height": null,
      "max_width": null,
      "min_height": null,
      "min_width": null,
      "object_fit": null,
      "object_position": null,
      "order": null,
      "overflow": null,
      "overflow_x": null,
      "overflow_y": null,
      "padding": null,
      "right": null,
      "top": null,
      "visibility": null,
      "width": null
     }
    },
    "62a0276fc98a463fa45d3dafcc80db4e": {
     "model_module": "@jupyter-widgets/controls",
     "model_module_version": "1.5.0",
     "model_name": "HTMLModel",
     "state": {
      "_dom_classes": [],
      "_model_module": "@jupyter-widgets/controls",
      "_model_module_version": "1.5.0",
      "_model_name": "HTMLModel",
      "_view_count": null,
      "_view_module": "@jupyter-widgets/controls",
      "_view_module_version": "1.5.0",
      "_view_name": "HTMLView",
      "description": "",
      "description_tooltip": null,
      "layout": "IPY_MODEL_4ee3d701e0e54cada37bb0df1c656cbd",
      "placeholder": "​",
      "style": "IPY_MODEL_28a28f62339f4b8e99742a096e674f57",
      "value": "100%"
     }
    },
    "678122ccb4ea4794924cc23e1aed8ffb": {
     "model_module": "@jupyter-widgets/controls",
     "model_module_version": "1.5.0",
     "model_name": "DescriptionStyleModel",
     "state": {
      "_model_module": "@jupyter-widgets/controls",
      "_model_module_version": "1.5.0",
      "_model_name": "DescriptionStyleModel",
      "_view_count": null,
      "_view_module": "@jupyter-widgets/base",
      "_view_module_version": "1.2.0",
      "_view_name": "StyleView",
      "description_width": ""
     }
    },
    "68107bf381b3411488e44dd6f5bb40de": {
     "model_module": "@jupyter-widgets/base",
     "model_module_version": "1.2.0",
     "model_name": "LayoutModel",
     "state": {
      "_model_module": "@jupyter-widgets/base",
      "_model_module_version": "1.2.0",
      "_model_name": "LayoutModel",
      "_view_count": null,
      "_view_module": "@jupyter-widgets/base",
      "_view_module_version": "1.2.0",
      "_view_name": "LayoutView",
      "align_content": null,
      "align_items": null,
      "align_self": null,
      "border": null,
      "bottom": null,
      "display": null,
      "flex": null,
      "flex_flow": null,
      "grid_area": null,
      "grid_auto_columns": null,
      "grid_auto_flow": null,
      "grid_auto_rows": null,
      "grid_column": null,
      "grid_gap": null,
      "grid_row": null,
      "grid_template_areas": null,
      "grid_template_columns": null,
      "grid_template_rows": null,
      "height": null,
      "justify_content": null,
      "justify_items": null,
      "left": null,
      "margin": null,
      "max_height": null,
      "max_width": null,
      "min_height": null,
      "min_width": null,
      "object_fit": null,
      "object_position": null,
      "order": null,
      "overflow": null,
      "overflow_x": null,
      "overflow_y": null,
      "padding": null,
      "right": null,
      "top": null,
      "visibility": null,
      "width": null
     }
    },
    "6f820e8ca8b74be7b613fd8fd0a9c216": {
     "model_module": "@jupyter-widgets/controls",
     "model_module_version": "1.5.0",
     "model_name": "DescriptionStyleModel",
     "state": {
      "_model_module": "@jupyter-widgets/controls",
      "_model_module_version": "1.5.0",
      "_model_name": "DescriptionStyleModel",
      "_view_count": null,
      "_view_module": "@jupyter-widgets/base",
      "_view_module_version": "1.2.0",
      "_view_name": "StyleView",
      "description_width": ""
     }
    },
    "71f0d06dede74ad2bb76adf9cf9216d7": {
     "model_module": "@jupyter-widgets/controls",
     "model_module_version": "1.5.0",
     "model_name": "DescriptionStyleModel",
     "state": {
      "_model_module": "@jupyter-widgets/controls",
      "_model_module_version": "1.5.0",
      "_model_name": "DescriptionStyleModel",
      "_view_count": null,
      "_view_module": "@jupyter-widgets/base",
      "_view_module_version": "1.2.0",
      "_view_name": "StyleView",
      "description_width": ""
     }
    },
    "75f56488450d4d5e83f721af42b3000d": {
     "model_module": "@jupyter-widgets/controls",
     "model_module_version": "1.5.0",
     "model_name": "DescriptionStyleModel",
     "state": {
      "_model_module": "@jupyter-widgets/controls",
      "_model_module_version": "1.5.0",
      "_model_name": "DescriptionStyleModel",
      "_view_count": null,
      "_view_module": "@jupyter-widgets/base",
      "_view_module_version": "1.2.0",
      "_view_name": "StyleView",
      "description_width": ""
     }
    },
    "777dc799e58845a8b32bfb5a7ddd3bdc": {
     "model_module": "@jupyter-widgets/controls",
     "model_module_version": "1.5.0",
     "model_name": "HBoxModel",
     "state": {
      "_dom_classes": [],
      "_model_module": "@jupyter-widgets/controls",
      "_model_module_version": "1.5.0",
      "_model_name": "HBoxModel",
      "_view_count": null,
      "_view_module": "@jupyter-widgets/controls",
      "_view_module_version": "1.5.0",
      "_view_name": "HBoxView",
      "box_style": "",
      "children": [
       "IPY_MODEL_62a0276fc98a463fa45d3dafcc80db4e",
       "IPY_MODEL_daf753168f0c4052ac41ff2b05bbf889",
       "IPY_MODEL_ed10ba87eab341ae8ab8af17f9daff4b"
      ],
      "layout": "IPY_MODEL_be8ff74b11064d0385fcc17f2305a234"
     }
    },
    "868d0cb8a5c84d66a535eddc86500496": {
     "model_module": "@jupyter-widgets/controls",
     "model_module_version": "1.5.0",
     "model_name": "HTMLModel",
     "state": {
      "_dom_classes": [],
      "_model_module": "@jupyter-widgets/controls",
      "_model_module_version": "1.5.0",
      "_model_name": "HTMLModel",
      "_view_count": null,
      "_view_module": "@jupyter-widgets/controls",
      "_view_module_version": "1.5.0",
      "_view_name": "HTMLView",
      "description": "",
      "description_tooltip": null,
      "layout": "IPY_MODEL_68107bf381b3411488e44dd6f5bb40de",
      "placeholder": "​",
      "style": "IPY_MODEL_559fa1efbc0548379636d6c9addc6e82",
      "value": "Downloading data files: 100%"
     }
    },
    "8790fc20e28444198c65d02cf505bc65": {
     "model_module": "@jupyter-widgets/base",
     "model_module_version": "1.2.0",
     "model_name": "LayoutModel",
     "state": {
      "_model_module": "@jupyter-widgets/base",
      "_model_module_version": "1.2.0",
      "_model_name": "LayoutModel",
      "_view_count": null,
      "_view_module": "@jupyter-widgets/base",
      "_view_module_version": "1.2.0",
      "_view_name": "LayoutView",
      "align_content": null,
      "align_items": null,
      "align_self": null,
      "border": null,
      "bottom": null,
      "display": null,
      "flex": null,
      "flex_flow": null,
      "grid_area": null,
      "grid_auto_columns": null,
      "grid_auto_flow": null,
      "grid_auto_rows": null,
      "grid_column": null,
      "grid_gap": null,
      "grid_row": null,
      "grid_template_areas": null,
      "grid_template_columns": null,
      "grid_template_rows": null,
      "height": null,
      "justify_content": null,
      "justify_items": null,
      "left": null,
      "margin": null,
      "max_height": null,
      "max_width": null,
      "min_height": null,
      "min_width": null,
      "object_fit": null,
      "object_position": null,
      "order": null,
      "overflow": null,
      "overflow_x": null,
      "overflow_y": null,
      "padding": null,
      "right": null,
      "top": null,
      "visibility": null,
      "width": null
     }
    },
    "88d5e75e37344c1d95c88603bff5382e": {
     "model_module": "@jupyter-widgets/controls",
     "model_module_version": "1.5.0",
     "model_name": "DescriptionStyleModel",
     "state": {
      "_model_module": "@jupyter-widgets/controls",
      "_model_module_version": "1.5.0",
      "_model_name": "DescriptionStyleModel",
      "_view_count": null,
      "_view_module": "@jupyter-widgets/base",
      "_view_module_version": "1.2.0",
      "_view_name": "StyleView",
      "description_width": ""
     }
    },
    "8af08cc832714e2083fc09c643113c85": {
     "model_module": "@jupyter-widgets/base",
     "model_module_version": "1.2.0",
     "model_name": "LayoutModel",
     "state": {
      "_model_module": "@jupyter-widgets/base",
      "_model_module_version": "1.2.0",
      "_model_name": "LayoutModel",
      "_view_count": null,
      "_view_module": "@jupyter-widgets/base",
      "_view_module_version": "1.2.0",
      "_view_name": "LayoutView",
      "align_content": null,
      "align_items": null,
      "align_self": null,
      "border": null,
      "bottom": null,
      "display": null,
      "flex": null,
      "flex_flow": null,
      "grid_area": null,
      "grid_auto_columns": null,
      "grid_auto_flow": null,
      "grid_auto_rows": null,
      "grid_column": null,
      "grid_gap": null,
      "grid_row": null,
      "grid_template_areas": null,
      "grid_template_columns": null,
      "grid_template_rows": null,
      "height": null,
      "justify_content": null,
      "justify_items": null,
      "left": null,
      "margin": null,
      "max_height": null,
      "max_width": null,
      "min_height": null,
      "min_width": null,
      "object_fit": null,
      "object_position": null,
      "order": null,
      "overflow": null,
      "overflow_x": null,
      "overflow_y": null,
      "padding": null,
      "right": null,
      "top": null,
      "visibility": null,
      "width": null
     }
    },
    "8af629d4aaa2477fb3f591b50adef6e4": {
     "model_module": "@jupyter-widgets/base",
     "model_module_version": "1.2.0",
     "model_name": "LayoutModel",
     "state": {
      "_model_module": "@jupyter-widgets/base",
      "_model_module_version": "1.2.0",
      "_model_name": "LayoutModel",
      "_view_count": null,
      "_view_module": "@jupyter-widgets/base",
      "_view_module_version": "1.2.0",
      "_view_name": "LayoutView",
      "align_content": null,
      "align_items": null,
      "align_self": null,
      "border": null,
      "bottom": null,
      "display": null,
      "flex": null,
      "flex_flow": null,
      "grid_area": null,
      "grid_auto_columns": null,
      "grid_auto_flow": null,
      "grid_auto_rows": null,
      "grid_column": null,
      "grid_gap": null,
      "grid_row": null,
      "grid_template_areas": null,
      "grid_template_columns": null,
      "grid_template_rows": null,
      "height": null,
      "justify_content": null,
      "justify_items": null,
      "left": null,
      "margin": null,
      "max_height": null,
      "max_width": null,
      "min_height": null,
      "min_width": null,
      "object_fit": null,
      "object_position": null,
      "order": null,
      "overflow": null,
      "overflow_x": null,
      "overflow_y": null,
      "padding": null,
      "right": null,
      "top": null,
      "visibility": null,
      "width": null
     }
    },
    "8bd5d43e93e847568721e90caadef7c8": {
     "model_module": "@jupyter-widgets/base",
     "model_module_version": "1.2.0",
     "model_name": "LayoutModel",
     "state": {
      "_model_module": "@jupyter-widgets/base",
      "_model_module_version": "1.2.0",
      "_model_name": "LayoutModel",
      "_view_count": null,
      "_view_module": "@jupyter-widgets/base",
      "_view_module_version": "1.2.0",
      "_view_name": "LayoutView",
      "align_content": null,
      "align_items": null,
      "align_self": null,
      "border": null,
      "bottom": null,
      "display": null,
      "flex": null,
      "flex_flow": null,
      "grid_area": null,
      "grid_auto_columns": null,
      "grid_auto_flow": null,
      "grid_auto_rows": null,
      "grid_column": null,
      "grid_gap": null,
      "grid_row": null,
      "grid_template_areas": null,
      "grid_template_columns": null,
      "grid_template_rows": null,
      "height": null,
      "justify_content": null,
      "justify_items": null,
      "left": null,
      "margin": null,
      "max_height": null,
      "max_width": null,
      "min_height": null,
      "min_width": null,
      "object_fit": null,
      "object_position": null,
      "order": null,
      "overflow": null,
      "overflow_x": null,
      "overflow_y": null,
      "padding": null,
      "right": null,
      "top": null,
      "visibility": null,
      "width": null
     }
    },
    "8ddc873f331d4ea9ace2dc7cff7aee2c": {
     "model_module": "@jupyter-widgets/base",
     "model_module_version": "1.2.0",
     "model_name": "LayoutModel",
     "state": {
      "_model_module": "@jupyter-widgets/base",
      "_model_module_version": "1.2.0",
      "_model_name": "LayoutModel",
      "_view_count": null,
      "_view_module": "@jupyter-widgets/base",
      "_view_module_version": "1.2.0",
      "_view_name": "LayoutView",
      "align_content": null,
      "align_items": null,
      "align_self": null,
      "border": null,
      "bottom": null,
      "display": null,
      "flex": null,
      "flex_flow": null,
      "grid_area": null,
      "grid_auto_columns": null,
      "grid_auto_flow": null,
      "grid_auto_rows": null,
      "grid_column": null,
      "grid_gap": null,
      "grid_row": null,
      "grid_template_areas": null,
      "grid_template_columns": null,
      "grid_template_rows": null,
      "height": null,
      "justify_content": null,
      "justify_items": null,
      "left": null,
      "margin": null,
      "max_height": null,
      "max_width": null,
      "min_height": null,
      "min_width": null,
      "object_fit": null,
      "object_position": null,
      "order": null,
      "overflow": null,
      "overflow_x": null,
      "overflow_y": null,
      "padding": null,
      "right": null,
      "top": null,
      "visibility": null,
      "width": null
     }
    },
    "8ea22c4159c64858957bf67afbb79d7c": {
     "model_module": "@jupyter-widgets/base",
     "model_module_version": "1.2.0",
     "model_name": "LayoutModel",
     "state": {
      "_model_module": "@jupyter-widgets/base",
      "_model_module_version": "1.2.0",
      "_model_name": "LayoutModel",
      "_view_count": null,
      "_view_module": "@jupyter-widgets/base",
      "_view_module_version": "1.2.0",
      "_view_name": "LayoutView",
      "align_content": null,
      "align_items": null,
      "align_self": null,
      "border": null,
      "bottom": null,
      "display": null,
      "flex": null,
      "flex_flow": null,
      "grid_area": null,
      "grid_auto_columns": null,
      "grid_auto_flow": null,
      "grid_auto_rows": null,
      "grid_column": null,
      "grid_gap": null,
      "grid_row": null,
      "grid_template_areas": null,
      "grid_template_columns": null,
      "grid_template_rows": null,
      "height": null,
      "justify_content": null,
      "justify_items": null,
      "left": null,
      "margin": null,
      "max_height": null,
      "max_width": null,
      "min_height": null,
      "min_width": null,
      "object_fit": null,
      "object_position": null,
      "order": null,
      "overflow": null,
      "overflow_x": null,
      "overflow_y": null,
      "padding": null,
      "right": null,
      "top": null,
      "visibility": null,
      "width": null
     }
    },
    "8f1123bafea342bdbf0649b02e935211": {
     "model_module": "@jupyter-widgets/controls",
     "model_module_version": "1.5.0",
     "model_name": "FloatProgressModel",
     "state": {
      "_dom_classes": [],
      "_model_module": "@jupyter-widgets/controls",
      "_model_module_version": "1.5.0",
      "_model_name": "FloatProgressModel",
      "_view_count": null,
      "_view_module": "@jupyter-widgets/controls",
      "_view_module_version": "1.5.0",
      "_view_name": "ProgressView",
      "bar_style": "success",
      "description": "",
      "description_tooltip": null,
      "layout": "IPY_MODEL_d38d8995a1de4b60bc583e1707b8ce01",
      "max": 3,
      "min": 0,
      "orientation": "horizontal",
      "style": "IPY_MODEL_d84f9724303341669558792fed4084bf",
      "value": 3
     }
    },
    "909cc5af22444f499dffd65e9bb69a3b": {
     "model_module": "@jupyter-widgets/controls",
     "model_module_version": "1.5.0",
     "model_name": "DescriptionStyleModel",
     "state": {
      "_model_module": "@jupyter-widgets/controls",
      "_model_module_version": "1.5.0",
      "_model_name": "DescriptionStyleModel",
      "_view_count": null,
      "_view_module": "@jupyter-widgets/base",
      "_view_module_version": "1.2.0",
      "_view_name": "StyleView",
      "description_width": ""
     }
    },
    "957d1185430c4a6cad352e67ef0c8ab7": {
     "model_module": "@jupyter-widgets/controls",
     "model_module_version": "1.5.0",
     "model_name": "ProgressStyleModel",
     "state": {
      "_model_module": "@jupyter-widgets/controls",
      "_model_module_version": "1.5.0",
      "_model_name": "ProgressStyleModel",
      "_view_count": null,
      "_view_module": "@jupyter-widgets/base",
      "_view_module_version": "1.2.0",
      "_view_name": "StyleView",
      "bar_color": null,
      "description_width": ""
     }
    },
    "958f681b483a493683604a1a11249db2": {
     "model_module": "@jupyter-widgets/controls",
     "model_module_version": "1.5.0",
     "model_name": "HTMLModel",
     "state": {
      "_dom_classes": [],
      "_model_module": "@jupyter-widgets/controls",
      "_model_module_version": "1.5.0",
      "_model_name": "HTMLModel",
      "_view_count": null,
      "_view_module": "@jupyter-widgets/controls",
      "_view_module_version": "1.5.0",
      "_view_name": "HTMLView",
      "description": "",
      "description_tooltip": null,
      "layout": "IPY_MODEL_8af08cc832714e2083fc09c643113c85",
      "placeholder": "​",
      "style": "IPY_MODEL_909cc5af22444f499dffd65e9bb69a3b",
      "value": " 0/0 [00:00&lt;?, ? examples/s]"
     }
    },
    "9f28864365fd4caa84a0a7d2dd91bc74": {
     "model_module": "@jupyter-widgets/controls",
     "model_module_version": "1.5.0",
     "model_name": "ProgressStyleModel",
     "state": {
      "_model_module": "@jupyter-widgets/controls",
      "_model_module_version": "1.5.0",
      "_model_name": "ProgressStyleModel",
      "_view_count": null,
      "_view_module": "@jupyter-widgets/base",
      "_view_module_version": "1.2.0",
      "_view_name": "StyleView",
      "bar_color": null,
      "description_width": ""
     }
    },
    "a229517ee8b4469c9266bbcf3c224973": {
     "model_module": "@jupyter-widgets/controls",
     "model_module_version": "1.5.0",
     "model_name": "HTMLModel",
     "state": {
      "_dom_classes": [],
      "_model_module": "@jupyter-widgets/controls",
      "_model_module_version": "1.5.0",
      "_model_name": "HTMLModel",
      "_view_count": null,
      "_view_module": "@jupyter-widgets/controls",
      "_view_module_version": "1.5.0",
      "_view_name": "HTMLView",
      "description": "",
      "description_tooltip": null,
      "layout": "IPY_MODEL_2f1c701a903f4cf1bb7b2a265cbf7e94",
      "placeholder": "​",
      "style": "IPY_MODEL_28ea382472c7435f821caea5e9ddcdb0",
      "value": "100%"
     }
    },
    "a2c9f2d0aaef43aeaf6d5ab0cf778970": {
     "model_module": "@jupyter-widgets/base",
     "model_module_version": "1.2.0",
     "model_name": "LayoutModel",
     "state": {
      "_model_module": "@jupyter-widgets/base",
      "_model_module_version": "1.2.0",
      "_model_name": "LayoutModel",
      "_view_count": null,
      "_view_module": "@jupyter-widgets/base",
      "_view_module_version": "1.2.0",
      "_view_name": "LayoutView",
      "align_content": null,
      "align_items": null,
      "align_self": null,
      "border": null,
      "bottom": null,
      "display": null,
      "flex": null,
      "flex_flow": null,
      "grid_area": null,
      "grid_auto_columns": null,
      "grid_auto_flow": null,
      "grid_auto_rows": null,
      "grid_column": null,
      "grid_gap": null,
      "grid_row": null,
      "grid_template_areas": null,
      "grid_template_columns": null,
      "grid_template_rows": null,
      "height": null,
      "justify_content": null,
      "justify_items": null,
      "left": null,
      "margin": null,
      "max_height": null,
      "max_width": null,
      "min_height": null,
      "min_width": null,
      "object_fit": null,
      "object_position": null,
      "order": null,
      "overflow": null,
      "overflow_x": null,
      "overflow_y": null,
      "padding": null,
      "right": null,
      "top": null,
      "visibility": null,
      "width": null
     }
    },
    "a2f392f703a141eb861846dab78bab1c": {
     "model_module": "@jupyter-widgets/base",
     "model_module_version": "1.2.0",
     "model_name": "LayoutModel",
     "state": {
      "_model_module": "@jupyter-widgets/base",
      "_model_module_version": "1.2.0",
      "_model_name": "LayoutModel",
      "_view_count": null,
      "_view_module": "@jupyter-widgets/base",
      "_view_module_version": "1.2.0",
      "_view_name": "LayoutView",
      "align_content": null,
      "align_items": null,
      "align_self": null,
      "border": null,
      "bottom": null,
      "display": null,
      "flex": null,
      "flex_flow": null,
      "grid_area": null,
      "grid_auto_columns": null,
      "grid_auto_flow": null,
      "grid_auto_rows": null,
      "grid_column": null,
      "grid_gap": null,
      "grid_row": null,
      "grid_template_areas": null,
      "grid_template_columns": null,
      "grid_template_rows": null,
      "height": null,
      "justify_content": null,
      "justify_items": null,
      "left": null,
      "margin": null,
      "max_height": null,
      "max_width": null,
      "min_height": null,
      "min_width": null,
      "object_fit": null,
      "object_position": null,
      "order": null,
      "overflow": null,
      "overflow_x": null,
      "overflow_y": null,
      "padding": null,
      "right": null,
      "top": null,
      "visibility": "hidden",
      "width": null
     }
    },
    "a3df039458d0497c9d2a82e576898750": {
     "model_module": "@jupyter-widgets/controls",
     "model_module_version": "1.5.0",
     "model_name": "HBoxModel",
     "state": {
      "_dom_classes": [],
      "_model_module": "@jupyter-widgets/controls",
      "_model_module_version": "1.5.0",
      "_model_name": "HBoxModel",
      "_view_count": null,
      "_view_module": "@jupyter-widgets/controls",
      "_view_module_version": "1.5.0",
      "_view_name": "HBoxView",
      "box_style": "",
      "children": [
       "IPY_MODEL_ecb61ff451f2470ebff8c5a880cfe892",
       "IPY_MODEL_a49fdee545fd4303844c09295ea92ce8",
       "IPY_MODEL_0de36f3048634b4fa291f2224f964cb0"
      ],
      "layout": "IPY_MODEL_a2f392f703a141eb861846dab78bab1c"
     }
    },
    "a49fdee545fd4303844c09295ea92ce8": {
     "model_module": "@jupyter-widgets/controls",
     "model_module_version": "1.5.0",
     "model_name": "FloatProgressModel",
     "state": {
      "_dom_classes": [],
      "_model_module": "@jupyter-widgets/controls",
      "_model_module_version": "1.5.0",
      "_model_name": "FloatProgressModel",
      "_view_count": null,
      "_view_module": "@jupyter-widgets/controls",
      "_view_module_version": "1.5.0",
      "_view_name": "ProgressView",
      "bar_style": "info",
      "description": "",
      "description_tooltip": null,
      "layout": "IPY_MODEL_f681e684408c43398163d6f792b8dd62",
      "max": 1,
      "min": 0,
      "orientation": "horizontal",
      "style": "IPY_MODEL_d3cd5cee6ec2475b8a57388d401cbdc9",
      "value": 1
     }
    },
    "a8512ed52e4646779853bb32efb3bfca": {
     "model_module": "@jupyter-widgets/controls",
     "model_module_version": "1.5.0",
     "model_name": "FloatProgressModel",
     "state": {
      "_dom_classes": [],
      "_model_module": "@jupyter-widgets/controls",
      "_model_module_version": "1.5.0",
      "_model_name": "FloatProgressModel",
      "_view_count": null,
      "_view_module": "@jupyter-widgets/controls",
      "_view_module_version": "1.5.0",
      "_view_name": "ProgressView",
      "bar_style": "info",
      "description": "",
      "description_tooltip": null,
      "layout": "IPY_MODEL_d1bacaf977e74304bcdf4b843c69b87e",
      "max": 1,
      "min": 0,
      "orientation": "horizontal",
      "style": "IPY_MODEL_9f28864365fd4caa84a0a7d2dd91bc74",
      "value": 1
     }
    },
    "abd7ede249a34820a5771e65ec104859": {
     "model_module": "@jupyter-widgets/controls",
     "model_module_version": "1.5.0",
     "model_name": "DescriptionStyleModel",
     "state": {
      "_model_module": "@jupyter-widgets/controls",
      "_model_module_version": "1.5.0",
      "_model_name": "DescriptionStyleModel",
      "_view_count": null,
      "_view_module": "@jupyter-widgets/base",
      "_view_module_version": "1.2.0",
      "_view_name": "StyleView",
      "description_width": ""
     }
    },
    "ae4b9ff1643445d9b49cb9409888f779": {
     "model_module": "@jupyter-widgets/controls",
     "model_module_version": "1.5.0",
     "model_name": "DescriptionStyleModel",
     "state": {
      "_model_module": "@jupyter-widgets/controls",
      "_model_module_version": "1.5.0",
      "_model_name": "DescriptionStyleModel",
      "_view_count": null,
      "_view_module": "@jupyter-widgets/base",
      "_view_module_version": "1.2.0",
      "_view_name": "StyleView",
      "description_width": ""
     }
    },
    "b323382fd3994c8cbd63a5b937ee0d13": {
     "model_module": "@jupyter-widgets/base",
     "model_module_version": "1.2.0",
     "model_name": "LayoutModel",
     "state": {
      "_model_module": "@jupyter-widgets/base",
      "_model_module_version": "1.2.0",
      "_model_name": "LayoutModel",
      "_view_count": null,
      "_view_module": "@jupyter-widgets/base",
      "_view_module_version": "1.2.0",
      "_view_name": "LayoutView",
      "align_content": null,
      "align_items": null,
      "align_self": null,
      "border": null,
      "bottom": null,
      "display": null,
      "flex": null,
      "flex_flow": null,
      "grid_area": null,
      "grid_auto_columns": null,
      "grid_auto_flow": null,
      "grid_auto_rows": null,
      "grid_column": null,
      "grid_gap": null,
      "grid_row": null,
      "grid_template_areas": null,
      "grid_template_columns": null,
      "grid_template_rows": null,
      "height": null,
      "justify_content": null,
      "justify_items": null,
      "left": null,
      "margin": null,
      "max_height": null,
      "max_width": null,
      "min_height": null,
      "min_width": null,
      "object_fit": null,
      "object_position": null,
      "order": null,
      "overflow": null,
      "overflow_x": null,
      "overflow_y": null,
      "padding": null,
      "right": null,
      "top": null,
      "visibility": null,
      "width": null
     }
    },
    "b5f7723b745c414d8b187c50c64c5888": {
     "model_module": "@jupyter-widgets/controls",
     "model_module_version": "1.5.0",
     "model_name": "DescriptionStyleModel",
     "state": {
      "_model_module": "@jupyter-widgets/controls",
      "_model_module_version": "1.5.0",
      "_model_name": "DescriptionStyleModel",
      "_view_count": null,
      "_view_module": "@jupyter-widgets/base",
      "_view_module_version": "1.2.0",
      "_view_name": "StyleView",
      "description_width": ""
     }
    },
    "b6c388c30a934000b3b1c2ac3bd6d8b0": {
     "model_module": "@jupyter-widgets/controls",
     "model_module_version": "1.5.0",
     "model_name": "HBoxModel",
     "state": {
      "_dom_classes": [],
      "_model_module": "@jupyter-widgets/controls",
      "_model_module_version": "1.5.0",
      "_model_name": "HBoxModel",
      "_view_count": null,
      "_view_module": "@jupyter-widgets/controls",
      "_view_module_version": "1.5.0",
      "_view_name": "HBoxView",
      "box_style": "",
      "children": [
       "IPY_MODEL_388fe7e54a3b46dcb08d87eaf632ee90",
       "IPY_MODEL_a8512ed52e4646779853bb32efb3bfca",
       "IPY_MODEL_d5472f1ded38448c997a212a080fa308"
      ],
      "layout": "IPY_MODEL_0fa6ced6fb03445e83b219cc5a5a3b45"
     }
    },
    "b7947aac28b543c7883e31d36f11fc08": {
     "model_module": "@jupyter-widgets/base",
     "model_module_version": "1.2.0",
     "model_name": "LayoutModel",
     "state": {
      "_model_module": "@jupyter-widgets/base",
      "_model_module_version": "1.2.0",
      "_model_name": "LayoutModel",
      "_view_count": null,
      "_view_module": "@jupyter-widgets/base",
      "_view_module_version": "1.2.0",
      "_view_name": "LayoutView",
      "align_content": null,
      "align_items": null,
      "align_self": null,
      "border": null,
      "bottom": null,
      "display": null,
      "flex": null,
      "flex_flow": null,
      "grid_area": null,
      "grid_auto_columns": null,
      "grid_auto_flow": null,
      "grid_auto_rows": null,
      "grid_column": null,
      "grid_gap": null,
      "grid_row": null,
      "grid_template_areas": null,
      "grid_template_columns": null,
      "grid_template_rows": null,
      "height": null,
      "justify_content": null,
      "justify_items": null,
      "left": null,
      "margin": null,
      "max_height": null,
      "max_width": null,
      "min_height": null,
      "min_width": null,
      "object_fit": null,
      "object_position": null,
      "order": null,
      "overflow": null,
      "overflow_x": null,
      "overflow_y": null,
      "padding": null,
      "right": null,
      "top": null,
      "visibility": null,
      "width": null
     }
    },
    "be2f5dee3c3349889dd50a0ba2cb0fe9": {
     "model_module": "@jupyter-widgets/controls",
     "model_module_version": "1.5.0",
     "model_name": "ProgressStyleModel",
     "state": {
      "_model_module": "@jupyter-widgets/controls",
      "_model_module_version": "1.5.0",
      "_model_name": "ProgressStyleModel",
      "_view_count": null,
      "_view_module": "@jupyter-widgets/base",
      "_view_module_version": "1.2.0",
      "_view_name": "StyleView",
      "bar_color": null,
      "description_width": ""
     }
    },
    "be8ff74b11064d0385fcc17f2305a234": {
     "model_module": "@jupyter-widgets/base",
     "model_module_version": "1.2.0",
     "model_name": "LayoutModel",
     "state": {
      "_model_module": "@jupyter-widgets/base",
      "_model_module_version": "1.2.0",
      "_model_name": "LayoutModel",
      "_view_count": null,
      "_view_module": "@jupyter-widgets/base",
      "_view_module_version": "1.2.0",
      "_view_name": "LayoutView",
      "align_content": null,
      "align_items": null,
      "align_self": null,
      "border": null,
      "bottom": null,
      "display": null,
      "flex": null,
      "flex_flow": null,
      "grid_area": null,
      "grid_auto_columns": null,
      "grid_auto_flow": null,
      "grid_auto_rows": null,
      "grid_column": null,
      "grid_gap": null,
      "grid_row": null,
      "grid_template_areas": null,
      "grid_template_columns": null,
      "grid_template_rows": null,
      "height": null,
      "justify_content": null,
      "justify_items": null,
      "left": null,
      "margin": null,
      "max_height": null,
      "max_width": null,
      "min_height": null,
      "min_width": null,
      "object_fit": null,
      "object_position": null,
      "order": null,
      "overflow": null,
      "overflow_x": null,
      "overflow_y": null,
      "padding": null,
      "right": null,
      "top": null,
      "visibility": null,
      "width": null
     }
    },
    "c2c208e52e4d449ea33c33d6772314cd": {
     "model_module": "@jupyter-widgets/base",
     "model_module_version": "1.2.0",
     "model_name": "LayoutModel",
     "state": {
      "_model_module": "@jupyter-widgets/base",
      "_model_module_version": "1.2.0",
      "_model_name": "LayoutModel",
      "_view_count": null,
      "_view_module": "@jupyter-widgets/base",
      "_view_module_version": "1.2.0",
      "_view_name": "LayoutView",
      "align_content": null,
      "align_items": null,
      "align_self": null,
      "border": null,
      "bottom": null,
      "display": null,
      "flex": null,
      "flex_flow": null,
      "grid_area": null,
      "grid_auto_columns": null,
      "grid_auto_flow": null,
      "grid_auto_rows": null,
      "grid_column": null,
      "grid_gap": null,
      "grid_row": null,
      "grid_template_areas": null,
      "grid_template_columns": null,
      "grid_template_rows": null,
      "height": null,
      "justify_content": null,
      "justify_items": null,
      "left": null,
      "margin": null,
      "max_height": null,
      "max_width": null,
      "min_height": null,
      "min_width": null,
      "object_fit": null,
      "object_position": null,
      "order": null,
      "overflow": null,
      "overflow_x": null,
      "overflow_y": null,
      "padding": null,
      "right": null,
      "top": null,
      "visibility": null,
      "width": null
     }
    },
    "c3c35882ae3f4a989a721721c24745c1": {
     "model_module": "@jupyter-widgets/controls",
     "model_module_version": "1.5.0",
     "model_name": "DescriptionStyleModel",
     "state": {
      "_model_module": "@jupyter-widgets/controls",
      "_model_module_version": "1.5.0",
      "_model_name": "DescriptionStyleModel",
      "_view_count": null,
      "_view_module": "@jupyter-widgets/base",
      "_view_module_version": "1.2.0",
      "_view_name": "StyleView",
      "description_width": ""
     }
    },
    "c8f6d42458034cb491a6c23c1389e52b": {
     "model_module": "@jupyter-widgets/controls",
     "model_module_version": "1.5.0",
     "model_name": "HBoxModel",
     "state": {
      "_dom_classes": [],
      "_model_module": "@jupyter-widgets/controls",
      "_model_module_version": "1.5.0",
      "_model_name": "HBoxModel",
      "_view_count": null,
      "_view_module": "@jupyter-widgets/controls",
      "_view_module_version": "1.5.0",
      "_view_name": "HBoxView",
      "box_style": "",
      "children": [
       "IPY_MODEL_4d7c4eeea054412cb9231eec6d3172f4",
       "IPY_MODEL_e43f00ed0ee145718c8bd94dc20de587",
       "IPY_MODEL_958f681b483a493683604a1a11249db2"
      ],
      "layout": "IPY_MODEL_07fd25a4aee148f1a29178d02e873c0f"
     }
    },
    "ce171dcd49b743dfbd6703c8ff94c8f0": {
     "model_module": "@jupyter-widgets/base",
     "model_module_version": "1.2.0",
     "model_name": "LayoutModel",
     "state": {
      "_model_module": "@jupyter-widgets/base",
      "_model_module_version": "1.2.0",
      "_model_name": "LayoutModel",
      "_view_count": null,
      "_view_module": "@jupyter-widgets/base",
      "_view_module_version": "1.2.0",
      "_view_name": "LayoutView",
      "align_content": null,
      "align_items": null,
      "align_self": null,
      "border": null,
      "bottom": null,
      "display": null,
      "flex": null,
      "flex_flow": null,
      "grid_area": null,
      "grid_auto_columns": null,
      "grid_auto_flow": null,
      "grid_auto_rows": null,
      "grid_column": null,
      "grid_gap": null,
      "grid_row": null,
      "grid_template_areas": null,
      "grid_template_columns": null,
      "grid_template_rows": null,
      "height": null,
      "justify_content": null,
      "justify_items": null,
      "left": null,
      "margin": null,
      "max_height": null,
      "max_width": null,
      "min_height": null,
      "min_width": null,
      "object_fit": null,
      "object_position": null,
      "order": null,
      "overflow": null,
      "overflow_x": null,
      "overflow_y": null,
      "padding": null,
      "right": null,
      "top": null,
      "visibility": null,
      "width": null
     }
    },
    "cffee46442f148ea9bd89147160d77f4": {
     "model_module": "@jupyter-widgets/controls",
     "model_module_version": "1.5.0",
     "model_name": "DescriptionStyleModel",
     "state": {
      "_model_module": "@jupyter-widgets/controls",
      "_model_module_version": "1.5.0",
      "_model_name": "DescriptionStyleModel",
      "_view_count": null,
      "_view_module": "@jupyter-widgets/base",
      "_view_module_version": "1.2.0",
      "_view_name": "StyleView",
      "description_width": ""
     }
    },
    "d1bacaf977e74304bcdf4b843c69b87e": {
     "model_module": "@jupyter-widgets/base",
     "model_module_version": "1.2.0",
     "model_name": "LayoutModel",
     "state": {
      "_model_module": "@jupyter-widgets/base",
      "_model_module_version": "1.2.0",
      "_model_name": "LayoutModel",
      "_view_count": null,
      "_view_module": "@jupyter-widgets/base",
      "_view_module_version": "1.2.0",
      "_view_name": "LayoutView",
      "align_content": null,
      "align_items": null,
      "align_self": null,
      "border": null,
      "bottom": null,
      "display": null,
      "flex": null,
      "flex_flow": null,
      "grid_area": null,
      "grid_auto_columns": null,
      "grid_auto_flow": null,
      "grid_auto_rows": null,
      "grid_column": null,
      "grid_gap": null,
      "grid_row": null,
      "grid_template_areas": null,
      "grid_template_columns": null,
      "grid_template_rows": null,
      "height": null,
      "justify_content": null,
      "justify_items": null,
      "left": null,
      "margin": null,
      "max_height": null,
      "max_width": null,
      "min_height": null,
      "min_width": null,
      "object_fit": null,
      "object_position": null,
      "order": null,
      "overflow": null,
      "overflow_x": null,
      "overflow_y": null,
      "padding": null,
      "right": null,
      "top": null,
      "visibility": null,
      "width": "20px"
     }
    },
    "d38d8995a1de4b60bc583e1707b8ce01": {
     "model_module": "@jupyter-widgets/base",
     "model_module_version": "1.2.0",
     "model_name": "LayoutModel",
     "state": {
      "_model_module": "@jupyter-widgets/base",
      "_model_module_version": "1.2.0",
      "_model_name": "LayoutModel",
      "_view_count": null,
      "_view_module": "@jupyter-widgets/base",
      "_view_module_version": "1.2.0",
      "_view_name": "LayoutView",
      "align_content": null,
      "align_items": null,
      "align_self": null,
      "border": null,
      "bottom": null,
      "display": null,
      "flex": null,
      "flex_flow": null,
      "grid_area": null,
      "grid_auto_columns": null,
      "grid_auto_flow": null,
      "grid_auto_rows": null,
      "grid_column": null,
      "grid_gap": null,
      "grid_row": null,
      "grid_template_areas": null,
      "grid_template_columns": null,
      "grid_template_rows": null,
      "height": null,
      "justify_content": null,
      "justify_items": null,
      "left": null,
      "margin": null,
      "max_height": null,
      "max_width": null,
      "min_height": null,
      "min_width": null,
      "object_fit": null,
      "object_position": null,
      "order": null,
      "overflow": null,
      "overflow_x": null,
      "overflow_y": null,
      "padding": null,
      "right": null,
      "top": null,
      "visibility": null,
      "width": null
     }
    },
    "d3cd5cee6ec2475b8a57388d401cbdc9": {
     "model_module": "@jupyter-widgets/controls",
     "model_module_version": "1.5.0",
     "model_name": "ProgressStyleModel",
     "state": {
      "_model_module": "@jupyter-widgets/controls",
      "_model_module_version": "1.5.0",
      "_model_name": "ProgressStyleModel",
      "_view_count": null,
      "_view_module": "@jupyter-widgets/base",
      "_view_module_version": "1.2.0",
      "_view_name": "StyleView",
      "bar_color": null,
      "description_width": ""
     }
    },
    "d5472f1ded38448c997a212a080fa308": {
     "model_module": "@jupyter-widgets/controls",
     "model_module_version": "1.5.0",
     "model_name": "HTMLModel",
     "state": {
      "_dom_classes": [],
      "_model_module": "@jupyter-widgets/controls",
      "_model_module_version": "1.5.0",
      "_model_name": "HTMLModel",
      "_view_count": null,
      "_view_module": "@jupyter-widgets/controls",
      "_view_module_version": "1.5.0",
      "_view_name": "HTMLView",
      "description": "",
      "description_tooltip": null,
      "layout": "IPY_MODEL_b7947aac28b543c7883e31d36f11fc08",
      "placeholder": "​",
      "style": "IPY_MODEL_3013deb09a7d428dafb0dc3fc19419f8",
      "value": " 30000/0 [00:00&lt;00:00, 175177.74 examples/s]"
     }
    },
    "d84f9724303341669558792fed4084bf": {
     "model_module": "@jupyter-widgets/controls",
     "model_module_version": "1.5.0",
     "model_name": "ProgressStyleModel",
     "state": {
      "_model_module": "@jupyter-widgets/controls",
      "_model_module_version": "1.5.0",
      "_model_name": "ProgressStyleModel",
      "_view_count": null,
      "_view_module": "@jupyter-widgets/base",
      "_view_module_version": "1.2.0",
      "_view_name": "StyleView",
      "bar_color": null,
      "description_width": ""
     }
    },
    "da06b4a65571475b8645d8e43a09b289": {
     "model_module": "@jupyter-widgets/controls",
     "model_module_version": "1.5.0",
     "model_name": "HBoxModel",
     "state": {
      "_dom_classes": [],
      "_model_module": "@jupyter-widgets/controls",
      "_model_module_version": "1.5.0",
      "_model_name": "HBoxModel",
      "_view_count": null,
      "_view_module": "@jupyter-widgets/controls",
      "_view_module_version": "1.5.0",
      "_view_name": "HBoxView",
      "box_style": "",
      "children": [
       "IPY_MODEL_1d1b27ab9da7478d9881f5e231c18d6e",
       "IPY_MODEL_3b287b54a39145b9ad0fb30a14440fa3",
       "IPY_MODEL_4a9014b38fa54bfda365218921f10bba"
      ],
      "layout": "IPY_MODEL_1efa6961873a499db53115cbe3111799"
     }
    },
    "daf753168f0c4052ac41ff2b05bbf889": {
     "model_module": "@jupyter-widgets/controls",
     "model_module_version": "1.5.0",
     "model_name": "FloatProgressModel",
     "state": {
      "_dom_classes": [],
      "_model_module": "@jupyter-widgets/controls",
      "_model_module_version": "1.5.0",
      "_model_name": "FloatProgressModel",
      "_view_count": null,
      "_view_module": "@jupyter-widgets/controls",
      "_view_module_version": "1.5.0",
      "_view_name": "ProgressView",
      "bar_style": "success",
      "description": "",
      "description_tooltip": null,
      "layout": "IPY_MODEL_028b9e13e29c48a4b7ea1ec97e8f53e5",
      "max": 700,
      "min": 0,
      "orientation": "horizontal",
      "style": "IPY_MODEL_1cd05ef1e456461e87d0fdab3a1610a4",
      "value": 700
     }
    },
    "e1bf56041233409e9899eec6df439048": {
     "model_module": "@jupyter-widgets/controls",
     "model_module_version": "1.5.0",
     "model_name": "HBoxModel",
     "state": {
      "_dom_classes": [],
      "_model_module": "@jupyter-widgets/controls",
      "_model_module_version": "1.5.0",
      "_model_name": "HBoxModel",
      "_view_count": null,
      "_view_module": "@jupyter-widgets/controls",
      "_view_module_version": "1.5.0",
      "_view_name": "HBoxView",
      "box_style": "",
      "children": [
       "IPY_MODEL_ec0a2128d06b47b49227fe248d3532de",
       "IPY_MODEL_129bd4558053439387a8cfd72246922b",
       "IPY_MODEL_52d96a4fffc14a1db381947b93b0edec"
      ],
      "layout": "IPY_MODEL_8af629d4aaa2477fb3f591b50adef6e4"
     }
    },
    "e2b4dff0f3a04200b667ac892fcb9b1e": {
     "model_module": "@jupyter-widgets/controls",
     "model_module_version": "1.5.0",
     "model_name": "DescriptionStyleModel",
     "state": {
      "_model_module": "@jupyter-widgets/controls",
      "_model_module_version": "1.5.0",
      "_model_name": "DescriptionStyleModel",
      "_view_count": null,
      "_view_module": "@jupyter-widgets/base",
      "_view_module_version": "1.2.0",
      "_view_name": "StyleView",
      "description_width": ""
     }
    },
    "e43f00ed0ee145718c8bd94dc20de587": {
     "model_module": "@jupyter-widgets/controls",
     "model_module_version": "1.5.0",
     "model_name": "FloatProgressModel",
     "state": {
      "_dom_classes": [],
      "_model_module": "@jupyter-widgets/controls",
      "_model_module_version": "1.5.0",
      "_model_name": "FloatProgressModel",
      "_view_count": null,
      "_view_module": "@jupyter-widgets/controls",
      "_view_module_version": "1.5.0",
      "_view_name": "ProgressView",
      "bar_style": "info",
      "description": "",
      "description_tooltip": null,
      "layout": "IPY_MODEL_4e181d48506d4f25ac7c9b6249f20ac0",
      "max": 1,
      "min": 0,
      "orientation": "horizontal",
      "style": "IPY_MODEL_957d1185430c4a6cad352e67ef0c8ab7",
      "value": 1
     }
    },
    "e5907f2d7583473abe9ebc6737101e22": {
     "model_module": "@jupyter-widgets/controls",
     "model_module_version": "1.5.0",
     "model_name": "ProgressStyleModel",
     "state": {
      "_model_module": "@jupyter-widgets/controls",
      "_model_module_version": "1.5.0",
      "_model_name": "ProgressStyleModel",
      "_view_count": null,
      "_view_module": "@jupyter-widgets/base",
      "_view_module_version": "1.2.0",
      "_view_name": "StyleView",
      "bar_color": null,
      "description_width": ""
     }
    },
    "e5bbee0fd52f4dada79c39f929fb5830": {
     "model_module": "@jupyter-widgets/controls",
     "model_module_version": "1.5.0",
     "model_name": "FloatProgressModel",
     "state": {
      "_dom_classes": [],
      "_model_module": "@jupyter-widgets/controls",
      "_model_module_version": "1.5.0",
      "_model_name": "FloatProgressModel",
      "_view_count": null,
      "_view_module": "@jupyter-widgets/controls",
      "_view_module_version": "1.5.0",
      "_view_name": "ProgressView",
      "bar_style": "success",
      "description": "",
      "description_tooltip": null,
      "layout": "IPY_MODEL_8ea22c4159c64858957bf67afbb79d7c",
      "max": 700,
      "min": 0,
      "orientation": "horizontal",
      "style": "IPY_MODEL_be2f5dee3c3349889dd50a0ba2cb0fe9",
      "value": 700
     }
    },
    "eb4105ae520340179736bae1ac6261e5": {
     "model_module": "@jupyter-widgets/controls",
     "model_module_version": "1.5.0",
     "model_name": "FloatProgressModel",
     "state": {
      "_dom_classes": [],
      "_model_module": "@jupyter-widgets/controls",
      "_model_module_version": "1.5.0",
      "_model_name": "FloatProgressModel",
      "_view_count": null,
      "_view_module": "@jupyter-widgets/controls",
      "_view_module_version": "1.5.0",
      "_view_name": "ProgressView",
      "bar_style": "success",
      "description": "",
      "description_tooltip": null,
      "layout": "IPY_MODEL_a2c9f2d0aaef43aeaf6d5ab0cf778970",
      "max": 3,
      "min": 0,
      "orientation": "horizontal",
      "style": "IPY_MODEL_3df469ef111b4f89aaece44f9510496b",
      "value": 3
     }
    },
    "ec0a2128d06b47b49227fe248d3532de": {
     "model_module": "@jupyter-widgets/controls",
     "model_module_version": "1.5.0",
     "model_name": "HTMLModel",
     "state": {
      "_dom_classes": [],
      "_model_module": "@jupyter-widgets/controls",
      "_model_module_version": "1.5.0",
      "_model_name": "HTMLModel",
      "_view_count": null,
      "_view_module": "@jupyter-widgets/controls",
      "_view_module_version": "1.5.0",
      "_view_name": "HTMLView",
      "description": "",
      "description_tooltip": null,
      "layout": "IPY_MODEL_c2c208e52e4d449ea33c33d6772314cd",
      "placeholder": "​",
      "style": "IPY_MODEL_cffee46442f148ea9bd89147160d77f4",
      "value": "100%"
     }
    },
    "ecb61ff451f2470ebff8c5a880cfe892": {
     "model_module": "@jupyter-widgets/controls",
     "model_module_version": "1.5.0",
     "model_name": "HTMLModel",
     "state": {
      "_dom_classes": [],
      "_model_module": "@jupyter-widgets/controls",
      "_model_module_version": "1.5.0",
      "_model_name": "HTMLModel",
      "_view_count": null,
      "_view_module": "@jupyter-widgets/controls",
      "_view_module_version": "1.5.0",
      "_view_name": "HTMLView",
      "description": "",
      "description_tooltip": null,
      "layout": "IPY_MODEL_8ddc873f331d4ea9ace2dc7cff7aee2c",
      "placeholder": "​",
      "style": "IPY_MODEL_b5f7723b745c414d8b187c50c64c5888",
      "value": "Generating test split: "
     }
    },
    "ed10ba87eab341ae8ab8af17f9daff4b": {
     "model_module": "@jupyter-widgets/controls",
     "model_module_version": "1.5.0",
     "model_name": "HTMLModel",
     "state": {
      "_dom_classes": [],
      "_model_module": "@jupyter-widgets/controls",
      "_model_module_version": "1.5.0",
      "_model_name": "HTMLModel",
      "_view_count": null,
      "_view_module": "@jupyter-widgets/controls",
      "_view_module_version": "1.5.0",
      "_view_name": "HTMLView",
      "description": "",
      "description_tooltip": null,
      "layout": "IPY_MODEL_378f39c0f3e645cca057abe981a30249",
      "placeholder": "​",
      "style": "IPY_MODEL_88d5e75e37344c1d95c88603bff5382e",
      "value": " 700/700 [00:00&lt;00:00, 3450.51ex/s]"
     }
    },
    "f681e684408c43398163d6f792b8dd62": {
     "model_module": "@jupyter-widgets/base",
     "model_module_version": "1.2.0",
     "model_name": "LayoutModel",
     "state": {
      "_model_module": "@jupyter-widgets/base",
      "_model_module_version": "1.2.0",
      "_model_name": "LayoutModel",
      "_view_count": null,
      "_view_module": "@jupyter-widgets/base",
      "_view_module_version": "1.2.0",
      "_view_name": "LayoutView",
      "align_content": null,
      "align_items": null,
      "align_self": null,
      "border": null,
      "bottom": null,
      "display": null,
      "flex": null,
      "flex_flow": null,
      "grid_area": null,
      "grid_auto_columns": null,
      "grid_auto_flow": null,
      "grid_auto_rows": null,
      "grid_column": null,
      "grid_gap": null,
      "grid_row": null,
      "grid_template_areas": null,
      "grid_template_columns": null,
      "grid_template_rows": null,
      "height": null,
      "justify_content": null,
      "justify_items": null,
      "left": null,
      "margin": null,
      "max_height": null,
      "max_width": null,
      "min_height": null,
      "min_width": null,
      "object_fit": null,
      "object_position": null,
      "order": null,
      "overflow": null,
      "overflow_x": null,
      "overflow_y": null,
      "padding": null,
      "right": null,
      "top": null,
      "visibility": null,
      "width": "20px"
     }
    },
    "fff2bd08ef9a411a912126f35ea2e228": {
     "model_module": "@jupyter-widgets/controls",
     "model_module_version": "1.5.0",
     "model_name": "HBoxModel",
     "state": {
      "_dom_classes": [],
      "_model_module": "@jupyter-widgets/controls",
      "_model_module_version": "1.5.0",
      "_model_name": "HBoxModel",
      "_view_count": null,
      "_view_module": "@jupyter-widgets/controls",
      "_view_module_version": "1.5.0",
      "_view_name": "HBoxView",
      "box_style": "",
      "children": [
       "IPY_MODEL_a229517ee8b4469c9266bbcf3c224973",
       "IPY_MODEL_e5bbee0fd52f4dada79c39f929fb5830",
       "IPY_MODEL_1ac079bd949f4c978381ed30f89475d5"
      ],
      "layout": "IPY_MODEL_3a49fa7fe0fc4724b9d80c8573b81246"
     }
    }
   }
  }
 },
 "nbformat": 4,
 "nbformat_minor": 5
}
