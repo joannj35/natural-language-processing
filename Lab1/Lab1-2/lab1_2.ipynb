{
  "cells": [
    {
      "cell_type": "code",
      "execution_count": 248,
      "id": "5121317d",
      "metadata": {
        "deletable": false,
        "editable": false,
        "jupyter": {
          "outputs_hidden": true,
          "source_hidden": true
        },
        "colab": {
          "base_uri": "https://localhost:8080/",
          "height": 0
        },
        "id": "5121317d",
        "outputId": "da8f4a24-f4ab-4a0a-d051-282fe115b0b9"
      },
      "outputs": [
        {
          "output_type": "stream",
          "name": "stdout",
          "text": [
            "\n"
          ]
        }
      ],
      "source": [
        "# Please do not change this cell because some hidden tests might depend on it.\n",
        "import os\n",
        "\n",
        "# Otter grader does not handle ! commands well, so we define and use our\n",
        "# own function to execute shell commands.\n",
        "def shell(commands, warn=True):\n",
        "    \"\"\"Executes the string `commands` as a sequence of shell commands.\n",
        "     \n",
        "       Prints the result to stdout and returns the exit status. \n",
        "       Provides a printed warning on non-zero exit status unless `warn` \n",
        "       flag is unset.\n",
        "    \"\"\"\n",
        "    file = os.popen(commands)\n",
        "    print (file.read().rstrip('\\n'))\n",
        "    exit_status = file.close()\n",
        "    if warn and exit_status != None:\n",
        "        print(f\"Completed with errors. Exit status: {exit_status}\\n\")\n",
        "    return exit_status\n",
        "\n",
        "shell(\"\"\"\n",
        "ls requirements.txt >/dev/null 2>&1\n",
        "if [ ! $? = 0 ]; then\n",
        " rm -rf .tmp\n",
        " git clone https://github.com/cs236299-2023-spring/lab1-2.git .tmp\n",
        " mv .tmp/tests ./\n",
        " mv .tmp/requirements.txt ./\n",
        " rm -rf .tmp\n",
        "fi\n",
        "pip install -q -r requirements.txt\n",
        "\"\"\")"
      ]
    },
    {
      "cell_type": "code",
      "execution_count": 249,
      "id": "a02eda80",
      "metadata": {
        "deletable": false,
        "editable": false,
        "id": "a02eda80"
      },
      "outputs": [],
      "source": [
        "# Initialize Otter\n",
        "import otter\n",
        "grader = otter.Notebook()"
      ]
    },
    {
      "cell_type": "markdown",
      "id": "79aca3c1",
      "metadata": {
        "tags": [
          "remove_for_latex"
        ],
        "id": "79aca3c1"
      },
      "source": [
        "# Course 236299\n",
        "## Lab 1-2 — Text classification and evaluation methodology"
      ]
    },
    {
      "cell_type": "markdown",
      "id": "eff68c72",
      "metadata": {
        "id": "eff68c72"
      },
      "source": [
        "After this lab, you should be able to\n",
        "\n",
        "* Understand the distinction between training and test corpora, and why both are needed;\n",
        "* Understand the role of gold labels;\n",
        "* Implement a majority class baseline as a benchmark to compare other methods;\n",
        "* Implement nearest neighbor classification, and understand the role of distance metrics in its operation;\n",
        "* Compare multiple methods for acccuracy."
      ]
    },
    {
      "cell_type": "markdown",
      "id": "2c06dcd6",
      "metadata": {
        "id": "2c06dcd6"
      },
      "source": [
        "New bits of Python used for the first time in the _solution set_ for this lab, and which you may therefore find useful, include\n",
        "\n",
        "* [`collections.Counter`](https://docs.python.org/3/library/collections.html#collections.Counter)\n",
        "* [`collections.Counter.most_common`](https://docs.python.org/3/library/collections.html#collections.Counter.most_common)\n",
        "* [`torch.float`](https://pytorch.org/docs/stable/tensors.html)\n",
        "* [`torch.Tensor.type`](https://pytorch.org/docs/stable/generated/torch.Tensor.type.html?highlight=torch%20tensor%20type#torch.Tensor.type)"
      ]
    },
    {
      "cell_type": "markdown",
      "id": "aee274c0",
      "metadata": {
        "id": "aee274c0"
      },
      "source": [
        "# Preparation – Loading packages and data"
      ]
    },
    {
      "cell_type": "code",
      "execution_count": 250,
      "id": "a60b2cd4",
      "metadata": {
        "deletable": false,
        "editable": false,
        "jupyter": {
          "source_hidden": true
        },
        "id": "a60b2cd4"
      },
      "outputs": [],
      "source": [
        "# Please do not change these imports because some hidden tests might depend on them.\n",
        "# You can add a cell below if you need to import anything else.\n",
        "import collections\n",
        "import copy\n",
        "import json\n",
        "import math\n",
        "from pprint import pprint\n",
        "import torch\n",
        "import wget"
      ]
    },
    {
      "cell_type": "markdown",
      "id": "ff48706d",
      "metadata": {
        "id": "ff48706d"
      },
      "source": [
        "# The Federalist Papers\n",
        "\n",
        "<img src=\"https://github.com/nlp-course/data/raw/master/Federalist/federalist.jpg\" width=150 align=right />\n",
        "\n",
        "The _Federalist_ papers is a collection of 85 essays written pseudonymously by Alexander Hamilton, John Jay, and James Madison following the Constitutional Convention of 1787, promoting the ratification of the nascent United States Constitution.\n",
        "\n",
        "The authorship of many of the individual papers has been well established and acknowledged by the various authors, but a number of the papers have been contentious, with both Madison and Hamilton as possible authors. Determining the authorship of these disputed papers is a classic text classification problem, and one that has received great attention. The seminal work on the problem is that of [Mosteller and Wallace](http://www.historyofinformation.com/detail.php?entryid=4799), who applied then-novel statistical methods to the problem. In this lab, we'll use the _Federalist_ data to experiment with some of the ideas about distance metrics and classification methods that you've read about. (It's also an excuse to make some points about proper testing methodology.)\n",
        "\n",
        "Mosteller and Wallace used the frequencies of various words in the papers as the raw data for determining authorship. We've provided access to a heavily pre-digested version of this data. (If you're interested, you can find the raw data – all 85 papers – and the notebook used to generate the pre-digested data in the [course `data` github repository](https://github.com/nlp-236299/data/tree/master/Federalist).)\n",
        "\n",
        "Start by evaluating the cells below to load the data and view a sample."
      ]
    },
    {
      "cell_type": "code",
      "execution_count": 251,
      "id": "3f9e158c",
      "metadata": {
        "id": "3f9e158c"
      },
      "outputs": [],
      "source": [
        "# Retrieve the Federalist data\n",
        "os.makedirs('data', exist_ok=True)\n",
        "wget.download('https://github.com/nlp-236299/data/raw/master/Federalist/federalist_data.json', out='data/')\n",
        "# Read the json data into a data structure\n",
        "with open('data/federalist_data.json', 'r') as fin:\n",
        "    dataset = json.load(fin)\n",
        "# Convert counts to tensors of floats\n",
        "for example in dataset:\n",
        "    example['counts'] = torch.tensor(example['counts']).type(torch.float)"
      ]
    },
    {
      "cell_type": "code",
      "execution_count": 252,
      "id": "b9d3d2a7",
      "metadata": {
        "colab": {
          "base_uri": "https://localhost:8080/",
          "height": 0
        },
        "id": "b9d3d2a7",
        "outputId": "75410d8d-8c71-446b-f6b0-a9d603d95e1d"
      },
      "outputs": [
        {
          "output_type": "stream",
          "name": "stdout",
          "text": [
            "Number of papers in the dataset: 85\n",
            "Some examples:\n",
            "[{'authors': 'Hamilton',\n",
            "  'counts': tensor([9., 6., 2., 0.]),\n",
            "  'number': '1',\n",
            "  'title': 'General Introduction'},\n",
            " {'authors': 'Jay',\n",
            "  'counts': tensor([8., 1., 0., 0.]),\n",
            "  'number': '2',\n",
            "  'title': 'Concerning Dangers from Foreign Force and Influence'},\n",
            " {'authors': 'Jay',\n",
            "  'counts': tensor([6., 0., 1., 0.]),\n",
            "  'number': '3',\n",
            "  'title': 'The Same Subject Continued: Concerning Dangers from Foreign Force '\n",
            "           'and Influence'}]\n"
          ]
        }
      ],
      "source": [
        "# View a sample of the data\n",
        "print(f\"Number of papers in the dataset: {len(dataset)}\")\n",
        "print(\"Some examples:\")\n",
        "pprint(dataset[:3])"
      ]
    },
    {
      "cell_type": "markdown",
      "id": "4114b980",
      "metadata": {
        "id": "4114b980"
      },
      "source": [
        "You'll see above that the dataset is a list of *examples*, one for each paper, each a dictionary providing the paper number, its title and author(s), and the raw counts for a few important words in the papers. From the last lab, you'll recognize the `counts` field as a bag-of-words representation of the document. The `counts` field is the document representation that we will be wanting to classify, and the `authors` field contains the pertinent class label for each example. \n",
        "\n",
        "For your reference, here are the words that were used to derive the counts:"
      ]
    },
    {
      "cell_type": "code",
      "execution_count": 253,
      "id": "ec3f4ceb",
      "metadata": {
        "id": "ec3f4ceb"
      },
      "outputs": [],
      "source": [
        "keywords = ['on', 'upon', 'there', 'whilst']"
      ]
    },
    {
      "cell_type": "markdown",
      "id": "f07430a6",
      "metadata": {
        "id": "f07430a6"
      },
      "source": [
        "Thus in the first example paper, *Federalist 1*, there were 9 tokens of \"on\", 6 of \"upon\", 2 of \"there\", and none of \"whilst\". \n",
        "\n",
        "The `authors` field takes on various values. Here's a table of the frequency of each of the values. (This will come in handy later.)"
      ]
    },
    {
      "cell_type": "code",
      "execution_count": 254,
      "id": "55783589",
      "metadata": {
        "colab": {
          "base_uri": "https://localhost:8080/",
          "height": 0
        },
        "id": "55783589",
        "outputId": "2a221cbf-8230-4dd3-d96a-152c627cac43"
      },
      "outputs": [
        {
          "output_type": "stream",
          "name": "stdout",
          "text": [
            " 51 (60.000%) Hamilton\n",
            "  5 (5.882%) Jay\n",
            " 15 (17.647%) Madison\n",
            "  3 (3.529%) Hamilton and Madison\n",
            " 11 (12.941%) Hamilton or Madison\n"
          ]
        }
      ],
      "source": [
        "# Generate a table of the number of papers by each author label\n",
        "cnt = collections.Counter(map(lambda ex: ex['authors'],\n",
        "                              dataset))\n",
        "for author, count in cnt.items():\n",
        "    print(f\"{count:3d} ({100.0*count/len(dataset):.3f}%) {author}\")"
      ]
    },
    {
      "cell_type": "markdown",
      "id": "eabc43f3",
      "metadata": {
        "id": "eabc43f3"
      },
      "source": [
        "As you can see, some of the papers are of known authorship by one of Madison or Hamilton. We can use these as training data."
      ]
    },
    {
      "cell_type": "code",
      "execution_count": 255,
      "id": "0c251bb4",
      "metadata": {
        "id": "0c251bb4"
      },
      "outputs": [],
      "source": [
        "# Extract the papers by either of Madison and Hamilton\n",
        "training = list(filter(lambda ex: ex['authors'] in ['Madison', 'Hamilton'],\n",
        "                       dataset))"
      ]
    },
    {
      "cell_type": "code",
      "execution_count": 256,
      "id": "7678cb8d",
      "metadata": {
        "colab": {
          "base_uri": "https://localhost:8080/",
          "height": 0
        },
        "id": "7678cb8d",
        "outputId": "fc44961a-590f-436d-8b97-1b7efd2ba4f5"
      },
      "outputs": [
        {
          "output_type": "stream",
          "name": "stdout",
          "text": [
            "Number of papers in the dataset: 66\n",
            "Some examples:\n",
            "[{'authors': 'Hamilton',\n",
            "  'counts': tensor([9., 6., 2., 0.]),\n",
            "  'number': '1',\n",
            "  'title': 'General Introduction'},\n",
            " {'authors': 'Hamilton',\n",
            "  'counts': tensor([2., 4., 7., 0.]),\n",
            "  'number': '6',\n",
            "  'title': 'Concerning Dangers from Dissensions Between the States'},\n",
            " {'authors': 'Hamilton',\n",
            "  'counts': tensor([13., 11.,  9.,  0.]),\n",
            "  'number': '7',\n",
            "  'title': 'The Same Subject Continued: Concerning Dangers from Dissensions '\n",
            "           'Between the States'}]\n"
          ]
        }
      ],
      "source": [
        "# View a sample of the training data\n",
        "print(f\"Number of papers in the dataset: {len(training)}\")\n",
        "print(\"Some examples:\")\n",
        "pprint(training[:3])"
      ]
    },
    {
      "cell_type": "markdown",
      "id": "996cfed0",
      "metadata": {
        "id": "996cfed0"
      },
      "source": [
        "Others of the papers are of ambiguous authorship. They are shown as having `'Hamilton or Madison'` as author. These will be the elements that we want to test our models on."
      ]
    },
    {
      "cell_type": "code",
      "execution_count": 257,
      "id": "063590c9",
      "metadata": {
        "id": "063590c9"
      },
      "outputs": [],
      "source": [
        "# Extract the papers of unknown authorship\n",
        "testing = list(filter(lambda ex: ex['authors'] == 'Hamilton or Madison',\n",
        "                      dataset))"
      ]
    },
    {
      "cell_type": "code",
      "execution_count": 258,
      "id": "b96148ea",
      "metadata": {
        "colab": {
          "base_uri": "https://localhost:8080/",
          "height": 0
        },
        "id": "b96148ea",
        "outputId": "412647fb-2355-4918-c9a0-a7b708eabbb9"
      },
      "outputs": [
        {
          "output_type": "stream",
          "name": "stdout",
          "text": [
            "Number of papers in the dataset: 11\n",
            "Some sample elements:\n",
            "[{'authors': 'Hamilton or Madison',\n",
            "  'counts': tensor([16.,  0.,  2.,  1.]),\n",
            "  'number': '49',\n",
            "  'title': 'Method of Guarding Against the Encroachments of Any One Department '\n",
            "           'of Government by Appealing to the People Through a Convention'},\n",
            " {'authors': 'Hamilton or Madison',\n",
            "  'counts': tensor([11.,  1.,  0.,  0.]),\n",
            "  'number': '50',\n",
            "  'title': 'Periodic Appeals to the People Considered'},\n",
            " {'authors': 'Hamilton or Madison',\n",
            "  'counts': tensor([21.,  0.,  2.,  2.]),\n",
            "  'number': '51',\n",
            "  'title': 'The Structure of the Government Must Furnish the Proper Checks and '\n",
            "           'Balances Between the Different Departments'}]\n"
          ]
        }
      ],
      "source": [
        "# View a sample of the data\n",
        "print(f\"Number of papers in the dataset: {len(testing)}\")\n",
        "print(\"Some sample elements:\")\n",
        "pprint(testing[:3])"
      ]
    },
    {
      "cell_type": "markdown",
      "id": "d05a0d81",
      "metadata": {
        "id": "d05a0d81"
      },
      "source": [
        "# Models for text classification"
      ]
    },
    {
      "cell_type": "markdown",
      "id": "b3dd6460",
      "metadata": {
        "deletable": false,
        "editable": false,
        "id": "b3dd6460"
      },
      "source": [
        "We can think of a _model_ for a text classification problem as a function taking a test example and returning a class label for the test example. Generating the model will rely on a corpus of training data.\n",
        "\n",
        "With a model in hand, we can evaluate its _accuracy_ on a test corpus by computing the proportion of test examples that the model correctly classifies, that is, the model assigns to a test example the author that the test example specifies. Define a function `accuracy` that takes a test corpus (like `testing`) and a model (which is a function, remember), and returns the accuracy of the model on that corpus. \n",
        "\n",
        "<!--\n",
        "BEGIN QUESTION\n",
        "name: accuracy\n",
        "-->"
      ]
    },
    {
      "cell_type": "code",
      "execution_count": 259,
      "id": "92dfa271",
      "metadata": {
        "id": "92dfa271"
      },
      "outputs": [],
      "source": [
        "#TODO -- Define the `accuracy` function.\n",
        "def accuracy(test_corpus, model):\n",
        "    \"\"\"Computes the accuracy of a model on a corpus.\n",
        "    Arguments:\n",
        "      `test_corpus`: a list of test examples, such as `testing`\n",
        "      `model`: a function whose input is an example from the corpus (such as \n",
        "              `testing[0]`, and whose output is the predicted author\n",
        "    Returns:\n",
        "      accuracy, a float number.\n",
        "    \"\"\"\n",
        "    t, f = 0, 0\n",
        "    for sample_test in test_corpus:\n",
        "      predicted_author = model(sample_test)\n",
        "      if predicted_author == sample_test['authors']:\n",
        "        t += 1\n",
        "      else:\n",
        "        f +=1\n",
        "    return t / (t+f)"
      ]
    },
    {
      "cell_type": "markdown",
      "id": "d373cd6b",
      "metadata": {
        "deletable": false,
        "editable": false,
        "id": "d373cd6b"
      },
      "source": [
        "## Majority class classification\n",
        "\n",
        "An especially simple classification model labels each test example with whichever label happens to occur most frequently in the training data. It completely ignores the test example that it classifies!\n",
        "\n",
        "By examination of the table provided above, what is the majority class label for the training dataset?\n",
        "\n",
        "<!--\n",
        "BEGIN QUESTION\n",
        "name: maj_class_label\n",
        "-->"
      ]
    },
    {
      "cell_type": "code",
      "execution_count": 260,
      "id": "4452070f",
      "metadata": {
        "id": "4452070f"
      },
      "outputs": [],
      "source": [
        "#TODO -- Set this variable to the majority class label for the training set.\n",
        "maj_class_label = \"Hamilton\""
      ]
    },
    {
      "cell_type": "code",
      "execution_count": 261,
      "id": "10ff7d04",
      "metadata": {
        "deletable": false,
        "editable": false,
        "id": "10ff7d04",
        "colab": {
          "base_uri": "https://localhost:8080/",
          "height": 46
        },
        "outputId": "4000f5f2-55a7-47f9-8c20-34440f35dec7"
      },
      "outputs": [
        {
          "output_type": "execute_result",
          "data": {
            "text/plain": [
              "\n",
              "    All tests passed!\n",
              "    "
            ],
            "text/html": [
              "\n",
              "    \n",
              "    \n",
              "        <p>All tests passed!</p>\n",
              "    \n",
              "    "
            ]
          },
          "metadata": {},
          "execution_count": 261
        }
      ],
      "source": [
        "grader.check(\"maj_class_label\")"
      ]
    },
    {
      "cell_type": "markdown",
      "id": "f2c0e429",
      "metadata": {
        "deletable": false,
        "editable": false,
        "id": "f2c0e429"
      },
      "source": [
        "Rather than determining the majority class by inspection, it's better to have a function to compute it for us. Define a function `majority_class_label` that returns the majority class label for a training set.\n",
        "<!--\n",
        "BEGIN QUESTION\n",
        "name: majority_class_label\n",
        "-->"
      ]
    },
    {
      "cell_type": "code",
      "execution_count": 262,
      "id": "60ca6dbe",
      "metadata": {
        "id": "60ca6dbe"
      },
      "outputs": [],
      "source": [
        "#TODO -- Define the `majority_class_label` function.\n",
        "def majority_class_label(training):\n",
        "    \"\"\"Find the majority class label for a training set.\n",
        "    Arguments:\n",
        "      `training`: a list of training examples, such as `training`\n",
        "    Returns:\n",
        "      the majority class label, a string.\n",
        "    \"\"\"\n",
        "    cnt = collections.Counter(map(lambda ex: ex['authors'],training))\n",
        "    return cnt.most_common(1)[0][0]"
      ]
    },
    {
      "cell_type": "code",
      "execution_count": 263,
      "id": "c3e59f3e",
      "metadata": {
        "deletable": false,
        "editable": false,
        "id": "c3e59f3e",
        "colab": {
          "base_uri": "https://localhost:8080/",
          "height": 46
        },
        "outputId": "25d72977-69fe-4d25-87f1-5c441ded75f9"
      },
      "outputs": [
        {
          "output_type": "execute_result",
          "data": {
            "text/plain": [
              "\n",
              "    All tests passed!\n",
              "    "
            ],
            "text/html": [
              "\n",
              "    \n",
              "    \n",
              "        <p>All tests passed!</p>\n",
              "    \n",
              "    "
            ]
          },
          "metadata": {},
          "execution_count": 263
        }
      ],
      "source": [
        "grader.check(\"majority_class_label\")"
      ]
    },
    {
      "cell_type": "markdown",
      "id": "c741d8a3",
      "metadata": {
        "deletable": false,
        "editable": false,
        "id": "c741d8a3"
      },
      "source": [
        "What proportions of the *training* examples do you think would be classified correctly by the majority class model?\n",
        "<!--\n",
        "BEGIN QUESTION\n",
        "name: maj_class_accuracy_guess\n",
        "-->"
      ]
    },
    {
      "cell_type": "code",
      "execution_count": 264,
      "id": "5d05f489",
      "metadata": {
        "id": "5d05f489"
      },
      "outputs": [],
      "source": [
        "#TODO -- Define this variable to be what you think the \n",
        "#        accuracy of the majority class model would be\n",
        "#        on the training data.\n",
        "maj_class_accuracy_guess = 0.773 #51/(51+15)"
      ]
    },
    {
      "cell_type": "code",
      "execution_count": 265,
      "id": "4def5ca0",
      "metadata": {
        "deletable": false,
        "editable": false,
        "id": "4def5ca0",
        "colab": {
          "base_uri": "https://localhost:8080/",
          "height": 46
        },
        "outputId": "9e4d299d-5473-4186-ed22-0607889522b5"
      },
      "outputs": [
        {
          "output_type": "execute_result",
          "data": {
            "text/plain": [
              "\n",
              "    All tests passed!\n",
              "    "
            ],
            "text/html": [
              "\n",
              "    \n",
              "    \n",
              "        <p>All tests passed!</p>\n",
              "    \n",
              "    "
            ]
          },
          "metadata": {},
          "execution_count": 265
        }
      ],
      "source": [
        "grader.check(\"maj_class_accuracy_guess\")"
      ]
    },
    {
      "cell_type": "markdown",
      "id": "35946410",
      "metadata": {
        "deletable": false,
        "editable": false,
        "id": "35946410"
      },
      "source": [
        "Now define a function `majority_class` that takes a single argument (a test example) and returns the particular class label that is most frequent in the training data `training` (regardless of what the test example is).\n",
        "<!--\n",
        "BEGIN QUESTION\n",
        "name: majority_class\n",
        "-->"
      ]
    },
    {
      "cell_type": "code",
      "execution_count": 266,
      "id": "eff3697b",
      "metadata": {
        "id": "eff3697b"
      },
      "outputs": [],
      "source": [
        "#TODO - Define the `majority_class` model.\n",
        "def majority_class(example):\n",
        "    \"\"\"Defines a majority class model.\n",
        "    Arguments:\n",
        "      `example`: an example, such as `testing[0]`\n",
        "    Returns:\n",
        "      the majority class in the *training* set, a string.\n",
        "    \"\"\"\n",
        "    return majority_class_label(training)"
      ]
    },
    {
      "cell_type": "code",
      "execution_count": 267,
      "id": "f70430b5",
      "metadata": {
        "deletable": false,
        "editable": false,
        "id": "f70430b5",
        "colab": {
          "base_uri": "https://localhost:8080/",
          "height": 46
        },
        "outputId": "06a5d93a-8565-4087-cbf8-a296443373f8"
      },
      "outputs": [
        {
          "output_type": "execute_result",
          "data": {
            "text/plain": [
              "\n",
              "    All tests passed!\n",
              "    "
            ],
            "text/html": [
              "\n",
              "    \n",
              "    \n",
              "        <p>All tests passed!</p>\n",
              "    \n",
              "    "
            ]
          },
          "metadata": {},
          "execution_count": 267
        }
      ],
      "source": [
        "grader.check(\"majority_class\")"
      ]
    },
    {
      "cell_type": "markdown",
      "id": "a9424d51",
      "metadata": {
        "deletable": false,
        "editable": false,
        "id": "a9424d51"
      },
      "source": [
        "Now we can see how well this majority class model works by trying it out on some examples. Use the `accuracy` function to determine the model's accuracy when applied to the task of labeling the _training_ data.\n",
        "<!--\n",
        "BEGIN QUESTION\n",
        "name: accuracy_maj_class_train\n",
        "-->"
      ]
    },
    {
      "cell_type": "code",
      "execution_count": 268,
      "id": "420ca7ed",
      "metadata": {
        "id": "420ca7ed"
      },
      "outputs": [],
      "source": [
        "#TODO -- Define `maj_class_on_train` to be the accuracy of the majority \n",
        "#        class model on the training data.\n",
        "accuracy_maj_class_train = accuracy(training, majority_class)"
      ]
    },
    {
      "cell_type": "code",
      "execution_count": 269,
      "id": "76a995cd",
      "metadata": {
        "deletable": false,
        "editable": false,
        "id": "76a995cd",
        "colab": {
          "base_uri": "https://localhost:8080/",
          "height": 46
        },
        "outputId": "0c3ead59-98f2-4465-a99d-2acbb123f281"
      },
      "outputs": [
        {
          "output_type": "execute_result",
          "data": {
            "text/plain": [
              "\n",
              "    All tests passed!\n",
              "    "
            ],
            "text/html": [
              "\n",
              "    \n",
              "    \n",
              "        <p>All tests passed!</p>\n",
              "    \n",
              "    "
            ]
          },
          "metadata": {},
          "execution_count": 269
        }
      ],
      "source": [
        "grader.check(\"accuracy_maj_class_train\")"
      ]
    },
    {
      "cell_type": "code",
      "execution_count": 270,
      "id": "c3bd9569",
      "metadata": {
        "id": "c3bd9569",
        "colab": {
          "base_uri": "https://localhost:8080/",
          "height": 0
        },
        "outputId": "e6c23811-02dc-4ca3-bcde-69a40c26c6a8"
      },
      "outputs": [
        {
          "output_type": "stream",
          "name": "stdout",
          "text": [
            "Accuracy of the majority class model on training data: 0.773\n"
          ]
        }
      ],
      "source": [
        "print(f\"Accuracy of the majority class model on training data: \"\n",
        "      f\"{accuracy_maj_class_train:.3f}\")"
      ]
    },
    {
      "cell_type": "markdown",
      "id": "3fad3ab8",
      "metadata": {
        "id": "3fad3ab8"
      },
      "source": [
        "Was your guess from above right?"
      ]
    },
    {
      "cell_type": "markdown",
      "source": [
        "yes it was."
      ],
      "metadata": {
        "id": "l-D2tn87s4yy"
      },
      "id": "l-D2tn87s4yy"
    },
    {
      "cell_type": "markdown",
      "id": "0735ee19",
      "metadata": {
        "id": "0735ee19"
      },
      "source": [
        "## Nearest neighbor classification\n",
        "\n",
        "Recall that nearest neighbor classification classifies a test example with the label of the nearest training example. To calculate nearest neighbors, we need a distance metric between the representations of the documents. We will use two such metrics, familiar from the previous lab, for Euclidean distance and cosine distance.\n",
        "\n",
        "> Note: In order to allow full use of `torch` operations, these functions assume that the vectors are provided as tensors of type `float`. (That's why we tensorified the `counts` data as we loaded the dataset at the top  of this notebook.) When you call them, you'll want to make sure of this. They also return singleton tensors, not floats."
      ]
    },
    {
      "cell_type": "markdown",
      "id": "4d94da69",
      "metadata": {
        "deletable": false,
        "editable": false,
        "id": "4d94da69"
      },
      "source": [
        "Just like in lab1-1, define a function `euclidean_distance` to compute the Euclidean distance between two vectors, and function `cosine_distance` to compute the cosine similarity between two vectors.\n",
        "<!--\n",
        "BEGIN QUESTION\n",
        "name: euclidean_distance\n",
        "-->"
      ]
    },
    {
      "cell_type": "code",
      "execution_count": 271,
      "id": "c5830a1a",
      "metadata": {
        "id": "c5830a1a"
      },
      "outputs": [],
      "source": [
        "#TODO\n",
        "def euclidean_distance(v1, v2):\n",
        "    v3 = torch.abs(v1 - v2)\n",
        "    return torch.linalg.norm(v1 - v2)"
      ]
    },
    {
      "cell_type": "code",
      "execution_count": 272,
      "id": "b9d3fce6",
      "metadata": {
        "deletable": false,
        "editable": false,
        "id": "b9d3fce6",
        "colab": {
          "base_uri": "https://localhost:8080/",
          "height": 46
        },
        "outputId": "5a488ac1-06e6-4458-d03a-f4d60dc8292d"
      },
      "outputs": [
        {
          "output_type": "execute_result",
          "data": {
            "text/plain": [
              "\n",
              "    All tests passed!\n",
              "    "
            ],
            "text/html": [
              "\n",
              "    \n",
              "    \n",
              "        <p>All tests passed!</p>\n",
              "    \n",
              "    "
            ]
          },
          "metadata": {},
          "execution_count": 272
        }
      ],
      "source": [
        "grader.check(\"euclidean_distance\")"
      ]
    },
    {
      "cell_type": "code",
      "execution_count": 273,
      "id": "1e273d6e",
      "metadata": {
        "id": "1e273d6e"
      },
      "outputs": [],
      "source": [
        "def safe_acos(x):\n",
        "    \"\"\"Returns the arc cosine of `x`. Unlike `math.acos`, it \n",
        "       does not raise an exception for values of `x` out of range, \n",
        "       but rather clips `x` at -1..1, thereby avoiding math domain\n",
        "       errors in the case of numerical errors.\"\"\"\n",
        "    return math.acos(math.copysign(min(1.0, abs(x)), x))"
      ]
    },
    {
      "cell_type": "code",
      "execution_count": 274,
      "id": "5106888a",
      "metadata": {
        "id": "5106888a"
      },
      "outputs": [],
      "source": [
        "#TODO\n",
        "def cosine_distance(v1, v2):\n",
        "    \"\"\"Returns the cosine distance between two vectors\"\"\"\n",
        "    cos = torch.dot(v1,v2)/(torch.linalg.norm(v1) * torch.linalg.norm(v2))\n",
        "    return safe_acos(cos)/math.pi"
      ]
    },
    {
      "cell_type": "code",
      "execution_count": 275,
      "id": "32123087",
      "metadata": {
        "deletable": false,
        "editable": false,
        "id": "32123087",
        "colab": {
          "base_uri": "https://localhost:8080/",
          "height": 46
        },
        "outputId": "e30a5d47-9681-48f8-ad66-e4fa1f2ad26a"
      },
      "outputs": [
        {
          "output_type": "execute_result",
          "data": {
            "text/plain": [
              "\n",
              "    All tests passed!\n",
              "    "
            ],
            "text/html": [
              "\n",
              "    \n",
              "    \n",
              "        <p>All tests passed!</p>\n",
              "    \n",
              "    "
            ]
          },
          "metadata": {},
          "execution_count": 275
        }
      ],
      "source": [
        "grader.check(\"cosine_distance\")"
      ]
    },
    {
      "cell_type": "markdown",
      "id": "5d075064",
      "metadata": {
        "id": "5d075064"
      },
      "source": [
        "Here's an example of the use of these distance metrics:"
      ]
    },
    {
      "cell_type": "code",
      "execution_count": 276,
      "id": "541fb5c0",
      "metadata": {
        "id": "541fb5c0",
        "colab": {
          "base_uri": "https://localhost:8080/",
          "height": 0
        },
        "outputId": "94b31864-fadb-40f3-eff9-c55573a31c81"
      },
      "outputs": [
        {
          "output_type": "stream",
          "name": "stdout",
          "text": [
            "Testing on two different tensors\n",
            "Euclidean: 2.8284270763397217\n",
            "Cosine   : 0.05724914679911019\n",
            "\n",
            "Testing on two identical tensors\n",
            "Euclidean: 0.0\n",
            "Cosine   : 0.0\n"
          ]
        }
      ],
      "source": [
        "t1 = torch.tensor([1., 2.])\n",
        "t2 = torch.tensor([3., 4.])\n",
        "\n",
        "print(\"Testing on two different tensors\\n\"\n",
        "      f\"Euclidean: {euclidean_distance(t1, t2)}\\n\"\n",
        "      f\"Cosine   : {cosine_distance(t1, t2)}\\n\\n\"\n",
        "      \"Testing on two identical tensors\\n\"\n",
        "      f\"Euclidean: {euclidean_distance(t1, t1)}\\n\"\n",
        "      f\"Cosine   : {cosine_distance(t1, t1)}\")"
      ]
    },
    {
      "cell_type": "markdown",
      "id": "19d1cb42",
      "metadata": {
        "deletable": false,
        "editable": false,
        "id": "19d1cb42"
      },
      "source": [
        "### Generating nearest neighbor models\n",
        "\n",
        "To specify a nearest neighbor model, we need both a training corpus (like `training`) and a distance metric (like `euclidean_distance` or `cosine_distance` defined just above). \n",
        "\n",
        "Define a function called `define_nearest_neighbor` that takes a training corpus and a distance metric and returns a model -- that is, a function that classifies a single test example. The model should return the class _label_ of that training example whose _counts vector_ is closest to that of the test example according to the metric.\n",
        "\n",
        "<!--\n",
        "BEGIN QUESTION\n",
        "name: define_nearest_neighbor\n",
        "-->"
      ]
    },
    {
      "cell_type": "code",
      "execution_count": 277,
      "id": "3b535c94",
      "metadata": {
        "id": "3b535c94"
      },
      "outputs": [],
      "source": [
        "#TODO -- Define this function that generates nearest neighbor models.\n",
        "def define_nearest_neighbor(corpus, metric):\n",
        "    \"\"\"Generates a nearest neighbor model from a training corpus and a\n",
        "    distance metric.\n",
        "    Arguments:\n",
        "      `corpus`: a training corpus, such as `training`\n",
        "      `metric`: a metric function which takes two tensors as input and \n",
        "                returns their distance, such as `euclidean_distance`\n",
        "    Returns:\n",
        "      a model, which is a function that takes in a test example (such as \n",
        "      `testing[0]`) and returns the author of the nearest example in the \n",
        "      training set, where distances are measured on the counts vector \n",
        "      using `metric`.\n",
        "    \"\"\"\n",
        "    def model(example):\n",
        "     #compute the distance between example and every element of the corpus\n",
        "        nearest_list = [  metric(example['counts'] , ex['counts'])  for ex in corpus ]\n",
        "        index = nearest_list.index(min(nearest_list))\n",
        "        return corpus[index]['authors']\n",
        "\n",
        "    return model"
      ]
    },
    {
      "cell_type": "markdown",
      "id": "055dda0e",
      "metadata": {
        "id": "055dda0e"
      },
      "source": [
        "We can use the `define_nearest_neighbor` function to define two new models for nearest neighbor classification, one using Euclidean distance and one using cosine distance."
      ]
    },
    {
      "cell_type": "code",
      "execution_count": 278,
      "id": "c66c8f4b",
      "metadata": {
        "id": "c66c8f4b"
      },
      "outputs": [],
      "source": [
        "nearest_neighbor_euclidean_model = \\\n",
        "    define_nearest_neighbor(training, euclidean_distance)\n",
        "\n",
        "nearest_neighbor_cosine_model = \\\n",
        "    define_nearest_neighbor(training, cosine_distance)"
      ]
    },
    {
      "cell_type": "markdown",
      "id": "091732fe",
      "metadata": {
        "id": "091732fe"
      },
      "source": [
        "### Testing the nearest neighbor models on the training data"
      ]
    },
    {
      "cell_type": "markdown",
      "id": "60c40672",
      "metadata": {
        "deletable": false,
        "editable": false,
        "id": "60c40672"
      },
      "source": [
        "How accurate are these models when used to label the training data (as we did for the majority class model above)? Use the `accuracy` function above to calculate the accuracy of `nearest_neighbor_euclidean_model` in labeling the _training_ data (not the test data), and similarly for `nearest_neighbor_cosine_model`.\n",
        "<!--\n",
        "BEGIN QUESTION\n",
        "name: accuracy_train\n",
        "-->"
      ]
    },
    {
      "cell_type": "code",
      "execution_count": 279,
      "id": "a8f2ed50",
      "metadata": {
        "id": "a8f2ed50"
      },
      "outputs": [],
      "source": [
        "#TODO - Define the variable to be the calculated accuracy.\n",
        "accuracy_nn_euclidean_train = accuracy(training, nearest_neighbor_euclidean_model)\n",
        "accuracy_nn_cosine_train = accuracy(training, nearest_neighbor_cosine_model)"
      ]
    },
    {
      "cell_type": "code",
      "execution_count": 280,
      "id": "04aa0e0e",
      "metadata": {
        "deletable": false,
        "editable": false,
        "id": "04aa0e0e",
        "colab": {
          "base_uri": "https://localhost:8080/",
          "height": 46
        },
        "outputId": "eb5999cf-7342-410c-aeb6-13a30ca05730"
      },
      "outputs": [
        {
          "output_type": "execute_result",
          "data": {
            "text/plain": [
              "\n",
              "    All tests passed!\n",
              "    "
            ],
            "text/html": [
              "\n",
              "    \n",
              "    \n",
              "        <p>All tests passed!</p>\n",
              "    \n",
              "    "
            ]
          },
          "metadata": {},
          "execution_count": 280
        }
      ],
      "source": [
        "grader.check(\"accuracy_train\")"
      ]
    },
    {
      "cell_type": "code",
      "execution_count": 281,
      "id": "c5c97371",
      "metadata": {
        "id": "c5c97371",
        "colab": {
          "base_uri": "https://localhost:8080/",
          "height": 0
        },
        "outputId": "cccd85aa-ad69-4d72-c018-ff73553e6939"
      },
      "outputs": [
        {
          "output_type": "stream",
          "name": "stdout",
          "text": [
            "Accuracy of the nearest neighbor euclidean model tested on training data: 1.000\n",
            "Accuracy of the nearest neighbor cosine model tested on training data: 1.000\n"
          ]
        }
      ],
      "source": [
        "print(f\"Accuracy of the nearest neighbor euclidean model tested on training data: \"\n",
        "      f\"{accuracy_nn_euclidean_train:.3f}\")\n",
        "print(f\"Accuracy of the nearest neighbor cosine model tested on training data: \"\n",
        "      f\"{accuracy_nn_cosine_train:.3f}\")"
      ]
    },
    {
      "cell_type": "markdown",
      "id": "62751621",
      "metadata": {
        "deletable": false,
        "editable": false,
        "id": "62751621"
      },
      "source": [
        "<!-- BEGIN QUESTION -->\n",
        "\n",
        "**Question:** Does the performance of these classifiers on the training data seem to you to be representative of how good a classifier each is? Why or why not?\n",
        "<!--\n",
        "BEGIN QUESTION\n",
        "name: open_response_1\n",
        "manual: true\n",
        "-->"
      ]
    },
    {
      "cell_type": "markdown",
      "id": "d2c32e9d",
      "metadata": {
        "id": "d2c32e9d"
      },
      "source": [
        "**no, we didnt exclude the example itself as an option when searching for the nearset neighbour so intuitively we wil get the example itself as an answer (since it is its own nearest neighbour), what we should have done is:** \n",
        "```\n",
        "metric(example['counts'] , ex['counts']) for ex in corpus if ex is not example\n",
        "```\n",
        "this way we will receive an accuracy of 0.985 instead of 1.00 \n",
        "\n"
      ]
    },
    {
      "cell_type": "markdown",
      "id": "a7feebb0",
      "metadata": {
        "deletable": false,
        "editable": false,
        "id": "a7feebb0"
      },
      "source": [
        "<!-- END QUESTION -->\n",
        "\n",
        "#### Testing the nearest neighbor models on the testing data\n",
        "\n",
        "To get a better sense of how the nearest neighbor models perform, let's try them out on the testing data that we have. (Recall that the testing data in `testing` were the ambiguously-authored Federalist papers, where the `authors` field was `'Hamilton or Madison'`.)\n",
        "\n",
        "We start by looking in detail at the predictions generated by the two nearest neighbor models. Print out a table that lists, for each `testing` example, the paper number and the authors predicted under the nearest neighbor Euclidean model and the nearest neighbor cosine model. It might look something like\n",
        "```\n",
        "49 Madison  Madison \n",
        "50 Hamilton Madison \n",
        "51 Madison  Madison\n",
        "...\n",
        "```\n",
        "\n",
        "<!--\n",
        "BEGIN QUESTION\n",
        "name: print_table\n",
        "-->"
      ]
    },
    {
      "cell_type": "code",
      "execution_count": 282,
      "id": "1e3962f2",
      "metadata": {
        "id": "1e3962f2",
        "colab": {
          "base_uri": "https://localhost:8080/",
          "height": 0
        },
        "outputId": "07b7b02d-6353-479e-c512-0e26dfa58130"
      },
      "outputs": [
        {
          "output_type": "stream",
          "name": "stdout",
          "text": [
            "49 Madison Madison\n",
            "50 Hamilton Madison\n",
            "51 Madison Madison\n",
            "52 Madison Madison\n",
            "53 Madison Madison\n",
            "54 Madison Madison\n",
            "55 Madison Hamilton\n",
            "56 Madison Madison\n",
            "57 Madison Madison\n",
            "62 Madison Madison\n",
            "63 Madison Madison\n"
          ]
        }
      ],
      "source": [
        "#TODO - Print out the requested table.\n",
        "l = [ ex['number'] + ' ' + \\\n",
        "     str(nearest_neighbor_euclidean_model(ex)) + ' ' + \\\n",
        "     str(nearest_neighbor_cosine_model(ex)) \\\n",
        "     for ex in testing ]\n",
        "print(*l, sep='\\n')"
      ]
    },
    {
      "cell_type": "markdown",
      "id": "abf8a2c6",
      "metadata": {
        "deletable": false,
        "editable": false,
        "id": "abf8a2c6"
      },
      "source": [
        "<!-- BEGIN QUESTION -->\n",
        "\n",
        "What do you notice about the two models?\n",
        "<!--\n",
        "BEGIN QUESTION\n",
        "name: open_response_2\n",
        "manual: true\n",
        "-->"
      ]
    },
    {
      "cell_type": "markdown",
      "id": "de8e1293",
      "metadata": {
        "id": "de8e1293"
      },
      "source": [
        "**we can see that both models return the same neighbour in most cases (except for numbers=[50,55])**"
      ]
    },
    {
      "cell_type": "markdown",
      "id": "a1aacc2c",
      "metadata": {
        "deletable": false,
        "editable": false,
        "id": "a1aacc2c"
      },
      "source": [
        "<!-- END QUESTION -->\n",
        "\n",
        "### Testing the nearest neighbor models on the testing data\n",
        "\n",
        "Now use the `accuracy` function to calculate the accuracy of the two nearest neighbor models as you did above, but this time calculating accuracy on the *testing* corpus rather than the training corpus. (Expect to find a surprising result. Read ahead for an explanation if you're confused.)\n",
        "<!--\n",
        "BEGIN QUESTION\n",
        "name: accuracy_test\n",
        "-->"
      ]
    },
    {
      "cell_type": "code",
      "execution_count": 283,
      "id": "f889fdf4",
      "metadata": {
        "id": "f889fdf4"
      },
      "outputs": [],
      "source": [
        "#TODO -- Define the variables to be, respectively, the calculated accuracy of the nearest \n",
        "#        neighbor Euclidean model and cosine model on the testing data.\n",
        "accuracy_nn_euclidean_test = accuracy(testing, nearest_neighbor_euclidean_model)\n",
        "accuracy_nn_cosine_test = accuracy(testing, nearest_neighbor_cosine_model)"
      ]
    },
    {
      "cell_type": "code",
      "execution_count": 284,
      "id": "b1226f60",
      "metadata": {
        "deletable": false,
        "editable": false,
        "id": "b1226f60",
        "colab": {
          "base_uri": "https://localhost:8080/",
          "height": 46
        },
        "outputId": "a5b5edee-f1d3-41af-e2a0-02714613d97a"
      },
      "outputs": [
        {
          "output_type": "execute_result",
          "data": {
            "text/plain": [
              "\n",
              "    All tests passed!\n",
              "    "
            ],
            "text/html": [
              "\n",
              "    \n",
              "    \n",
              "        <p>All tests passed!</p>\n",
              "    \n",
              "    "
            ]
          },
          "metadata": {},
          "execution_count": 284
        }
      ],
      "source": [
        "grader.check(\"accuracy_test\")"
      ]
    },
    {
      "cell_type": "code",
      "execution_count": 285,
      "id": "b19ba785",
      "metadata": {
        "id": "b19ba785",
        "colab": {
          "base_uri": "https://localhost:8080/",
          "height": 0
        },
        "outputId": "815d41bc-b398-4bbf-e7d2-c1b3887a2294"
      },
      "outputs": [
        {
          "output_type": "stream",
          "name": "stdout",
          "text": [
            "Accuracy of the nearest neighbor euclidean model tested on testing data: 0.000\n",
            "Accuracy of the nearest neighbor cosine model tested on testing data: 0.000\n"
          ]
        }
      ],
      "source": [
        "print(f\"Accuracy of the nearest neighbor euclidean model tested on testing data: \"\n",
        "      f\"{accuracy_nn_euclidean_test:.3f}\")\n",
        "print(f\"Accuracy of the nearest neighbor cosine model tested on testing data: \"\n",
        "      f\"{accuracy_nn_cosine_test:.3f}\")"
      ]
    },
    {
      "cell_type": "markdown",
      "id": "5a8f191b",
      "metadata": {
        "deletable": false,
        "editable": false,
        "id": "5a8f191b"
      },
      "source": [
        "<!-- BEGIN QUESTION -->\n",
        "\n",
        "**Question:** Does the performance of these classifiers on the testing data seem to you to be representative of how good a classifier each is? Why or why not?\n",
        "<!--\n",
        "BEGIN QUESTION\n",
        "name: open_response_3\n",
        "manual: true\n",
        "-->"
      ]
    },
    {
      "cell_type": "markdown",
      "id": "c50ef2c5",
      "metadata": {
        "id": "c50ef2c5"
      },
      "source": [
        "**no, testing data and training data are very different, the former label is `Hamilton or Madison` while the latter's labels are `Hamilton` or `Madison` therefore no example will be considered the nearest neighbour, resulting in the \"surprising result\" mentioned before**\n",
        "\n",
        "`training = list(filter(lambda ex: ex['authors'] in ['Madison', 'Hamilton'],dataset))`\n",
        "\n",
        "`testing = list(filter(lambda ex: ex['authors'] == 'Hamilton or Madison', dataset))`"
      ]
    },
    {
      "cell_type": "markdown",
      "id": "e25c4441",
      "metadata": {
        "deletable": false,
        "editable": false,
        "id": "e25c4441"
      },
      "source": [
        "<!-- END QUESTION -->\n",
        "\n",
        "### The importance of gold labels\n",
        "\n",
        "In order to evaluate the accuracy of the nearest neighbor model – and any model – we need to have the correct labels for the testing corpus, the so-called _gold_ labels. What shall we use for gold labels? Mosteller and Wallace's much more extensive analysis concluded that all of the papers of ambiguous origin were penned by Madison, so we'll use that. We should use a version of the `testing` corpus with the gold labels. \n",
        "\n",
        "Write some code to generate a version of the testing corpus with the gold labels.\n",
        "\n",
        "> Hint: In defining `testing_gold`, you'll want to be careful not to change `testing`. Otherwise, some unit tests that use `testing` may fail. The `copy.deepcopy` function may be useful.\n",
        "\n",
        "<!--\n",
        "BEGIN QUESTION\n",
        "name: get_gold\n",
        "-->"
      ]
    },
    {
      "cell_type": "code",
      "execution_count": 286,
      "id": "4289faec",
      "metadata": {
        "id": "4289faec"
      },
      "outputs": [],
      "source": [
        "#TODO - Write code that defines `testing_gold`, which is the same\n",
        "# as `testing` except that it has the correct gold labels.\n",
        "# Note: be careful to not change `testing`.\n",
        "testing_gold = copy.deepcopy(testing)\n",
        "for i in range(0, len(testing_gold)):\n",
        "  testing_gold[i]['authors'] = 'Madison'"
      ]
    },
    {
      "cell_type": "code",
      "execution_count": 287,
      "id": "587ee5f5",
      "metadata": {
        "deletable": false,
        "editable": false,
        "id": "587ee5f5",
        "colab": {
          "base_uri": "https://localhost:8080/",
          "height": 46
        },
        "outputId": "66a46676-8f68-4f10-a1c7-3ad951b57a4b"
      },
      "outputs": [
        {
          "output_type": "execute_result",
          "data": {
            "text/plain": [
              "\n",
              "    All tests passed!\n",
              "    "
            ],
            "text/html": [
              "\n",
              "    \n",
              "    \n",
              "        <p>All tests passed!</p>\n",
              "    \n",
              "    "
            ]
          },
          "metadata": {},
          "execution_count": 287
        }
      ],
      "source": [
        "grader.check(\"get_gold\")"
      ]
    },
    {
      "cell_type": "markdown",
      "id": "1225de57",
      "metadata": {
        "id": "1225de57"
      },
      "source": [
        "Now we can rerun the accuracy calculations."
      ]
    },
    {
      "cell_type": "code",
      "execution_count": 288,
      "id": "281cfd9e",
      "metadata": {
        "id": "281cfd9e"
      },
      "outputs": [],
      "source": [
        "accuracy_nn_euclidean_test_with_gold = accuracy(testing_gold, nearest_neighbor_euclidean_model)\n",
        "accuracy_nn_cosine_test_with_gold = accuracy(testing_gold, nearest_neighbor_cosine_model)"
      ]
    },
    {
      "cell_type": "code",
      "execution_count": 289,
      "id": "5e4c211c",
      "metadata": {
        "id": "5e4c211c",
        "colab": {
          "base_uri": "https://localhost:8080/",
          "height": 0
        },
        "outputId": "f79c3a0f-ee8b-4215-b314-2590f0afd9b4"
      },
      "outputs": [
        {
          "output_type": "stream",
          "name": "stdout",
          "text": [
            "Accuracy of the nearest neighbor euclidean model tested on testing data: 0.909\n",
            "Accuracy of the nearest neighbor cosine model tested on testing data: 0.909\n"
          ]
        }
      ],
      "source": [
        "print(f\"Accuracy of the nearest neighbor euclidean model tested on testing data: \"\n",
        "      f\"{accuracy_nn_euclidean_test_with_gold:.3f}\")\n",
        "print(f\"Accuracy of the nearest neighbor cosine model tested on testing data: \"\n",
        "      f\"{accuracy_nn_cosine_test_with_gold:.3f}\")"
      ]
    },
    {
      "cell_type": "markdown",
      "id": "a7800f34",
      "metadata": {
        "id": "a7800f34"
      },
      "source": [
        "Do these results make more sense?"
      ]
    },
    {
      "cell_type": "markdown",
      "source": [
        "**yes, since we used correct labeling**"
      ],
      "metadata": {
        "id": "PrVDb6RMr5pZ"
      },
      "id": "PrVDb6RMr5pZ"
    },
    {
      "cell_type": "markdown",
      "id": "98cf23d3",
      "metadata": {
        "deletable": false,
        "editable": false,
        "id": "98cf23d3"
      },
      "source": [
        "<!-- BEGIN QUESTION -->\n",
        "\n",
        "# Lab debrief\n",
        "\n",
        "**Question:** We're interested in any thoughts you have about this lab so that we can improve this lab for later years, and to inform later labs for this year. Please list any issues that arose or comments you have to improve the lab. Useful things to comment on include the following: \n",
        "\n",
        "* Was the lab too long or too short?\n",
        "* Were the readings appropriate for the lab? \n",
        "* Was it clear (at least after you completed the lab) what the points of the exercises were? \n",
        "* Are there additions or changes you think would make the lab better?\n",
        "\n",
        "<!--\n",
        "BEGIN QUESTION\n",
        "name: open_response_debrief\n",
        "manual: true\n",
        "-->"
      ]
    },
    {
      "cell_type": "markdown",
      "id": "e5577014",
      "metadata": {
        "id": "e5577014"
      },
      "source": [
        "**This lab was very interesting, a perfect length - not too short to be irrelevant, nor too long to become tedious.\n",
        "The explanations throughiut the lab are great and the \"baby steps\" towards the final solution make it seem intuitive, and quite frankly, fun. Hopes for more similar (length and interest wise) labs**"
      ]
    },
    {
      "cell_type": "markdown",
      "id": "4820a428",
      "metadata": {
        "id": "4820a428"
      },
      "source": [
        "<!-- END QUESTION -->\n",
        "\n",
        "\n",
        "\n",
        "# End of lab 1-2"
      ]
    },
    {
      "cell_type": "markdown",
      "id": "ac79d523",
      "metadata": {
        "deletable": false,
        "editable": false,
        "id": "ac79d523"
      },
      "source": [
        "---\n",
        "\n",
        "To double-check your work, the cell below will rerun all of the autograder tests."
      ]
    },
    {
      "cell_type": "code",
      "execution_count": 290,
      "id": "69ce6674",
      "metadata": {
        "deletable": false,
        "editable": false,
        "id": "69ce6674",
        "colab": {
          "base_uri": "https://localhost:8080/",
          "height": 536
        },
        "outputId": "89e6bf3f-53c7-4483-f87e-411d9cd038d6"
      },
      "outputs": [
        {
          "output_type": "execute_result",
          "data": {
            "text/plain": [
              "accuracy_maj_class_train:\n",
              "\n",
              "    All tests passed!\n",
              "    \n",
              "\n",
              "accuracy_test:\n",
              "\n",
              "    All tests passed!\n",
              "    \n",
              "\n",
              "accuracy_test_gold:\n",
              "\n",
              "    All tests passed!\n",
              "    \n",
              "\n",
              "accuracy_train:\n",
              "\n",
              "    All tests passed!\n",
              "    \n",
              "\n",
              "cosine_distance:\n",
              "\n",
              "    All tests passed!\n",
              "    \n",
              "\n",
              "euclidean_distance:\n",
              "\n",
              "    All tests passed!\n",
              "    \n",
              "\n",
              "get_gold:\n",
              "\n",
              "    All tests passed!\n",
              "    \n",
              "\n",
              "maj_class_accuracy_guess:\n",
              "\n",
              "    All tests passed!\n",
              "    \n",
              "\n",
              "maj_class_label:\n",
              "\n",
              "    All tests passed!\n",
              "    \n",
              "\n",
              "majority_class:\n",
              "\n",
              "    All tests passed!\n",
              "    \n",
              "\n",
              "majority_class_label:\n",
              "\n",
              "    All tests passed!\n",
              "    \n"
            ],
            "text/html": [
              "<p><strong>accuracy_maj_class_train:</strong></p>\n",
              "\n",
              "    \n",
              "    \n",
              "        <p>All tests passed!</p>\n",
              "    \n",
              "    \n",
              "\n",
              "<p><strong>accuracy_test:</strong></p>\n",
              "\n",
              "    \n",
              "    \n",
              "        <p>All tests passed!</p>\n",
              "    \n",
              "    \n",
              "\n",
              "<p><strong>accuracy_test_gold:</strong></p>\n",
              "\n",
              "    \n",
              "    \n",
              "        <p>All tests passed!</p>\n",
              "    \n",
              "    \n",
              "\n",
              "<p><strong>accuracy_train:</strong></p>\n",
              "\n",
              "    \n",
              "    \n",
              "        <p>All tests passed!</p>\n",
              "    \n",
              "    \n",
              "\n",
              "<p><strong>cosine_distance:</strong></p>\n",
              "\n",
              "    \n",
              "    \n",
              "        <p>All tests passed!</p>\n",
              "    \n",
              "    \n",
              "\n",
              "<p><strong>euclidean_distance:</strong></p>\n",
              "\n",
              "    \n",
              "    \n",
              "        <p>All tests passed!</p>\n",
              "    \n",
              "    \n",
              "\n",
              "<p><strong>get_gold:</strong></p>\n",
              "\n",
              "    \n",
              "    \n",
              "        <p>All tests passed!</p>\n",
              "    \n",
              "    \n",
              "\n",
              "<p><strong>maj_class_accuracy_guess:</strong></p>\n",
              "\n",
              "    \n",
              "    \n",
              "        <p>All tests passed!</p>\n",
              "    \n",
              "    \n",
              "\n",
              "<p><strong>maj_class_label:</strong></p>\n",
              "\n",
              "    \n",
              "    \n",
              "        <p>All tests passed!</p>\n",
              "    \n",
              "    \n",
              "\n",
              "<p><strong>majority_class:</strong></p>\n",
              "\n",
              "    \n",
              "    \n",
              "        <p>All tests passed!</p>\n",
              "    \n",
              "    \n",
              "\n",
              "<p><strong>majority_class_label:</strong></p>\n",
              "\n",
              "    \n",
              "    \n",
              "        <p>All tests passed!</p>\n",
              "    \n",
              "    \n",
              "\n"
            ]
          },
          "metadata": {},
          "execution_count": 290
        }
      ],
      "source": [
        "grader.check_all()"
      ]
    }
  ],
  "metadata": {
    "kernelspec": {
      "display_name": "otter-latest",
      "language": "python",
      "name": "python3"
    },
    "language_info": {
      "codemirror_mode": {
        "name": "ipython",
        "version": 3
      },
      "file_extension": ".py",
      "mimetype": "text/x-python",
      "name": "python",
      "nbconvert_exporter": "python",
      "pygments_lexer": "ipython3",
      "version": "3.8.3"
    },
    "title": "CS236299 Lab 1-2: Text classification and evaluation methodology",
    "vscode": {
      "interpreter": {
        "hash": "4fba83c08fc02185bb2310bd24d0cd81fb04529c933f82aa81c61aab9d5528dc"
      }
    },
    "colab": {
      "provenance": []
    }
  },
  "nbformat": 4,
  "nbformat_minor": 5
}