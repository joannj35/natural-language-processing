{
  "cells": [
    {
      "cell_type": "code",
      "execution_count": null,
      "id": "13cc8345",
      "metadata": {
        "deletable": false,
        "editable": false,
        "jupyter": {
          "outputs_hidden": true,
          "source_hidden": true
        },
        "colab": {
          "base_uri": "https://localhost:8080/"
        },
        "id": "13cc8345",
        "outputId": "343fc02a-40fe-4f5e-f5cc-7da05e0d83cc"
      },
      "outputs": [
        {
          "output_type": "stream",
          "name": "stdout",
          "text": [
            "\n"
          ]
        }
      ],
      "source": [
        "# Please do not change this cell because some hidden tests might depend on it.\n",
        "import os\n",
        "\n",
        "# Otter grader does not handle ! commands well, so we define and use our\n",
        "# own function to execute shell commands.\n",
        "def shell(commands, warn=True):\n",
        "    \"\"\"Executes the string `commands` as a sequence of shell commands.\n",
        "     \n",
        "       Prints the result to stdout and returns the exit status. \n",
        "       Provides a printed warning on non-zero exit status unless `warn` \n",
        "       flag is unset.\n",
        "    \"\"\"\n",
        "    file = os.popen(commands)\n",
        "    print (file.read().rstrip('\\n'))\n",
        "    exit_status = file.close()\n",
        "    if warn and exit_status != None:\n",
        "        print(f\"Completed with errors. Exit status: {exit_status}\\n\")\n",
        "    return exit_status\n",
        "\n",
        "shell(\"\"\"\n",
        "ls requirements.txt >/dev/null 2>&1\n",
        "if [ ! $? = 0 ]; then\n",
        " rm -rf .tmp\n",
        " git clone https://github.com/cs236299-2023-spring/lab1-5.git .tmp\n",
        " mv .tmp/tests ./\n",
        " mv .tmp/requirements.txt ./\n",
        " rm -rf .tmp\n",
        "fi\n",
        "pip install -q -r requirements.txt\n",
        "\"\"\")"
      ]
    },
    {
      "cell_type": "code",
      "execution_count": null,
      "id": "60feb290",
      "metadata": {
        "deletable": false,
        "editable": false,
        "id": "60feb290"
      },
      "outputs": [],
      "source": [
        "# Initialize Otter\n",
        "import otter\n",
        "grader = otter.Notebook()"
      ]
    },
    {
      "cell_type": "raw",
      "id": "242c48b7",
      "metadata": {
        "id": "242c48b7"
      },
      "source": [
        "%%latex\n",
        "\\newcommand{\\vect}[1]{\\mathbf{#1}}\n",
        "\\newcommand{\\cnt}[1]{\\sharp(#1)}\n",
        "\\newcommand{\\argmax}[1]{\\underset{#1}{\\operatorname{argmax}}}\n",
        "\\newcommand{\\softmax}{\\operatorname{softmax}}\n",
        "\\newcommand{\\Prob}{\\Pr}\n",
        "\\newcommand{\\given}{\\,|\\,}"
      ]
    },
    {
      "cell_type": "markdown",
      "id": "195e1ba3",
      "metadata": {
        "id": "195e1ba3"
      },
      "source": [
        "$$\n",
        "\\renewcommand{\\vect}[1]{\\mathbf{#1}}\n",
        "\\renewcommand{\\cnt}[1]{\\sharp(#1)}\n",
        "\\renewcommand{\\argmax}[1]{\\underset{#1}{\\operatorname{argmax}}}\n",
        "\\renewcommand{\\softmax}{\\operatorname{softmax}}\n",
        "\\renewcommand{\\Prob}{\\Pr}\n",
        "\\renewcommand{\\given}{\\,|\\,}\n",
        "$$"
      ]
    },
    {
      "cell_type": "markdown",
      "id": "e6362ab1",
      "metadata": {
        "tags": [
          "remove_for_latex"
        ],
        "id": "e6362ab1"
      },
      "source": [
        "# Course 236299\n",
        "## Lab 1-5 – Scaling up: Huggingface Datasets, Tokenizers, and PyTorch"
      ]
    },
    {
      "cell_type": "markdown",
      "id": "8048f316",
      "metadata": {
        "id": "8048f316"
      },
      "source": [
        "As you've seen, a typical pipeline for NLP applications based on supervised machine learning involves several standard components:\n",
        "\n",
        "1. Loading of annotated textual corpora.\n",
        "2. Tokenization and normalization of the text.\n",
        "3. Distributing instances into subcorpora, for instance, training, development, and test corpora.\n",
        "4. Training of models on training data, using development data for model selection.\n",
        "5. Evaluation of the models on test data.\n",
        "\n",
        "Rather than recapitulate all of these component tasks for each application, standard packages have been developed to facilitate them. In order to facilitate your own experimentation, it's time to make use of some of these packages to scale up your ability to build and test models. That is the subject of this lab.\n",
        "\n",
        "Huggingface's `datasets` and `tokenizers` libraries provide a uniform system for establishing dataset objects that contain multiple examples, each of which may have multiple features. These libraries provide functions to preprocess, tokenize, or postprocess the data. Dataset objects can be easily split into parts (training and test, for instance), or turned into a sequence of small batches for processing by models. Most importantly, as you will see in future labs, these data loading libraries can be easily integrated with Huggingface's `transformers` library which is widely used in NLP applications these days. \n",
        "\n",
        "This lab provides an introduction to using `datasets`, `tokenizers`, and PyTorch in preparation for its appearance in later labs and homework problem sets.\n",
        "\n",
        "After this lab, you should be able to\n",
        "\n",
        "* Read data loading code implemented using `datasets` and `tokenizers` and understand what it is intending to accomplish.\n",
        "* Run experiments training and testing simple feed-forward neural networks using PyTorch."
      ]
    },
    {
      "cell_type": "markdown",
      "id": "4677a315",
      "metadata": {
        "id": "4677a315"
      },
      "source": [
        "New bits of Python used for the first time in the *distribution version* of this lab include:\n",
        "\n",
        "* Datasets\n",
        "    * [`datasets.load_dataset`](https://huggingface.co/docs/datasets/loading)\n",
        "\n",
        "    * [`datasets.Dataset`](https://huggingface.co/docs/datasets/package_reference/main_classes#datasets.Dataset)\n",
        "    * `datasets.Dataset.shuffle`\n",
        "    * `datasets.Dataset.train_test_split`\n",
        "    * `datasets.Dataset.add_column`\n",
        "    * `datasets.Dataset.map`\n",
        "    * `datasets.Dataset.class_encode_column`\n",
        "    * `datasets.Dataset.align_labels_with_mapping`\n",
        "   \n",
        "* Tokenizers\n",
        "    * [`tokenizers.Tokenizer`](https://huggingface.co/docs/tokenizers/pipeline)\n",
        "    * `tokenizer.Tokenizer.encode`\n",
        "    * `tokenizer.Tokenizer.decode`\n",
        "    * `tokenizer.Tokenizer.get_vocab`\n",
        "    * `tokenizer.Tokenizer.train_from_iterator`\n",
        "    * `tokenizer.processors.TemplateProcessing`\n",
        "\n",
        "* Transformers\n",
        "    * `transformers.PreTrainedTokenizerFast`\n",
        "* Torch\n",
        "    * [`torch.utils.data.DataLoader`](https://pytorch.org/docs/stable/data.html)\n",
        "    * [`torch.nn.Module.eval`](https://pytorch.org/docs/stable/generated/torch.nn.Module.html#torch.nn.Module.eval)\n",
        "    * `torch.nn.Linear`\n",
        "    * `torch.nn.Sigmoid`\n",
        "    * `torch.distributions.normal.Normal`\n",
        "    * `torch.distributions.uniform.Uniform`\n",
        "\n",
        "\n",
        "* `tqdm.tqdm` (for generating progress bars)\n",
        "\n",
        "New bits of Python used for the first time in the *solution set* for this lab, and which you may therefore find useful:\n",
        "\n",
        "* [`torch.Tensor.backward`](https://pytorch.org/docs/stable/autograd.html#torch.Tensor.backward)\n",
        "* [`torch.optim.Optimizer.step`](https://pytorch.org/docs/stable/generated/torch.optim.Optimizer.step.html#torch.optim.Optimizer.step)"
      ]
    },
    {
      "cell_type": "markdown",
      "id": "1f62ceac",
      "metadata": {
        "id": "1f62ceac"
      },
      "source": [
        "# Preparation – Loading packages and data"
      ]
    },
    {
      "cell_type": "code",
      "execution_count": null,
      "id": "de34aab5",
      "metadata": {
        "deletable": false,
        "editable": false,
        "id": "de34aab5"
      },
      "outputs": [],
      "source": [
        "import copy\n",
        "import math\n",
        "import random\n",
        "import matplotlib.pyplot as plt\n",
        "import os\n",
        "from copy import deepcopy\n",
        "import re\n",
        "import sys\n",
        "import warnings\n",
        "import wget\n",
        "import csv\n",
        "\n",
        "import torch\n",
        "import torch.distributions as ds\n",
        "import torch.nn as nn\n",
        "import torch.nn.functional as F\n",
        "import datasets\n",
        "\n",
        "from datasets import load_dataset\n",
        "from tokenizers import Tokenizer\n",
        "from tokenizers.pre_tokenizers import Whitespace\n",
        "from tokenizers.processors import TemplateProcessing\n",
        "from tokenizers import normalizers\n",
        "from tokenizers.models import WordLevel\n",
        "from tokenizers.trainers import WordLevelTrainer\n",
        "\n",
        "from transformers import PreTrainedTokenizerFast\n",
        "\n",
        "from torch import optim\n",
        "from tqdm import tqdm"
      ]
    },
    {
      "cell_type": "code",
      "execution_count": null,
      "id": "fa47e1ed",
      "metadata": {
        "colab": {
          "base_uri": "https://localhost:8080/"
        },
        "id": "fa47e1ed",
        "outputId": "db6ebcb0-13b6-4127-da60-0877a69bdcee"
      },
      "outputs": [
        {
          "output_type": "stream",
          "name": "stdout",
          "text": [
            "cuda\n"
          ]
        }
      ],
      "source": [
        "# Set up plotting\n",
        "plt.style.use('tableau-colorblind10')\n",
        "\n",
        "# Fix random seed for replicability\n",
        "random_seed = 1234\n",
        "random.seed(random_seed)\n",
        "torch.manual_seed(random_seed)\n",
        "\n",
        "## GPU check\n",
        "device = torch.device(\"cuda\" if torch.cuda.is_available() else \"cpu\")\n",
        "print(device)"
      ]
    },
    {
      "cell_type": "markdown",
      "id": "63f0f1e2",
      "metadata": {
        "id": "63f0f1e2"
      },
      "source": [
        "# Manipulating text corpora with `datasets`"
      ]
    },
    {
      "cell_type": "markdown",
      "id": "a20d1410",
      "metadata": {
        "id": "a20d1410"
      },
      "source": [
        "You'll use Huggingface's `datasets` to load the _Green Eggs and Ham_ (GEaH) dataset.\n",
        "\n",
        "We start with reading in the data and performing some ad hoc cleaning (removing comment lines and blank lines)."
      ]
    },
    {
      "cell_type": "code",
      "execution_count": null,
      "id": "91819d92",
      "metadata": {
        "id": "91819d92"
      },
      "outputs": [],
      "source": [
        "def strip_file(text):\n",
        "    \"\"\"strip #comments and empty lines from `text` string\"\"\"\n",
        "    result = \"\"\n",
        "    for line in text.split(\"\\n\"):\n",
        "        line = line.strip()              # trim whitespace\n",
        "        line = re.sub('#.*$', '', line)  # trim comments\n",
        "        if line != '':                   # drop blank lines\n",
        "            result += line + '\\n'\n",
        "    return result\n",
        "\n",
        "# Read the GEaH data and write out a corresponding CSV file\n",
        "os.makedirs('data', exist_ok=True)\n",
        "wget.download(\"https://github.com/nlp-236299/data/raw/master/Seuss/seuss - 1960 - green eggs and ham.txt\", out=\"data/\")\n",
        "with open('data/seuss - 1960 - green eggs and ham.txt', 'r') as fin:\n",
        "    with open('data/geah.csv', 'w') as fout:\n",
        "        writer = csv.writer(fout)\n",
        "        writer.writerow(('label','text'))\n",
        "        text = strip_file(fin.read())\n",
        "        for line in text.strip().split('\\n'):\n",
        "            label, text = line.split('\\t')\n",
        "            writer.writerow((label, text))"
      ]
    },
    {
      "cell_type": "markdown",
      "id": "e82b0ff0",
      "metadata": {
        "id": "e82b0ff0"
      },
      "source": [
        "## Constructing training and test datasets\n",
        "\n",
        "Take a look at the file `geah.csv`, which we've just processed and placed into the sibling `data` folder. "
      ]
    },
    {
      "cell_type": "code",
      "execution_count": null,
      "id": "8d318429",
      "metadata": {
        "colab": {
          "base_uri": "https://localhost:8080/"
        },
        "id": "8d318429",
        "outputId": "00c23dfa-63cc-42c7-963a-1f6fd5c745c5"
      },
      "outputs": [
        {
          "output_type": "stream",
          "name": "stdout",
          "text": [
            "label,text\n",
            "SAM,I am Sam.\n",
            "SAM,I am Sam.\n",
            "SAM,Sam I am.\n",
            "GUY,That Sam-I-am!\n",
            "GUY,That Sam-I-am!\n",
            "GUY,I do not like that Sam-I-am!\n",
            "SAM,Do you like green eggs and ham?\n",
            "GUY,\"I do not like them, Sam-I-am.\"\n",
            "GUY,I do not like green eggs and ham.\n"
          ]
        }
      ],
      "source": [
        "shell('head \"data/geah.csv\"')"
      ]
    },
    {
      "cell_type": "markdown",
      "id": "2b3fb563",
      "metadata": {
        "id": "2b3fb563"
      },
      "source": [
        "Notice the structure of this corpus. Each line contains a sentence from the book, preceded by a label that provides the speaker of that sentence. The speaker and sentence are separated by a comma. The data is thus set up properly for using Huggingface's [`datasets.load_dataset`](https://huggingface.co/docs/datasets/loading) using its `\"CSV\"` (comma-separated values) format."
      ]
    },
    {
      "cell_type": "markdown",
      "id": "18ddd6f6",
      "metadata": {
        "deletable": false,
        "editable": false,
        "id": "18ddd6f6"
      },
      "source": [
        "Now, you can set up the dataset using [`load_dataset`](https://huggingface.co/docs/datasets/loading). It should look for the CSV data in the file `data/geah.csv`, and should pass the argument `split='all'` such that a `dataset.Dataset` object instead of `dataset.DatasetDict` is returned.\n",
        "\n",
        "<!--\n",
        "BEGIN QUESTION\n",
        "name: dataset_setup\n",
        "-->"
      ]
    },
    {
      "cell_type": "code",
      "execution_count": null,
      "id": "ee130dae",
      "metadata": {
        "colab": {
          "base_uri": "https://localhost:8080/",
          "height": 137,
          "referenced_widgets": [
            "fac43d2d8e42450990b756b35918a50a",
            "48104977181a4d5c9d2ab54044b1ac92",
            "47624deedeff416eaceb35d6594c0e88",
            "9bda0a94824b45ec8dea1a6c8aede0a2",
            "04d6f1ad919d4774a194b890bf367aab",
            "fe9409dae84a401e9d81deeb6b0a6914",
            "11d95dfee95e49b9901ac2a056ac34a6",
            "2ed517a552c84b778110e0fc319a237f",
            "1673e40ec29c49229c79c10a5a859045",
            "fc3380a5e0d44edc8ab0e629252e674f",
            "80506037284c4f7da387824a1d5bf3b9",
            "29946af72cdd4ecb8dae8fdf07d4f753",
            "5aa7d59f446f46aea26c3a055e8467eb",
            "8cd4962f6fb047138262caa334c8dc0b",
            "1150b2ddb0a24d99862e7c16aabd17df",
            "6ee65a255a42499388bd8cc42aeae24b",
            "da05a0fe949e47a38403dd410caf02f0",
            "d063b7d11feb4f5bbff235650680c051",
            "ff0e3139f5624cddbf2ae53c295b55c9",
            "bcf8f79171d145be9e4e6f03499632ca",
            "2cbff1ef4e144182a7501a25901b1110",
            "2ac90deeb9d24ae5b6744b668ab98a0a",
            "0ac0f01d6c994f919838a1322077a93a",
            "61ab689adad84696af9aea3807166156",
            "98056faa232448bc8640bd4ef59245fb",
            "9e02faa87718431b9df14f6f1f47003c",
            "9eea9f19720d490ab50785388d68c7c6",
            "4588fdc8e73a433cb7132d1b7d95589a",
            "436a6eabde74410d97c008a285617cdb",
            "9434fe3196134c18bf0f11db249e897e",
            "4c41710a77ad48e0b8f41b501865ece5",
            "80e92cfb523d4fe9ab8349cded4c6261",
            "a5d01b6b1b764d6384f586b5f78167c8"
          ]
        },
        "id": "ee130dae",
        "outputId": "638a7fce-5849-40fd-c3f0-d09cc7afd600"
      },
      "outputs": [
        {
          "output_type": "stream",
          "name": "stdout",
          "text": [
            "Downloading and preparing dataset csv/default to /root/.cache/huggingface/datasets/csv/default-d7185a9f5ae0c468/0.0.0/6954658bab30a358235fa864b05cf819af0e179325c740e4bc853bcc7ec513e1...\n"
          ]
        },
        {
          "output_type": "display_data",
          "data": {
            "text/plain": [
              "Downloading data files:   0%|          | 0/1 [00:00<?, ?it/s]"
            ],
            "application/vnd.jupyter.widget-view+json": {
              "version_major": 2,
              "version_minor": 0,
              "model_id": "fac43d2d8e42450990b756b35918a50a"
            }
          },
          "metadata": {}
        },
        {
          "output_type": "display_data",
          "data": {
            "text/plain": [
              "Extracting data files:   0%|          | 0/1 [00:00<?, ?it/s]"
            ],
            "application/vnd.jupyter.widget-view+json": {
              "version_major": 2,
              "version_minor": 0,
              "model_id": "29946af72cdd4ecb8dae8fdf07d4f753"
            }
          },
          "metadata": {}
        },
        {
          "output_type": "display_data",
          "data": {
            "text/plain": [
              "Generating train split: 0 examples [00:00, ? examples/s]"
            ],
            "application/vnd.jupyter.widget-view+json": {
              "version_major": 2,
              "version_minor": 0,
              "model_id": "0ac0f01d6c994f919838a1322077a93a"
            }
          },
          "metadata": {}
        },
        {
          "output_type": "stream",
          "name": "stdout",
          "text": [
            "Dataset csv downloaded and prepared to /root/.cache/huggingface/datasets/csv/default-d7185a9f5ae0c468/0.0.0/6954658bab30a358235fa864b05cf819af0e179325c740e4bc853bcc7ec513e1. Subsequent calls will reuse this data.\n"
          ]
        }
      ],
      "source": [
        "#TODO: Set up the dataset using `load_dataset`. You should pass\n",
        "# `split='all'` such that a dataset.Dataset object is returned.\n",
        "geah = datasets.load_dataset(\"csv\", data_files=\"data/geah.csv\", \\\n",
        "                             split='all') #which split of the data to load       \n",
        "geah = geah.shuffle(seed=random_seed)"
      ]
    },
    {
      "cell_type": "code",
      "execution_count": null,
      "id": "92b5c9fe",
      "metadata": {
        "deletable": false,
        "editable": false,
        "colab": {
          "base_uri": "https://localhost:8080/",
          "height": 46
        },
        "id": "92b5c9fe",
        "outputId": "71c2d5ab-7545-4085-d910-c3b3be856401"
      },
      "outputs": [
        {
          "output_type": "execute_result",
          "data": {
            "text/plain": [
              "\n",
              "    All tests passed!\n",
              "    "
            ],
            "text/html": [
              "\n",
              "    \n",
              "    \n",
              "        <p>All tests passed!</p>\n",
              "    \n",
              "    "
            ]
          },
          "metadata": {},
          "execution_count": 131
        }
      ],
      "source": [
        "grader.check(\"dataset_setup\")"
      ]
    },
    {
      "cell_type": "markdown",
      "id": "b29194d7",
      "metadata": {
        "id": "b29194d7"
      },
      "source": [
        "We can see that the loaded dataset has two features: label and text."
      ]
    },
    {
      "cell_type": "code",
      "execution_count": null,
      "id": "53743000",
      "metadata": {
        "colab": {
          "base_uri": "https://localhost:8080/"
        },
        "id": "53743000",
        "outputId": "de25a61b-1943-4c60-a61a-522948b637d9"
      },
      "outputs": [
        {
          "output_type": "execute_result",
          "data": {
            "text/plain": [
              "Dataset({\n",
              "    features: ['label', 'text'],\n",
              "    num_rows: 139\n",
              "})"
            ]
          },
          "metadata": {},
          "execution_count": 132
        }
      ],
      "source": [
        "geah"
      ]
    },
    {
      "cell_type": "markdown",
      "id": "bef7beeb",
      "metadata": {
        "id": "bef7beeb"
      },
      "source": [
        "We can access examples from this dataset simply by indexing it similar to how we index a Python list."
      ]
    },
    {
      "cell_type": "code",
      "execution_count": null,
      "id": "d86e540c",
      "metadata": {
        "colab": {
          "base_uri": "https://localhost:8080/"
        },
        "id": "d86e540c",
        "outputId": "1949f3dd-e994-4666-bba3-4f2d6f402557"
      },
      "outputs": [
        {
          "output_type": "execute_result",
          "data": {
            "text/plain": [
              "{'label': 'GUY', 'text': 'I do not like them here or there.'}"
            ]
          },
          "metadata": {},
          "execution_count": 133
        }
      ],
      "source": [
        "# The first example\n",
        "geah[0]"
      ]
    },
    {
      "cell_type": "code",
      "execution_count": null,
      "id": "bb9406c9",
      "metadata": {
        "colab": {
          "base_uri": "https://localhost:8080/"
        },
        "id": "bb9406c9",
        "outputId": "8e1d13f7-6bd5-423b-ca8d-ed19da13edca"
      },
      "outputs": [
        {
          "output_type": "execute_result",
          "data": {
            "text/plain": [
              "{'label': ['GUY', 'SAM', 'GUY', 'GUY'],\n",
              " 'text': ['I do not like them with a fox.',\n",
              "  'Would you?',\n",
              "  'And I would eat them in a boat.',\n",
              "  'Not in a house.']}"
            ]
          },
          "metadata": {},
          "execution_count": 134
        }
      ],
      "source": [
        "# The second to the fifth examples\n",
        "geah[1:5]"
      ]
    },
    {
      "cell_type": "markdown",
      "id": "12ff8cbf",
      "metadata": {
        "deletable": false,
        "editable": false,
        "id": "12ff8cbf"
      },
      "source": [
        "All [`dataset.Dataset`](https://huggingface.co/docs/datasets/package_reference/main_classes#datasets.Dataset) objects have a [`train_test_split`](https://huggingface.co/docs/datasets/package_reference/main_classes#datasets.Dataset.train_test_split) method that splits the dataset into two pieces, for instance, to have a separate training and test set. Use the `train_test_split` method to generate a 70%/30% split of the GEaH corpus into two subsets called `train` and `test`. Note that you need to pass `seed=random_seed` to make sure the splitting to be determinstic and to pass the tests.\n",
        "<!--\n",
        "BEGIN QUESTION\n",
        "name: dataset_split\n",
        "-->"
      ]
    },
    {
      "cell_type": "code",
      "execution_count": null,
      "id": "33390d65",
      "metadata": {
        "id": "33390d65"
      },
      "outputs": [],
      "source": [
        "#TODO: Split geah into 70% training data and 30% test data\n",
        "# Make sure to pass `seed=random_seed`.\n",
        "train_test = geah.train_test_split(test_size=0.3, seed=random_seed) # training is set to the complement size\n",
        "                                   \n",
        "train = train_test['train']\n",
        "test = train_test['test']"
      ]
    },
    {
      "cell_type": "code",
      "execution_count": null,
      "id": "b47ca8ac",
      "metadata": {
        "deletable": false,
        "editable": false,
        "colab": {
          "base_uri": "https://localhost:8080/",
          "height": 46
        },
        "id": "b47ca8ac",
        "outputId": "edd5d1dc-fa7f-4bd4-9412-eee247d5909e"
      },
      "outputs": [
        {
          "output_type": "execute_result",
          "data": {
            "text/plain": [
              "\n",
              "    All tests passed!\n",
              "    "
            ],
            "text/html": [
              "\n",
              "    \n",
              "    \n",
              "        <p>All tests passed!</p>\n",
              "    \n",
              "    "
            ]
          },
          "metadata": {},
          "execution_count": 136
        }
      ],
      "source": [
        "grader.check(\"dataset_split\")"
      ]
    },
    {
      "cell_type": "markdown",
      "id": "1ad7c5fb",
      "metadata": {
        "id": "1ad7c5fb"
      },
      "source": [
        "For the label feature, we can convert it to integer label ids to facilitate processing it with models such as neural networks using [`datasets.Dataset.class_encode_column`](https://huggingface.co/docs/datasets/v2.12.0/en/package_reference/main_classes#datasets.Dataset.class_encode_column)."
      ]
    },
    {
      "cell_type": "code",
      "execution_count": null,
      "id": "1bed0860",
      "metadata": {
        "colab": {
          "base_uri": "https://localhost:8080/",
          "height": 17,
          "referenced_widgets": [
            "c2362da70e66477baf6720d8414a0d39",
            "d7bbc006257b4e708d7af93ed9cffd30",
            "10e4cda6f7954cb198923270dbac6ef1",
            "b67c63572fd943cd86e56f7e2d3ea0e9",
            "a109f14d31264cdc8bacd1d0a50be239",
            "4e4d840601a94e209773e6b329383449",
            "a17e1b4ce1a9422fa3f655c6f3aaa9e6",
            "f186e513b60a4ad1b430acd1ba26b64d",
            "e23ffa11dc1144919d1e0d3a302ffe9c",
            "fe1a1c08995041a0bf11c2581405aad5",
            "4597473cb54341c78eb93018e42826c8",
            "c77350f962bd4924b39ec01dd84baae4",
            "973f121e5bad4ef4962559e47779ced7",
            "db10754f79f54596bd0f937ca69cec81",
            "299d41de418d4d14b9e9ebb87672846a",
            "3c3e851cef88496fb023ba8e59191255",
            "7facb976000b40caa171fe9c6cbdf5ba",
            "4a4dcd19ffc0455886a509e5fa3e9801",
            "3ea8bf2ea61546fc8efad31bb2a39fb8",
            "9fa90105e1104745b5f367242dd8a07e",
            "6cb841c2e1514860b5877c880cd59a5e",
            "1867c2c526b846da8540fe4b348f739d",
            "dbf0fb0d5c0043e795b27c254bda2ef6",
            "f72fc9dca7264102937e20ce06bf78c6",
            "60b9448e427848129dc15a3a4ebdea04",
            "42ce5644baff4887a3cfc61517ff9613",
            "d8c934aaf78a488ca1cf51b45bdd1b4c",
            "f4ab5952d15b4b76be01a54d976385ba",
            "96f6efff5ea14b3792e03993cd5bc3e4",
            "33a1c38661444917a45a93bedd5ef5f3",
            "9f96e702527e410781f20f39beaa487d",
            "cadbbe24a1214a7f8ba88d695753966f",
            "0644a01a1cc84c0fb23948151f068a3c",
            "a06d8a10dfe0459c82f1901a667aaec7",
            "7ceac3f7da854469a416f2ecc7ed38d0",
            "147f1fbf909b43df93d0070c50263cce",
            "db31f09c8fc24c6aa2eed7d1164f8482",
            "43d57e4e60e54900a78f6e4dae3e84b8",
            "57a44ac8758c442b83117e074eabb2bd",
            "efe480db1fcc48d987dc1e761a98a005",
            "9493002b65e344a79c529fb8d3a1b303",
            "d9548d9a1b4640f58b82879545b57dc1",
            "749b43e52c10465190ddc3e687f3abbe",
            "342cf9be9c67400998f2ad20b760b076",
            "001304ec80fa4d1da1ce1f0ba5772242",
            "b25816dede9e417084559322f92aaa37",
            "700fe952e44b42fdb69a3e4bdf40190d",
            "ac0925afbcc44c3ebac84bdbd6623445",
            "01561338c95c4c2db1067b8b9f234458",
            "757ebb6bd3cd4246b5faef0082d7aea4",
            "f1a9c7512c4049fab216e153fce85bb9",
            "e99fc0a1d059499baaabb5c3c65e4556",
            "95d2adbcb5104009acad34d67184027a",
            "da37fa56205a4f81918ccf6e9429d3de",
            "335cb8c6466647bd96aa227badaabb8b"
          ]
        },
        "id": "1bed0860",
        "outputId": "47de43f3-50a7-4458-c3e8-64825248337d"
      },
      "outputs": [
        {
          "output_type": "display_data",
          "data": {
            "text/plain": [
              "Flattening the indices:   0%|          | 0/97 [00:00<?, ? examples/s]"
            ],
            "application/vnd.jupyter.widget-view+json": {
              "version_major": 2,
              "version_minor": 0,
              "model_id": "c2362da70e66477baf6720d8414a0d39"
            }
          },
          "metadata": {}
        },
        {
          "output_type": "display_data",
          "data": {
            "text/plain": [
              "Flattening the indices:   0%|          | 0/42 [00:00<?, ? examples/s]"
            ],
            "application/vnd.jupyter.widget-view+json": {
              "version_major": 2,
              "version_minor": 0,
              "model_id": "c77350f962bd4924b39ec01dd84baae4"
            }
          },
          "metadata": {}
        },
        {
          "output_type": "display_data",
          "data": {
            "text/plain": [
              "Casting to class labels:   0%|          | 0/97 [00:00<?, ? examples/s]"
            ],
            "application/vnd.jupyter.widget-view+json": {
              "version_major": 2,
              "version_minor": 0,
              "model_id": "dbf0fb0d5c0043e795b27c254bda2ef6"
            }
          },
          "metadata": {}
        },
        {
          "output_type": "display_data",
          "data": {
            "text/plain": [
              "Casting to class labels:   0%|          | 0/42 [00:00<?, ? examples/s]"
            ],
            "application/vnd.jupyter.widget-view+json": {
              "version_major": 2,
              "version_minor": 0,
              "model_id": "a06d8a10dfe0459c82f1901a667aaec7"
            }
          },
          "metadata": {}
        },
        {
          "output_type": "display_data",
          "data": {
            "text/plain": [
              "Aligning the labels:   0%|          | 0/42 [00:00<?, ? examples/s]"
            ],
            "application/vnd.jupyter.widget-view+json": {
              "version_major": 2,
              "version_minor": 0,
              "model_id": "001304ec80fa4d1da1ce1f0ba5772242"
            }
          },
          "metadata": {}
        }
      ],
      "source": [
        "train = train.add_column('label_id', train['label'])\n",
        "test = test.add_column('label_id', test['label'])\n",
        "train = train.class_encode_column('label_id')\n",
        "\n",
        "label2id = train.features['label_id']._str2int\n",
        "test = test.class_encode_column('label_id')\n",
        "test = test.align_labels_with_mapping(label2id, \"label_id\")"
      ]
    },
    {
      "cell_type": "markdown",
      "id": "92caf06c",
      "metadata": {
        "id": "92caf06c"
      },
      "source": [
        "The new feature `label_id` stores the label ids."
      ]
    },
    {
      "cell_type": "code",
      "execution_count": null,
      "id": "8187ed5f",
      "metadata": {
        "colab": {
          "base_uri": "https://localhost:8080/"
        },
        "id": "8187ed5f",
        "outputId": "f1c5ee6a-2883-4574-bb4b-1da3be16de29"
      },
      "outputs": [
        {
          "output_type": "execute_result",
          "data": {
            "text/plain": [
              "{'label': ['GUY', 'GUY', 'GUY', 'GUY'],\n",
              " 'text': ['Say!',\n",
              "  'Not in a tree!',\n",
              "  'You will see.',\n",
              "  'I would not eat them anywhere.'],\n",
              " 'label_id': [0, 0, 0, 0]}"
            ]
          },
          "metadata": {},
          "execution_count": 138
        }
      ],
      "source": [
        "train[1:5]"
      ]
    },
    {
      "cell_type": "markdown",
      "id": "7bb9ee9f",
      "metadata": {
        "id": "7bb9ee9f"
      },
      "source": [
        "Now let's turn our attention to text features. As we have explored in lab 1-1, text is usually represented as a sequence of integer word ids. In Huggingface datasets, we need to create a tokenizer which both specifies how to tokenize text into a sequence of tokens and also internally maintains a _vocabulary_ which establishes the mapping from types to indices. We will use the training corpus to establish the vocabulary."
      ]
    },
    {
      "cell_type": "code",
      "execution_count": null,
      "id": "8fb4343e",
      "metadata": {
        "id": "8fb4343e"
      },
      "outputs": [],
      "source": [
        "unk_token = '[UNK]' # unknown token\n",
        "pad_token = '[PAD]' # padding token\n",
        "# Instantiate a tokenizer\n",
        "tokenizer = Tokenizer(WordLevel(unk_token=unk_token))  # WordLevel is a simplest tokenization model that doesn't split the words\n",
        "tokenizer.pre_tokenizer = Whitespace()  # pre-tokenizer splits the text into words    \n",
        "tokenizer.normalizer = normalizers.Lowercase() # normalizer lowercases the text\n",
        "\n",
        "# Build the vocabulary from training data\n",
        "trainer = WordLevelTrainer(special_tokens=[pad_token, unk_token]) # trainer is responsible for building the vocabulary\n",
        "tokenizer.train_from_iterator(train['text'], trainer=trainer)"
      ]
    },
    {
      "cell_type": "markdown",
      "id": "78d5cc55",
      "metadata": {
        "id": "78d5cc55"
      },
      "source": [
        "Let's try out the tokenizer on some examples."
      ]
    },
    {
      "cell_type": "code",
      "execution_count": null,
      "id": "abd4e420",
      "metadata": {
        "colab": {
          "base_uri": "https://localhost:8080/"
        },
        "id": "abd4e420",
        "outputId": "f24e29a7-2f26-42ba-8c62-848dc7da5f7e"
      },
      "outputs": [
        {
          "output_type": "stream",
          "name": "stdout",
          "text": [
            "tokens: ['i', 'am', 'sam', '.']\n",
            "word ids: [4, 21, 17, 3]\n",
            "converted back: i am sam .\n"
          ]
        }
      ],
      "source": [
        "encoded = tokenizer.encode('I am Sam.')\n",
        "print (f'tokens: {encoded.tokens}')\n",
        "print (f'word ids: {encoded.ids}')\n",
        "print (f'converted back: {tokenizer.decode(encoded.ids, skip_special_tokens=False)}')"
      ]
    },
    {
      "cell_type": "code",
      "execution_count": null,
      "id": "00f71cdf",
      "metadata": {
        "colab": {
          "base_uri": "https://localhost:8080/"
        },
        "id": "00f71cdf",
        "outputId": "c0f065da-3364-4f18-c0ec-31bf381b2689"
      },
      "outputs": [
        {
          "output_type": "stream",
          "name": "stdout",
          "text": [
            "tokens: ['[UNK]', '[UNK]', 'with', '[UNK]', '[UNK]', '[UNK]', '.']\n",
            "word ids: [1, 1, 19, 1, 1, 1, 3]\n",
            "converted back: [UNK] [UNK] with [UNK] [UNK] [UNK] .\n"
          ]
        }
      ],
      "source": [
        "encoded = tokenizer.encode('An example with many unknown tokens.')\n",
        "print (f'tokens: {encoded.tokens}')\n",
        "print (f'word ids: {encoded.ids}')\n",
        "print (f'converted back: {tokenizer.decode(encoded.ids, skip_special_tokens=False)}')"
      ]
    },
    {
      "cell_type": "markdown",
      "id": "108b41ab",
      "metadata": {
        "id": "108b41ab"
      },
      "source": [
        "In future labs we will also use `tokenizer.post_processor` which can be used to post-process the tokenized text. In the following example we will add exclamation points `!` in the beginning and end of the tokenized text using [TemplateProcessing](https://huggingface.co/docs/tokenizers/v0.13.3/en/api/post-processors#tokenizers.processors.TemplateProcessing)."
      ]
    },
    {
      "cell_type": "code",
      "execution_count": null,
      "id": "9a31e09e",
      "metadata": {
        "colab": {
          "base_uri": "https://localhost:8080/"
        },
        "id": "9a31e09e",
        "outputId": "56070530-c33e-4494-e9e3-770f8d299c9d"
      },
      "outputs": [
        {
          "output_type": "stream",
          "name": "stdout",
          "text": [
            "tokens: ['!', 'i', 'am', 'sam', '.', '!']\n",
            "word ids: [10, 4, 21, 17, 3, 10]\n",
            "converted back: ! i am sam . !\n"
          ]
        }
      ],
      "source": [
        "exclamation_point = '!'\n",
        "post_procssing_tokenizer = deepcopy(tokenizer) # we clone the tokenizer for this example\n",
        "post_procssing_tokenizer.post_processor = TemplateProcessing(single=f\"{exclamation_point} $A {exclamation_point}\", \n",
        "                                                             special_tokens=[(exclamation_point, post_procssing_tokenizer.token_to_id(exclamation_point))])\n",
        "\n",
        "encoded = post_procssing_tokenizer.encode('I am Sam.')\n",
        "print (f'tokens: {encoded.tokens}')\n",
        "print (f'word ids: {encoded.ids}')\n",
        "print (f'converted back: {post_procssing_tokenizer.decode(encoded.ids, skip_special_tokens=False)}')"
      ]
    },
    {
      "cell_type": "markdown",
      "id": "78dd6550",
      "metadata": {
        "id": "78dd6550"
      },
      "source": [
        "With a tokenizer, we can convert text strings into integer word ids using `datasets.Dataset.map`. But first we need to wrap `tokenizer` with the [`transformers.PreTrainedTokenizerFast`](https://huggingface.co/docs/transformers/v4.26.1/en/main_classes/tokenizer#transformers.PreTrainedTokenizerFast) class. `transformers.PreTrainedTokenizerFast` provide a convenient interface for tokenizers that are compatible with __PyTorch tensors__."
      ]
    },
    {
      "cell_type": "code",
      "execution_count": null,
      "id": "25529119",
      "metadata": {
        "id": "25529119"
      },
      "outputs": [],
      "source": [
        "hf_tokenizer = PreTrainedTokenizerFast(tokenizer_object=tokenizer, pad_token=pad_token, unk_token=unk_token)"
      ]
    },
    {
      "cell_type": "markdown",
      "id": "9d954fbc",
      "metadata": {
        "id": "9d954fbc"
      },
      "source": [
        "This `hf_tokenizer` takes in a text string and converts it to a sequence of word ids stored in `input_ids` of the returned dictionary. (You can ignore `token_type_ids` and `attention_mask` for now.)"
      ]
    },
    {
      "cell_type": "code",
      "execution_count": null,
      "id": "6d004d0e",
      "metadata": {
        "colab": {
          "base_uri": "https://localhost:8080/"
        },
        "id": "6d004d0e",
        "outputId": "3399b161-98ce-49c0-d5d7-60d9175fead6"
      },
      "outputs": [
        {
          "output_type": "execute_result",
          "data": {
            "text/plain": [
              "{'input_ids': [4, 21, 17, 3], 'token_type_ids': [0, 0, 0, 0], 'attention_mask': [1, 1, 1, 1]}"
            ]
          },
          "metadata": {},
          "execution_count": 144
        }
      ],
      "source": [
        "text = 'I am Sam.'\n",
        "hf_tokenizer(text)"
      ]
    },
    {
      "cell_type": "markdown",
      "id": "6874791f",
      "metadata": {
        "id": "6874791f"
      },
      "source": [
        "We can use the `hf_tokenizer` to get a list of tokens."
      ]
    },
    {
      "cell_type": "code",
      "execution_count": null,
      "id": "a9db9f59",
      "metadata": {
        "colab": {
          "base_uri": "https://localhost:8080/"
        },
        "id": "a9db9f59",
        "outputId": "d2dfabf7-9770-4e63-9ec7-a0a05c500ab7"
      },
      "outputs": [
        {
          "output_type": "execute_result",
          "data": {
            "text/plain": [
              "['i', 'am', 'sam', '.']"
            ]
          },
          "metadata": {},
          "execution_count": 145
        }
      ],
      "source": [
        "text = 'I am Sam.'\n",
        "hf_tokenizer.tokenize(text)"
      ]
    },
    {
      "cell_type": "markdown",
      "id": "763f2e91",
      "metadata": {
        "id": "763f2e91"
      },
      "source": [
        "`hf_tokenizer` can also be used to decode the encoded text."
      ]
    },
    {
      "cell_type": "code",
      "execution_count": null,
      "id": "43c4e7ef",
      "metadata": {
        "colab": {
          "base_uri": "https://localhost:8080/"
        },
        "id": "43c4e7ef",
        "outputId": "85d3578a-8570-4dfd-dbd2-d88559edd20b"
      },
      "outputs": [
        {
          "output_type": "stream",
          "name": "stdout",
          "text": [
            "text: I am Sam.\n",
            "encoded_text: [4, 21, 17, 3]\n",
            "decoded_text: i am sam.\n",
            "decoded_token list: ['i', 'am', 'sam', '.']\n"
          ]
        }
      ],
      "source": [
        "text = 'I am Sam.'\n",
        "encoded_text = hf_tokenizer(text).input_ids\n",
        "decoded_text = hf_tokenizer.decode(encoded_text)\n",
        "decoded_tokens = hf_tokenizer.convert_ids_to_tokens(encoded_text)\n",
        "print(f\"text: {text}\")\n",
        "print(f\"encoded_text: {encoded_text}\")\n",
        "print(f\"decoded_text: {decoded_text}\")\n",
        "print(f\"decoded_token list: {decoded_tokens}\")"
      ]
    },
    {
      "cell_type": "markdown",
      "id": "d35b003d",
      "metadata": {
        "id": "d35b003d"
      },
      "source": [
        "Note that `hf_tokenizer` also stores the vocabulary and the special tokens we provide it in the initialization."
      ]
    },
    {
      "cell_type": "code",
      "execution_count": null,
      "id": "06c7776d",
      "metadata": {
        "colab": {
          "base_uri": "https://localhost:8080/"
        },
        "id": "06c7776d",
        "outputId": "2dcd2737-9fed-4052-cfa6-cb842f2af3ba"
      },
      "outputs": [
        {
          "output_type": "stream",
          "name": "stdout",
          "text": [
            "hf_tokenizer.unk_token: [UNK]\n",
            "hf_tokenizer.unk_token_id: 1\n",
            "hf_tokenizer.pad_token: [PAD]\n",
            "hf_tokenizer.pad_token_id: 0\n",
            "hf_tokenizer.get_vocab():\n",
            " {'i': 4, 'in': 9, 'am': 21, 'train': 30, 'anywhere': 35, 'sam': 17, 'are': 47, 'fox': 43, 'they': 51, '...': 53, 'will': 18, 'the': 26, 'me': 56, 'dark': 37, 'ham': 25, 'here': 27, 'could': 22, 'on': 29, 'rain': 39, 'and': 13, 'tree': 41, 'would': 14, '[PAD]': 0, 'there': 32, 'may': 45, 'that': 50, 'do': 11, '?': 20, 'goat': 44, 'them': 6, '[UNK]': 1, 'or': 33, 'with': 19, '!': 10, '.': 3, '-': 15, 'box': 36, 'car': 31, 'good': 48, 'be': 54, 'green': 24, 'let': 55, ',': 7, 'house': 38, 'see': 46, 'thank': 49, 'a': 5, 'boat': 42, 'say': 40, 'like': 8, 'mouse': 28, 'eat': 16, 'you': 12, 'try': 52, 'so': 34, 'not': 2, 'eggs': 23}\n",
            "len(hf_tokenizer) == len(hf_tokenizer.get_vocab()): 57\n"
          ]
        }
      ],
      "source": [
        "print(f\"hf_tokenizer.unk_token: {hf_tokenizer.unk_token}\")\n",
        "print(f\"hf_tokenizer.unk_token_id: {hf_tokenizer.unk_token_id}\")\n",
        "print(f\"hf_tokenizer.pad_token: {hf_tokenizer.pad_token}\")\n",
        "print(f\"hf_tokenizer.pad_token_id: {hf_tokenizer.pad_token_id}\")\n",
        "print(f\"hf_tokenizer.get_vocab():\\n {hf_tokenizer.get_vocab()}\")\n",
        "print(f\"len(hf_tokenizer) == len(hf_tokenizer.get_vocab()): {len(hf_tokenizer)}\")\n"
      ]
    },
    {
      "cell_type": "markdown",
      "id": "51166ff6",
      "metadata": {
        "id": "51166ff6"
      },
      "source": [
        "Now we can convert text into word ids using [`datasets.Dataset.map`](https://huggingface.co/docs/datasets/v2.12.0/en/package_reference/main_classes#datasets.Dataset.map)."
      ]
    },
    {
      "cell_type": "code",
      "execution_count": null,
      "id": "19c3ec1d",
      "metadata": {
        "colab": {
          "base_uri": "https://localhost:8080/",
          "height": 17,
          "referenced_widgets": [
            "a90895306cd84b0da34244f898e4fd60",
            "a5ab3420dafa48f98f3483d63ca65240",
            "762e3e6b3a4b4352a01dcead8f2865a5",
            "b542ee43e3cb4fd3a377fe47ccb61ce7",
            "da07ff3a9e8d451fa77575bacc366ed1",
            "e4ad386c816d4a828b4412fbde2f8deb",
            "ed8b8814ffdc44a4bb4ed7b8e7fff9ae",
            "e4d05d37e53944ec929ba0253577c8d0",
            "42c0a8c670b841fb81c015e9abfb5ea6",
            "247f9811d4cb4a08877c1fd234ab1d31",
            "851e29f3bb6e431ba4b7b03b89557a4c",
            "460273c29bfb423c903dcf00661eb3d4",
            "dda1f628e2f44d4c8d3d2a8bd1ab1841",
            "ceac50f4ade94fa5a7ab3b87dfa0c086",
            "31b84fc7a6c74dbd9cfca800d74ba18a",
            "5d9d893052ec457c872605a296b66898",
            "d028872fe29749a69de9247e057b251c",
            "345d3926f1064a778e4e89d6b9b66c2a",
            "3adbea8b1a544317a7e72a38c4d70d38",
            "2db61f07c94a46258149e7b168cd46e3",
            "c8b156e626aa45638ffa27ea6e4e0e0b",
            "916d64f9f8394af1bc2a4aa3aa9ed289"
          ]
        },
        "id": "19c3ec1d",
        "outputId": "8bef5988-88bd-41ad-e653-5d7037b8c146"
      },
      "outputs": [
        {
          "output_type": "display_data",
          "data": {
            "text/plain": [
              "Map:   0%|          | 0/97 [00:00<?, ? examples/s]"
            ],
            "application/vnd.jupyter.widget-view+json": {
              "version_major": 2,
              "version_minor": 0,
              "model_id": "a90895306cd84b0da34244f898e4fd60"
            }
          },
          "metadata": {}
        },
        {
          "output_type": "display_data",
          "data": {
            "text/plain": [
              "Map:   0%|          | 0/42 [00:00<?, ? examples/s]"
            ],
            "application/vnd.jupyter.widget-view+json": {
              "version_major": 2,
              "version_minor": 0,
              "model_id": "460273c29bfb423c903dcf00661eb3d4"
            }
          },
          "metadata": {}
        }
      ],
      "source": [
        "def encode(example):\n",
        "    return hf_tokenizer(example['text'])\n",
        "\n",
        "train = train.map(encode)\n",
        "test = test.map(encode)"
      ]
    },
    {
      "cell_type": "markdown",
      "id": "449e8ba7",
      "metadata": {
        "id": "449e8ba7"
      },
      "source": [
        "Let's take a look at one example from the mapped dataset. The new feature `input_ids` contain the word ids."
      ]
    },
    {
      "cell_type": "code",
      "execution_count": null,
      "id": "98634aa9",
      "metadata": {
        "colab": {
          "base_uri": "https://localhost:8080/"
        },
        "id": "98634aa9",
        "outputId": "8a6fd8d8-5b47-41de-a8e8-a2bc486c3802"
      },
      "outputs": [
        {
          "output_type": "execute_result",
          "data": {
            "text/plain": [
              "{'label': 'GUY',\n",
              " 'text': 'I will not eat them anywhere.',\n",
              " 'label_id': 0,\n",
              " 'input_ids': [4, 18, 2, 16, 6, 35, 3],\n",
              " 'token_type_ids': [0, 0, 0, 0, 0, 0, 0],\n",
              " 'attention_mask': [1, 1, 1, 1, 1, 1, 1]}"
            ]
          },
          "metadata": {},
          "execution_count": 149
        }
      ],
      "source": [
        "train[0]"
      ]
    },
    {
      "cell_type": "markdown",
      "id": "421c5674",
      "metadata": {
        "id": "421c5674"
      },
      "source": [
        "Again, we can view several examples at once."
      ]
    },
    {
      "cell_type": "code",
      "execution_count": null,
      "id": "7e8032a5",
      "metadata": {
        "colab": {
          "base_uri": "https://localhost:8080/"
        },
        "id": "7e8032a5",
        "outputId": "f837dea7-3d4a-454d-b7bc-669db383a9e3"
      },
      "outputs": [
        {
          "output_type": "execute_result",
          "data": {
            "text/plain": [
              "{'label': ['GUY', 'GUY', 'GUY', 'GUY'],\n",
              " 'text': ['Say!',\n",
              "  'Not in a tree!',\n",
              "  'You will see.',\n",
              "  'I would not eat them anywhere.'],\n",
              " 'label_id': [0, 0, 0, 0],\n",
              " 'input_ids': [[40, 10],\n",
              "  [2, 9, 5, 41, 10],\n",
              "  [12, 18, 46, 3],\n",
              "  [4, 14, 2, 16, 6, 35, 3]],\n",
              " 'token_type_ids': [[0, 0],\n",
              "  [0, 0, 0, 0, 0],\n",
              "  [0, 0, 0, 0],\n",
              "  [0, 0, 0, 0, 0, 0, 0]],\n",
              " 'attention_mask': [[1, 1],\n",
              "  [1, 1, 1, 1, 1],\n",
              "  [1, 1, 1, 1],\n",
              "  [1, 1, 1, 1, 1, 1, 1]]}"
            ]
          },
          "metadata": {},
          "execution_count": 150
        }
      ],
      "source": [
        "train[1:5]"
      ]
    },
    {
      "cell_type": "markdown",
      "id": "547c11e8",
      "metadata": {
        "id": "547c11e8"
      },
      "source": [
        "The text and label features now have vocabularies that maps the elements of the vocabulary to integer index representations of the elements, accessible via the below code."
      ]
    },
    {
      "cell_type": "code",
      "execution_count": null,
      "id": "d03608d1",
      "metadata": {
        "id": "d03608d1"
      },
      "outputs": [],
      "source": [
        "text_vocab = tokenizer.get_vocab()\n",
        "label_vocab = train.features['label_id']._str2int"
      ]
    },
    {
      "cell_type": "code",
      "execution_count": null,
      "id": "026ce8f9",
      "metadata": {
        "colab": {
          "base_uri": "https://localhost:8080/"
        },
        "id": "026ce8f9",
        "outputId": "c5e99942-2010-46fd-c05e-11ae87f33cfb"
      },
      "outputs": [
        {
          "output_type": "execute_result",
          "data": {
            "text/plain": [
              "{'GUY': 0, 'SAM': 1}"
            ]
          },
          "metadata": {},
          "execution_count": 152
        }
      ],
      "source": [
        "label_vocab"
      ]
    },
    {
      "cell_type": "code",
      "execution_count": null,
      "id": "b29d0360",
      "metadata": {
        "colab": {
          "base_uri": "https://localhost:8080/"
        },
        "id": "b29d0360",
        "outputId": "a584aac5-a9ad-42fd-a9b5-da6273406f3e"
      },
      "outputs": [
        {
          "output_type": "execute_result",
          "data": {
            "text/plain": [
              "{'here': 27,\n",
              " 'rain': 39,\n",
              " 'eat': 16,\n",
              " '?': 20,\n",
              " '!': 10,\n",
              " 'good': 48,\n",
              " 'them': 6,\n",
              " '[PAD]': 0,\n",
              " 'mouse': 28,\n",
              " 'anywhere': 35,\n",
              " '.': 3,\n",
              " 'try': 52,\n",
              " 'a': 5,\n",
              " 'i': 4,\n",
              " 'sam': 17,\n",
              " 'may': 45,\n",
              " 'do': 11,\n",
              " 'me': 56,\n",
              " 'car': 31,\n",
              " 'will': 18,\n",
              " 'and': 13,\n",
              " 'you': 12,\n",
              " 'house': 38,\n",
              " '[UNK]': 1,\n",
              " 'in': 9,\n",
              " 'let': 55,\n",
              " 'be': 54,\n",
              " 'on': 29,\n",
              " 'box': 36,\n",
              " 'could': 22,\n",
              " 'like': 8,\n",
              " 'ham': 25,\n",
              " 'dark': 37,\n",
              " 'are': 47,\n",
              " 'am': 21,\n",
              " 'boat': 42,\n",
              " 'there': 32,\n",
              " 'tree': 41,\n",
              " 'green': 24,\n",
              " 'goat': 44,\n",
              " 'they': 51,\n",
              " 'eggs': 23,\n",
              " 'not': 2,\n",
              " 'with': 19,\n",
              " '-': 15,\n",
              " '...': 53,\n",
              " ',': 7,\n",
              " 'the': 26,\n",
              " 'or': 33,\n",
              " 'say': 40,\n",
              " 'that': 50,\n",
              " 'so': 34,\n",
              " 'see': 46,\n",
              " 'fox': 43,\n",
              " 'thank': 49,\n",
              " 'train': 30,\n",
              " 'would': 14}"
            ]
          },
          "metadata": {},
          "execution_count": 153
        }
      ],
      "source": [
        "text_vocab"
      ]
    },
    {
      "cell_type": "markdown",
      "id": "484832bc",
      "metadata": {
        "deletable": false,
        "editable": false,
        "id": "484832bc"
      },
      "source": [
        "How many elements are there in these vocabularies? You can use the `len` function to find out.\n",
        "<!--\n",
        "BEGIN QUESTION\n",
        "name: vocab_sizes\n",
        "-->"
      ]
    },
    {
      "cell_type": "code",
      "execution_count": null,
      "id": "9684cdcf",
      "metadata": {
        "id": "9684cdcf"
      },
      "outputs": [],
      "source": [
        "#TODO: Calculate the sizes of label_vocab and text_vocab\n",
        "label_vocab_size = len(label_vocab)\n",
        "text_vocab_size = len(text_vocab)"
      ]
    },
    {
      "cell_type": "code",
      "execution_count": null,
      "id": "1d984d76",
      "metadata": {
        "deletable": false,
        "editable": false,
        "colab": {
          "base_uri": "https://localhost:8080/",
          "height": 46
        },
        "id": "1d984d76",
        "outputId": "ae9f93d5-876a-4606-dd2f-8a047badcc7e"
      },
      "outputs": [
        {
          "output_type": "execute_result",
          "data": {
            "text/plain": [
              "\n",
              "    All tests passed!\n",
              "    "
            ],
            "text/html": [
              "\n",
              "    \n",
              "    \n",
              "        <p>All tests passed!</p>\n",
              "    \n",
              "    "
            ]
          },
          "metadata": {},
          "execution_count": 155
        }
      ],
      "source": [
        "grader.check(\"vocab_sizes\")"
      ]
    },
    {
      "cell_type": "code",
      "execution_count": null,
      "id": "f922fcc4",
      "metadata": {
        "colab": {
          "base_uri": "https://localhost:8080/"
        },
        "id": "f922fcc4",
        "outputId": "8ba1edd2-d78f-47ef-fbec-de08ed24937a"
      },
      "outputs": [
        {
          "output_type": "stream",
          "name": "stdout",
          "text": [
            "label vocabulary size is 2\n",
            "text vocabulary size is 57\n"
          ]
        }
      ],
      "source": [
        "print(f\"label vocabulary size is {label_vocab_size}\\n\"\n",
        "      f\"text vocabulary size is {text_vocab_size}\")"
      ]
    },
    {
      "cell_type": "markdown",
      "id": "552f82f4",
      "metadata": {
        "id": "552f82f4"
      },
      "source": [
        "## Operations over datasets\n",
        "\n",
        "We now have training and test datasets. You can experiment with the kinds of operations you'll need to do to implement models like Naive Bayes or logistic regression.\n",
        "\n",
        "For instance, you can inspect an example from the dataset."
      ]
    },
    {
      "cell_type": "code",
      "execution_count": null,
      "id": "72dbaedf",
      "metadata": {
        "colab": {
          "base_uri": "https://localhost:8080/"
        },
        "id": "72dbaedf",
        "outputId": "26e88edf-7380-4fb2-a3bf-26bd7117b3a6"
      },
      "outputs": [
        {
          "output_type": "stream",
          "name": "stdout",
          "text": [
            "text: Say!\n",
            "label: GUY\n"
          ]
        }
      ],
      "source": [
        "example = train[1] # the second instance\n",
        "print (f\"text: {example['text']}\\n\"\n",
        "       f\"label: {example['label']}\")"
      ]
    },
    {
      "cell_type": "markdown",
      "id": "6880741f",
      "metadata": {
        "deletable": false,
        "editable": false,
        "id": "6880741f"
      },
      "source": [
        "You might also need to iterate over the different class labels (`label_vocab`) or the word types (`text_vocab`). Define a function that iterates over a vocabulary and prints each one out in alphabetical order along with their corresponding ids like this:\n",
        "\n",
        "```\n",
        ">>> print_vocab(label_vocab)\n",
        "GUY: 0\n",
        "SAM: 1\n",
        "```\n",
        "\n",
        "<!--\n",
        "BEGIN QUESTION\n",
        "name: print_vocab\n",
        "-->"
      ]
    },
    {
      "cell_type": "code",
      "execution_count": null,
      "id": "4f35a28e",
      "metadata": {
        "id": "4f35a28e"
      },
      "outputs": [],
      "source": [
        "#TODO: print out vocabulary in alphabetical order with ids\n",
        "def print_vocab(vocab):\n",
        "    for i, i_label in enumerate(vocab):\n",
        "      print(i_label + \": \" + str(i))"
      ]
    },
    {
      "cell_type": "code",
      "execution_count": null,
      "id": "2d94c5c2",
      "metadata": {
        "deletable": false,
        "editable": false,
        "colab": {
          "base_uri": "https://localhost:8080/",
          "height": 46
        },
        "id": "2d94c5c2",
        "outputId": "60e25800-f6f3-4d8a-f93d-a064f0465cb2"
      },
      "outputs": [
        {
          "output_type": "execute_result",
          "data": {
            "text/plain": [
              "\n",
              "    All tests passed!\n",
              "    "
            ],
            "text/html": [
              "\n",
              "    \n",
              "    \n",
              "        <p>All tests passed!</p>\n",
              "    \n",
              "    "
            ]
          },
          "metadata": {},
          "execution_count": 159
        }
      ],
      "source": [
        "grader.check(\"print_vocab\")"
      ]
    },
    {
      "cell_type": "markdown",
      "id": "724f5ebc",
      "metadata": {
        "id": "724f5ebc"
      },
      "source": [
        " We can use the `print_vocab` function to print out the different class labels."
      ]
    },
    {
      "cell_type": "code",
      "execution_count": null,
      "id": "2e9fbf0b",
      "metadata": {
        "colab": {
          "base_uri": "https://localhost:8080/"
        },
        "id": "2e9fbf0b",
        "outputId": "f6dd5cb8-3129-4137-819b-7841c0e3400d"
      },
      "outputs": [
        {
          "output_type": "stream",
          "name": "stdout",
          "text": [
            "GUY: 0\n",
            "SAM: 1\n"
          ]
        }
      ],
      "source": [
        "print_vocab(label_vocab)"
      ]
    },
    {
      "cell_type": "markdown",
      "id": "b62bffdc",
      "metadata": {
        "id": "b62bffdc"
      },
      "source": [
        "Similarly, we can also print out `text_vocab`."
      ]
    },
    {
      "cell_type": "code",
      "execution_count": null,
      "id": "a922e5e2",
      "metadata": {
        "colab": {
          "base_uri": "https://localhost:8080/"
        },
        "id": "a922e5e2",
        "outputId": "5d3e2b11-0e13-4120-d321-f728879fad53"
      },
      "outputs": [
        {
          "output_type": "stream",
          "name": "stdout",
          "text": [
            "here: 0\n",
            "rain: 1\n",
            "eat: 2\n",
            "?: 3\n",
            "!: 4\n",
            "good: 5\n",
            "them: 6\n",
            "[PAD]: 7\n",
            "mouse: 8\n",
            "anywhere: 9\n",
            ".: 10\n",
            "try: 11\n",
            "a: 12\n",
            "i: 13\n",
            "sam: 14\n",
            "may: 15\n",
            "do: 16\n",
            "me: 17\n",
            "car: 18\n",
            "will: 19\n",
            "and: 20\n",
            "you: 21\n",
            "house: 22\n",
            "[UNK]: 23\n",
            "in: 24\n",
            "let: 25\n",
            "be: 26\n",
            "on: 27\n",
            "box: 28\n",
            "could: 29\n",
            "like: 30\n",
            "ham: 31\n",
            "dark: 32\n",
            "are: 33\n",
            "am: 34\n",
            "boat: 35\n",
            "there: 36\n",
            "tree: 37\n",
            "green: 38\n",
            "goat: 39\n",
            "they: 40\n",
            "eggs: 41\n",
            "not: 42\n",
            "with: 43\n",
            "-: 44\n",
            "...: 45\n",
            ",: 46\n",
            "the: 47\n",
            "or: 48\n",
            "say: 49\n",
            "that: 50\n",
            "so: 51\n",
            "see: 52\n",
            "fox: 53\n",
            "thank: 54\n",
            "train: 55\n",
            "would: 56\n"
          ]
        }
      ],
      "source": [
        "print_vocab(text_vocab)"
      ]
    },
    {
      "cell_type": "markdown",
      "id": "e4f7ac1d",
      "metadata": {
        "deletable": false,
        "editable": false,
        "id": "e4f7ac1d"
      },
      "source": [
        "Other simple calculations that will be useful in implementing the various models:\n",
        "\n",
        "1. Counting how many instances there are in a dataset.\n",
        "2. Counting how many instances of a certain class there are in a dataset.\n",
        "3. Counting how many tokens of a certain type there are in the text of an instance.\n",
        "\n",
        "Let's write functions for these. They'll come in handy in the first problem set.\n",
        "\n",
        "<!--\n",
        "BEGIN QUESTION\n",
        "name: count_instances\n",
        "-->"
      ]
    },
    {
      "cell_type": "code",
      "execution_count": null,
      "id": "296e495c",
      "metadata": {
        "id": "296e495c"
      },
      "outputs": [],
      "source": [
        "#TODO - 1. Counting how many instances there are in a dataset.\n",
        "def count_instances(dataset):\n",
        "    return len(dataset)"
      ]
    },
    {
      "cell_type": "code",
      "execution_count": null,
      "id": "0db0eb9f",
      "metadata": {
        "deletable": false,
        "editable": false,
        "colab": {
          "base_uri": "https://localhost:8080/",
          "height": 46
        },
        "id": "0db0eb9f",
        "outputId": "7e15fe26-2376-4cac-dc85-9a7972fa757d"
      },
      "outputs": [
        {
          "output_type": "execute_result",
          "data": {
            "text/plain": [
              "\n",
              "    All tests passed!\n",
              "    "
            ],
            "text/html": [
              "\n",
              "    \n",
              "    \n",
              "        <p>All tests passed!</p>\n",
              "    \n",
              "    "
            ]
          },
          "metadata": {},
          "execution_count": 163
        }
      ],
      "source": [
        "grader.check(\"count_instances\")"
      ]
    },
    {
      "cell_type": "code",
      "execution_count": null,
      "id": "791591b3",
      "metadata": {
        "id": "791591b3"
      },
      "outputs": [],
      "source": [
        "#TODO - 2. Counting how many instances of a certain class there are in a dataset.\n",
        "# Note: recall that you can access the label of an instance using `instance['label']`\n",
        "def count_instances_class(dataset, label):\n",
        "  return dataset['label'].count(label)"
      ]
    },
    {
      "cell_type": "code",
      "execution_count": null,
      "id": "1a3d9537",
      "metadata": {
        "deletable": false,
        "editable": false,
        "colab": {
          "base_uri": "https://localhost:8080/",
          "height": 46
        },
        "id": "1a3d9537",
        "outputId": "f6b51e03-2fcd-4c9a-8dd4-cd1716ee84fe"
      },
      "outputs": [
        {
          "output_type": "execute_result",
          "data": {
            "text/plain": [
              "\n",
              "    All tests passed!\n",
              "    "
            ],
            "text/html": [
              "\n",
              "    \n",
              "    \n",
              "        <p>All tests passed!</p>\n",
              "    \n",
              "    "
            ]
          },
          "metadata": {},
          "execution_count": 165
        }
      ],
      "source": [
        "grader.check(\"count_instances_class\")"
      ]
    },
    {
      "cell_type": "code",
      "execution_count": null,
      "id": "76a8ced4",
      "metadata": {
        "id": "76a8ced4"
      },
      "outputs": [],
      "source": [
        "#TODO - 3. Counting how many tokens of a certain type there are in the text of an instance.\n",
        "# Hint: we have provided code for extracting tokens from the text of an instance.\n",
        "def count_tokens_instance(instance, tokentype):\n",
        "    tokens = tokenizer.encode(instance['text']).tokens\n",
        "    return tokens.count(tokentype)"
      ]
    },
    {
      "cell_type": "code",
      "execution_count": null,
      "id": "10596b4b",
      "metadata": {
        "deletable": false,
        "editable": false,
        "colab": {
          "base_uri": "https://localhost:8080/",
          "height": 46
        },
        "id": "10596b4b",
        "outputId": "e3fedc78-9300-4270-9736-2214c24c3022"
      },
      "outputs": [
        {
          "output_type": "execute_result",
          "data": {
            "text/plain": [
              "\n",
              "    All tests passed!\n",
              "    "
            ],
            "text/html": [
              "\n",
              "    \n",
              "    \n",
              "        <p>All tests passed!</p>\n",
              "    \n",
              "    "
            ]
          },
          "metadata": {},
          "execution_count": 167
        }
      ],
      "source": [
        "grader.check(\"count_tokens_instances\")"
      ]
    },
    {
      "cell_type": "markdown",
      "id": "5975e733",
      "metadata": {
        "id": "5975e733"
      },
      "source": [
        "Recall that the purpose of tokenizers is to map back and forth between strings and word ids. Below provides an example of how to do that."
      ]
    },
    {
      "cell_type": "code",
      "execution_count": null,
      "id": "717008ca",
      "metadata": {
        "colab": {
          "base_uri": "https://localhost:8080/"
        },
        "id": "717008ca",
        "outputId": "c914fedf-3265-4108-9cad-653a6cc67fd4"
      },
      "outputs": [
        {
          "output_type": "stream",
          "name": "stdout",
          "text": [
            "text: Say!\n",
            "Mapped to word ids: [40, 10]\n",
            "Mapped back: say!\n"
          ]
        }
      ],
      "source": [
        "example = train[1]\n",
        "print (f'text: {example[\"text\"]}')\n",
        "word_ids = hf_tokenizer(example['text']).input_ids\n",
        "print (f\"Mapped to word ids: {word_ids}\\n\"\n",
        "       f\"Mapped back: {hf_tokenizer.decode(word_ids)}\")"
      ]
    },
    {
      "cell_type": "markdown",
      "id": "f28b7652",
      "metadata": {
        "id": "f28b7652"
      },
      "source": [
        "We can also do the conversion for a batch of examples, which will be very useful in future labs when we take advantage of the parallelism provided by parallel hardware such as GPUs."
      ]
    },
    {
      "cell_type": "code",
      "execution_count": null,
      "id": "5dd9e7a0",
      "metadata": {
        "colab": {
          "base_uri": "https://localhost:8080/"
        },
        "id": "5dd9e7a0",
        "outputId": "6d4f2749-a090-4100-8b13-61b6571cf3f2"
      },
      "outputs": [
        {
          "output_type": "stream",
          "name": "stdout",
          "text": [
            "text: ['Say!', 'Not in a tree!', 'You will see.', 'I would not eat them anywhere.']\n",
            "Mapped to word ids: [[40, 10], [2, 9, 5, 41, 10], [12, 18, 46, 3], [4, 14, 2, 16, 6, 35, 3]]\n",
            "Mapped back: ['say!', 'not in a tree!', 'you will see.', 'i would not eat them anywhere.']\n"
          ]
        }
      ],
      "source": [
        "examples = train[1:5]\n",
        "print (f'text: {examples[\"text\"]}')\n",
        "word_ids_batch = hf_tokenizer(examples['text']).input_ids\n",
        "print (f\"Mapped to word ids: {word_ids_batch}\\n\"\n",
        "       f\"Mapped back: {hf_tokenizer.batch_decode(word_ids_batch)}\")"
      ]
    },
    {
      "cell_type": "markdown",
      "id": "d72ba842",
      "metadata": {
        "id": "d72ba842"
      },
      "source": [
        "You might have noticed that in the above example, different sentences are of different lengths. This makes it hard for processing on parallel hardware, and we need to *pad* all sentences to the length of the longest sentence in each batch before converting them to tensors, as shown below. (You will see the below code in project 1 and in future labs.)"
      ]
    },
    {
      "cell_type": "code",
      "execution_count": null,
      "id": "4200692c",
      "metadata": {
        "id": "4200692c"
      },
      "outputs": [],
      "source": [
        "pad_id = hf_tokenizer.pad_token_id\n",
        "BATCH_SIZE = 32\n",
        "\n",
        "# Defines how to batch a list of examples together\n",
        "def collate_fn(examples):\n",
        "    batch = {}\n",
        "    bsz = len(examples)\n",
        "    label_ids = []\n",
        "    for example in examples:\n",
        "        label_ids.append(example['label_id'])\n",
        "    label_batch = torch.LongTensor(label_ids).to(device)\n",
        "    input_ids = []\n",
        "    for example in examples:\n",
        "        input_ids.append(example['input_ids'])\n",
        "    max_length = max([len(word_ids) for word_ids in input_ids])\n",
        "    text_batch = torch.zeros(bsz, max_length).long().fill_(pad_id).to(device)\n",
        "    for b in range(bsz):\n",
        "        text_batch[b][:len(input_ids[b])] = torch.LongTensor(input_ids[b]).to(device)\n",
        "    \n",
        "    batch['label_ids'] = label_batch\n",
        "    batch['input_ids'] = text_batch\n",
        "    return batch\n",
        "\n",
        "train_iter = torch.utils.data.DataLoader(train, batch_size=BATCH_SIZE, collate_fn=collate_fn)\n",
        "test_iter = torch.utils.data.DataLoader(test, batch_size=BATCH_SIZE, collate_fn=collate_fn)"
      ]
    },
    {
      "cell_type": "markdown",
      "id": "f79ecccb",
      "metadata": {
        "id": "f79ecccb"
      },
      "source": [
        "Let's look at a single batch from one of these iterators. Note that padding is done with the special token `[PAD]` which has id `0`."
      ]
    },
    {
      "cell_type": "code",
      "execution_count": null,
      "id": "cb2c905e",
      "metadata": {
        "colab": {
          "base_uri": "https://localhost:8080/"
        },
        "id": "cb2c905e",
        "outputId": "e62aaa04-e7c3-428c-e06f-eb5d696ffca3"
      },
      "outputs": [
        {
          "output_type": "execute_result",
          "data": {
            "text/plain": [
              "{'label_ids': tensor([0, 0, 0, 0, 0, 0, 1, 0, 0, 0, 1, 0, 1, 0, 0, 0, 0, 1, 0, 0, 0, 0, 0, 0,\n",
              "         0, 1, 0, 0, 0, 1, 0, 0], device='cuda:0'),\n",
              " 'input_ids': tensor([[ 4, 18,  2, 16,  6, 35,  3,  0,  0,  0,  0,  0],\n",
              "         [40, 10,  0,  0,  0,  0,  0,  0,  0,  0,  0,  0],\n",
              "         [ 2,  9,  5, 41, 10,  0,  0,  0,  0,  0,  0,  0],\n",
              "         [12, 18, 46,  3,  0,  0,  0,  0,  0,  0,  0,  0],\n",
              "         [ 4, 14,  2, 16,  6, 35,  3,  0,  0,  0,  0,  0],\n",
              "         [51, 47, 34, 48,  7, 34, 48,  7, 12, 46, 10,  0],\n",
              "         [ 9,  5, 31, 20,  0,  0,  0,  0,  0,  0,  0,  0],\n",
              "         [ 2,  9,  5, 31,  3,  0,  0,  0,  0,  0,  0,  0],\n",
              "         [ 4, 11,  2,  8, 24, 23, 13, 25,  3,  0,  0,  0],\n",
              "         [ 4, 11,  2,  8, 24, 23, 13, 25,  3,  0,  0,  0],\n",
              "         [34, 12, 40,  3,  0,  0,  0,  0,  0,  0,  0,  0],\n",
              "         [ 4, 14,  2, 16, 24, 23, 13, 25,  3,  0,  0,  0],\n",
              "         [13, 12, 45,  3,  0,  0,  0,  0,  0,  0,  0,  0],\n",
              "         [ 4, 11,  2,  8, 24, 23, 13, 25, 10,  0,  0,  0],\n",
              "         [17, 10,  0,  0,  0,  0,  0,  0,  0,  0,  0,  0],\n",
              "         [ 4, 14,  2,  8,  6, 35,  3,  0,  0,  0,  0,  0],\n",
              "         [ 4, 14,  2,  7, 22,  2,  7, 19,  5, 43,  3,  0],\n",
              "         [ 5, 30, 10,  0,  0,  0,  0,  0,  0,  0,  0,  0],\n",
              "         [ 2,  9, 26, 37,  3,  0,  0,  0,  0,  0,  0,  0],\n",
              "         [13,  9, 26, 37,  3, 13, 29,  5, 30,  3,  0,  0],\n",
              "         [ 4, 11,  2,  8,  6, 35,  3,  0,  0,  0,  0,  0],\n",
              "         [ 4, 11,  2,  8,  6, 27, 33, 32,  3,  0,  0,  0],\n",
              "         [ 4, 14,  2,  7, 22,  2,  7,  9,  5, 31,  3,  0],\n",
              "         [ 4, 11,  2,  8,  6,  7, 17, 15,  4, 15, 21,  3],\n",
              "         [13,  4, 18, 16,  6, 19,  5, 28,  3,  0,  0,  0],\n",
              "         [14, 12,  8,  6, 19,  5, 28, 20,  0,  0,  0,  0],\n",
              "         [ 2,  9,  5, 41,  3,  0,  0,  0,  0,  0,  0,  0],\n",
              "         [ 2,  9,  5, 38,  3,  0,  0,  0,  0,  0,  0,  0],\n",
              "         [13,  4, 18, 16,  6,  9,  5, 38,  3,  0,  0,  0],\n",
              "         [14, 12,  7, 22, 12,  7,  9, 26, 39, 20,  0,  0],\n",
              "         [50, 17, 15,  4, 15, 21, 10,  0,  0,  0,  0,  0],\n",
              "         [ 4, 11,  2,  8,  6,  9,  5, 38,  3,  0,  0,  0]], device='cuda:0')}"
            ]
          },
          "metadata": {},
          "execution_count": 171
        }
      ],
      "source": [
        "next(iter(train_iter))"
      ]
    },
    {
      "cell_type": "markdown",
      "id": "3d93031a",
      "metadata": {
        "id": "3d93031a"
      },
      "source": [
        "# Training and testing with PyTorch\n",
        "\n",
        "Past labs have shown that all of the detail about \n",
        "\n",
        "* establishing models and their parameters,\n",
        "* using them to calculate the outputs for some inputs, \n",
        "* training them to optimize the parameters via stochastic gradient descent, and \n",
        "* evaluating them by testing on held-out data\n",
        "\n",
        "is tedious to manage. Fortunately, it is also so formulaic, at least for a certain class of models, that general tools can be deployed to manage the process. In the remainder of this lab, you'll use one such tool, PyTorch. For simplicity, rather than a natural-language task, you'll be training a model to fit a curve; it has an especially simple structure: one scalar input and one scalar output."
      ]
    },
    {
      "cell_type": "markdown",
      "id": "b569d2be",
      "metadata": {
        "id": "b569d2be"
      },
      "source": [
        "## Generating training and test data\n",
        "\n",
        "We start by generating some training and test data. The data is generated as a noisy sine function, calculated by the function `sinusoid`. (Here we make use of the PyTorch [distributions](https://pytorch.org/docs/stable/distributions.html) package, which was imported above as `ds`.) "
      ]
    },
    {
      "cell_type": "code",
      "execution_count": null,
      "id": "32ba455a",
      "metadata": {
        "id": "32ba455a"
      },
      "outputs": [],
      "source": [
        "def sinusoid(x, amplitude=1., phase=0., frequency=1., noise=1e-5):\n",
        "    \"\"\"Returns the values on input(s) `x` of a sinusoid determined by `amplitude`, \n",
        "       `phase`, and angular `frequency`, with some added normal noise with variance \n",
        "       given by `noise`.\"\"\"\n",
        "    normal_noise = ds.normal.Normal(torch.tensor([0.0]), torch.tensor([noise]))\n",
        "    noise_sample = normal_noise.sample(x.size()).view(-1)\n",
        "    y = amplitude * torch.sin(x * frequency + phase) + noise_sample\n",
        "    return y"
      ]
    },
    {
      "cell_type": "markdown",
      "id": "95e992a2",
      "metadata": {
        "id": "95e992a2"
      },
      "source": [
        "We can generate data for training and testing by sampling this function."
      ]
    },
    {
      "cell_type": "code",
      "execution_count": null,
      "id": "f687c817",
      "metadata": {
        "id": "f687c817"
      },
      "outputs": [],
      "source": [
        "def sample_input(func, count, bound, **kwargs):\n",
        "    \"\"\"Returns `count` samples of x-y pairs of function `func`, with the x \n",
        "       values sampled uniformly between +/-`bound`. The `kwargs` are passed\n",
        "       on to `func`.\"\"\"\n",
        "    input_unif = ds.uniform.Uniform(-bound, +bound)\n",
        "    x = input_unif.sample(torch.Size([count]))\n",
        "    y = func(x, **kwargs)\n",
        "    return x, y"
      ]
    },
    {
      "cell_type": "markdown",
      "id": "210740b1",
      "metadata": {
        "id": "210740b1"
      },
      "source": [
        "To give a sense of what a data sample looks like, we plot a sample of 100 points."
      ]
    },
    {
      "cell_type": "code",
      "execution_count": null,
      "id": "82c3be7d",
      "metadata": {
        "id": "82c3be7d"
      },
      "outputs": [],
      "source": [
        "def plot_sample(data):\n",
        "    \"\"\"Plots `data` given as a single pair of inputs and outputs.\"\"\"\n",
        "    X, Y = data\n",
        "    plt.plot(X.tolist(), Y.tolist(), '.')\n",
        "    plt.xlabel('Input')\n",
        "    plt.ylabel('Output')\n",
        "    # we cannot use plt.show() because otter-grader does not support it"
      ]
    },
    {
      "cell_type": "code",
      "execution_count": null,
      "id": "1d5e9c9b",
      "metadata": {
        "colab": {
          "base_uri": "https://localhost:8080/",
          "height": 449
        },
        "id": "1d5e9c9b",
        "outputId": "b408ea50-b37d-4d49-e946-be3ed419a834"
      },
      "outputs": [
        {
          "output_type": "display_data",
          "data": {
            "text/plain": [
              "<Figure size 640x480 with 1 Axes>"
            ],
            "image/png": "[encoded data removed]"
          },
          "metadata": {}
        }
      ],
      "source": [
        "plot_sample(sample_input(sinusoid, 100, 5, noise=0.1))"
      ]
    },
    {
      "cell_type": "markdown",
      "id": "e3438d5c",
      "metadata": {
        "id": "e3438d5c"
      },
      "source": [
        "## Specifying a feed-forward neural network\n",
        "\n",
        "\n",
        "<img src=\"https://github.com/nlp-236299/data/raw/master/Resources/ffnn-example.png\" width=33% align=right />\n",
        "\n",
        "The model that we will train to predict the output of this function based on a sample will consist of a series of sublayers as depicted in the figure at right. At the bottom of the figure, we start with $\\vect{x}$, the scalar input (of dimensionality $1$ as shown in the \"shape\" designation). The first layer is a perceptron layer, composed of a linear sublayer (with weights $\\vect{U}$) followed by a sigmoid sublayer. Since $\\vect{U}$ is of dimensionality $1 \\times D$, the output is a vector of dimensionality $D$. (We refer to $D$ as the *hidden dimension*.) Then comes another perceptron layer with input and output each of dimensionality $D$. Finally, a single linear layer reduces the dimensionality back to the predicted scalar output $\\tilde{y}$ of dimensionality $1$. The loss is calculated as the mean square error of $\\tilde{y}$ relative to $y$. (In this case, taking the mean for a single example is irrelevant, since $y$ is a scalar, though when training in \"batches\", the mean would be taken over the batch.)\n",
        "\n",
        "We define a class `FFNN` (**f**eed-**f**orward **n**eural **n**etwork), which inherits from the `nn.Module` class, PyTorch's class for neural network models. It takes an argument `hidden_dim` which is the size of the hidden layers, $D$ in the figure.\n",
        "\n",
        "The parameters of this model – the values that will be adjusted to minimize the loss – are the elements of the tensors $\\vect{U}$, $\\vect{V}$, and $\\vect{W}$. They don't appear explicitly in the code, but are PyTorch *parameters* created and tracked when the corresponding sublayers are created using `nn.Linear` and `nn.Sigmoid`. That's the wonder of using PyTorch – so much happens under the hood. But we can get access to the parameters because the `nn.Module` class provides a `parameters` method that returns an iterator over the parameters. (We use it to initialize the parameters to random values.)"
      ]
    },
    {
      "cell_type": "code",
      "execution_count": null,
      "id": "15578132",
      "metadata": {
        "id": "15578132"
      },
      "outputs": [],
      "source": [
        "class FFNN(nn.Module):\n",
        "    def __init__(self, hidden_dim, init_low=-2, init_high=2):\n",
        "        super().__init__()\n",
        "        # dimensionality of hidden layers\n",
        "        self.hidden_dim = hidden_dim\n",
        "        #TODO: establish the sublayers -- two perceptrons (each has a linear layer and a sigmoid). and a final\n",
        "        # linear layer. Follow the dimensions from the description above.\n",
        "        self.sublayer1 = nn.Linear(in_features=1, out_features=hidden_dim)\n",
        "        self.sublayer2 = nn.Sigmoid()\n",
        "        self.sublayer3 = nn.Linear(in_features=hidden_dim, out_features=hidden_dim)\n",
        "        self.sublayer4 = nn.Sigmoid()\n",
        "        self.sublayer5 = nn.Linear(in_features=hidden_dim, out_features=1)\n",
        "        \n",
        "        # initialize parameters randomly\n",
        "        torch.manual_seed(random_seed)\n",
        "        for p in self.parameters():\n",
        "            p.data.uniform_(init_low, init_high)\n",
        "        # save a copy of the parameters to allow resetting\n",
        "        self.init_state = copy.deepcopy(self.state_dict())\n",
        "\n",
        "    # Resetting state: If you want to rerun a model, say, with a different\n",
        "    # training regime, you can reset the model's parameter state using\n",
        "    #    model.reset_state()\n",
        "    # before retraining, e.g., \n",
        "    #    train_model(model, criterion, optim, train_data, n_epochs=50)\n",
        "    def reset_state(self):\n",
        "        self.load_state_dict(self.init_state)\n",
        "        \n",
        "    def forward(self, x):\n",
        "        # first perceptron layer\n",
        "        z = self.sublayer2(self.sublayer1(x))\n",
        "        # second perceptron layer\n",
        "        z_prime = self.sublayer4(self.sublayer3(z))\n",
        "        # final linear layer\n",
        "        return self.sublayer5(z_prime)"
      ]
    },
    {
      "cell_type": "code",
      "execution_count": null,
      "id": "dda76f5c",
      "metadata": {
        "deletable": false,
        "editable": false,
        "colab": {
          "base_uri": "https://localhost:8080/",
          "height": 46
        },
        "id": "dda76f5c",
        "outputId": "ac369da0-7c6c-4a8b-b086-f24de24ee927"
      },
      "outputs": [
        {
          "output_type": "execute_result",
          "data": {
            "text/plain": [
              "\n",
              "    All tests passed!\n",
              "    "
            ],
            "text/html": [
              "\n",
              "    \n",
              "    \n",
              "        <p>All tests passed!</p>\n",
              "    \n",
              "    "
            ]
          },
          "metadata": {},
          "execution_count": 177
        }
      ],
      "source": [
        "grader.check(\"FFNN\")"
      ]
    },
    {
      "cell_type": "markdown",
      "id": "e110906a",
      "metadata": {
        "id": "e110906a"
      },
      "source": [
        "We can build a model by instantiating the `FFNN` class. We'll do so with a hidden dimension of 4, being careful to move the model with its parameters to the device we're using for calculations (a GPU if one is available, as on Google Colab)."
      ]
    },
    {
      "cell_type": "code",
      "execution_count": null,
      "id": "9d889a7c",
      "metadata": {
        "id": "9d889a7c"
      },
      "outputs": [],
      "source": [
        "HIDDEN_DIMENSION = 4\n",
        "model = FFNN(HIDDEN_DIMENSION).to(device)"
      ]
    },
    {
      "cell_type": "markdown",
      "id": "ce8b73a1",
      "metadata": {
        "id": "ce8b73a1"
      },
      "source": [
        "We specify the criterion to be optimized as the mean square error loss function provided by PyTorch."
      ]
    },
    {
      "cell_type": "code",
      "execution_count": null,
      "id": "4493a20b",
      "metadata": {
        "id": "4493a20b"
      },
      "outputs": [],
      "source": [
        "criterion = nn.MSELoss(reduction='mean') "
      ]
    },
    {
      "cell_type": "markdown",
      "id": "a8c69617",
      "metadata": {
        "id": "a8c69617"
      },
      "source": [
        "## Evaluating data according to a model\n",
        "\n",
        "To evaluate how well the model performs on some test data, we run the model forward on the $x$ values and compute the loss relative to the $y$ values. We define a function `eval_model` to carry out this calculation."
      ]
    },
    {
      "cell_type": "code",
      "execution_count": null,
      "id": "202a8356",
      "metadata": {
        "id": "202a8356"
      },
      "outputs": [],
      "source": [
        "def eval_model(model, criterion, data):\n",
        "    \"\"\"Applies the `model` to the x values in the `data` and returns the\n",
        "       loss relative to the y values in the `data` along with the predicted \n",
        "       y values.\"\"\"\n",
        "    model.eval()                          # turn on evaluation mode\n",
        "    with torch.no_grad():                 # turn off propagating gradients\n",
        "        X, Y = data                       # extract x and y values\n",
        "        X = X.view(-1, 1).to(device)      # convert x and y to column vectors\n",
        "        Y = Y.view(-1, 1).to(device)      # ...and move them to the device\n",
        "        predictions = model(X)            # calculate the predicted y values\n",
        "        loss = criterion(predictions, Y)  # see how far off they are\n",
        "    return loss.item(), predictions"
      ]
    },
    {
      "cell_type": "markdown",
      "id": "d59f594c",
      "metadata": {
        "id": "d59f594c"
      },
      "source": [
        "All that remains is training the model. We'll use one of PyTorch's built in optimizers, the `Adam` optimizer. We set a few parameters for the training process: the learning rate, the number of \"epochs\" (passes through the training data) to perform, and the number of examples to train on at a time (the \"batch size\")."
      ]
    },
    {
      "cell_type": "code",
      "execution_count": null,
      "id": "dd9f5a06",
      "metadata": {
        "id": "dd9f5a06"
      },
      "outputs": [],
      "source": [
        "## Parameters of the training regimen\n",
        "LEARNING_RATE = 0.003\n",
        "NUMBER_EPOCHS = 25\n",
        "BATCH_SIZE = 20\n",
        "\n",
        "## Choices for optimizers:\n",
        "\n",
        "# Stochastic Gradient Descent (SGD) optimizer\n",
        "# optim = torch.optim.SGD(model.parameters(), lr=learning_rate)\n",
        "\n",
        "# The Adam optimizer, as described in the paper:\n",
        "# Kingma and Ba. 2014. Adam: A Method for Stochastic Optimization.\n",
        "# [https://arxiv.org/abs/1412.6980]\n",
        "optim = torch.optim.Adam(model.parameters(), lr=LEARNING_RATE)"
      ]
    },
    {
      "cell_type": "markdown",
      "id": "b14d9675",
      "metadata": {
        "id": "b14d9675"
      },
      "source": [
        "## Training the parameters of a model\n",
        "\n",
        "Finally, we get to the function to train the parameters of the model so as to best fit the predictions to the actual values. We've provided the code, except for a few lines that you'll need to provide (marked `#TODO`), making use of some of the tools defined above. Those lines, which form the heart of the computation, calculate \"forwards\" to get the output predictions for the inputs, calculate the loss for those predictions, and calculate \"backwards\" the gradients of the loss for each of the parameters of the model. This sets up the optimizer to take a step of updating the parameters, making use of the calculated gradients to determine the direction to step. The saved gradients can then be zeroed and the process repeated.\n",
        "\n",
        "> Note: The code we're asking you to write is *tiny*. If you find yourself writing more than a short line of code per `#TODO`, you're missing something."
      ]
    },
    {
      "cell_type": "code",
      "execution_count": null,
      "id": "a06dceb6",
      "metadata": {
        "id": "a06dceb6"
      },
      "outputs": [],
      "source": [
        "def train_model(model, criterion, optimizer, data,\n",
        "                n_epochs=NUMBER_EPOCHS, batch_size=BATCH_SIZE):\n",
        "    \"\"\"Optimizes the parameters of the `model` by minimizing the `criterion`\n",
        "       on the training `data`, using the `optimizer` algorithm for updates.\"\"\"    \n",
        "    model.train()                     # Turn on training mode\n",
        "\n",
        "    X, Y = data\n",
        "    trainX_len = len(X)\n",
        "    \n",
        "    loss_per_epoch = math.inf\n",
        "    with tqdm(range(n_epochs)) as pbar:\n",
        "        for epoch in pbar:\n",
        "            pbar.set_postfix(epoch=epoch+1, loss=loss_per_epoch)\n",
        "            loss_per_epoch = 0.\n",
        "            for batch_i in range(int(trainX_len/batch_size)):\n",
        "                optimizer.zero_grad()     # new batch; zero the gradients of the parameters\n",
        "\n",
        "                # Input tensors and their corresponding output values for this batch\n",
        "                batch_X = (X[batch_i * batch_size\n",
        "                             : (batch_i+1) * batch_size] # extract examples in batch\n",
        "                           .view(-1, 1)                  # reshape to column vector\n",
        "                           .to(device)                   # move to device\n",
        "                          )\n",
        "                batch_Y = (Y[batch_i * batch_size \n",
        "                             : (batch_i+1) * batch_size]\n",
        "                           .view(-1, 1)\n",
        "                           .to(device)\n",
        "                          )\n",
        "\n",
        "                #TODO: Calculate predictions for the x values in this batch\n",
        "                predictions = model(batch_X)\n",
        "\n",
        "                #TODO: Calculate the loss for the predictions\n",
        "                loss = criterion(predictions, batch_Y)\n",
        "\n",
        "                #TODO: Perform backpropagation to calculate gradients\n",
        "                loss.backward()\n",
        "\n",
        "                # Update all parameters\n",
        "                optimizer.step()\n",
        "\n",
        "                loss_per_epoch += loss.item()"
      ]
    },
    {
      "cell_type": "markdown",
      "id": "129d9312",
      "metadata": {
        "id": "129d9312"
      },
      "source": [
        "## Putting it all together\n",
        "\n",
        "Let's try it out. We start by generating some training and test data. The training data will be 10,000 samples of a noisy sinusoid. The test data, 100 samples from the same sinusoid, will be noise-free, so we can see how close the predictions are to noise-free outputs."
      ]
    },
    {
      "cell_type": "code",
      "execution_count": null,
      "id": "f600377e",
      "metadata": {
        "colab": {
          "base_uri": "https://localhost:8080/",
          "height": 449
        },
        "id": "f600377e",
        "outputId": "2c2c50f2-4ce5-444d-bd04-f7cb95be885b"
      },
      "outputs": [
        {
          "output_type": "display_data",
          "data": {
            "text/plain": [
              "<Figure size 640x480 with 1 Axes>"
            ],
            "image/png": "[encoded data removed]"
          },
          "metadata": {}
        }
      ],
      "source": [
        "train_data = sample_input(sinusoid, 10000, 5., frequency=1.5, noise=0.05)\n",
        "test_data = sample_input(sinusoid, 100, 5., frequency=1.5)\n",
        "\n",
        "plot_sample(train_data)"
      ]
    },
    {
      "cell_type": "markdown",
      "id": "478fda56",
      "metadata": {
        "id": "478fda56"
      },
      "source": [
        "We train the model."
      ]
    },
    {
      "cell_type": "code",
      "execution_count": null,
      "id": "43d743cf",
      "metadata": {
        "colab": {
          "base_uri": "https://localhost:8080/"
        },
        "id": "43d743cf",
        "outputId": "f43d0ceb-1b69-4dfc-c5ea-d1329746bb81"
      },
      "outputs": [
        {
          "output_type": "stream",
          "name": "stderr",
          "text": [
            "100%|██████████| 25/25 [00:19<00:00,  1.30it/s, epoch=25, loss=11.1]\n"
          ]
        }
      ],
      "source": [
        "model.reset_state()\n",
        "train_model(model, criterion, optim, train_data)"
      ]
    },
    {
      "cell_type": "markdown",
      "id": "8167766d",
      "metadata": {
        "id": "8167766d"
      },
      "source": [
        "...and test the trained model by evaluating it on the the test data."
      ]
    },
    {
      "cell_type": "code",
      "execution_count": null,
      "id": "bc860d0a",
      "metadata": {
        "id": "bc860d0a"
      },
      "outputs": [],
      "source": [
        "loss, predictions = eval_model(model, criterion, test_data)"
      ]
    },
    {
      "cell_type": "code",
      "execution_count": null,
      "id": "9e86f5fb",
      "metadata": {
        "deletable": false,
        "editable": false,
        "colab": {
          "base_uri": "https://localhost:8080/",
          "height": 46
        },
        "id": "9e86f5fb",
        "outputId": "d346d881-72f3-4f0c-ad7f-9339ab88462e"
      },
      "outputs": [
        {
          "output_type": "execute_result",
          "data": {
            "text/plain": [
              "\n",
              "    All tests passed!\n",
              "    "
            ],
            "text/html": [
              "\n",
              "    \n",
              "    \n",
              "        <p>All tests passed!</p>\n",
              "    \n",
              "    "
            ]
          },
          "metadata": {},
          "execution_count": 186
        }
      ],
      "source": [
        "grader.check(\"model_reduces_loss\")"
      ]
    },
    {
      "cell_type": "markdown",
      "id": "ef309230",
      "metadata": {
        "id": "ef309230"
      },
      "source": [
        "We can see how well the model works by plotting the test data (circles) along with the predicted values (crosses)."
      ]
    },
    {
      "cell_type": "code",
      "execution_count": null,
      "id": "a1d0d047",
      "metadata": {
        "id": "a1d0d047"
      },
      "outputs": [],
      "source": [
        "def visualize_predictions(data, predictions):\n",
        "    X, Y = data\n",
        "    \n",
        "    # Plot the actual output values\n",
        "    plt.plot(X.tolist(), Y.tolist(), '.', label = 'Target Values')\n",
        "    \n",
        "    # Plot the predicted output values\n",
        "    predictions = predictions.view(-1, 1)\n",
        "    plt.plot(X.tolist(), predictions.tolist(), 'x', label = 'Predictions')\n",
        "    \n",
        "    plt.xlabel('Input')\n",
        "    plt.ylabel('Output')\n",
        "    plt.legend()\n",
        "    # we cannot use plt.show() because otter-grader does not support it"
      ]
    },
    {
      "cell_type": "code",
      "execution_count": null,
      "id": "7bb64b1c",
      "metadata": {
        "colab": {
          "base_uri": "https://localhost:8080/",
          "height": 449
        },
        "id": "7bb64b1c",
        "outputId": "a83bf4be-2e2f-414a-85d5-0b3e0af27edc"
      },
      "outputs": [
        {
          "output_type": "display_data",
          "data": {
            "text/plain": [
              "<Figure size 640x480 with 1 Axes>"
            ],
            "image/png": "[encoded data removed]"
          },
          "metadata": {}
        }
      ],
      "source": [
        "# Visualize the predictions\n",
        "visualize_predictions(test_data, predictions)"
      ]
    },
    {
      "cell_type": "markdown",
      "id": "5a2a1498",
      "metadata": {
        "id": "5a2a1498"
      },
      "source": [
        "## Trying different models\n",
        "\n",
        "Now that we have the infrastructure, try experimenting with different models. Here are a few things you might play with. (No need to try them all.) What happens if you change the hidden dimension, increasing it to 8 or decreasing it to 2? What happens if you drop the middle layer? What about no middle layer but a much higher hidden dimension size? Does running for more epochs improve performance? Does the SGD optimizer work better or worse than the Adam optimizer?\n",
        "\n",
        "**Perform any experimentation in cells below this point, so you don't modify the cells above that are being unit tested.**"
      ]
    },
    {
      "cell_type": "markdown",
      "source": [
        "***\n",
        "### EXP 1 : Adam with higher hidden dimention"
      ],
      "metadata": {
        "id": "WoeYoRH3voc_"
      },
      "id": "WoeYoRH3voc_"
    },
    {
      "cell_type": "code",
      "source": [
        "LEARNING_RATE = 0.003\n",
        "NUMBER_EPOCHS = 25\n",
        "BATCH_SIZE = 20\n",
        "\n",
        "HIDDEN_DIMENSION = 8 # <---- increased hidden to 8 (this will decrease loss)\n",
        "model = FFNN(HIDDEN_DIMENSION).to(device)\n",
        "optim = torch.optim.Adam(model.parameters(), lr=LEARNING_RATE)\n",
        "\n",
        "model.reset_state()\n",
        "train_model(model, criterion, optim, train_data)\n",
        "loss, predictions = eval_model(model, criterion, test_data)\n",
        "visualize_predictions(test_data, predictions)"
      ],
      "metadata": {
        "colab": {
          "base_uri": "https://localhost:8080/",
          "height": 467
        },
        "id": "ly9QFr3BlGYF",
        "outputId": "2cb816f2-7195-4179-9b1c-e78635567c10"
      },
      "id": "ly9QFr3BlGYF",
      "execution_count": null,
      "outputs": [
        {
          "output_type": "stream",
          "name": "stderr",
          "text": [
            "100%|██████████| 25/25 [00:17<00:00,  1.41it/s, epoch=25, loss=1.86]\n"
          ]
        },
        {
          "output_type": "display_data",
          "data": {
            "text/plain": [
              "<Figure size 640x480 with 1 Axes>"
            ],
            "image/png": "[encoded data removed]"
          },
          "metadata": {}
        }
      ]
    },
    {
      "cell_type": "markdown",
      "source": [
        "***\n",
        "## EXP 2: Adam with higher number of epochs"
      ],
      "metadata": {
        "id": "9JLQ5-BYvlCq"
      },
      "id": "9JLQ5-BYvlCq"
    },
    {
      "cell_type": "code",
      "source": [
        "LEARNING_RATE = 0.003\n",
        "NUMBER_EPOCHS = 100 # <---- increased number of epochs\n",
        "BATCH_SIZE = 20\n",
        "\n",
        "HIDDEN_DIMENSION = 8 # <---- increased hidden to 8\n",
        "model = FFNN(HIDDEN_DIMENSION).to(device)\n",
        "optim = torch.optim.Adam(model.parameters(), lr=LEARNING_RATE)\n",
        "\n",
        "model.reset_state()\n",
        "train_model(model, criterion, optim, train_data,n_epochs=NUMBER_EPOCHS) # <--- changed epochs amount\n",
        "loss, predictions = eval_model(model, criterion, test_data)\n",
        "visualize_predictions(test_data, predictions)"
      ],
      "metadata": {
        "colab": {
          "base_uri": "https://localhost:8080/",
          "height": 467
        },
        "outputId": "6098c251-5313-4d58-d57b-c2ec21ed430d",
        "id": "hSNg4yrmrd9t"
      },
      "execution_count": null,
      "outputs": [
        {
          "output_type": "stream",
          "name": "stderr",
          "text": [
            "100%|██████████| 100/100 [01:10<00:00,  1.41it/s, epoch=100, loss=1.55]\n"
          ]
        },
        {
          "output_type": "display_data",
          "data": {
            "text/plain": [
              "<Figure size 640x480 with 1 Axes>"
            ],
            "image/png": "[encoded data removed]"
          },
          "metadata": {}
        }
      ],
      "id": "hSNg4yrmrd9t"
    },
    {
      "cell_type": "markdown",
      "source": [
        "***\n",
        "## EXP 3: Adam VS SGD"
      ],
      "metadata": {
        "id": "myaUotJXvix3"
      },
      "id": "myaUotJXvix3"
    },
    {
      "cell_type": "code",
      "source": [
        "LEARNING_RATE = 0.3 # <----- increased learning rate\n",
        "NUMBER_EPOCHS = 25\n",
        "BATCH_SIZE = 20\n",
        "\n",
        "HIDDEN_DIMENSION = 8 # <---- increased hidden to 8\n",
        "model = FFNN(HIDDEN_DIMENSION).to(device)\n",
        "optim = torch.optim.SGD(model.parameters(), lr=LEARNING_RATE) # <---- SGD instead of Adam\n",
        "\n",
        "model.reset_state()\n",
        "train_model(model, criterion, optim, train_data)\n",
        "loss, predictions = eval_model(model, criterion, test_data)\n",
        "visualize_predictions(test_data, predictions)"
      ],
      "metadata": {
        "colab": {
          "base_uri": "https://localhost:8080/",
          "height": 467
        },
        "id": "yYh94_-7mGwb",
        "outputId": "c3fe8bef-00e5-44dc-ceeb-9a53dcdfbb3d"
      },
      "id": "yYh94_-7mGwb",
      "execution_count": null,
      "outputs": [
        {
          "output_type": "stream",
          "name": "stderr",
          "text": [
            "100%|██████████| 25/25 [00:14<00:00,  1.74it/s, epoch=25, loss=57.7]\n"
          ]
        },
        {
          "output_type": "display_data",
          "data": {
            "text/plain": [
              "<Figure size 640x480 with 1 Axes>"
            ],
            "image/png": "[encoded data removed]"
          },
          "metadata": {}
        }
      ]
    },
    {
      "cell_type": "markdown",
      "source": [
        "***\n",
        "## EXP 4: Dropping the middle layer of the FFNN"
      ],
      "metadata": {
        "id": "4bbyW4mdv5W6"
      },
      "id": "4bbyW4mdv5W6"
    },
    {
      "cell_type": "code",
      "execution_count": null,
      "metadata": {
        "id": "heqkfyKYupZD"
      },
      "outputs": [],
      "source": [
        "# configuring the model, removing the middle layers \n",
        "class NEW_FFNN(nn.Module):\n",
        "    def __init__(self, hidden_dim, init_low=-2, init_high=2):\n",
        "        super().__init__()\n",
        "        # dimensionality of hidden layers\n",
        "        self.hidden_dim = hidden_dim\n",
        "        #TODO: establish the sublayers -- two perceptrons (each has a linear layer and a sigmoid). and a final\n",
        "        # linear layer. Follow the dimensions from the description above.\n",
        "        self.sublayer1 = nn.Linear(in_features=1, out_features=hidden_dim)\n",
        "        # ---------------------- middle layer removed ----------------------------\n",
        "        # self.sublayer2 = nn.Sigmoid()\n",
        "        # self.sublayer3 = nn.Linear(in_features=hidden_dim, out_features=hidden_dim)\n",
        "        # ---------------------- middle layer removed ----------------------------\n",
        "        self.sublayer4 = nn.Sigmoid()\n",
        "        self.sublayer5 = nn.Linear(in_features=hidden_dim, out_features=1)\n",
        "        \n",
        "        # initialize parameters randomly\n",
        "        torch.manual_seed(random_seed)\n",
        "        for p in self.parameters():\n",
        "            p.data.uniform_(init_low, init_high)\n",
        "        # save a copy of the parameters to allow resetting\n",
        "        self.init_state = copy.deepcopy(self.state_dict())\n",
        "\n",
        "    # Resetting state: If you want to rerun a model, say, with a different\n",
        "    # training regime, you can reset the model's parameter state using\n",
        "    #    model.reset_state()\n",
        "    # before retraining, e.g., \n",
        "    #    train_model(model, criterion, optim, train_data, n_epochs=50)\n",
        "    def reset_state(self):\n",
        "        self.load_state_dict(self.init_state)\n",
        "        \n",
        "    def forward(self, x):\n",
        "        # first perceptron layer\n",
        "        # z = self.sublayer2(self.sublayer1(x)) <----- edited\n",
        "        # second perceptron layer\n",
        "        z_prime = self.sublayer4(self.sublayer1(x)) # <--- layer 4 takes from layer 1\n",
        "        # final linear layer\n",
        "        return self.sublayer5(z_prime)"
      ],
      "id": "heqkfyKYupZD"
    },
    {
      "cell_type": "code",
      "source": [
        "LEARNING_RATE = 0.003\n",
        "NUMBER_EPOCHS = 25\n",
        "BATCH_SIZE = 20\n",
        "\n",
        "HIDDEN_DIMENSION = 20 # <---- increased hidden \n",
        "model = NEW_FFNN(HIDDEN_DIMENSION).to(device) # <-- new FFNN without middle layer\n",
        "optim = torch.optim.Adam(model.parameters(), lr=LEARNING_RATE) # <---- back to Adam\n",
        "\n",
        "model.reset_state()\n",
        "train_model(model, criterion, optim, train_data)\n",
        "loss, predictions = eval_model(model, criterion, test_data)\n",
        "visualize_predictions(test_data, predictions)"
      ],
      "metadata": {
        "colab": {
          "base_uri": "https://localhost:8080/",
          "height": 467
        },
        "id": "dfTkPPhpwDiW",
        "outputId": "0a4a203a-26ba-4658-9e74-786118cd5bd7"
      },
      "id": "dfTkPPhpwDiW",
      "execution_count": null,
      "outputs": [
        {
          "output_type": "stream",
          "name": "stderr",
          "text": [
            "100%|██████████| 25/25 [00:14<00:00,  1.67it/s, epoch=25, loss=1.76]\n"
          ]
        },
        {
          "output_type": "display_data",
          "data": {
            "text/plain": [
              "<Figure size 640x480 with 1 Axes>"
            ],
            "image/png": "[encoded data removed]"
          },
          "metadata": {}
        }
      ]
    },
    {
      "cell_type": "markdown",
      "id": "20fe1d2a",
      "metadata": {
        "deletable": false,
        "editable": false,
        "id": "20fe1d2a"
      },
      "source": [
        "<!-- BEGIN QUESTION -->\n",
        "\n",
        "**Question:** What conclusions have you drawn from your experimentation?\n",
        "<!--\n",
        "BEGIN QUESTION\n",
        "name: open_response_testing_models\n",
        "manual: true\n",
        "-->"
      ]
    },
    {
      "cell_type": "markdown",
      "id": "78696492",
      "metadata": {
        "id": "78696492"
      },
      "source": [
        "***\n",
        "### EXP results:\n",
        "* increasing the **hidden dimention** will decrease the loss, decreasing the hidden dimention will increase the loss\n",
        "* increasing the **epochs** increases the precision of Adam.\n",
        "* dropping the **middle layer** will decrease the precision of Adam, however increasinf the hidden layer dimention will compensate for the missing layer\n",
        "* increasing the hidden layer dimention + learning rate for **SGD** will output better results, however, Adam still performs much better than SGD even when given lower values of the same conditions.\n",
        "\n",
        "***"
      ]
    },
    {
      "cell_type": "markdown",
      "id": "7298e3d6",
      "metadata": {
        "deletable": false,
        "editable": false,
        "id": "7298e3d6"
      },
      "source": [
        "<!-- END QUESTION -->\n",
        "\n",
        "<!-- BEGIN QUESTION -->\n",
        "\n",
        "# Lab debrief\n",
        "\n",
        "**Question:** We're interested in any thoughts your group has about this lab so that we can improve this lab for later years, and to inform later labs for this year. Please list any issues that arose or comments you have to improve the lab. Useful things to comment on include the following: \n",
        "\n",
        "* Was the lab too long or too short?\n",
        "* Were the readings appropriate for the lab? \n",
        "* Was it clear (at least after you completed the lab) what the points of the exercises were? \n",
        "* Are there additions or changes you think would make the lab better?\n",
        "\n",
        "<!--\n",
        "BEGIN QUESTION\n",
        "name: open_response_debrief\n",
        "manual: true\n",
        "-->"
      ]
    },
    {
      "cell_type": "markdown",
      "id": "ef6b42e5",
      "metadata": {
        "id": "ef6b42e5"
      },
      "source": [
        "<!-- END QUESTION -->\n",
        "\n",
        "\n",
        "\n",
        "# End of lab 1-5"
      ]
    },
    {
      "cell_type": "markdown",
      "id": "39d16a46",
      "metadata": {
        "deletable": false,
        "editable": false,
        "id": "39d16a46"
      },
      "source": [
        "---\n",
        "\n",
        "To double-check your work, the cell below will rerun all of the autograder tests."
      ]
    },
    {
      "cell_type": "code",
      "execution_count": null,
      "id": "cfc77132",
      "metadata": {
        "deletable": false,
        "editable": false,
        "colab": {
          "base_uri": "https://localhost:8080/",
          "height": 443
        },
        "id": "cfc77132",
        "outputId": "06d8f912-ce45-4287-94aa-190006e5d96c"
      },
      "outputs": [
        {
          "output_type": "execute_result",
          "data": {
            "text/plain": [
              "FFNN:\n",
              "\n",
              "    All tests passed!\n",
              "    \n",
              "\n",
              "count_instances:\n",
              "\n",
              "    All tests passed!\n",
              "    \n",
              "\n",
              "count_instances_class:\n",
              "\n",
              "    All tests passed!\n",
              "    \n",
              "\n",
              "count_tokens_instances:\n",
              "\n",
              "    All tests passed!\n",
              "    \n",
              "\n",
              "dataset_setup:\n",
              "\n",
              "    All tests passed!\n",
              "    \n",
              "\n",
              "dataset_split:\n",
              "\n",
              "    All tests passed!\n",
              "    \n",
              "\n",
              "model_reduces_loss:\n",
              "\n",
              "    All tests passed!\n",
              "    \n",
              "\n",
              "print_vocab:\n",
              "\n",
              "    All tests passed!\n",
              "    \n",
              "\n",
              "vocab_sizes:\n",
              "\n",
              "    All tests passed!\n",
              "    \n"
            ],
            "text/html": [
              "<p><strong>FFNN:</strong></p>\n",
              "\n",
              "    \n",
              "    \n",
              "        <p>All tests passed!</p>\n",
              "    \n",
              "    \n",
              "\n",
              "<p><strong>count_instances:</strong></p>\n",
              "\n",
              "    \n",
              "    \n",
              "        <p>All tests passed!</p>\n",
              "    \n",
              "    \n",
              "\n",
              "<p><strong>count_instances_class:</strong></p>\n",
              "\n",
              "    \n",
              "    \n",
              "        <p>All tests passed!</p>\n",
              "    \n",
              "    \n",
              "\n",
              "<p><strong>count_tokens_instances:</strong></p>\n",
              "\n",
              "    \n",
              "    \n",
              "        <p>All tests passed!</p>\n",
              "    \n",
              "    \n",
              "\n",
              "<p><strong>dataset_setup:</strong></p>\n",
              "\n",
              "    \n",
              "    \n",
              "        <p>All tests passed!</p>\n",
              "    \n",
              "    \n",
              "\n",
              "<p><strong>dataset_split:</strong></p>\n",
              "\n",
              "    \n",
              "    \n",
              "        <p>All tests passed!</p>\n",
              "    \n",
              "    \n",
              "\n",
              "<p><strong>model_reduces_loss:</strong></p>\n",
              "\n",
              "    \n",
              "    \n",
              "        <p>All tests passed!</p>\n",
              "    \n",
              "    \n",
              "\n",
              "<p><strong>print_vocab:</strong></p>\n",
              "\n",
              "    \n",
              "    \n",
              "        <p>All tests passed!</p>\n",
              "    \n",
              "    \n",
              "\n",
              "<p><strong>vocab_sizes:</strong></p>\n",
              "\n",
              "    \n",
              "    \n",
              "        <p>All tests passed!</p>\n",
              "    \n",
              "    \n",
              "\n"
            ]
          },
          "metadata": {},
          "execution_count": 194
        }
      ],
      "source": [
        "grader.check_all()"
      ]
    }
  ],
  "metadata": {
    "celltoolbar": "Edit Metadata",
    "kernelspec": {
      "display_name": "otter-latest",
      "language": "python",
      "name": "python3"
    },
    "language_info": {
      "codemirror_mode": {
        "name": "ipython",
        "version": 3
      },
      "file_extension": ".py",
      "mimetype": "text/x-python",
      "name": "python",
      "nbconvert_exporter": "python",
      "pygments_lexer": "ipython3",
      "version": "3.8.3"
    },
    "title": "CS187 Lab 1-5: Scaling up: Huggingface Datasets, Tokenizers, and PyTorch",
    "vscode": {
      "interpreter": {
        "hash": "4fba83c08fc02185bb2310bd24d0cd81fb04529c933f82aa81c61aab9d5528dc"
      }
    },
    "widgets": {
      "application/vnd.jupyter.widget-state+json": {
        "fac43d2d8e42450990b756b35918a50a": {
          "model_module": "@jupyter-widgets/controls",
          "model_name": "HBoxModel",
          "model_module_version": "1.5.0",
          "state": {
            "_dom_classes": [],
            "_model_module": "@jupyter-widgets/controls",
            "_model_module_version": "1.5.0",
            "_model_name": "HBoxModel",
            "_view_count": null,
            "_view_module": "@jupyter-widgets/controls",
            "_view_module_version": "1.5.0",
            "_view_name": "HBoxView",
            "box_style": "",
            "children": [
              "IPY_MODEL_48104977181a4d5c9d2ab54044b1ac92",
              "IPY_MODEL_47624deedeff416eaceb35d6594c0e88",
              "IPY_MODEL_9bda0a94824b45ec8dea1a6c8aede0a2"
            ],
            "layout": "IPY_MODEL_04d6f1ad919d4774a194b890bf367aab"
          }
        },
        "48104977181a4d5c9d2ab54044b1ac92": {
          "model_module": "@jupyter-widgets/controls",
          "model_name": "HTMLModel",
          "model_module_version": "1.5.0",
          "state": {
            "_dom_classes": [],
            "_model_module": "@jupyter-widgets/controls",
            "_model_module_version": "1.5.0",
            "_model_name": "HTMLModel",
            "_view_count": null,
            "_view_module": "@jupyter-widgets/controls",
            "_view_module_version": "1.5.0",
            "_view_name": "HTMLView",
            "description": "",
            "description_tooltip": null,
            "layout": "IPY_MODEL_fe9409dae84a401e9d81deeb6b0a6914",
            "placeholder": "​",
            "style": "IPY_MODEL_11d95dfee95e49b9901ac2a056ac34a6",
            "value": "Downloading data files: 100%"
          }
        },
        "47624deedeff416eaceb35d6594c0e88": {
          "model_module": "@jupyter-widgets/controls",
          "model_name": "FloatProgressModel",
          "model_module_version": "1.5.0",
          "state": {
            "_dom_classes": [],
            "_model_module": "@jupyter-widgets/controls",
            "_model_module_version": "1.5.0",
            "_model_name": "FloatProgressModel",
            "_view_count": null,
            "_view_module": "@jupyter-widgets/controls",
            "_view_module_version": "1.5.0",
            "_view_name": "ProgressView",
            "bar_style": "success",
            "description": "",
            "description_tooltip": null,
            "layout": "IPY_MODEL_2ed517a552c84b778110e0fc319a237f",
            "max": 1,
            "min": 0,
            "orientation": "horizontal",
            "style": "IPY_MODEL_1673e40ec29c49229c79c10a5a859045",
            "value": 1
          }
        },
        "9bda0a94824b45ec8dea1a6c8aede0a2": {
          "model_module": "@jupyter-widgets/controls",
          "model_name": "HTMLModel",
          "model_module_version": "1.5.0",
          "state": {
            "_dom_classes": [],
            "_model_module": "@jupyter-widgets/controls",
            "_model_module_version": "1.5.0",
            "_model_name": "HTMLModel",
            "_view_count": null,
            "_view_module": "@jupyter-widgets/controls",
            "_view_module_version": "1.5.0",
            "_view_name": "HTMLView",
            "description": "",
            "description_tooltip": null,
            "layout": "IPY_MODEL_fc3380a5e0d44edc8ab0e629252e674f",
            "placeholder": "​",
            "style": "IPY_MODEL_80506037284c4f7da387824a1d5bf3b9",
            "value": " 1/1 [00:00&lt;00:00, 54.91it/s]"
          }
        },
        "04d6f1ad919d4774a194b890bf367aab": {
          "model_module": "@jupyter-widgets/base",
          "model_name": "LayoutModel",
          "model_module_version": "1.2.0",
          "state": {
            "_model_module": "@jupyter-widgets/base",
            "_model_module_version": "1.2.0",
            "_model_name": "LayoutModel",
            "_view_count": null,
            "_view_module": "@jupyter-widgets/base",
            "_view_module_version": "1.2.0",
            "_view_name": "LayoutView",
            "align_content": null,
            "align_items": null,
            "align_self": null,
            "border": null,
            "bottom": null,
            "display": null,
            "flex": null,
            "flex_flow": null,
            "grid_area": null,
            "grid_auto_columns": null,
            "grid_auto_flow": null,
            "grid_auto_rows": null,
            "grid_column": null,
            "grid_gap": null,
            "grid_row": null,
            "grid_template_areas": null,
            "grid_template_columns": null,
            "grid_template_rows": null,
            "height": null,
            "justify_content": null,
            "justify_items": null,
            "left": null,
            "margin": null,
            "max_height": null,
            "max_width": null,
            "min_height": null,
            "min_width": null,
            "object_fit": null,
            "object_position": null,
            "order": null,
            "overflow": null,
            "overflow_x": null,
            "overflow_y": null,
            "padding": null,
            "right": null,
            "top": null,
            "visibility": null,
            "width": null
          }
        },
        "fe9409dae84a401e9d81deeb6b0a6914": {
          "model_module": "@jupyter-widgets/base",
          "model_name": "LayoutModel",
          "model_module_version": "1.2.0",
          "state": {
            "_model_module": "@jupyter-widgets/base",
            "_model_module_version": "1.2.0",
            "_model_name": "LayoutModel",
            "_view_count": null,
            "_view_module": "@jupyter-widgets/base",
            "_view_module_version": "1.2.0",
            "_view_name": "LayoutView",
            "align_content": null,
            "align_items": null,
            "align_self": null,
            "border": null,
            "bottom": null,
            "display": null,
            "flex": null,
            "flex_flow": null,
            "grid_area": null,
            "grid_auto_columns": null,
            "grid_auto_flow": null,
            "grid_auto_rows": null,
            "grid_column": null,
            "grid_gap": null,
            "grid_row": null,
            "grid_template_areas": null,
            "grid_template_columns": null,
            "grid_template_rows": null,
            "height": null,
            "justify_content": null,
            "justify_items": null,
            "left": null,
            "margin": null,
            "max_height": null,
            "max_width": null,
            "min_height": null,
            "min_width": null,
            "object_fit": null,
            "object_position": null,
            "order": null,
            "overflow": null,
            "overflow_x": null,
            "overflow_y": null,
            "padding": null,
            "right": null,
            "top": null,
            "visibility": null,
            "width": null
          }
        },
        "11d95dfee95e49b9901ac2a056ac34a6": {
          "model_module": "@jupyter-widgets/controls",
          "model_name": "DescriptionStyleModel",
          "model_module_version": "1.5.0",
          "state": {
            "_model_module": "@jupyter-widgets/controls",
            "_model_module_version": "1.5.0",
            "_model_name": "DescriptionStyleModel",
            "_view_count": null,
            "_view_module": "@jupyter-widgets/base",
            "_view_module_version": "1.2.0",
            "_view_name": "StyleView",
            "description_width": ""
          }
        },
        "2ed517a552c84b778110e0fc319a237f": {
          "model_module": "@jupyter-widgets/base",
          "model_name": "LayoutModel",
          "model_module_version": "1.2.0",
          "state": {
            "_model_module": "@jupyter-widgets/base",
            "_model_module_version": "1.2.0",
            "_model_name": "LayoutModel",
            "_view_count": null,
            "_view_module": "@jupyter-widgets/base",
            "_view_module_version": "1.2.0",
            "_view_name": "LayoutView",
            "align_content": null,
            "align_items": null,
            "align_self": null,
            "border": null,
            "bottom": null,
            "display": null,
            "flex": null,
            "flex_flow": null,
            "grid_area": null,
            "grid_auto_columns": null,
            "grid_auto_flow": null,
            "grid_auto_rows": null,
            "grid_column": null,
            "grid_gap": null,
            "grid_row": null,
            "grid_template_areas": null,
            "grid_template_columns": null,
            "grid_template_rows": null,
            "height": null,
            "justify_content": null,
            "justify_items": null,
            "left": null,
            "margin": null,
            "max_height": null,
            "max_width": null,
            "min_height": null,
            "min_width": null,
            "object_fit": null,
            "object_position": null,
            "order": null,
            "overflow": null,
            "overflow_x": null,
            "overflow_y": null,
            "padding": null,
            "right": null,
            "top": null,
            "visibility": null,
            "width": null
          }
        },
        "1673e40ec29c49229c79c10a5a859045": {
          "model_module": "@jupyter-widgets/controls",
          "model_name": "ProgressStyleModel",
          "model_module_version": "1.5.0",
          "state": {
            "_model_module": "@jupyter-widgets/controls",
            "_model_module_version": "1.5.0",
            "_model_name": "ProgressStyleModel",
            "_view_count": null,
            "_view_module": "@jupyter-widgets/base",
            "_view_module_version": "1.2.0",
            "_view_name": "StyleView",
            "bar_color": null,
            "description_width": ""
          }
        },
        "fc3380a5e0d44edc8ab0e629252e674f": {
          "model_module": "@jupyter-widgets/base",
          "model_name": "LayoutModel",
          "model_module_version": "1.2.0",
          "state": {
            "_model_module": "@jupyter-widgets/base",
            "_model_module_version": "1.2.0",
            "_model_name": "LayoutModel",
            "_view_count": null,
            "_view_module": "@jupyter-widgets/base",
            "_view_module_version": "1.2.0",
            "_view_name": "LayoutView",
            "align_content": null,
            "align_items": null,
            "align_self": null,
            "border": null,
            "bottom": null,
            "display": null,
            "flex": null,
            "flex_flow": null,
            "grid_area": null,
            "grid_auto_columns": null,
            "grid_auto_flow": null,
            "grid_auto_rows": null,
            "grid_column": null,
            "grid_gap": null,
            "grid_row": null,
            "grid_template_areas": null,
            "grid_template_columns": null,
            "grid_template_rows": null,
            "height": null,
            "justify_content": null,
            "justify_items": null,
            "left": null,
            "margin": null,
            "max_height": null,
            "max_width": null,
            "min_height": null,
            "min_width": null,
            "object_fit": null,
            "object_position": null,
            "order": null,
            "overflow": null,
            "overflow_x": null,
            "overflow_y": null,
            "padding": null,
            "right": null,
            "top": null,
            "visibility": null,
            "width": null
          }
        },
        "80506037284c4f7da387824a1d5bf3b9": {
          "model_module": "@jupyter-widgets/controls",
          "model_name": "DescriptionStyleModel",
          "model_module_version": "1.5.0",
          "state": {
            "_model_module": "@jupyter-widgets/controls",
            "_model_module_version": "1.5.0",
            "_model_name": "DescriptionStyleModel",
            "_view_count": null,
            "_view_module": "@jupyter-widgets/base",
            "_view_module_version": "1.2.0",
            "_view_name": "StyleView",
            "description_width": ""
          }
        },
        "29946af72cdd4ecb8dae8fdf07d4f753": {
          "model_module": "@jupyter-widgets/controls",
          "model_name": "HBoxModel",
          "model_module_version": "1.5.0",
          "state": {
            "_dom_classes": [],
            "_model_module": "@jupyter-widgets/controls",
            "_model_module_version": "1.5.0",
            "_model_name": "HBoxModel",
            "_view_count": null,
            "_view_module": "@jupyter-widgets/controls",
            "_view_module_version": "1.5.0",
            "_view_name": "HBoxView",
            "box_style": "",
            "children": [
              "IPY_MODEL_5aa7d59f446f46aea26c3a055e8467eb",
              "IPY_MODEL_8cd4962f6fb047138262caa334c8dc0b",
              "IPY_MODEL_1150b2ddb0a24d99862e7c16aabd17df"
            ],
            "layout": "IPY_MODEL_6ee65a255a42499388bd8cc42aeae24b"
          }
        },
        "5aa7d59f446f46aea26c3a055e8467eb": {
          "model_module": "@jupyter-widgets/controls",
          "model_name": "HTMLModel",
          "model_module_version": "1.5.0",
          "state": {
            "_dom_classes": [],
            "_model_module": "@jupyter-widgets/controls",
            "_model_module_version": "1.5.0",
            "_model_name": "HTMLModel",
            "_view_count": null,
            "_view_module": "@jupyter-widgets/controls",
            "_view_module_version": "1.5.0",
            "_view_name": "HTMLView",
            "description": "",
            "description_tooltip": null,
            "layout": "IPY_MODEL_da05a0fe949e47a38403dd410caf02f0",
            "placeholder": "​",
            "style": "IPY_MODEL_d063b7d11feb4f5bbff235650680c051",
            "value": "Extracting data files: 100%"
          }
        },
        "8cd4962f6fb047138262caa334c8dc0b": {
          "model_module": "@jupyter-widgets/controls",
          "model_name": "FloatProgressModel",
          "model_module_version": "1.5.0",
          "state": {
            "_dom_classes": [],
            "_model_module": "@jupyter-widgets/controls",
            "_model_module_version": "1.5.0",
            "_model_name": "FloatProgressModel",
            "_view_count": null,
            "_view_module": "@jupyter-widgets/controls",
            "_view_module_version": "1.5.0",
            "_view_name": "ProgressView",
            "bar_style": "success",
            "description": "",
            "description_tooltip": null,
            "layout": "IPY_MODEL_ff0e3139f5624cddbf2ae53c295b55c9",
            "max": 1,
            "min": 0,
            "orientation": "horizontal",
            "style": "IPY_MODEL_bcf8f79171d145be9e4e6f03499632ca",
            "value": 1
          }
        },
        "1150b2ddb0a24d99862e7c16aabd17df": {
          "model_module": "@jupyter-widgets/controls",
          "model_name": "HTMLModel",
          "model_module_version": "1.5.0",
          "state": {
            "_dom_classes": [],
            "_model_module": "@jupyter-widgets/controls",
            "_model_module_version": "1.5.0",
            "_model_name": "HTMLModel",
            "_view_count": null,
            "_view_module": "@jupyter-widgets/controls",
            "_view_module_version": "1.5.0",
            "_view_name": "HTMLView",
            "description": "",
            "description_tooltip": null,
            "layout": "IPY_MODEL_2cbff1ef4e144182a7501a25901b1110",
            "placeholder": "​",
            "style": "IPY_MODEL_2ac90deeb9d24ae5b6744b668ab98a0a",
            "value": " 1/1 [00:00&lt;00:00, 37.15it/s]"
          }
        },
        "6ee65a255a42499388bd8cc42aeae24b": {
          "model_module": "@jupyter-widgets/base",
          "model_name": "LayoutModel",
          "model_module_version": "1.2.0",
          "state": {
            "_model_module": "@jupyter-widgets/base",
            "_model_module_version": "1.2.0",
            "_model_name": "LayoutModel",
            "_view_count": null,
            "_view_module": "@jupyter-widgets/base",
            "_view_module_version": "1.2.0",
            "_view_name": "LayoutView",
            "align_content": null,
            "align_items": null,
            "align_self": null,
            "border": null,
            "bottom": null,
            "display": null,
            "flex": null,
            "flex_flow": null,
            "grid_area": null,
            "grid_auto_columns": null,
            "grid_auto_flow": null,
            "grid_auto_rows": null,
            "grid_column": null,
            "grid_gap": null,
            "grid_row": null,
            "grid_template_areas": null,
            "grid_template_columns": null,
            "grid_template_rows": null,
            "height": null,
            "justify_content": null,
            "justify_items": null,
            "left": null,
            "margin": null,
            "max_height": null,
            "max_width": null,
            "min_height": null,
            "min_width": null,
            "object_fit": null,
            "object_position": null,
            "order": null,
            "overflow": null,
            "overflow_x": null,
            "overflow_y": null,
            "padding": null,
            "right": null,
            "top": null,
            "visibility": null,
            "width": null
          }
        },
        "da05a0fe949e47a38403dd410caf02f0": {
          "model_module": "@jupyter-widgets/base",
          "model_name": "LayoutModel",
          "model_module_version": "1.2.0",
          "state": {
            "_model_module": "@jupyter-widgets/base",
            "_model_module_version": "1.2.0",
            "_model_name": "LayoutModel",
            "_view_count": null,
            "_view_module": "@jupyter-widgets/base",
            "_view_module_version": "1.2.0",
            "_view_name": "LayoutView",
            "align_content": null,
            "align_items": null,
            "align_self": null,
            "border": null,
            "bottom": null,
            "display": null,
            "flex": null,
            "flex_flow": null,
            "grid_area": null,
            "grid_auto_columns": null,
            "grid_auto_flow": null,
            "grid_auto_rows": null,
            "grid_column": null,
            "grid_gap": null,
            "grid_row": null,
            "grid_template_areas": null,
            "grid_template_columns": null,
            "grid_template_rows": null,
            "height": null,
            "justify_content": null,
            "justify_items": null,
            "left": null,
            "margin": null,
            "max_height": null,
            "max_width": null,
            "min_height": null,
            "min_width": null,
            "object_fit": null,
            "object_position": null,
            "order": null,
            "overflow": null,
            "overflow_x": null,
            "overflow_y": null,
            "padding": null,
            "right": null,
            "top": null,
            "visibility": null,
            "width": null
          }
        },
        "d063b7d11feb4f5bbff235650680c051": {
          "model_module": "@jupyter-widgets/controls",
          "model_name": "DescriptionStyleModel",
          "model_module_version": "1.5.0",
          "state": {
            "_model_module": "@jupyter-widgets/controls",
            "_model_module_version": "1.5.0",
            "_model_name": "DescriptionStyleModel",
            "_view_count": null,
            "_view_module": "@jupyter-widgets/base",
            "_view_module_version": "1.2.0",
            "_view_name": "StyleView",
            "description_width": ""
          }
        },
        "ff0e3139f5624cddbf2ae53c295b55c9": {
          "model_module": "@jupyter-widgets/base",
          "model_name": "LayoutModel",
          "model_module_version": "1.2.0",
          "state": {
            "_model_module": "@jupyter-widgets/base",
            "_model_module_version": "1.2.0",
            "_model_name": "LayoutModel",
            "_view_count": null,
            "_view_module": "@jupyter-widgets/base",
            "_view_module_version": "1.2.0",
            "_view_name": "LayoutView",
            "align_content": null,
            "align_items": null,
            "align_self": null,
            "border": null,
            "bottom": null,
            "display": null,
            "flex": null,
            "flex_flow": null,
            "grid_area": null,
            "grid_auto_columns": null,
            "grid_auto_flow": null,
            "grid_auto_rows": null,
            "grid_column": null,
            "grid_gap": null,
            "grid_row": null,
            "grid_template_areas": null,
            "grid_template_columns": null,
            "grid_template_rows": null,
            "height": null,
            "justify_content": null,
            "justify_items": null,
            "left": null,
            "margin": null,
            "max_height": null,
            "max_width": null,
            "min_height": null,
            "min_width": null,
            "object_fit": null,
            "object_position": null,
            "order": null,
            "overflow": null,
            "overflow_x": null,
            "overflow_y": null,
            "padding": null,
            "right": null,
            "top": null,
            "visibility": null,
            "width": null
          }
        },
        "bcf8f79171d145be9e4e6f03499632ca": {
          "model_module": "@jupyter-widgets/controls",
          "model_name": "ProgressStyleModel",
          "model_module_version": "1.5.0",
          "state": {
            "_model_module": "@jupyter-widgets/controls",
            "_model_module_version": "1.5.0",
            "_model_name": "ProgressStyleModel",
            "_view_count": null,
            "_view_module": "@jupyter-widgets/base",
            "_view_module_version": "1.2.0",
            "_view_name": "StyleView",
            "bar_color": null,
            "description_width": ""
          }
        },
        "2cbff1ef4e144182a7501a25901b1110": {
          "model_module": "@jupyter-widgets/base",
          "model_name": "LayoutModel",
          "model_module_version": "1.2.0",
          "state": {
            "_model_module": "@jupyter-widgets/base",
            "_model_module_version": "1.2.0",
            "_model_name": "LayoutModel",
            "_view_count": null,
            "_view_module": "@jupyter-widgets/base",
            "_view_module_version": "1.2.0",
            "_view_name": "LayoutView",
            "align_content": null,
            "align_items": null,
            "align_self": null,
            "border": null,
            "bottom": null,
            "display": null,
            "flex": null,
            "flex_flow": null,
            "grid_area": null,
            "grid_auto_columns": null,
            "grid_auto_flow": null,
            "grid_auto_rows": null,
            "grid_column": null,
            "grid_gap": null,
            "grid_row": null,
            "grid_template_areas": null,
            "grid_template_columns": null,
            "grid_template_rows": null,
            "height": null,
            "justify_content": null,
            "justify_items": null,
            "left": null,
            "margin": null,
            "max_height": null,
            "max_width": null,
            "min_height": null,
            "min_width": null,
            "object_fit": null,
            "object_position": null,
            "order": null,
            "overflow": null,
            "overflow_x": null,
            "overflow_y": null,
            "padding": null,
            "right": null,
            "top": null,
            "visibility": null,
            "width": null
          }
        },
        "2ac90deeb9d24ae5b6744b668ab98a0a": {
          "model_module": "@jupyter-widgets/controls",
          "model_name": "DescriptionStyleModel",
          "model_module_version": "1.5.0",
          "state": {
            "_model_module": "@jupyter-widgets/controls",
            "_model_module_version": "1.5.0",
            "_model_name": "DescriptionStyleModel",
            "_view_count": null,
            "_view_module": "@jupyter-widgets/base",
            "_view_module_version": "1.2.0",
            "_view_name": "StyleView",
            "description_width": ""
          }
        },
        "0ac0f01d6c994f919838a1322077a93a": {
          "model_module": "@jupyter-widgets/controls",
          "model_name": "HBoxModel",
          "model_module_version": "1.5.0",
          "state": {
            "_dom_classes": [],
            "_model_module": "@jupyter-widgets/controls",
            "_model_module_version": "1.5.0",
            "_model_name": "HBoxModel",
            "_view_count": null,
            "_view_module": "@jupyter-widgets/controls",
            "_view_module_version": "1.5.0",
            "_view_name": "HBoxView",
            "box_style": "",
            "children": [
              "IPY_MODEL_61ab689adad84696af9aea3807166156",
              "IPY_MODEL_98056faa232448bc8640bd4ef59245fb",
              "IPY_MODEL_9e02faa87718431b9df14f6f1f47003c"
            ],
            "layout": "IPY_MODEL_9eea9f19720d490ab50785388d68c7c6"
          }
        },
        "61ab689adad84696af9aea3807166156": {
          "model_module": "@jupyter-widgets/controls",
          "model_name": "HTMLModel",
          "model_module_version": "1.5.0",
          "state": {
            "_dom_classes": [],
            "_model_module": "@jupyter-widgets/controls",
            "_model_module_version": "1.5.0",
            "_model_name": "HTMLModel",
            "_view_count": null,
            "_view_module": "@jupyter-widgets/controls",
            "_view_module_version": "1.5.0",
            "_view_name": "HTMLView",
            "description": "",
            "description_tooltip": null,
            "layout": "IPY_MODEL_4588fdc8e73a433cb7132d1b7d95589a",
            "placeholder": "​",
            "style": "IPY_MODEL_436a6eabde74410d97c008a285617cdb",
            "value": "Generating train split: "
          }
        },
        "98056faa232448bc8640bd4ef59245fb": {
          "model_module": "@jupyter-widgets/controls",
          "model_name": "FloatProgressModel",
          "model_module_version": "1.5.0",
          "state": {
            "_dom_classes": [],
            "_model_module": "@jupyter-widgets/controls",
            "_model_module_version": "1.5.0",
            "_model_name": "FloatProgressModel",
            "_view_count": null,
            "_view_module": "@jupyter-widgets/controls",
            "_view_module_version": "1.5.0",
            "_view_name": "ProgressView",
            "bar_style": "info",
            "description": "",
            "description_tooltip": null,
            "layout": "IPY_MODEL_9434fe3196134c18bf0f11db249e897e",
            "max": 1,
            "min": 0,
            "orientation": "horizontal",
            "style": "IPY_MODEL_4c41710a77ad48e0b8f41b501865ece5",
            "value": 1
          }
        },
        "9e02faa87718431b9df14f6f1f47003c": {
          "model_module": "@jupyter-widgets/controls",
          "model_name": "HTMLModel",
          "model_module_version": "1.5.0",
          "state": {
            "_dom_classes": [],
            "_model_module": "@jupyter-widgets/controls",
            "_model_module_version": "1.5.0",
            "_model_name": "HTMLModel",
            "_view_count": null,
            "_view_module": "@jupyter-widgets/controls",
            "_view_module_version": "1.5.0",
            "_view_name": "HTMLView",
            "description": "",
            "description_tooltip": null,
            "layout": "IPY_MODEL_80e92cfb523d4fe9ab8349cded4c6261",
            "placeholder": "​",
            "style": "IPY_MODEL_a5d01b6b1b764d6384f586b5f78167c8",
            "value": " 0/0 [00:00&lt;?, ? examples/s]"
          }
        },
        "9eea9f19720d490ab50785388d68c7c6": {
          "model_module": "@jupyter-widgets/base",
          "model_name": "LayoutModel",
          "model_module_version": "1.2.0",
          "state": {
            "_model_module": "@jupyter-widgets/base",
            "_model_module_version": "1.2.0",
            "_model_name": "LayoutModel",
            "_view_count": null,
            "_view_module": "@jupyter-widgets/base",
            "_view_module_version": "1.2.0",
            "_view_name": "LayoutView",
            "align_content": null,
            "align_items": null,
            "align_self": null,
            "border": null,
            "bottom": null,
            "display": null,
            "flex": null,
            "flex_flow": null,
            "grid_area": null,
            "grid_auto_columns": null,
            "grid_auto_flow": null,
            "grid_auto_rows": null,
            "grid_column": null,
            "grid_gap": null,
            "grid_row": null,
            "grid_template_areas": null,
            "grid_template_columns": null,
            "grid_template_rows": null,
            "height": null,
            "justify_content": null,
            "justify_items": null,
            "left": null,
            "margin": null,
            "max_height": null,
            "max_width": null,
            "min_height": null,
            "min_width": null,
            "object_fit": null,
            "object_position": null,
            "order": null,
            "overflow": null,
            "overflow_x": null,
            "overflow_y": null,
            "padding": null,
            "right": null,
            "top": null,
            "visibility": "hidden",
            "width": null
          }
        },
        "4588fdc8e73a433cb7132d1b7d95589a": {
          "model_module": "@jupyter-widgets/base",
          "model_name": "LayoutModel",
          "model_module_version": "1.2.0",
          "state": {
            "_model_module": "@jupyter-widgets/base",
            "_model_module_version": "1.2.0",
            "_model_name": "LayoutModel",
            "_view_count": null,
            "_view_module": "@jupyter-widgets/base",
            "_view_module_version": "1.2.0",
            "_view_name": "LayoutView",
            "align_content": null,
            "align_items": null,
            "align_self": null,
            "border": null,
            "bottom": null,
            "display": null,
            "flex": null,
            "flex_flow": null,
            "grid_area": null,
            "grid_auto_columns": null,
            "grid_auto_flow": null,
            "grid_auto_rows": null,
            "grid_column": null,
            "grid_gap": null,
            "grid_row": null,
            "grid_template_areas": null,
            "grid_template_columns": null,
            "grid_template_rows": null,
            "height": null,
            "justify_content": null,
            "justify_items": null,
            "left": null,
            "margin": null,
            "max_height": null,
            "max_width": null,
            "min_height": null,
            "min_width": null,
            "object_fit": null,
            "object_position": null,
            "order": null,
            "overflow": null,
            "overflow_x": null,
            "overflow_y": null,
            "padding": null,
            "right": null,
            "top": null,
            "visibility": null,
            "width": null
          }
        },
        "436a6eabde74410d97c008a285617cdb": {
          "model_module": "@jupyter-widgets/controls",
          "model_name": "DescriptionStyleModel",
          "model_module_version": "1.5.0",
          "state": {
            "_model_module": "@jupyter-widgets/controls",
            "_model_module_version": "1.5.0",
            "_model_name": "DescriptionStyleModel",
            "_view_count": null,
            "_view_module": "@jupyter-widgets/base",
            "_view_module_version": "1.2.0",
            "_view_name": "StyleView",
            "description_width": ""
          }
        },
        "9434fe3196134c18bf0f11db249e897e": {
          "model_module": "@jupyter-widgets/base",
          "model_name": "LayoutModel",
          "model_module_version": "1.2.0",
          "state": {
            "_model_module": "@jupyter-widgets/base",
            "_model_module_version": "1.2.0",
            "_model_name": "LayoutModel",
            "_view_count": null,
            "_view_module": "@jupyter-widgets/base",
            "_view_module_version": "1.2.0",
            "_view_name": "LayoutView",
            "align_content": null,
            "align_items": null,
            "align_self": null,
            "border": null,
            "bottom": null,
            "display": null,
            "flex": null,
            "flex_flow": null,
            "grid_area": null,
            "grid_auto_columns": null,
            "grid_auto_flow": null,
            "grid_auto_rows": null,
            "grid_column": null,
            "grid_gap": null,
            "grid_row": null,
            "grid_template_areas": null,
            "grid_template_columns": null,
            "grid_template_rows": null,
            "height": null,
            "justify_content": null,
            "justify_items": null,
            "left": null,
            "margin": null,
            "max_height": null,
            "max_width": null,
            "min_height": null,
            "min_width": null,
            "object_fit": null,
            "object_position": null,
            "order": null,
            "overflow": null,
            "overflow_x": null,
            "overflow_y": null,
            "padding": null,
            "right": null,
            "top": null,
            "visibility": null,
            "width": "20px"
          }
        },
        "4c41710a77ad48e0b8f41b501865ece5": {
          "model_module": "@jupyter-widgets/controls",
          "model_name": "ProgressStyleModel",
          "model_module_version": "1.5.0",
          "state": {
            "_model_module": "@jupyter-widgets/controls",
            "_model_module_version": "1.5.0",
            "_model_name": "ProgressStyleModel",
            "_view_count": null,
            "_view_module": "@jupyter-widgets/base",
            "_view_module_version": "1.2.0",
            "_view_name": "StyleView",
            "bar_color": null,
            "description_width": ""
          }
        },
        "80e92cfb523d4fe9ab8349cded4c6261": {
          "model_module": "@jupyter-widgets/base",
          "model_name": "LayoutModel",
          "model_module_version": "1.2.0",
          "state": {
            "_model_module": "@jupyter-widgets/base",
            "_model_module_version": "1.2.0",
            "_model_name": "LayoutModel",
            "_view_count": null,
            "_view_module": "@jupyter-widgets/base",
            "_view_module_version": "1.2.0",
            "_view_name": "LayoutView",
            "align_content": null,
            "align_items": null,
            "align_self": null,
            "border": null,
            "bottom": null,
            "display": null,
            "flex": null,
            "flex_flow": null,
            "grid_area": null,
            "grid_auto_columns": null,
            "grid_auto_flow": null,
            "grid_auto_rows": null,
            "grid_column": null,
            "grid_gap": null,
            "grid_row": null,
            "grid_template_areas": null,
            "grid_template_columns": null,
            "grid_template_rows": null,
            "height": null,
            "justify_content": null,
            "justify_items": null,
            "left": null,
            "margin": null,
            "max_height": null,
            "max_width": null,
            "min_height": null,
            "min_width": null,
            "object_fit": null,
            "object_position": null,
            "order": null,
            "overflow": null,
            "overflow_x": null,
            "overflow_y": null,
            "padding": null,
            "right": null,
            "top": null,
            "visibility": null,
            "width": null
          }
        },
        "a5d01b6b1b764d6384f586b5f78167c8": {
          "model_module": "@jupyter-widgets/controls",
          "model_name": "DescriptionStyleModel",
          "model_module_version": "1.5.0",
          "state": {
            "_model_module": "@jupyter-widgets/controls",
            "_model_module_version": "1.5.0",
            "_model_name": "DescriptionStyleModel",
            "_view_count": null,
            "_view_module": "@jupyter-widgets/base",
            "_view_module_version": "1.2.0",
            "_view_name": "StyleView",
            "description_width": ""
          }
        },
        "c2362da70e66477baf6720d8414a0d39": {
          "model_module": "@jupyter-widgets/controls",
          "model_name": "HBoxModel",
          "model_module_version": "1.5.0",
          "state": {
            "_dom_classes": [],
            "_model_module": "@jupyter-widgets/controls",
            "_model_module_version": "1.5.0",
            "_model_name": "HBoxModel",
            "_view_count": null,
            "_view_module": "@jupyter-widgets/controls",
            "_view_module_version": "1.5.0",
            "_view_name": "HBoxView",
            "box_style": "",
            "children": [
              "IPY_MODEL_d7bbc006257b4e708d7af93ed9cffd30",
              "IPY_MODEL_10e4cda6f7954cb198923270dbac6ef1",
              "IPY_MODEL_b67c63572fd943cd86e56f7e2d3ea0e9"
            ],
            "layout": "IPY_MODEL_a109f14d31264cdc8bacd1d0a50be239"
          }
        },
        "d7bbc006257b4e708d7af93ed9cffd30": {
          "model_module": "@jupyter-widgets/controls",
          "model_name": "HTMLModel",
          "model_module_version": "1.5.0",
          "state": {
            "_dom_classes": [],
            "_model_module": "@jupyter-widgets/controls",
            "_model_module_version": "1.5.0",
            "_model_name": "HTMLModel",
            "_view_count": null,
            "_view_module": "@jupyter-widgets/controls",
            "_view_module_version": "1.5.0",
            "_view_name": "HTMLView",
            "description": "",
            "description_tooltip": null,
            "layout": "IPY_MODEL_4e4d840601a94e209773e6b329383449",
            "placeholder": "​",
            "style": "IPY_MODEL_a17e1b4ce1a9422fa3f655c6f3aaa9e6",
            "value": "Flattening the indices:   0%"
          }
        },
        "10e4cda6f7954cb198923270dbac6ef1": {
          "model_module": "@jupyter-widgets/controls",
          "model_name": "FloatProgressModel",
          "model_module_version": "1.5.0",
          "state": {
            "_dom_classes": [],
            "_model_module": "@jupyter-widgets/controls",
            "_model_module_version": "1.5.0",
            "_model_name": "FloatProgressModel",
            "_view_count": null,
            "_view_module": "@jupyter-widgets/controls",
            "_view_module_version": "1.5.0",
            "_view_name": "ProgressView",
            "bar_style": "",
            "description": "",
            "description_tooltip": null,
            "layout": "IPY_MODEL_f186e513b60a4ad1b430acd1ba26b64d",
            "max": 97,
            "min": 0,
            "orientation": "horizontal",
            "style": "IPY_MODEL_e23ffa11dc1144919d1e0d3a302ffe9c",
            "value": 97
          }
        },
        "b67c63572fd943cd86e56f7e2d3ea0e9": {
          "model_module": "@jupyter-widgets/controls",
          "model_name": "HTMLModel",
          "model_module_version": "1.5.0",
          "state": {
            "_dom_classes": [],
            "_model_module": "@jupyter-widgets/controls",
            "_model_module_version": "1.5.0",
            "_model_name": "HTMLModel",
            "_view_count": null,
            "_view_module": "@jupyter-widgets/controls",
            "_view_module_version": "1.5.0",
            "_view_name": "HTMLView",
            "description": "",
            "description_tooltip": null,
            "layout": "IPY_MODEL_fe1a1c08995041a0bf11c2581405aad5",
            "placeholder": "​",
            "style": "IPY_MODEL_4597473cb54341c78eb93018e42826c8",
            "value": " 0/97 [00:00&lt;?, ? examples/s]"
          }
        },
        "a109f14d31264cdc8bacd1d0a50be239": {
          "model_module": "@jupyter-widgets/base",
          "model_name": "LayoutModel",
          "model_module_version": "1.2.0",
          "state": {
            "_model_module": "@jupyter-widgets/base",
            "_model_module_version": "1.2.0",
            "_model_name": "LayoutModel",
            "_view_count": null,
            "_view_module": "@jupyter-widgets/base",
            "_view_module_version": "1.2.0",
            "_view_name": "LayoutView",
            "align_content": null,
            "align_items": null,
            "align_self": null,
            "border": null,
            "bottom": null,
            "display": null,
            "flex": null,
            "flex_flow": null,
            "grid_area": null,
            "grid_auto_columns": null,
            "grid_auto_flow": null,
            "grid_auto_rows": null,
            "grid_column": null,
            "grid_gap": null,
            "grid_row": null,
            "grid_template_areas": null,
            "grid_template_columns": null,
            "grid_template_rows": null,
            "height": null,
            "justify_content": null,
            "justify_items": null,
            "left": null,
            "margin": null,
            "max_height": null,
            "max_width": null,
            "min_height": null,
            "min_width": null,
            "object_fit": null,
            "object_position": null,
            "order": null,
            "overflow": null,
            "overflow_x": null,
            "overflow_y": null,
            "padding": null,
            "right": null,
            "top": null,
            "visibility": "hidden",
            "width": null
          }
        },
        "4e4d840601a94e209773e6b329383449": {
          "model_module": "@jupyter-widgets/base",
          "model_name": "LayoutModel",
          "model_module_version": "1.2.0",
          "state": {
            "_model_module": "@jupyter-widgets/base",
            "_model_module_version": "1.2.0",
            "_model_name": "LayoutModel",
            "_view_count": null,
            "_view_module": "@jupyter-widgets/base",
            "_view_module_version": "1.2.0",
            "_view_name": "LayoutView",
            "align_content": null,
            "align_items": null,
            "align_self": null,
            "border": null,
            "bottom": null,
            "display": null,
            "flex": null,
            "flex_flow": null,
            "grid_area": null,
            "grid_auto_columns": null,
            "grid_auto_flow": null,
            "grid_auto_rows": null,
            "grid_column": null,
            "grid_gap": null,
            "grid_row": null,
            "grid_template_areas": null,
            "grid_template_columns": null,
            "grid_template_rows": null,
            "height": null,
            "justify_content": null,
            "justify_items": null,
            "left": null,
            "margin": null,
            "max_height": null,
            "max_width": null,
            "min_height": null,
            "min_width": null,
            "object_fit": null,
            "object_position": null,
            "order": null,
            "overflow": null,
            "overflow_x": null,
            "overflow_y": null,
            "padding": null,
            "right": null,
            "top": null,
            "visibility": null,
            "width": null
          }
        },
        "a17e1b4ce1a9422fa3f655c6f3aaa9e6": {
          "model_module": "@jupyter-widgets/controls",
          "model_name": "DescriptionStyleModel",
          "model_module_version": "1.5.0",
          "state": {
            "_model_module": "@jupyter-widgets/controls",
            "_model_module_version": "1.5.0",
            "_model_name": "DescriptionStyleModel",
            "_view_count": null,
            "_view_module": "@jupyter-widgets/base",
            "_view_module_version": "1.2.0",
            "_view_name": "StyleView",
            "description_width": ""
          }
        },
        "f186e513b60a4ad1b430acd1ba26b64d": {
          "model_module": "@jupyter-widgets/base",
          "model_name": "LayoutModel",
          "model_module_version": "1.2.0",
          "state": {
            "_model_module": "@jupyter-widgets/base",
            "_model_module_version": "1.2.0",
            "_model_name": "LayoutModel",
            "_view_count": null,
            "_view_module": "@jupyter-widgets/base",
            "_view_module_version": "1.2.0",
            "_view_name": "LayoutView",
            "align_content": null,
            "align_items": null,
            "align_self": null,
            "border": null,
            "bottom": null,
            "display": null,
            "flex": null,
            "flex_flow": null,
            "grid_area": null,
            "grid_auto_columns": null,
            "grid_auto_flow": null,
            "grid_auto_rows": null,
            "grid_column": null,
            "grid_gap": null,
            "grid_row": null,
            "grid_template_areas": null,
            "grid_template_columns": null,
            "grid_template_rows": null,
            "height": null,
            "justify_content": null,
            "justify_items": null,
            "left": null,
            "margin": null,
            "max_height": null,
            "max_width": null,
            "min_height": null,
            "min_width": null,
            "object_fit": null,
            "object_position": null,
            "order": null,
            "overflow": null,
            "overflow_x": null,
            "overflow_y": null,
            "padding": null,
            "right": null,
            "top": null,
            "visibility": null,
            "width": null
          }
        },
        "e23ffa11dc1144919d1e0d3a302ffe9c": {
          "model_module": "@jupyter-widgets/controls",
          "model_name": "ProgressStyleModel",
          "model_module_version": "1.5.0",
          "state": {
            "_model_module": "@jupyter-widgets/controls",
            "_model_module_version": "1.5.0",
            "_model_name": "ProgressStyleModel",
            "_view_count": null,
            "_view_module": "@jupyter-widgets/base",
            "_view_module_version": "1.2.0",
            "_view_name": "StyleView",
            "bar_color": null,
            "description_width": ""
          }
        },
        "fe1a1c08995041a0bf11c2581405aad5": {
          "model_module": "@jupyter-widgets/base",
          "model_name": "LayoutModel",
          "model_module_version": "1.2.0",
          "state": {
            "_model_module": "@jupyter-widgets/base",
            "_model_module_version": "1.2.0",
            "_model_name": "LayoutModel",
            "_view_count": null,
            "_view_module": "@jupyter-widgets/base",
            "_view_module_version": "1.2.0",
            "_view_name": "LayoutView",
            "align_content": null,
            "align_items": null,
            "align_self": null,
            "border": null,
            "bottom": null,
            "display": null,
            "flex": null,
            "flex_flow": null,
            "grid_area": null,
            "grid_auto_columns": null,
            "grid_auto_flow": null,
            "grid_auto_rows": null,
            "grid_column": null,
            "grid_gap": null,
            "grid_row": null,
            "grid_template_areas": null,
            "grid_template_columns": null,
            "grid_template_rows": null,
            "height": null,
            "justify_content": null,
            "justify_items": null,
            "left": null,
            "margin": null,
            "max_height": null,
            "max_width": null,
            "min_height": null,
            "min_width": null,
            "object_fit": null,
            "object_position": null,
            "order": null,
            "overflow": null,
            "overflow_x": null,
            "overflow_y": null,
            "padding": null,
            "right": null,
            "top": null,
            "visibility": null,
            "width": null
          }
        },
        "4597473cb54341c78eb93018e42826c8": {
          "model_module": "@jupyter-widgets/controls",
          "model_name": "DescriptionStyleModel",
          "model_module_version": "1.5.0",
          "state": {
            "_model_module": "@jupyter-widgets/controls",
            "_model_module_version": "1.5.0",
            "_model_name": "DescriptionStyleModel",
            "_view_count": null,
            "_view_module": "@jupyter-widgets/base",
            "_view_module_version": "1.2.0",
            "_view_name": "StyleView",
            "description_width": ""
          }
        },
        "c77350f962bd4924b39ec01dd84baae4": {
          "model_module": "@jupyter-widgets/controls",
          "model_name": "HBoxModel",
          "model_module_version": "1.5.0",
          "state": {
            "_dom_classes": [],
            "_model_module": "@jupyter-widgets/controls",
            "_model_module_version": "1.5.0",
            "_model_name": "HBoxModel",
            "_view_count": null,
            "_view_module": "@jupyter-widgets/controls",
            "_view_module_version": "1.5.0",
            "_view_name": "HBoxView",
            "box_style": "",
            "children": [
              "IPY_MODEL_973f121e5bad4ef4962559e47779ced7",
              "IPY_MODEL_db10754f79f54596bd0f937ca69cec81",
              "IPY_MODEL_299d41de418d4d14b9e9ebb87672846a"
            ],
            "layout": "IPY_MODEL_3c3e851cef88496fb023ba8e59191255"
          }
        },
        "973f121e5bad4ef4962559e47779ced7": {
          "model_module": "@jupyter-widgets/controls",
          "model_name": "HTMLModel",
          "model_module_version": "1.5.0",
          "state": {
            "_dom_classes": [],
            "_model_module": "@jupyter-widgets/controls",
            "_model_module_version": "1.5.0",
            "_model_name": "HTMLModel",
            "_view_count": null,
            "_view_module": "@jupyter-widgets/controls",
            "_view_module_version": "1.5.0",
            "_view_name": "HTMLView",
            "description": "",
            "description_tooltip": null,
            "layout": "IPY_MODEL_7facb976000b40caa171fe9c6cbdf5ba",
            "placeholder": "​",
            "style": "IPY_MODEL_4a4dcd19ffc0455886a509e5fa3e9801",
            "value": "Flattening the indices:   0%"
          }
        },
        "db10754f79f54596bd0f937ca69cec81": {
          "model_module": "@jupyter-widgets/controls",
          "model_name": "FloatProgressModel",
          "model_module_version": "1.5.0",
          "state": {
            "_dom_classes": [],
            "_model_module": "@jupyter-widgets/controls",
            "_model_module_version": "1.5.0",
            "_model_name": "FloatProgressModel",
            "_view_count": null,
            "_view_module": "@jupyter-widgets/controls",
            "_view_module_version": "1.5.0",
            "_view_name": "ProgressView",
            "bar_style": "",
            "description": "",
            "description_tooltip": null,
            "layout": "IPY_MODEL_3ea8bf2ea61546fc8efad31bb2a39fb8",
            "max": 42,
            "min": 0,
            "orientation": "horizontal",
            "style": "IPY_MODEL_9fa90105e1104745b5f367242dd8a07e",
            "value": 42
          }
        },
        "299d41de418d4d14b9e9ebb87672846a": {
          "model_module": "@jupyter-widgets/controls",
          "model_name": "HTMLModel",
          "model_module_version": "1.5.0",
          "state": {
            "_dom_classes": [],
            "_model_module": "@jupyter-widgets/controls",
            "_model_module_version": "1.5.0",
            "_model_name": "HTMLModel",
            "_view_count": null,
            "_view_module": "@jupyter-widgets/controls",
            "_view_module_version": "1.5.0",
            "_view_name": "HTMLView",
            "description": "",
            "description_tooltip": null,
            "layout": "IPY_MODEL_6cb841c2e1514860b5877c880cd59a5e",
            "placeholder": "​",
            "style": "IPY_MODEL_1867c2c526b846da8540fe4b348f739d",
            "value": " 0/42 [00:00&lt;?, ? examples/s]"
          }
        },
        "3c3e851cef88496fb023ba8e59191255": {
          "model_module": "@jupyter-widgets/base",
          "model_name": "LayoutModel",
          "model_module_version": "1.2.0",
          "state": {
            "_model_module": "@jupyter-widgets/base",
            "_model_module_version": "1.2.0",
            "_model_name": "LayoutModel",
            "_view_count": null,
            "_view_module": "@jupyter-widgets/base",
            "_view_module_version": "1.2.0",
            "_view_name": "LayoutView",
            "align_content": null,
            "align_items": null,
            "align_self": null,
            "border": null,
            "bottom": null,
            "display": null,
            "flex": null,
            "flex_flow": null,
            "grid_area": null,
            "grid_auto_columns": null,
            "grid_auto_flow": null,
            "grid_auto_rows": null,
            "grid_column": null,
            "grid_gap": null,
            "grid_row": null,
            "grid_template_areas": null,
            "grid_template_columns": null,
            "grid_template_rows": null,
            "height": null,
            "justify_content": null,
            "justify_items": null,
            "left": null,
            "margin": null,
            "max_height": null,
            "max_width": null,
            "min_height": null,
            "min_width": null,
            "object_fit": null,
            "object_position": null,
            "order": null,
            "overflow": null,
            "overflow_x": null,
            "overflow_y": null,
            "padding": null,
            "right": null,
            "top": null,
            "visibility": "hidden",
            "width": null
          }
        },
        "7facb976000b40caa171fe9c6cbdf5ba": {
          "model_module": "@jupyter-widgets/base",
          "model_name": "LayoutModel",
          "model_module_version": "1.2.0",
          "state": {
            "_model_module": "@jupyter-widgets/base",
            "_model_module_version": "1.2.0",
            "_model_name": "LayoutModel",
            "_view_count": null,
            "_view_module": "@jupyter-widgets/base",
            "_view_module_version": "1.2.0",
            "_view_name": "LayoutView",
            "align_content": null,
            "align_items": null,
            "align_self": null,
            "border": null,
            "bottom": null,
            "display": null,
            "flex": null,
            "flex_flow": null,
            "grid_area": null,
            "grid_auto_columns": null,
            "grid_auto_flow": null,
            "grid_auto_rows": null,
            "grid_column": null,
            "grid_gap": null,
            "grid_row": null,
            "grid_template_areas": null,
            "grid_template_columns": null,
            "grid_template_rows": null,
            "height": null,
            "justify_content": null,
            "justify_items": null,
            "left": null,
            "margin": null,
            "max_height": null,
            "max_width": null,
            "min_height": null,
            "min_width": null,
            "object_fit": null,
            "object_position": null,
            "order": null,
            "overflow": null,
            "overflow_x": null,
            "overflow_y": null,
            "padding": null,
            "right": null,
            "top": null,
            "visibility": null,
            "width": null
          }
        },
        "4a4dcd19ffc0455886a509e5fa3e9801": {
          "model_module": "@jupyter-widgets/controls",
          "model_name": "DescriptionStyleModel",
          "model_module_version": "1.5.0",
          "state": {
            "_model_module": "@jupyter-widgets/controls",
            "_model_module_version": "1.5.0",
            "_model_name": "DescriptionStyleModel",
            "_view_count": null,
            "_view_module": "@jupyter-widgets/base",
            "_view_module_version": "1.2.0",
            "_view_name": "StyleView",
            "description_width": ""
          }
        },
        "3ea8bf2ea61546fc8efad31bb2a39fb8": {
          "model_module": "@jupyter-widgets/base",
          "model_name": "LayoutModel",
          "model_module_version": "1.2.0",
          "state": {
            "_model_module": "@jupyter-widgets/base",
            "_model_module_version": "1.2.0",
            "_model_name": "LayoutModel",
            "_view_count": null,
            "_view_module": "@jupyter-widgets/base",
            "_view_module_version": "1.2.0",
            "_view_name": "LayoutView",
            "align_content": null,
            "align_items": null,
            "align_self": null,
            "border": null,
            "bottom": null,
            "display": null,
            "flex": null,
            "flex_flow": null,
            "grid_area": null,
            "grid_auto_columns": null,
            "grid_auto_flow": null,
            "grid_auto_rows": null,
            "grid_column": null,
            "grid_gap": null,
            "grid_row": null,
            "grid_template_areas": null,
            "grid_template_columns": null,
            "grid_template_rows": null,
            "height": null,
            "justify_content": null,
            "justify_items": null,
            "left": null,
            "margin": null,
            "max_height": null,
            "max_width": null,
            "min_height": null,
            "min_width": null,
            "object_fit": null,
            "object_position": null,
            "order": null,
            "overflow": null,
            "overflow_x": null,
            "overflow_y": null,
            "padding": null,
            "right": null,
            "top": null,
            "visibility": null,
            "width": null
          }
        },
        "9fa90105e1104745b5f367242dd8a07e": {
          "model_module": "@jupyter-widgets/controls",
          "model_name": "ProgressStyleModel",
          "model_module_version": "1.5.0",
          "state": {
            "_model_module": "@jupyter-widgets/controls",
            "_model_module_version": "1.5.0",
            "_model_name": "ProgressStyleModel",
            "_view_count": null,
            "_view_module": "@jupyter-widgets/base",
            "_view_module_version": "1.2.0",
            "_view_name": "StyleView",
            "bar_color": null,
            "description_width": ""
          }
        },
        "6cb841c2e1514860b5877c880cd59a5e": {
          "model_module": "@jupyter-widgets/base",
          "model_name": "LayoutModel",
          "model_module_version": "1.2.0",
          "state": {
            "_model_module": "@jupyter-widgets/base",
            "_model_module_version": "1.2.0",
            "_model_name": "LayoutModel",
            "_view_count": null,
            "_view_module": "@jupyter-widgets/base",
            "_view_module_version": "1.2.0",
            "_view_name": "LayoutView",
            "align_content": null,
            "align_items": null,
            "align_self": null,
            "border": null,
            "bottom": null,
            "display": null,
            "flex": null,
            "flex_flow": null,
            "grid_area": null,
            "grid_auto_columns": null,
            "grid_auto_flow": null,
            "grid_auto_rows": null,
            "grid_column": null,
            "grid_gap": null,
            "grid_row": null,
            "grid_template_areas": null,
            "grid_template_columns": null,
            "grid_template_rows": null,
            "height": null,
            "justify_content": null,
            "justify_items": null,
            "left": null,
            "margin": null,
            "max_height": null,
            "max_width": null,
            "min_height": null,
            "min_width": null,
            "object_fit": null,
            "object_position": null,
            "order": null,
            "overflow": null,
            "overflow_x": null,
            "overflow_y": null,
            "padding": null,
            "right": null,
            "top": null,
            "visibility": null,
            "width": null
          }
        },
        "1867c2c526b846da8540fe4b348f739d": {
          "model_module": "@jupyter-widgets/controls",
          "model_name": "DescriptionStyleModel",
          "model_module_version": "1.5.0",
          "state": {
            "_model_module": "@jupyter-widgets/controls",
            "_model_module_version": "1.5.0",
            "_model_name": "DescriptionStyleModel",
            "_view_count": null,
            "_view_module": "@jupyter-widgets/base",
            "_view_module_version": "1.2.0",
            "_view_name": "StyleView",
            "description_width": ""
          }
        },
        "dbf0fb0d5c0043e795b27c254bda2ef6": {
          "model_module": "@jupyter-widgets/controls",
          "model_name": "HBoxModel",
          "model_module_version": "1.5.0",
          "state": {
            "_dom_classes": [],
            "_model_module": "@jupyter-widgets/controls",
            "_model_module_version": "1.5.0",
            "_model_name": "HBoxModel",
            "_view_count": null,
            "_view_module": "@jupyter-widgets/controls",
            "_view_module_version": "1.5.0",
            "_view_name": "HBoxView",
            "box_style": "",
            "children": [
              "IPY_MODEL_f72fc9dca7264102937e20ce06bf78c6",
              "IPY_MODEL_60b9448e427848129dc15a3a4ebdea04",
              "IPY_MODEL_42ce5644baff4887a3cfc61517ff9613"
            ],
            "layout": "IPY_MODEL_d8c934aaf78a488ca1cf51b45bdd1b4c"
          }
        },
        "f72fc9dca7264102937e20ce06bf78c6": {
          "model_module": "@jupyter-widgets/controls",
          "model_name": "HTMLModel",
          "model_module_version": "1.5.0",
          "state": {
            "_dom_classes": [],
            "_model_module": "@jupyter-widgets/controls",
            "_model_module_version": "1.5.0",
            "_model_name": "HTMLModel",
            "_view_count": null,
            "_view_module": "@jupyter-widgets/controls",
            "_view_module_version": "1.5.0",
            "_view_name": "HTMLView",
            "description": "",
            "description_tooltip": null,
            "layout": "IPY_MODEL_f4ab5952d15b4b76be01a54d976385ba",
            "placeholder": "​",
            "style": "IPY_MODEL_96f6efff5ea14b3792e03993cd5bc3e4",
            "value": "Casting to class labels:   0%"
          }
        },
        "60b9448e427848129dc15a3a4ebdea04": {
          "model_module": "@jupyter-widgets/controls",
          "model_name": "FloatProgressModel",
          "model_module_version": "1.5.0",
          "state": {
            "_dom_classes": [],
            "_model_module": "@jupyter-widgets/controls",
            "_model_module_version": "1.5.0",
            "_model_name": "FloatProgressModel",
            "_view_count": null,
            "_view_module": "@jupyter-widgets/controls",
            "_view_module_version": "1.5.0",
            "_view_name": "ProgressView",
            "bar_style": "",
            "description": "",
            "description_tooltip": null,
            "layout": "IPY_MODEL_33a1c38661444917a45a93bedd5ef5f3",
            "max": 97,
            "min": 0,
            "orientation": "horizontal",
            "style": "IPY_MODEL_9f96e702527e410781f20f39beaa487d",
            "value": 97
          }
        },
        "42ce5644baff4887a3cfc61517ff9613": {
          "model_module": "@jupyter-widgets/controls",
          "model_name": "HTMLModel",
          "model_module_version": "1.5.0",
          "state": {
            "_dom_classes": [],
            "_model_module": "@jupyter-widgets/controls",
            "_model_module_version": "1.5.0",
            "_model_name": "HTMLModel",
            "_view_count": null,
            "_view_module": "@jupyter-widgets/controls",
            "_view_module_version": "1.5.0",
            "_view_name": "HTMLView",
            "description": "",
            "description_tooltip": null,
            "layout": "IPY_MODEL_cadbbe24a1214a7f8ba88d695753966f",
            "placeholder": "​",
            "style": "IPY_MODEL_0644a01a1cc84c0fb23948151f068a3c",
            "value": " 0/97 [00:00&lt;?, ? examples/s]"
          }
        },
        "d8c934aaf78a488ca1cf51b45bdd1b4c": {
          "model_module": "@jupyter-widgets/base",
          "model_name": "LayoutModel",
          "model_module_version": "1.2.0",
          "state": {
            "_model_module": "@jupyter-widgets/base",
            "_model_module_version": "1.2.0",
            "_model_name": "LayoutModel",
            "_view_count": null,
            "_view_module": "@jupyter-widgets/base",
            "_view_module_version": "1.2.0",
            "_view_name": "LayoutView",
            "align_content": null,
            "align_items": null,
            "align_self": null,
            "border": null,
            "bottom": null,
            "display": null,
            "flex": null,
            "flex_flow": null,
            "grid_area": null,
            "grid_auto_columns": null,
            "grid_auto_flow": null,
            "grid_auto_rows": null,
            "grid_column": null,
            "grid_gap": null,
            "grid_row": null,
            "grid_template_areas": null,
            "grid_template_columns": null,
            "grid_template_rows": null,
            "height": null,
            "justify_content": null,
            "justify_items": null,
            "left": null,
            "margin": null,
            "max_height": null,
            "max_width": null,
            "min_height": null,
            "min_width": null,
            "object_fit": null,
            "object_position": null,
            "order": null,
            "overflow": null,
            "overflow_x": null,
            "overflow_y": null,
            "padding": null,
            "right": null,
            "top": null,
            "visibility": "hidden",
            "width": null
          }
        },
        "f4ab5952d15b4b76be01a54d976385ba": {
          "model_module": "@jupyter-widgets/base",
          "model_name": "LayoutModel",
          "model_module_version": "1.2.0",
          "state": {
            "_model_module": "@jupyter-widgets/base",
            "_model_module_version": "1.2.0",
            "_model_name": "LayoutModel",
            "_view_count": null,
            "_view_module": "@jupyter-widgets/base",
            "_view_module_version": "1.2.0",
            "_view_name": "LayoutView",
            "align_content": null,
            "align_items": null,
            "align_self": null,
            "border": null,
            "bottom": null,
            "display": null,
            "flex": null,
            "flex_flow": null,
            "grid_area": null,
            "grid_auto_columns": null,
            "grid_auto_flow": null,
            "grid_auto_rows": null,
            "grid_column": null,
            "grid_gap": null,
            "grid_row": null,
            "grid_template_areas": null,
            "grid_template_columns": null,
            "grid_template_rows": null,
            "height": null,
            "justify_content": null,
            "justify_items": null,
            "left": null,
            "margin": null,
            "max_height": null,
            "max_width": null,
            "min_height": null,
            "min_width": null,
            "object_fit": null,
            "object_position": null,
            "order": null,
            "overflow": null,
            "overflow_x": null,
            "overflow_y": null,
            "padding": null,
            "right": null,
            "top": null,
            "visibility": null,
            "width": null
          }
        },
        "96f6efff5ea14b3792e03993cd5bc3e4": {
          "model_module": "@jupyter-widgets/controls",
          "model_name": "DescriptionStyleModel",
          "model_module_version": "1.5.0",
          "state": {
            "_model_module": "@jupyter-widgets/controls",
            "_model_module_version": "1.5.0",
            "_model_name": "DescriptionStyleModel",
            "_view_count": null,
            "_view_module": "@jupyter-widgets/base",
            "_view_module_version": "1.2.0",
            "_view_name": "StyleView",
            "description_width": ""
          }
        },
        "33a1c38661444917a45a93bedd5ef5f3": {
          "model_module": "@jupyter-widgets/base",
          "model_name": "LayoutModel",
          "model_module_version": "1.2.0",
          "state": {
            "_model_module": "@jupyter-widgets/base",
            "_model_module_version": "1.2.0",
            "_model_name": "LayoutModel",
            "_view_count": null,
            "_view_module": "@jupyter-widgets/base",
            "_view_module_version": "1.2.0",
            "_view_name": "LayoutView",
            "align_content": null,
            "align_items": null,
            "align_self": null,
            "border": null,
            "bottom": null,
            "display": null,
            "flex": null,
            "flex_flow": null,
            "grid_area": null,
            "grid_auto_columns": null,
            "grid_auto_flow": null,
            "grid_auto_rows": null,
            "grid_column": null,
            "grid_gap": null,
            "grid_row": null,
            "grid_template_areas": null,
            "grid_template_columns": null,
            "grid_template_rows": null,
            "height": null,
            "justify_content": null,
            "justify_items": null,
            "left": null,
            "margin": null,
            "max_height": null,
            "max_width": null,
            "min_height": null,
            "min_width": null,
            "object_fit": null,
            "object_position": null,
            "order": null,
            "overflow": null,
            "overflow_x": null,
            "overflow_y": null,
            "padding": null,
            "right": null,
            "top": null,
            "visibility": null,
            "width": null
          }
        },
        "9f96e702527e410781f20f39beaa487d": {
          "model_module": "@jupyter-widgets/controls",
          "model_name": "ProgressStyleModel",
          "model_module_version": "1.5.0",
          "state": {
            "_model_module": "@jupyter-widgets/controls",
            "_model_module_version": "1.5.0",
            "_model_name": "ProgressStyleModel",
            "_view_count": null,
            "_view_module": "@jupyter-widgets/base",
            "_view_module_version": "1.2.0",
            "_view_name": "StyleView",
            "bar_color": null,
            "description_width": ""
          }
        },
        "cadbbe24a1214a7f8ba88d695753966f": {
          "model_module": "@jupyter-widgets/base",
          "model_name": "LayoutModel",
          "model_module_version": "1.2.0",
          "state": {
            "_model_module": "@jupyter-widgets/base",
            "_model_module_version": "1.2.0",
            "_model_name": "LayoutModel",
            "_view_count": null,
            "_view_module": "@jupyter-widgets/base",
            "_view_module_version": "1.2.0",
            "_view_name": "LayoutView",
            "align_content": null,
            "align_items": null,
            "align_self": null,
            "border": null,
            "bottom": null,
            "display": null,
            "flex": null,
            "flex_flow": null,
            "grid_area": null,
            "grid_auto_columns": null,
            "grid_auto_flow": null,
            "grid_auto_rows": null,
            "grid_column": null,
            "grid_gap": null,
            "grid_row": null,
            "grid_template_areas": null,
            "grid_template_columns": null,
            "grid_template_rows": null,
            "height": null,
            "justify_content": null,
            "justify_items": null,
            "left": null,
            "margin": null,
            "max_height": null,
            "max_width": null,
            "min_height": null,
            "min_width": null,
            "object_fit": null,
            "object_position": null,
            "order": null,
            "overflow": null,
            "overflow_x": null,
            "overflow_y": null,
            "padding": null,
            "right": null,
            "top": null,
            "visibility": null,
            "width": null
          }
        },
        "0644a01a1cc84c0fb23948151f068a3c": {
          "model_module": "@jupyter-widgets/controls",
          "model_name": "DescriptionStyleModel",
          "model_module_version": "1.5.0",
          "state": {
            "_model_module": "@jupyter-widgets/controls",
            "_model_module_version": "1.5.0",
            "_model_name": "DescriptionStyleModel",
            "_view_count": null,
            "_view_module": "@jupyter-widgets/base",
            "_view_module_version": "1.2.0",
            "_view_name": "StyleView",
            "description_width": ""
          }
        },
        "a06d8a10dfe0459c82f1901a667aaec7": {
          "model_module": "@jupyter-widgets/controls",
          "model_name": "HBoxModel",
          "model_module_version": "1.5.0",
          "state": {
            "_dom_classes": [],
            "_model_module": "@jupyter-widgets/controls",
            "_model_module_version": "1.5.0",
            "_model_name": "HBoxModel",
            "_view_count": null,
            "_view_module": "@jupyter-widgets/controls",
            "_view_module_version": "1.5.0",
            "_view_name": "HBoxView",
            "box_style": "",
            "children": [
              "IPY_MODEL_7ceac3f7da854469a416f2ecc7ed38d0",
              "IPY_MODEL_147f1fbf909b43df93d0070c50263cce",
              "IPY_MODEL_db31f09c8fc24c6aa2eed7d1164f8482"
            ],
            "layout": "IPY_MODEL_43d57e4e60e54900a78f6e4dae3e84b8"
          }
        },
        "7ceac3f7da854469a416f2ecc7ed38d0": {
          "model_module": "@jupyter-widgets/controls",
          "model_name": "HTMLModel",
          "model_module_version": "1.5.0",
          "state": {
            "_dom_classes": [],
            "_model_module": "@jupyter-widgets/controls",
            "_model_module_version": "1.5.0",
            "_model_name": "HTMLModel",
            "_view_count": null,
            "_view_module": "@jupyter-widgets/controls",
            "_view_module_version": "1.5.0",
            "_view_name": "HTMLView",
            "description": "",
            "description_tooltip": null,
            "layout": "IPY_MODEL_57a44ac8758c442b83117e074eabb2bd",
            "placeholder": "​",
            "style": "IPY_MODEL_efe480db1fcc48d987dc1e761a98a005",
            "value": "Casting to class labels:   0%"
          }
        },
        "147f1fbf909b43df93d0070c50263cce": {
          "model_module": "@jupyter-widgets/controls",
          "model_name": "FloatProgressModel",
          "model_module_version": "1.5.0",
          "state": {
            "_dom_classes": [],
            "_model_module": "@jupyter-widgets/controls",
            "_model_module_version": "1.5.0",
            "_model_name": "FloatProgressModel",
            "_view_count": null,
            "_view_module": "@jupyter-widgets/controls",
            "_view_module_version": "1.5.0",
            "_view_name": "ProgressView",
            "bar_style": "",
            "description": "",
            "description_tooltip": null,
            "layout": "IPY_MODEL_9493002b65e344a79c529fb8d3a1b303",
            "max": 42,
            "min": 0,
            "orientation": "horizontal",
            "style": "IPY_MODEL_d9548d9a1b4640f58b82879545b57dc1",
            "value": 42
          }
        },
        "db31f09c8fc24c6aa2eed7d1164f8482": {
          "model_module": "@jupyter-widgets/controls",
          "model_name": "HTMLModel",
          "model_module_version": "1.5.0",
          "state": {
            "_dom_classes": [],
            "_model_module": "@jupyter-widgets/controls",
            "_model_module_version": "1.5.0",
            "_model_name": "HTMLModel",
            "_view_count": null,
            "_view_module": "@jupyter-widgets/controls",
            "_view_module_version": "1.5.0",
            "_view_name": "HTMLView",
            "description": "",
            "description_tooltip": null,
            "layout": "IPY_MODEL_749b43e52c10465190ddc3e687f3abbe",
            "placeholder": "​",
            "style": "IPY_MODEL_342cf9be9c67400998f2ad20b760b076",
            "value": " 0/42 [00:00&lt;?, ? examples/s]"
          }
        },
        "43d57e4e60e54900a78f6e4dae3e84b8": {
          "model_module": "@jupyter-widgets/base",
          "model_name": "LayoutModel",
          "model_module_version": "1.2.0",
          "state": {
            "_model_module": "@jupyter-widgets/base",
            "_model_module_version": "1.2.0",
            "_model_name": "LayoutModel",
            "_view_count": null,
            "_view_module": "@jupyter-widgets/base",
            "_view_module_version": "1.2.0",
            "_view_name": "LayoutView",
            "align_content": null,
            "align_items": null,
            "align_self": null,
            "border": null,
            "bottom": null,
            "display": null,
            "flex": null,
            "flex_flow": null,
            "grid_area": null,
            "grid_auto_columns": null,
            "grid_auto_flow": null,
            "grid_auto_rows": null,
            "grid_column": null,
            "grid_gap": null,
            "grid_row": null,
            "grid_template_areas": null,
            "grid_template_columns": null,
            "grid_template_rows": null,
            "height": null,
            "justify_content": null,
            "justify_items": null,
            "left": null,
            "margin": null,
            "max_height": null,
            "max_width": null,
            "min_height": null,
            "min_width": null,
            "object_fit": null,
            "object_position": null,
            "order": null,
            "overflow": null,
            "overflow_x": null,
            "overflow_y": null,
            "padding": null,
            "right": null,
            "top": null,
            "visibility": "hidden",
            "width": null
          }
        },
        "57a44ac8758c442b83117e074eabb2bd": {
          "model_module": "@jupyter-widgets/base",
          "model_name": "LayoutModel",
          "model_module_version": "1.2.0",
          "state": {
            "_model_module": "@jupyter-widgets/base",
            "_model_module_version": "1.2.0",
            "_model_name": "LayoutModel",
            "_view_count": null,
            "_view_module": "@jupyter-widgets/base",
            "_view_module_version": "1.2.0",
            "_view_name": "LayoutView",
            "align_content": null,
            "align_items": null,
            "align_self": null,
            "border": null,
            "bottom": null,
            "display": null,
            "flex": null,
            "flex_flow": null,
            "grid_area": null,
            "grid_auto_columns": null,
            "grid_auto_flow": null,
            "grid_auto_rows": null,
            "grid_column": null,
            "grid_gap": null,
            "grid_row": null,
            "grid_template_areas": null,
            "grid_template_columns": null,
            "grid_template_rows": null,
            "height": null,
            "justify_content": null,
            "justify_items": null,
            "left": null,
            "margin": null,
            "max_height": null,
            "max_width": null,
            "min_height": null,
            "min_width": null,
            "object_fit": null,
            "object_position": null,
            "order": null,
            "overflow": null,
            "overflow_x": null,
            "overflow_y": null,
            "padding": null,
            "right": null,
            "top": null,
            "visibility": null,
            "width": null
          }
        },
        "efe480db1fcc48d987dc1e761a98a005": {
          "model_module": "@jupyter-widgets/controls",
          "model_name": "DescriptionStyleModel",
          "model_module_version": "1.5.0",
          "state": {
            "_model_module": "@jupyter-widgets/controls",
            "_model_module_version": "1.5.0",
            "_model_name": "DescriptionStyleModel",
            "_view_count": null,
            "_view_module": "@jupyter-widgets/base",
            "_view_module_version": "1.2.0",
            "_view_name": "StyleView",
            "description_width": ""
          }
        },
        "9493002b65e344a79c529fb8d3a1b303": {
          "model_module": "@jupyter-widgets/base",
          "model_name": "LayoutModel",
          "model_module_version": "1.2.0",
          "state": {
            "_model_module": "@jupyter-widgets/base",
            "_model_module_version": "1.2.0",
            "_model_name": "LayoutModel",
            "_view_count": null,
            "_view_module": "@jupyter-widgets/base",
            "_view_module_version": "1.2.0",
            "_view_name": "LayoutView",
            "align_content": null,
            "align_items": null,
            "align_self": null,
            "border": null,
            "bottom": null,
            "display": null,
            "flex": null,
            "flex_flow": null,
            "grid_area": null,
            "grid_auto_columns": null,
            "grid_auto_flow": null,
            "grid_auto_rows": null,
            "grid_column": null,
            "grid_gap": null,
            "grid_row": null,
            "grid_template_areas": null,
            "grid_template_columns": null,
            "grid_template_rows": null,
            "height": null,
            "justify_content": null,
            "justify_items": null,
            "left": null,
            "margin": null,
            "max_height": null,
            "max_width": null,
            "min_height": null,
            "min_width": null,
            "object_fit": null,
            "object_position": null,
            "order": null,
            "overflow": null,
            "overflow_x": null,
            "overflow_y": null,
            "padding": null,
            "right": null,
            "top": null,
            "visibility": null,
            "width": null
          }
        },
        "d9548d9a1b4640f58b82879545b57dc1": {
          "model_module": "@jupyter-widgets/controls",
          "model_name": "ProgressStyleModel",
          "model_module_version": "1.5.0",
          "state": {
            "_model_module": "@jupyter-widgets/controls",
            "_model_module_version": "1.5.0",
            "_model_name": "ProgressStyleModel",
            "_view_count": null,
            "_view_module": "@jupyter-widgets/base",
            "_view_module_version": "1.2.0",
            "_view_name": "StyleView",
            "bar_color": null,
            "description_width": ""
          }
        },
        "749b43e52c10465190ddc3e687f3abbe": {
          "model_module": "@jupyter-widgets/base",
          "model_name": "LayoutModel",
          "model_module_version": "1.2.0",
          "state": {
            "_model_module": "@jupyter-widgets/base",
            "_model_module_version": "1.2.0",
            "_model_name": "LayoutModel",
            "_view_count": null,
            "_view_module": "@jupyter-widgets/base",
            "_view_module_version": "1.2.0",
            "_view_name": "LayoutView",
            "align_content": null,
            "align_items": null,
            "align_self": null,
            "border": null,
            "bottom": null,
            "display": null,
            "flex": null,
            "flex_flow": null,
            "grid_area": null,
            "grid_auto_columns": null,
            "grid_auto_flow": null,
            "grid_auto_rows": null,
            "grid_column": null,
            "grid_gap": null,
            "grid_row": null,
            "grid_template_areas": null,
            "grid_template_columns": null,
            "grid_template_rows": null,
            "height": null,
            "justify_content": null,
            "justify_items": null,
            "left": null,
            "margin": null,
            "max_height": null,
            "max_width": null,
            "min_height": null,
            "min_width": null,
            "object_fit": null,
            "object_position": null,
            "order": null,
            "overflow": null,
            "overflow_x": null,
            "overflow_y": null,
            "padding": null,
            "right": null,
            "top": null,
            "visibility": null,
            "width": null
          }
        },
        "342cf9be9c67400998f2ad20b760b076": {
          "model_module": "@jupyter-widgets/controls",
          "model_name": "DescriptionStyleModel",
          "model_module_version": "1.5.0",
          "state": {
            "_model_module": "@jupyter-widgets/controls",
            "_model_module_version": "1.5.0",
            "_model_name": "DescriptionStyleModel",
            "_view_count": null,
            "_view_module": "@jupyter-widgets/base",
            "_view_module_version": "1.2.0",
            "_view_name": "StyleView",
            "description_width": ""
          }
        },
        "001304ec80fa4d1da1ce1f0ba5772242": {
          "model_module": "@jupyter-widgets/controls",
          "model_name": "HBoxModel",
          "model_module_version": "1.5.0",
          "state": {
            "_dom_classes": [],
            "_model_module": "@jupyter-widgets/controls",
            "_model_module_version": "1.5.0",
            "_model_name": "HBoxModel",
            "_view_count": null,
            "_view_module": "@jupyter-widgets/controls",
            "_view_module_version": "1.5.0",
            "_view_name": "HBoxView",
            "box_style": "",
            "children": [
              "IPY_MODEL_b25816dede9e417084559322f92aaa37",
              "IPY_MODEL_700fe952e44b42fdb69a3e4bdf40190d",
              "IPY_MODEL_ac0925afbcc44c3ebac84bdbd6623445"
            ],
            "layout": "IPY_MODEL_01561338c95c4c2db1067b8b9f234458"
          }
        },
        "b25816dede9e417084559322f92aaa37": {
          "model_module": "@jupyter-widgets/controls",
          "model_name": "HTMLModel",
          "model_module_version": "1.5.0",
          "state": {
            "_dom_classes": [],
            "_model_module": "@jupyter-widgets/controls",
            "_model_module_version": "1.5.0",
            "_model_name": "HTMLModel",
            "_view_count": null,
            "_view_module": "@jupyter-widgets/controls",
            "_view_module_version": "1.5.0",
            "_view_name": "HTMLView",
            "description": "",
            "description_tooltip": null,
            "layout": "IPY_MODEL_757ebb6bd3cd4246b5faef0082d7aea4",
            "placeholder": "​",
            "style": "IPY_MODEL_f1a9c7512c4049fab216e153fce85bb9",
            "value": "Aligning the labels:   0%"
          }
        },
        "700fe952e44b42fdb69a3e4bdf40190d": {
          "model_module": "@jupyter-widgets/controls",
          "model_name": "FloatProgressModel",
          "model_module_version": "1.5.0",
          "state": {
            "_dom_classes": [],
            "_model_module": "@jupyter-widgets/controls",
            "_model_module_version": "1.5.0",
            "_model_name": "FloatProgressModel",
            "_view_count": null,
            "_view_module": "@jupyter-widgets/controls",
            "_view_module_version": "1.5.0",
            "_view_name": "ProgressView",
            "bar_style": "",
            "description": "",
            "description_tooltip": null,
            "layout": "IPY_MODEL_e99fc0a1d059499baaabb5c3c65e4556",
            "max": 42,
            "min": 0,
            "orientation": "horizontal",
            "style": "IPY_MODEL_95d2adbcb5104009acad34d67184027a",
            "value": 42
          }
        },
        "ac0925afbcc44c3ebac84bdbd6623445": {
          "model_module": "@jupyter-widgets/controls",
          "model_name": "HTMLModel",
          "model_module_version": "1.5.0",
          "state": {
            "_dom_classes": [],
            "_model_module": "@jupyter-widgets/controls",
            "_model_module_version": "1.5.0",
            "_model_name": "HTMLModel",
            "_view_count": null,
            "_view_module": "@jupyter-widgets/controls",
            "_view_module_version": "1.5.0",
            "_view_name": "HTMLView",
            "description": "",
            "description_tooltip": null,
            "layout": "IPY_MODEL_da37fa56205a4f81918ccf6e9429d3de",
            "placeholder": "​",
            "style": "IPY_MODEL_335cb8c6466647bd96aa227badaabb8b",
            "value": " 0/42 [00:00&lt;?, ? examples/s]"
          }
        },
        "01561338c95c4c2db1067b8b9f234458": {
          "model_module": "@jupyter-widgets/base",
          "model_name": "LayoutModel",
          "model_module_version": "1.2.0",
          "state": {
            "_model_module": "@jupyter-widgets/base",
            "_model_module_version": "1.2.0",
            "_model_name": "LayoutModel",
            "_view_count": null,
            "_view_module": "@jupyter-widgets/base",
            "_view_module_version": "1.2.0",
            "_view_name": "LayoutView",
            "align_content": null,
            "align_items": null,
            "align_self": null,
            "border": null,
            "bottom": null,
            "display": null,
            "flex": null,
            "flex_flow": null,
            "grid_area": null,
            "grid_auto_columns": null,
            "grid_auto_flow": null,
            "grid_auto_rows": null,
            "grid_column": null,
            "grid_gap": null,
            "grid_row": null,
            "grid_template_areas": null,
            "grid_template_columns": null,
            "grid_template_rows": null,
            "height": null,
            "justify_content": null,
            "justify_items": null,
            "left": null,
            "margin": null,
            "max_height": null,
            "max_width": null,
            "min_height": null,
            "min_width": null,
            "object_fit": null,
            "object_position": null,
            "order": null,
            "overflow": null,
            "overflow_x": null,
            "overflow_y": null,
            "padding": null,
            "right": null,
            "top": null,
            "visibility": "hidden",
            "width": null
          }
        },
        "757ebb6bd3cd4246b5faef0082d7aea4": {
          "model_module": "@jupyter-widgets/base",
          "model_name": "LayoutModel",
          "model_module_version": "1.2.0",
          "state": {
            "_model_module": "@jupyter-widgets/base",
            "_model_module_version": "1.2.0",
            "_model_name": "LayoutModel",
            "_view_count": null,
            "_view_module": "@jupyter-widgets/base",
            "_view_module_version": "1.2.0",
            "_view_name": "LayoutView",
            "align_content": null,
            "align_items": null,
            "align_self": null,
            "border": null,
            "bottom": null,
            "display": null,
            "flex": null,
            "flex_flow": null,
            "grid_area": null,
            "grid_auto_columns": null,
            "grid_auto_flow": null,
            "grid_auto_rows": null,
            "grid_column": null,
            "grid_gap": null,
            "grid_row": null,
            "grid_template_areas": null,
            "grid_template_columns": null,
            "grid_template_rows": null,
            "height": null,
            "justify_content": null,
            "justify_items": null,
            "left": null,
            "margin": null,
            "max_height": null,
            "max_width": null,
            "min_height": null,
            "min_width": null,
            "object_fit": null,
            "object_position": null,
            "order": null,
            "overflow": null,
            "overflow_x": null,
            "overflow_y": null,
            "padding": null,
            "right": null,
            "top": null,
            "visibility": null,
            "width": null
          }
        },
        "f1a9c7512c4049fab216e153fce85bb9": {
          "model_module": "@jupyter-widgets/controls",
          "model_name": "DescriptionStyleModel",
          "model_module_version": "1.5.0",
          "state": {
            "_model_module": "@jupyter-widgets/controls",
            "_model_module_version": "1.5.0",
            "_model_name": "DescriptionStyleModel",
            "_view_count": null,
            "_view_module": "@jupyter-widgets/base",
            "_view_module_version": "1.2.0",
            "_view_name": "StyleView",
            "description_width": ""
          }
        },
        "e99fc0a1d059499baaabb5c3c65e4556": {
          "model_module": "@jupyter-widgets/base",
          "model_name": "LayoutModel",
          "model_module_version": "1.2.0",
          "state": {
            "_model_module": "@jupyter-widgets/base",
            "_model_module_version": "1.2.0",
            "_model_name": "LayoutModel",
            "_view_count": null,
            "_view_module": "@jupyter-widgets/base",
            "_view_module_version": "1.2.0",
            "_view_name": "LayoutView",
            "align_content": null,
            "align_items": null,
            "align_self": null,
            "border": null,
            "bottom": null,
            "display": null,
            "flex": null,
            "flex_flow": null,
            "grid_area": null,
            "grid_auto_columns": null,
            "grid_auto_flow": null,
            "grid_auto_rows": null,
            "grid_column": null,
            "grid_gap": null,
            "grid_row": null,
            "grid_template_areas": null,
            "grid_template_columns": null,
            "grid_template_rows": null,
            "height": null,
            "justify_content": null,
            "justify_items": null,
            "left": null,
            "margin": null,
            "max_height": null,
            "max_width": null,
            "min_height": null,
            "min_width": null,
            "object_fit": null,
            "object_position": null,
            "order": null,
            "overflow": null,
            "overflow_x": null,
            "overflow_y": null,
            "padding": null,
            "right": null,
            "top": null,
            "visibility": null,
            "width": null
          }
        },
        "95d2adbcb5104009acad34d67184027a": {
          "model_module": "@jupyter-widgets/controls",
          "model_name": "ProgressStyleModel",
          "model_module_version": "1.5.0",
          "state": {
            "_model_module": "@jupyter-widgets/controls",
            "_model_module_version": "1.5.0",
            "_model_name": "ProgressStyleModel",
            "_view_count": null,
            "_view_module": "@jupyter-widgets/base",
            "_view_module_version": "1.2.0",
            "_view_name": "StyleView",
            "bar_color": null,
            "description_width": ""
          }
        },
        "da37fa56205a4f81918ccf6e9429d3de": {
          "model_module": "@jupyter-widgets/base",
          "model_name": "LayoutModel",
          "model_module_version": "1.2.0",
          "state": {
            "_model_module": "@jupyter-widgets/base",
            "_model_module_version": "1.2.0",
            "_model_name": "LayoutModel",
            "_view_count": null,
            "_view_module": "@jupyter-widgets/base",
            "_view_module_version": "1.2.0",
            "_view_name": "LayoutView",
            "align_content": null,
            "align_items": null,
            "align_self": null,
            "border": null,
            "bottom": null,
            "display": null,
            "flex": null,
            "flex_flow": null,
            "grid_area": null,
            "grid_auto_columns": null,
            "grid_auto_flow": null,
            "grid_auto_rows": null,
            "grid_column": null,
            "grid_gap": null,
            "grid_row": null,
            "grid_template_areas": null,
            "grid_template_columns": null,
            "grid_template_rows": null,
            "height": null,
            "justify_content": null,
            "justify_items": null,
            "left": null,
            "margin": null,
            "max_height": null,
            "max_width": null,
            "min_height": null,
            "min_width": null,
            "object_fit": null,
            "object_position": null,
            "order": null,
            "overflow": null,
            "overflow_x": null,
            "overflow_y": null,
            "padding": null,
            "right": null,
            "top": null,
            "visibility": null,
            "width": null
          }
        },
        "335cb8c6466647bd96aa227badaabb8b": {
          "model_module": "@jupyter-widgets/controls",
          "model_name": "DescriptionStyleModel",
          "model_module_version": "1.5.0",
          "state": {
            "_model_module": "@jupyter-widgets/controls",
            "_model_module_version": "1.5.0",
            "_model_name": "DescriptionStyleModel",
            "_view_count": null,
            "_view_module": "@jupyter-widgets/base",
            "_view_module_version": "1.2.0",
            "_view_name": "StyleView",
            "description_width": ""
          }
        },
        "a90895306cd84b0da34244f898e4fd60": {
          "model_module": "@jupyter-widgets/controls",
          "model_name": "HBoxModel",
          "model_module_version": "1.5.0",
          "state": {
            "_dom_classes": [],
            "_model_module": "@jupyter-widgets/controls",
            "_model_module_version": "1.5.0",
            "_model_name": "HBoxModel",
            "_view_count": null,
            "_view_module": "@jupyter-widgets/controls",
            "_view_module_version": "1.5.0",
            "_view_name": "HBoxView",
            "box_style": "",
            "children": [
              "IPY_MODEL_a5ab3420dafa48f98f3483d63ca65240",
              "IPY_MODEL_762e3e6b3a4b4352a01dcead8f2865a5",
              "IPY_MODEL_b542ee43e3cb4fd3a377fe47ccb61ce7"
            ],
            "layout": "IPY_MODEL_da07ff3a9e8d451fa77575bacc366ed1"
          }
        },
        "a5ab3420dafa48f98f3483d63ca65240": {
          "model_module": "@jupyter-widgets/controls",
          "model_name": "HTMLModel",
          "model_module_version": "1.5.0",
          "state": {
            "_dom_classes": [],
            "_model_module": "@jupyter-widgets/controls",
            "_model_module_version": "1.5.0",
            "_model_name": "HTMLModel",
            "_view_count": null,
            "_view_module": "@jupyter-widgets/controls",
            "_view_module_version": "1.5.0",
            "_view_name": "HTMLView",
            "description": "",
            "description_tooltip": null,
            "layout": "IPY_MODEL_e4ad386c816d4a828b4412fbde2f8deb",
            "placeholder": "​",
            "style": "IPY_MODEL_ed8b8814ffdc44a4bb4ed7b8e7fff9ae",
            "value": "Map:   0%"
          }
        },
        "762e3e6b3a4b4352a01dcead8f2865a5": {
          "model_module": "@jupyter-widgets/controls",
          "model_name": "FloatProgressModel",
          "model_module_version": "1.5.0",
          "state": {
            "_dom_classes": [],
            "_model_module": "@jupyter-widgets/controls",
            "_model_module_version": "1.5.0",
            "_model_name": "FloatProgressModel",
            "_view_count": null,
            "_view_module": "@jupyter-widgets/controls",
            "_view_module_version": "1.5.0",
            "_view_name": "ProgressView",
            "bar_style": "",
            "description": "",
            "description_tooltip": null,
            "layout": "IPY_MODEL_e4d05d37e53944ec929ba0253577c8d0",
            "max": 97,
            "min": 0,
            "orientation": "horizontal",
            "style": "IPY_MODEL_42c0a8c670b841fb81c015e9abfb5ea6",
            "value": 97
          }
        },
        "b542ee43e3cb4fd3a377fe47ccb61ce7": {
          "model_module": "@jupyter-widgets/controls",
          "model_name": "HTMLModel",
          "model_module_version": "1.5.0",
          "state": {
            "_dom_classes": [],
            "_model_module": "@jupyter-widgets/controls",
            "_model_module_version": "1.5.0",
            "_model_name": "HTMLModel",
            "_view_count": null,
            "_view_module": "@jupyter-widgets/controls",
            "_view_module_version": "1.5.0",
            "_view_name": "HTMLView",
            "description": "",
            "description_tooltip": null,
            "layout": "IPY_MODEL_247f9811d4cb4a08877c1fd234ab1d31",
            "placeholder": "​",
            "style": "IPY_MODEL_851e29f3bb6e431ba4b7b03b89557a4c",
            "value": " 0/97 [00:00&lt;?, ? examples/s]"
          }
        },
        "da07ff3a9e8d451fa77575bacc366ed1": {
          "model_module": "@jupyter-widgets/base",
          "model_name": "LayoutModel",
          "model_module_version": "1.2.0",
          "state": {
            "_model_module": "@jupyter-widgets/base",
            "_model_module_version": "1.2.0",
            "_model_name": "LayoutModel",
            "_view_count": null,
            "_view_module": "@jupyter-widgets/base",
            "_view_module_version": "1.2.0",
            "_view_name": "LayoutView",
            "align_content": null,
            "align_items": null,
            "align_self": null,
            "border": null,
            "bottom": null,
            "display": null,
            "flex": null,
            "flex_flow": null,
            "grid_area": null,
            "grid_auto_columns": null,
            "grid_auto_flow": null,
            "grid_auto_rows": null,
            "grid_column": null,
            "grid_gap": null,
            "grid_row": null,
            "grid_template_areas": null,
            "grid_template_columns": null,
            "grid_template_rows": null,
            "height": null,
            "justify_content": null,
            "justify_items": null,
            "left": null,
            "margin": null,
            "max_height": null,
            "max_width": null,
            "min_height": null,
            "min_width": null,
            "object_fit": null,
            "object_position": null,
            "order": null,
            "overflow": null,
            "overflow_x": null,
            "overflow_y": null,
            "padding": null,
            "right": null,
            "top": null,
            "visibility": "hidden",
            "width": null
          }
        },
        "e4ad386c816d4a828b4412fbde2f8deb": {
          "model_module": "@jupyter-widgets/base",
          "model_name": "LayoutModel",
          "model_module_version": "1.2.0",
          "state": {
            "_model_module": "@jupyter-widgets/base",
            "_model_module_version": "1.2.0",
            "_model_name": "LayoutModel",
            "_view_count": null,
            "_view_module": "@jupyter-widgets/base",
            "_view_module_version": "1.2.0",
            "_view_name": "LayoutView",
            "align_content": null,
            "align_items": null,
            "align_self": null,
            "border": null,
            "bottom": null,
            "display": null,
            "flex": null,
            "flex_flow": null,
            "grid_area": null,
            "grid_auto_columns": null,
            "grid_auto_flow": null,
            "grid_auto_rows": null,
            "grid_column": null,
            "grid_gap": null,
            "grid_row": null,
            "grid_template_areas": null,
            "grid_template_columns": null,
            "grid_template_rows": null,
            "height": null,
            "justify_content": null,
            "justify_items": null,
            "left": null,
            "margin": null,
            "max_height": null,
            "max_width": null,
            "min_height": null,
            "min_width": null,
            "object_fit": null,
            "object_position": null,
            "order": null,
            "overflow": null,
            "overflow_x": null,
            "overflow_y": null,
            "padding": null,
            "right": null,
            "top": null,
            "visibility": null,
            "width": null
          }
        },
        "ed8b8814ffdc44a4bb4ed7b8e7fff9ae": {
          "model_module": "@jupyter-widgets/controls",
          "model_name": "DescriptionStyleModel",
          "model_module_version": "1.5.0",
          "state": {
            "_model_module": "@jupyter-widgets/controls",
            "_model_module_version": "1.5.0",
            "_model_name": "DescriptionStyleModel",
            "_view_count": null,
            "_view_module": "@jupyter-widgets/base",
            "_view_module_version": "1.2.0",
            "_view_name": "StyleView",
            "description_width": ""
          }
        },
        "e4d05d37e53944ec929ba0253577c8d0": {
          "model_module": "@jupyter-widgets/base",
          "model_name": "LayoutModel",
          "model_module_version": "1.2.0",
          "state": {
            "_model_module": "@jupyter-widgets/base",
            "_model_module_version": "1.2.0",
            "_model_name": "LayoutModel",
            "_view_count": null,
            "_view_module": "@jupyter-widgets/base",
            "_view_module_version": "1.2.0",
            "_view_name": "LayoutView",
            "align_content": null,
            "align_items": null,
            "align_self": null,
            "border": null,
            "bottom": null,
            "display": null,
            "flex": null,
            "flex_flow": null,
            "grid_area": null,
            "grid_auto_columns": null,
            "grid_auto_flow": null,
            "grid_auto_rows": null,
            "grid_column": null,
            "grid_gap": null,
            "grid_row": null,
            "grid_template_areas": null,
            "grid_template_columns": null,
            "grid_template_rows": null,
            "height": null,
            "justify_content": null,
            "justify_items": null,
            "left": null,
            "margin": null,
            "max_height": null,
            "max_width": null,
            "min_height": null,
            "min_width": null,
            "object_fit": null,
            "object_position": null,
            "order": null,
            "overflow": null,
            "overflow_x": null,
            "overflow_y": null,
            "padding": null,
            "right": null,
            "top": null,
            "visibility": null,
            "width": null
          }
        },
        "42c0a8c670b841fb81c015e9abfb5ea6": {
          "model_module": "@jupyter-widgets/controls",
          "model_name": "ProgressStyleModel",
          "model_module_version": "1.5.0",
          "state": {
            "_model_module": "@jupyter-widgets/controls",
            "_model_module_version": "1.5.0",
            "_model_name": "ProgressStyleModel",
            "_view_count": null,
            "_view_module": "@jupyter-widgets/base",
            "_view_module_version": "1.2.0",
            "_view_name": "StyleView",
            "bar_color": null,
            "description_width": ""
          }
        },
        "247f9811d4cb4a08877c1fd234ab1d31": {
          "model_module": "@jupyter-widgets/base",
          "model_name": "LayoutModel",
          "model_module_version": "1.2.0",
          "state": {
            "_model_module": "@jupyter-widgets/base",
            "_model_module_version": "1.2.0",
            "_model_name": "LayoutModel",
            "_view_count": null,
            "_view_module": "@jupyter-widgets/base",
            "_view_module_version": "1.2.0",
            "_view_name": "LayoutView",
            "align_content": null,
            "align_items": null,
            "align_self": null,
            "border": null,
            "bottom": null,
            "display": null,
            "flex": null,
            "flex_flow": null,
            "grid_area": null,
            "grid_auto_columns": null,
            "grid_auto_flow": null,
            "grid_auto_rows": null,
            "grid_column": null,
            "grid_gap": null,
            "grid_row": null,
            "grid_template_areas": null,
            "grid_template_columns": null,
            "grid_template_rows": null,
            "height": null,
            "justify_content": null,
            "justify_items": null,
            "left": null,
            "margin": null,
            "max_height": null,
            "max_width": null,
            "min_height": null,
            "min_width": null,
            "object_fit": null,
            "object_position": null,
            "order": null,
            "overflow": null,
            "overflow_x": null,
            "overflow_y": null,
            "padding": null,
            "right": null,
            "top": null,
            "visibility": null,
            "width": null
          }
        },
        "851e29f3bb6e431ba4b7b03b89557a4c": {
          "model_module": "@jupyter-widgets/controls",
          "model_name": "DescriptionStyleModel",
          "model_module_version": "1.5.0",
          "state": {
            "_model_module": "@jupyter-widgets/controls",
            "_model_module_version": "1.5.0",
            "_model_name": "DescriptionStyleModel",
            "_view_count": null,
            "_view_module": "@jupyter-widgets/base",
            "_view_module_version": "1.2.0",
            "_view_name": "StyleView",
            "description_width": ""
          }
        },
        "460273c29bfb423c903dcf00661eb3d4": {
          "model_module": "@jupyter-widgets/controls",
          "model_name": "HBoxModel",
          "model_module_version": "1.5.0",
          "state": {
            "_dom_classes": [],
            "_model_module": "@jupyter-widgets/controls",
            "_model_module_version": "1.5.0",
            "_model_name": "HBoxModel",
            "_view_count": null,
            "_view_module": "@jupyter-widgets/controls",
            "_view_module_version": "1.5.0",
            "_view_name": "HBoxView",
            "box_style": "",
            "children": [
              "IPY_MODEL_dda1f628e2f44d4c8d3d2a8bd1ab1841",
              "IPY_MODEL_ceac50f4ade94fa5a7ab3b87dfa0c086",
              "IPY_MODEL_31b84fc7a6c74dbd9cfca800d74ba18a"
            ],
            "layout": "IPY_MODEL_5d9d893052ec457c872605a296b66898"
          }
        },
        "dda1f628e2f44d4c8d3d2a8bd1ab1841": {
          "model_module": "@jupyter-widgets/controls",
          "model_name": "HTMLModel",
          "model_module_version": "1.5.0",
          "state": {
            "_dom_classes": [],
            "_model_module": "@jupyter-widgets/controls",
            "_model_module_version": "1.5.0",
            "_model_name": "HTMLModel",
            "_view_count": null,
            "_view_module": "@jupyter-widgets/controls",
            "_view_module_version": "1.5.0",
            "_view_name": "HTMLView",
            "description": "",
            "description_tooltip": null,
            "layout": "IPY_MODEL_d028872fe29749a69de9247e057b251c",
            "placeholder": "​",
            "style": "IPY_MODEL_345d3926f1064a778e4e89d6b9b66c2a",
            "value": "Map:   0%"
          }
        },
        "ceac50f4ade94fa5a7ab3b87dfa0c086": {
          "model_module": "@jupyter-widgets/controls",
          "model_name": "FloatProgressModel",
          "model_module_version": "1.5.0",
          "state": {
            "_dom_classes": [],
            "_model_module": "@jupyter-widgets/controls",
            "_model_module_version": "1.5.0",
            "_model_name": "FloatProgressModel",
            "_view_count": null,
            "_view_module": "@jupyter-widgets/controls",
            "_view_module_version": "1.5.0",
            "_view_name": "ProgressView",
            "bar_style": "",
            "description": "",
            "description_tooltip": null,
            "layout": "IPY_MODEL_3adbea8b1a544317a7e72a38c4d70d38",
            "max": 42,
            "min": 0,
            "orientation": "horizontal",
            "style": "IPY_MODEL_2db61f07c94a46258149e7b168cd46e3",
            "value": 42
          }
        },
        "31b84fc7a6c74dbd9cfca800d74ba18a": {
          "model_module": "@jupyter-widgets/controls",
          "model_name": "HTMLModel",
          "model_module_version": "1.5.0",
          "state": {
            "_dom_classes": [],
            "_model_module": "@jupyter-widgets/controls",
            "_model_module_version": "1.5.0",
            "_model_name": "HTMLModel",
            "_view_count": null,
            "_view_module": "@jupyter-widgets/controls",
            "_view_module_version": "1.5.0",
            "_view_name": "HTMLView",
            "description": "",
            "description_tooltip": null,
            "layout": "IPY_MODEL_c8b156e626aa45638ffa27ea6e4e0e0b",
            "placeholder": "​",
            "style": "IPY_MODEL_916d64f9f8394af1bc2a4aa3aa9ed289",
            "value": " 0/42 [00:00&lt;?, ? examples/s]"
          }
        },
        "5d9d893052ec457c872605a296b66898": {
          "model_module": "@jupyter-widgets/base",
          "model_name": "LayoutModel",
          "model_module_version": "1.2.0",
          "state": {
            "_model_module": "@jupyter-widgets/base",
            "_model_module_version": "1.2.0",
            "_model_name": "LayoutModel",
            "_view_count": null,
            "_view_module": "@jupyter-widgets/base",
            "_view_module_version": "1.2.0",
            "_view_name": "LayoutView",
            "align_content": null,
            "align_items": null,
            "align_self": null,
            "border": null,
            "bottom": null,
            "display": null,
            "flex": null,
            "flex_flow": null,
            "grid_area": null,
            "grid_auto_columns": null,
            "grid_auto_flow": null,
            "grid_auto_rows": null,
            "grid_column": null,
            "grid_gap": null,
            "grid_row": null,
            "grid_template_areas": null,
            "grid_template_columns": null,
            "grid_template_rows": null,
            "height": null,
            "justify_content": null,
            "justify_items": null,
            "left": null,
            "margin": null,
            "max_height": null,
            "max_width": null,
            "min_height": null,
            "min_width": null,
            "object_fit": null,
            "object_position": null,
            "order": null,
            "overflow": null,
            "overflow_x": null,
            "overflow_y": null,
            "padding": null,
            "right": null,
            "top": null,
            "visibility": "hidden",
            "width": null
          }
        },
        "d028872fe29749a69de9247e057b251c": {
          "model_module": "@jupyter-widgets/base",
          "model_name": "LayoutModel",
          "model_module_version": "1.2.0",
          "state": {
            "_model_module": "@jupyter-widgets/base",
            "_model_module_version": "1.2.0",
            "_model_name": "LayoutModel",
            "_view_count": null,
            "_view_module": "@jupyter-widgets/base",
            "_view_module_version": "1.2.0",
            "_view_name": "LayoutView",
            "align_content": null,
            "align_items": null,
            "align_self": null,
            "border": null,
            "bottom": null,
            "display": null,
            "flex": null,
            "flex_flow": null,
            "grid_area": null,
            "grid_auto_columns": null,
            "grid_auto_flow": null,
            "grid_auto_rows": null,
            "grid_column": null,
            "grid_gap": null,
            "grid_row": null,
            "grid_template_areas": null,
            "grid_template_columns": null,
            "grid_template_rows": null,
            "height": null,
            "justify_content": null,
            "justify_items": null,
            "left": null,
            "margin": null,
            "max_height": null,
            "max_width": null,
            "min_height": null,
            "min_width": null,
            "object_fit": null,
            "object_position": null,
            "order": null,
            "overflow": null,
            "overflow_x": null,
            "overflow_y": null,
            "padding": null,
            "right": null,
            "top": null,
            "visibility": null,
            "width": null
          }
        },
        "345d3926f1064a778e4e89d6b9b66c2a": {
          "model_module": "@jupyter-widgets/controls",
          "model_name": "DescriptionStyleModel",
          "model_module_version": "1.5.0",
          "state": {
            "_model_module": "@jupyter-widgets/controls",
            "_model_module_version": "1.5.0",
            "_model_name": "DescriptionStyleModel",
            "_view_count": null,
            "_view_module": "@jupyter-widgets/base",
            "_view_module_version": "1.2.0",
            "_view_name": "StyleView",
            "description_width": ""
          }
        },
        "3adbea8b1a544317a7e72a38c4d70d38": {
          "model_module": "@jupyter-widgets/base",
          "model_name": "LayoutModel",
          "model_module_version": "1.2.0",
          "state": {
            "_model_module": "@jupyter-widgets/base",
            "_model_module_version": "1.2.0",
            "_model_name": "LayoutModel",
            "_view_count": null,
            "_view_module": "@jupyter-widgets/base",
            "_view_module_version": "1.2.0",
            "_view_name": "LayoutView",
            "align_content": null,
            "align_items": null,
            "align_self": null,
            "border": null,
            "bottom": null,
            "display": null,
            "flex": null,
            "flex_flow": null,
            "grid_area": null,
            "grid_auto_columns": null,
            "grid_auto_flow": null,
            "grid_auto_rows": null,
            "grid_column": null,
            "grid_gap": null,
            "grid_row": null,
            "grid_template_areas": null,
            "grid_template_columns": null,
            "grid_template_rows": null,
            "height": null,
            "justify_content": null,
            "justify_items": null,
            "left": null,
            "margin": null,
            "max_height": null,
            "max_width": null,
            "min_height": null,
            "min_width": null,
            "object_fit": null,
            "object_position": null,
            "order": null,
            "overflow": null,
            "overflow_x": null,
            "overflow_y": null,
            "padding": null,
            "right": null,
            "top": null,
            "visibility": null,
            "width": null
          }
        },
        "2db61f07c94a46258149e7b168cd46e3": {
          "model_module": "@jupyter-widgets/controls",
          "model_name": "ProgressStyleModel",
          "model_module_version": "1.5.0",
          "state": {
            "_model_module": "@jupyter-widgets/controls",
            "_model_module_version": "1.5.0",
            "_model_name": "ProgressStyleModel",
            "_view_count": null,
            "_view_module": "@jupyter-widgets/base",
            "_view_module_version": "1.2.0",
            "_view_name": "StyleView",
            "bar_color": null,
            "description_width": ""
          }
        },
        "c8b156e626aa45638ffa27ea6e4e0e0b": {
          "model_module": "@jupyter-widgets/base",
          "model_name": "LayoutModel",
          "model_module_version": "1.2.0",
          "state": {
            "_model_module": "@jupyter-widgets/base",
            "_model_module_version": "1.2.0",
            "_model_name": "LayoutModel",
            "_view_count": null,
            "_view_module": "@jupyter-widgets/base",
            "_view_module_version": "1.2.0",
            "_view_name": "LayoutView",
            "align_content": null,
            "align_items": null,
            "align_self": null,
            "border": null,
            "bottom": null,
            "display": null,
            "flex": null,
            "flex_flow": null,
            "grid_area": null,
            "grid_auto_columns": null,
            "grid_auto_flow": null,
            "grid_auto_rows": null,
            "grid_column": null,
            "grid_gap": null,
            "grid_row": null,
            "grid_template_areas": null,
            "grid_template_columns": null,
            "grid_template_rows": null,
            "height": null,
            "justify_content": null,
            "justify_items": null,
            "left": null,
            "margin": null,
            "max_height": null,
            "max_width": null,
            "min_height": null,
            "min_width": null,
            "object_fit": null,
            "object_position": null,
            "order": null,
            "overflow": null,
            "overflow_x": null,
            "overflow_y": null,
            "padding": null,
            "right": null,
            "top": null,
            "visibility": null,
            "width": null
          }
        },
        "916d64f9f8394af1bc2a4aa3aa9ed289": {
          "model_module": "@jupyter-widgets/controls",
          "model_name": "DescriptionStyleModel",
          "model_module_version": "1.5.0",
          "state": {
            "_model_module": "@jupyter-widgets/controls",
            "_model_module_version": "1.5.0",
            "_model_name": "DescriptionStyleModel",
            "_view_count": null,
            "_view_module": "@jupyter-widgets/base",
            "_view_module_version": "1.2.0",
            "_view_name": "StyleView",
            "description_width": ""
          }
        }
      }
    },
    "colab": {
      "provenance": []
    },
    "accelerator": "GPU",
    "gpuClass": "standard"
  },
  "nbformat": 4,
  "nbformat_minor": 5
}